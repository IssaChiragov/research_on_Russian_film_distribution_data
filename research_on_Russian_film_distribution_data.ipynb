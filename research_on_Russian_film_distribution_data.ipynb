{
 "cells": [
  {
   "cell_type": "markdown",
   "metadata": {
    "id": "sIfNaMOxgFyK"
   },
   "source": [
    "## Исследование данных о российском кинопрокате\n",
    "\n"
   ]
  },
  {
   "cell_type": "markdown",
   "metadata": {},
   "source": [
    "Необходимо изучить рынок российского кинопроката и выявить текущие тренды. Уделить внимание фильмам, которые получили государственную поддержку. Постараться ответить на вопрос, насколько такие фильмы интересны зрителю. \n",
    "Необходимо будет работать с данными, опубликованными на портале открытых данных Министерства культуры. Набор данных содержит информацию о прокатных удостоверениях, сборах и государственной поддержке фильмов, а также информацию с сайта КиноПоиск. "
   ]
  },
  {
   "cell_type": "markdown",
   "metadata": {},
   "source": [
    "* Цели и задачи\n",
    "\n",
    "Необходимо изучить рынок российского кинопроката и выявить текущие тренды. Уделить внимание фильмам, которые получили государственную поддержку. Постараться ответить на вопрос, насколько такие фильмы интересны зрителю.\n",
    "\n",
    "* План работы\n",
    "\n",
    "Необходимо будет работать с данными, опубликованными на портале открытых данных Министерства культуры. \n",
    "\n",
    "* Описание данных\n",
    "\n",
    "Набор данных содержит информацию о прокатных удостоверениях, сборах и государственной поддержке фильмов, а также информацию с сайта КиноПоиск. "
   ]
  },
  {
   "cell_type": "markdown",
   "metadata": {
    "id": "3bSlkCsbgFyL"
   },
   "source": [
    "### Шаг 1. Откройте файлы с данными и объедините их в один датафрейм. \n",
    "\n",
    "Объедините данные таким образом, чтобы все объекты из датасета `mkrf_movies` обязательно вошли в получившийся датафрейм. \n",
    "\n",
    "<div id=\"accordion\">\n",
    "    <div class=\"card\">\n",
    "        <div class=\"card-header\" id=\"headingThree\">\n",
    "            <button class=\"btn btn-link collapsed\" data-toggle=\"collapse\" data-target=\"#collapseHint_0\" aria-expanded=\"false\" aria-controls=\"collapseHint_0\">Подсказка</button>\n",
    "        </div>\n",
    "        <div id=\"collapseHint_0\" class=\"collapse\" aria-labelledby=\"headingThree\" data-parent=\"#accordion\">\n",
    "            <div class=\"card-body\">\n",
    "Обратите внимание на тип данных столбца, по которому будете соединять датафреймы. Тип данных этих столбцов должен быть одинаковым в обоих датафреймах.\n",
    "            </div>\n",
    "        </div>\n",
    "    </div>\n",
    "</div>"
   ]
  },
  {
   "cell_type": "code",
   "execution_count": 1,
   "metadata": {
    "id": "dw87FlzMgFyM"
   },
   "outputs": [],
   "source": [
    "import pandas as pd\n",
    "import matplotlib.pyplot as plt"
   ]
  },
  {
   "cell_type": "code",
   "execution_count": 2,
   "metadata": {},
   "outputs": [],
   "source": [
    "mkrf_shows = pd.read_csv('/datasets/mkrf_shows.csv')\n",
    "mkrf_movies = pd.read_csv('/datasets/mkrf_movies.csv')"
   ]
  },
  {
   "cell_type": "code",
   "execution_count": 3,
   "metadata": {
    "scrolled": true
   },
   "outputs": [
    {
     "data": {
      "text/html": [
       "<div>\n",
       "<style scoped>\n",
       "    .dataframe tbody tr th:only-of-type {\n",
       "        vertical-align: middle;\n",
       "    }\n",
       "\n",
       "    .dataframe tbody tr th {\n",
       "        vertical-align: top;\n",
       "    }\n",
       "\n",
       "    .dataframe thead th {\n",
       "        text-align: right;\n",
       "    }\n",
       "</style>\n",
       "<table border=\"1\" class=\"dataframe\">\n",
       "  <thead>\n",
       "    <tr style=\"text-align: right;\">\n",
       "      <th></th>\n",
       "      <th>puNumber</th>\n",
       "      <th>box_office</th>\n",
       "    </tr>\n",
       "  </thead>\n",
       "  <tbody>\n",
       "    <tr>\n",
       "      <th>0</th>\n",
       "      <td>111000113</td>\n",
       "      <td>2.450000e+03</td>\n",
       "    </tr>\n",
       "    <tr>\n",
       "      <th>1</th>\n",
       "      <td>111000115</td>\n",
       "      <td>6.104000e+04</td>\n",
       "    </tr>\n",
       "    <tr>\n",
       "      <th>2</th>\n",
       "      <td>111000116</td>\n",
       "      <td>1.530300e+08</td>\n",
       "    </tr>\n",
       "    <tr>\n",
       "      <th>3</th>\n",
       "      <td>111000117</td>\n",
       "      <td>1.226096e+07</td>\n",
       "    </tr>\n",
       "    <tr>\n",
       "      <th>4</th>\n",
       "      <td>111000118</td>\n",
       "      <td>1.636841e+08</td>\n",
       "    </tr>\n",
       "    <tr>\n",
       "      <th>5</th>\n",
       "      <td>111000119</td>\n",
       "      <td>4.293650e+06</td>\n",
       "    </tr>\n",
       "    <tr>\n",
       "      <th>6</th>\n",
       "      <td>111000212</td>\n",
       "      <td>2.000000e+02</td>\n",
       "    </tr>\n",
       "    <tr>\n",
       "      <th>7</th>\n",
       "      <td>111000216</td>\n",
       "      <td>3.555670e+05</td>\n",
       "    </tr>\n",
       "    <tr>\n",
       "      <th>8</th>\n",
       "      <td>111000313</td>\n",
       "      <td>7.100000e+02</td>\n",
       "    </tr>\n",
       "    <tr>\n",
       "      <th>9</th>\n",
       "      <td>111000314</td>\n",
       "      <td>1.607970e+06</td>\n",
       "    </tr>\n",
       "  </tbody>\n",
       "</table>\n",
       "</div>"
      ],
      "text/plain": [
       "    puNumber    box_office\n",
       "0  111000113  2.450000e+03\n",
       "1  111000115  6.104000e+04\n",
       "2  111000116  1.530300e+08\n",
       "3  111000117  1.226096e+07\n",
       "4  111000118  1.636841e+08\n",
       "5  111000119  4.293650e+06\n",
       "6  111000212  2.000000e+02\n",
       "7  111000216  3.555670e+05\n",
       "8  111000313  7.100000e+02\n",
       "9  111000314  1.607970e+06"
      ]
     },
     "execution_count": 3,
     "metadata": {},
     "output_type": "execute_result"
    }
   ],
   "source": [
    "mkrf_shows.head(10)"
   ]
  },
  {
   "cell_type": "code",
   "execution_count": 4,
   "metadata": {
    "scrolled": true
   },
   "outputs": [
    {
     "data": {
      "text/html": [
       "<div>\n",
       "<style scoped>\n",
       "    .dataframe tbody tr th:only-of-type {\n",
       "        vertical-align: middle;\n",
       "    }\n",
       "\n",
       "    .dataframe tbody tr th {\n",
       "        vertical-align: top;\n",
       "    }\n",
       "\n",
       "    .dataframe thead th {\n",
       "        text-align: right;\n",
       "    }\n",
       "</style>\n",
       "<table border=\"1\" class=\"dataframe\">\n",
       "  <thead>\n",
       "    <tr style=\"text-align: right;\">\n",
       "      <th></th>\n",
       "      <th>title</th>\n",
       "      <th>puNumber</th>\n",
       "      <th>show_start_date</th>\n",
       "      <th>type</th>\n",
       "      <th>film_studio</th>\n",
       "      <th>production_country</th>\n",
       "      <th>director</th>\n",
       "      <th>producer</th>\n",
       "      <th>age_restriction</th>\n",
       "      <th>refundable_support</th>\n",
       "      <th>nonrefundable_support</th>\n",
       "      <th>budget</th>\n",
       "      <th>financing_source</th>\n",
       "      <th>ratings</th>\n",
       "      <th>genres</th>\n",
       "    </tr>\n",
       "  </thead>\n",
       "  <tbody>\n",
       "    <tr>\n",
       "      <th>0</th>\n",
       "      <td>Открытый простор</td>\n",
       "      <td>221048915</td>\n",
       "      <td>2015-11-27T12:00:00.000Z</td>\n",
       "      <td>Художественный</td>\n",
       "      <td>Тачстоун Пикчерз, Кобальт Пикчерз, Бикон Пикче...</td>\n",
       "      <td>США</td>\n",
       "      <td>Кевин Костнер</td>\n",
       "      <td>Дэвид Валдес, Кевин Костнер, Джейк Эбертс</td>\n",
       "      <td>«18+» - запрещено для детей</td>\n",
       "      <td>NaN</td>\n",
       "      <td>NaN</td>\n",
       "      <td>NaN</td>\n",
       "      <td>NaN</td>\n",
       "      <td>7.2</td>\n",
       "      <td>боевик,драма,мелодрама</td>\n",
       "    </tr>\n",
       "    <tr>\n",
       "      <th>1</th>\n",
       "      <td>Особо важное задание</td>\n",
       "      <td>111013716</td>\n",
       "      <td>2016-09-13T12:00:00.000Z</td>\n",
       "      <td>Художественный</td>\n",
       "      <td>Киностудия \"Мосфильм\"</td>\n",
       "      <td>СССР</td>\n",
       "      <td>Е.Матвеев</td>\n",
       "      <td>NaN</td>\n",
       "      <td>«6+» - для детей старше 6 лет</td>\n",
       "      <td>NaN</td>\n",
       "      <td>NaN</td>\n",
       "      <td>NaN</td>\n",
       "      <td>NaN</td>\n",
       "      <td>6.6</td>\n",
       "      <td>драма,военный</td>\n",
       "    </tr>\n",
       "    <tr>\n",
       "      <th>2</th>\n",
       "      <td>Особо опасен</td>\n",
       "      <td>221038416</td>\n",
       "      <td>2016-10-10T12:00:00.000Z</td>\n",
       "      <td>Художественный</td>\n",
       "      <td>Юниверсал Пикчерз, Кикстарт Продакшнз, Марк Пл...</td>\n",
       "      <td>США</td>\n",
       "      <td>Тимур Бекмамбетов</td>\n",
       "      <td>Джим Лемли, Джейсон Нетер, Марк Е.Платт, Яйн Смит</td>\n",
       "      <td>«18+» - запрещено для детей</td>\n",
       "      <td>NaN</td>\n",
       "      <td>NaN</td>\n",
       "      <td>NaN</td>\n",
       "      <td>NaN</td>\n",
       "      <td>6.8</td>\n",
       "      <td>фантастика,боевик,триллер</td>\n",
       "    </tr>\n",
       "    <tr>\n",
       "      <th>3</th>\n",
       "      <td>Особо опасен</td>\n",
       "      <td>221026916</td>\n",
       "      <td>2016-06-10T12:00:00.000Z</td>\n",
       "      <td>Художественный</td>\n",
       "      <td>Юниверсал Пикчерз, Кикстарт Продакшнз, Марк Пл...</td>\n",
       "      <td>США</td>\n",
       "      <td>Тимур Бекмамбетов</td>\n",
       "      <td>Джим Лемли, Джейсон Нетер, Марк Е.Платт, Яйн Смит</td>\n",
       "      <td>«18+» - запрещено для детей</td>\n",
       "      <td>NaN</td>\n",
       "      <td>NaN</td>\n",
       "      <td>NaN</td>\n",
       "      <td>NaN</td>\n",
       "      <td>6.8</td>\n",
       "      <td>фантастика,боевик,триллер</td>\n",
       "    </tr>\n",
       "    <tr>\n",
       "      <th>4</th>\n",
       "      <td>Особо опасен</td>\n",
       "      <td>221030815</td>\n",
       "      <td>2015-07-29T12:00:00.000Z</td>\n",
       "      <td>Художественный</td>\n",
       "      <td>Юниверсал Пикчерз, Кикстарт Продакшнз, Марк Пл...</td>\n",
       "      <td>США</td>\n",
       "      <td>Тимур Бекмамбетов</td>\n",
       "      <td>Джим Лемли, Джейсон Нетер, Марк Е.Платт, Яйн Смит</td>\n",
       "      <td>«18+» - запрещено для детей</td>\n",
       "      <td>NaN</td>\n",
       "      <td>NaN</td>\n",
       "      <td>NaN</td>\n",
       "      <td>NaN</td>\n",
       "      <td>6.8</td>\n",
       "      <td>фантастика,боевик,триллер</td>\n",
       "    </tr>\n",
       "    <tr>\n",
       "      <th>5</th>\n",
       "      <td>Остановился поезд</td>\n",
       "      <td>111013816</td>\n",
       "      <td>2016-09-13T12:00:00.000Z</td>\n",
       "      <td>Художественный</td>\n",
       "      <td>Киностудия \"Мосфильм\"</td>\n",
       "      <td>СССР</td>\n",
       "      <td>В.Абдрашитов</td>\n",
       "      <td>NaN</td>\n",
       "      <td>«6+» - для детей старше 6 лет</td>\n",
       "      <td>NaN</td>\n",
       "      <td>NaN</td>\n",
       "      <td>NaN</td>\n",
       "      <td>NaN</td>\n",
       "      <td>7.7</td>\n",
       "      <td>драма</td>\n",
       "    </tr>\n",
       "    <tr>\n",
       "      <th>6</th>\n",
       "      <td>Любовь и голуби</td>\n",
       "      <td>111007013</td>\n",
       "      <td>2013-10-18T12:00:00.000Z</td>\n",
       "      <td>Художественный</td>\n",
       "      <td>Киностудия \"Мосфильм\"</td>\n",
       "      <td>СССР</td>\n",
       "      <td>В.Меньшов</td>\n",
       "      <td>NaN</td>\n",
       "      <td>«12+» - для детей старше 12 лет</td>\n",
       "      <td>NaN</td>\n",
       "      <td>NaN</td>\n",
       "      <td>NaN</td>\n",
       "      <td>NaN</td>\n",
       "      <td>8.3</td>\n",
       "      <td>мелодрама,комедия</td>\n",
       "    </tr>\n",
       "    <tr>\n",
       "      <th>7</th>\n",
       "      <td>Любовь и сигареты</td>\n",
       "      <td>221074614</td>\n",
       "      <td>2014-12-29T12:00:00.000Z</td>\n",
       "      <td>Художественный</td>\n",
       "      <td>Юнайтед Артистс, Грин Стрит Филмз, Айкон Интер...</td>\n",
       "      <td>США</td>\n",
       "      <td>Джон Туртурро</td>\n",
       "      <td>Джон Пенотти, Джон Туртурро</td>\n",
       "      <td>«18+» - запрещено для детей</td>\n",
       "      <td>NaN</td>\n",
       "      <td>NaN</td>\n",
       "      <td>NaN</td>\n",
       "      <td>NaN</td>\n",
       "      <td>6.6</td>\n",
       "      <td>мюзикл,мелодрама,комедия</td>\n",
       "    </tr>\n",
       "    <tr>\n",
       "      <th>8</th>\n",
       "      <td>Отпетые мошенники.</td>\n",
       "      <td>121011416</td>\n",
       "      <td>2016-05-05T12:00:00.000Z</td>\n",
       "      <td>Художественный</td>\n",
       "      <td>Пульсар Продюксьон, ТФ1 Фильм</td>\n",
       "      <td>Франция</td>\n",
       "      <td>Эрик Беснард</td>\n",
       "      <td>Патрис Леду</td>\n",
       "      <td>«18+» - запрещено для детей</td>\n",
       "      <td>NaN</td>\n",
       "      <td>NaN</td>\n",
       "      <td>NaN</td>\n",
       "      <td>NaN</td>\n",
       "      <td>8.0</td>\n",
       "      <td>комедия,криминал</td>\n",
       "    </tr>\n",
       "    <tr>\n",
       "      <th>9</th>\n",
       "      <td>Отпуск за свой счет</td>\n",
       "      <td>111019114</td>\n",
       "      <td>2014-12-01T12:00:00.000Z</td>\n",
       "      <td>Художественный</td>\n",
       "      <td>Киностудия \"Мосфильм\", Телевидение ВНР</td>\n",
       "      <td>СССР, Венгрия</td>\n",
       "      <td>В.Титов</td>\n",
       "      <td>NaN</td>\n",
       "      <td>«12+» - для детей старше 12 лет</td>\n",
       "      <td>NaN</td>\n",
       "      <td>NaN</td>\n",
       "      <td>NaN</td>\n",
       "      <td>NaN</td>\n",
       "      <td>7.8</td>\n",
       "      <td>мелодрама,комедия</td>\n",
       "    </tr>\n",
       "  </tbody>\n",
       "</table>\n",
       "</div>"
      ],
      "text/plain": [
       "                  title   puNumber           show_start_date            type  \\\n",
       "0      Открытый простор  221048915  2015-11-27T12:00:00.000Z  Художественный   \n",
       "1  Особо важное задание  111013716  2016-09-13T12:00:00.000Z  Художественный   \n",
       "2          Особо опасен  221038416  2016-10-10T12:00:00.000Z  Художественный   \n",
       "3          Особо опасен  221026916  2016-06-10T12:00:00.000Z  Художественный   \n",
       "4          Особо опасен  221030815  2015-07-29T12:00:00.000Z  Художественный   \n",
       "5     Остановился поезд  111013816  2016-09-13T12:00:00.000Z  Художественный   \n",
       "6       Любовь и голуби  111007013  2013-10-18T12:00:00.000Z  Художественный   \n",
       "7     Любовь и сигареты  221074614  2014-12-29T12:00:00.000Z  Художественный   \n",
       "8    Отпетые мошенники.  121011416  2016-05-05T12:00:00.000Z  Художественный   \n",
       "9   Отпуск за свой счет  111019114  2014-12-01T12:00:00.000Z  Художественный   \n",
       "\n",
       "                                         film_studio production_country  \\\n",
       "0  Тачстоун Пикчерз, Кобальт Пикчерз, Бикон Пикче...                США   \n",
       "1                              Киностудия \"Мосфильм\"               СССР   \n",
       "2  Юниверсал Пикчерз, Кикстарт Продакшнз, Марк Пл...                США   \n",
       "3  Юниверсал Пикчерз, Кикстарт Продакшнз, Марк Пл...                США   \n",
       "4  Юниверсал Пикчерз, Кикстарт Продакшнз, Марк Пл...                США   \n",
       "5                              Киностудия \"Мосфильм\"               СССР   \n",
       "6                              Киностудия \"Мосфильм\"               СССР   \n",
       "7  Юнайтед Артистс, Грин Стрит Филмз, Айкон Интер...                США   \n",
       "8                     Пульсар Продюксьон, ТФ1 Фильм             Франция   \n",
       "9             Киностудия \"Мосфильм\", Телевидение ВНР      СССР, Венгрия   \n",
       "\n",
       "            director                                           producer  \\\n",
       "0      Кевин Костнер          Дэвид Валдес, Кевин Костнер, Джейк Эбертс   \n",
       "1          Е.Матвеев                                                NaN   \n",
       "2  Тимур Бекмамбетов  Джим Лемли, Джейсон Нетер, Марк Е.Платт, Яйн Смит   \n",
       "3  Тимур Бекмамбетов  Джим Лемли, Джейсон Нетер, Марк Е.Платт, Яйн Смит   \n",
       "4  Тимур Бекмамбетов  Джим Лемли, Джейсон Нетер, Марк Е.Платт, Яйн Смит   \n",
       "5       В.Абдрашитов                                                NaN   \n",
       "6          В.Меньшов                                                NaN   \n",
       "7      Джон Туртурро                        Джон Пенотти, Джон Туртурро   \n",
       "8       Эрик Беснард                                        Патрис Леду   \n",
       "9            В.Титов                                                NaN   \n",
       "\n",
       "                   age_restriction  refundable_support  nonrefundable_support  \\\n",
       "0      «18+» - запрещено для детей                 NaN                    NaN   \n",
       "1    «6+» - для детей старше 6 лет                 NaN                    NaN   \n",
       "2      «18+» - запрещено для детей                 NaN                    NaN   \n",
       "3      «18+» - запрещено для детей                 NaN                    NaN   \n",
       "4      «18+» - запрещено для детей                 NaN                    NaN   \n",
       "5    «6+» - для детей старше 6 лет                 NaN                    NaN   \n",
       "6  «12+» - для детей старше 12 лет                 NaN                    NaN   \n",
       "7      «18+» - запрещено для детей                 NaN                    NaN   \n",
       "8      «18+» - запрещено для детей                 NaN                    NaN   \n",
       "9  «12+» - для детей старше 12 лет                 NaN                    NaN   \n",
       "\n",
       "   budget financing_source ratings                     genres  \n",
       "0     NaN              NaN     7.2     боевик,драма,мелодрама  \n",
       "1     NaN              NaN     6.6              драма,военный  \n",
       "2     NaN              NaN     6.8  фантастика,боевик,триллер  \n",
       "3     NaN              NaN     6.8  фантастика,боевик,триллер  \n",
       "4     NaN              NaN     6.8  фантастика,боевик,триллер  \n",
       "5     NaN              NaN     7.7                      драма  \n",
       "6     NaN              NaN     8.3          мелодрама,комедия  \n",
       "7     NaN              NaN     6.6   мюзикл,мелодрама,комедия  \n",
       "8     NaN              NaN     8.0           комедия,криминал  \n",
       "9     NaN              NaN     7.8          мелодрама,комедия  "
      ]
     },
     "execution_count": 4,
     "metadata": {},
     "output_type": "execute_result"
    }
   ],
   "source": [
    "mkrf_movies.head(10)"
   ]
  },
  {
   "cell_type": "code",
   "execution_count": 5,
   "metadata": {},
   "outputs": [
    {
     "name": "stdout",
     "output_type": "stream",
     "text": [
      "<class 'pandas.core.frame.DataFrame'>\n",
      "RangeIndex: 3158 entries, 0 to 3157\n",
      "Data columns (total 2 columns):\n",
      " #   Column      Non-Null Count  Dtype  \n",
      "---  ------      --------------  -----  \n",
      " 0   puNumber    3158 non-null   int64  \n",
      " 1   box_office  3158 non-null   float64\n",
      "dtypes: float64(1), int64(1)\n",
      "memory usage: 49.5 KB\n"
     ]
    }
   ],
   "source": [
    "mkrf_shows.info()"
   ]
  },
  {
   "cell_type": "code",
   "execution_count": 6,
   "metadata": {},
   "outputs": [
    {
     "name": "stdout",
     "output_type": "stream",
     "text": [
      "<class 'pandas.core.frame.DataFrame'>\n",
      "RangeIndex: 7486 entries, 0 to 7485\n",
      "Data columns (total 15 columns):\n",
      " #   Column                 Non-Null Count  Dtype  \n",
      "---  ------                 --------------  -----  \n",
      " 0   title                  7486 non-null   object \n",
      " 1   puNumber               7486 non-null   object \n",
      " 2   show_start_date        7486 non-null   object \n",
      " 3   type                   7486 non-null   object \n",
      " 4   film_studio            7468 non-null   object \n",
      " 5   production_country     7484 non-null   object \n",
      " 6   director               7477 non-null   object \n",
      " 7   producer               6918 non-null   object \n",
      " 8   age_restriction        7486 non-null   object \n",
      " 9   refundable_support     332 non-null    float64\n",
      " 10  nonrefundable_support  332 non-null    float64\n",
      " 11  budget                 332 non-null    float64\n",
      " 12  financing_source       332 non-null    object \n",
      " 13  ratings                6519 non-null   object \n",
      " 14  genres                 6510 non-null   object \n",
      "dtypes: float64(3), object(12)\n",
      "memory usage: 877.4+ KB\n"
     ]
    }
   ],
   "source": [
    "mkrf_movies.info()"
   ]
  },
  {
   "cell_type": "code",
   "execution_count": 7,
   "metadata": {},
   "outputs": [
    {
     "data": {
      "text/html": [
       "<div>\n",
       "<style scoped>\n",
       "    .dataframe tbody tr th:only-of-type {\n",
       "        vertical-align: middle;\n",
       "    }\n",
       "\n",
       "    .dataframe tbody tr th {\n",
       "        vertical-align: top;\n",
       "    }\n",
       "\n",
       "    .dataframe thead th {\n",
       "        text-align: right;\n",
       "    }\n",
       "</style>\n",
       "<table border=\"1\" class=\"dataframe\">\n",
       "  <thead>\n",
       "    <tr style=\"text-align: right;\">\n",
       "      <th></th>\n",
       "      <th>title</th>\n",
       "      <th>puNumber</th>\n",
       "      <th>show_start_date</th>\n",
       "      <th>type</th>\n",
       "      <th>film_studio</th>\n",
       "      <th>production_country</th>\n",
       "      <th>director</th>\n",
       "      <th>producer</th>\n",
       "      <th>age_restriction</th>\n",
       "      <th>refundable_support</th>\n",
       "      <th>nonrefundable_support</th>\n",
       "      <th>budget</th>\n",
       "      <th>financing_source</th>\n",
       "      <th>ratings</th>\n",
       "      <th>genres</th>\n",
       "    </tr>\n",
       "  </thead>\n",
       "  <tbody>\n",
       "    <tr>\n",
       "      <th>804</th>\n",
       "      <td>Паранормальный Якутск</td>\n",
       "      <td>111004112</td>\n",
       "      <td>2012-08-24T12:00:00.000Z</td>\n",
       "      <td>Художественный</td>\n",
       "      <td>ИП Тимофеев К.П.</td>\n",
       "      <td>Россия</td>\n",
       "      <td>К.Тимофеев</td>\n",
       "      <td>NaN</td>\n",
       "      <td>«16+» - для детей старше 16 лет</td>\n",
       "      <td>NaN</td>\n",
       "      <td>NaN</td>\n",
       "      <td>NaN</td>\n",
       "      <td>NaN</td>\n",
       "      <td>NaN</td>\n",
       "      <td>NaN</td>\n",
       "    </tr>\n",
       "    <tr>\n",
       "      <th>1797</th>\n",
       "      <td>Курбан-роман. (История с жертвой)</td>\n",
       "      <td>нет</td>\n",
       "      <td>2014-05-15T12:00:00.000Z</td>\n",
       "      <td>Художественный</td>\n",
       "      <td>ФОНД \"ИННОВАЦИЯ\"</td>\n",
       "      <td>Россия</td>\n",
       "      <td>С.Юзеев</td>\n",
       "      <td>М.Галицкая</td>\n",
       "      <td>«12+» - для детей старше 12 лет</td>\n",
       "      <td>NaN</td>\n",
       "      <td>NaN</td>\n",
       "      <td>NaN</td>\n",
       "      <td>NaN</td>\n",
       "      <td>NaN</td>\n",
       "      <td>NaN</td>\n",
       "    </tr>\n",
       "  </tbody>\n",
       "</table>\n",
       "</div>"
      ],
      "text/plain": [
       "                                  title    puNumber           show_start_date  \\\n",
       "804               Паранормальный Якутск   111004112  2012-08-24T12:00:00.000Z   \n",
       "1797  Курбан-роман. (История с жертвой)         нет  2014-05-15T12:00:00.000Z   \n",
       "\n",
       "                type       film_studio production_country    director  \\\n",
       "804   Художественный  ИП Тимофеев К.П.             Россия  К.Тимофеев   \n",
       "1797  Художественный  ФОНД \"ИННОВАЦИЯ\"             Россия     С.Юзеев   \n",
       "\n",
       "        producer                  age_restriction  refundable_support  \\\n",
       "804          NaN  «16+» - для детей старше 16 лет                 NaN   \n",
       "1797  М.Галицкая  «12+» - для детей старше 12 лет                 NaN   \n",
       "\n",
       "      nonrefundable_support  budget financing_source ratings genres  \n",
       "804                     NaN     NaN              NaN     NaN    NaN  \n",
       "1797                    NaN     NaN              NaN     NaN    NaN  "
      ]
     },
     "execution_count": 7,
     "metadata": {},
     "output_type": "execute_result"
    }
   ],
   "source": [
    "mkrf_movies[~mkrf_movies['puNumber'].str.isdigit()]"
   ]
  },
  {
   "cell_type": "code",
   "execution_count": 8,
   "metadata": {},
   "outputs": [],
   "source": [
    "mkrf_movies.loc[mkrf_movies['puNumber'].str.isalpha(), 'puNumber'] = 0"
   ]
  },
  {
   "cell_type": "code",
   "execution_count": 9,
   "metadata": {},
   "outputs": [],
   "source": [
    "mkrf_movies['puNumber'] = mkrf_movies['puNumber'].astype('int')"
   ]
  },
  {
   "cell_type": "code",
   "execution_count": 10,
   "metadata": {
    "scrolled": true
   },
   "outputs": [
    {
     "data": {
      "text/html": [
       "<div>\n",
       "<style scoped>\n",
       "    .dataframe tbody tr th:only-of-type {\n",
       "        vertical-align: middle;\n",
       "    }\n",
       "\n",
       "    .dataframe tbody tr th {\n",
       "        vertical-align: top;\n",
       "    }\n",
       "\n",
       "    .dataframe thead th {\n",
       "        text-align: right;\n",
       "    }\n",
       "</style>\n",
       "<table border=\"1\" class=\"dataframe\">\n",
       "  <thead>\n",
       "    <tr style=\"text-align: right;\">\n",
       "      <th></th>\n",
       "      <th>title</th>\n",
       "      <th>puNumber</th>\n",
       "      <th>show_start_date</th>\n",
       "      <th>type</th>\n",
       "      <th>film_studio</th>\n",
       "      <th>production_country</th>\n",
       "      <th>director</th>\n",
       "      <th>producer</th>\n",
       "      <th>age_restriction</th>\n",
       "      <th>refundable_support</th>\n",
       "      <th>nonrefundable_support</th>\n",
       "      <th>budget</th>\n",
       "      <th>financing_source</th>\n",
       "      <th>ratings</th>\n",
       "      <th>genres</th>\n",
       "      <th>box_office</th>\n",
       "    </tr>\n",
       "  </thead>\n",
       "  <tbody>\n",
       "    <tr>\n",
       "      <th>0</th>\n",
       "      <td>Открытый простор</td>\n",
       "      <td>221048915</td>\n",
       "      <td>2015-11-27T12:00:00.000Z</td>\n",
       "      <td>Художественный</td>\n",
       "      <td>Тачстоун Пикчерз, Кобальт Пикчерз, Бикон Пикче...</td>\n",
       "      <td>США</td>\n",
       "      <td>Кевин Костнер</td>\n",
       "      <td>Дэвид Валдес, Кевин Костнер, Джейк Эбертс</td>\n",
       "      <td>«18+» - запрещено для детей</td>\n",
       "      <td>NaN</td>\n",
       "      <td>NaN</td>\n",
       "      <td>NaN</td>\n",
       "      <td>NaN</td>\n",
       "      <td>7.2</td>\n",
       "      <td>боевик,драма,мелодрама</td>\n",
       "      <td>NaN</td>\n",
       "    </tr>\n",
       "    <tr>\n",
       "      <th>1</th>\n",
       "      <td>Особо важное задание</td>\n",
       "      <td>111013716</td>\n",
       "      <td>2016-09-13T12:00:00.000Z</td>\n",
       "      <td>Художественный</td>\n",
       "      <td>Киностудия \"Мосфильм\"</td>\n",
       "      <td>СССР</td>\n",
       "      <td>Е.Матвеев</td>\n",
       "      <td>NaN</td>\n",
       "      <td>«6+» - для детей старше 6 лет</td>\n",
       "      <td>NaN</td>\n",
       "      <td>NaN</td>\n",
       "      <td>NaN</td>\n",
       "      <td>NaN</td>\n",
       "      <td>6.6</td>\n",
       "      <td>драма,военный</td>\n",
       "      <td>NaN</td>\n",
       "    </tr>\n",
       "    <tr>\n",
       "      <th>2</th>\n",
       "      <td>Особо опасен</td>\n",
       "      <td>221038416</td>\n",
       "      <td>2016-10-10T12:00:00.000Z</td>\n",
       "      <td>Художественный</td>\n",
       "      <td>Юниверсал Пикчерз, Кикстарт Продакшнз, Марк Пл...</td>\n",
       "      <td>США</td>\n",
       "      <td>Тимур Бекмамбетов</td>\n",
       "      <td>Джим Лемли, Джейсон Нетер, Марк Е.Платт, Яйн Смит</td>\n",
       "      <td>«18+» - запрещено для детей</td>\n",
       "      <td>NaN</td>\n",
       "      <td>NaN</td>\n",
       "      <td>NaN</td>\n",
       "      <td>NaN</td>\n",
       "      <td>6.8</td>\n",
       "      <td>фантастика,боевик,триллер</td>\n",
       "      <td>NaN</td>\n",
       "    </tr>\n",
       "    <tr>\n",
       "      <th>3</th>\n",
       "      <td>Особо опасен</td>\n",
       "      <td>221026916</td>\n",
       "      <td>2016-06-10T12:00:00.000Z</td>\n",
       "      <td>Художественный</td>\n",
       "      <td>Юниверсал Пикчерз, Кикстарт Продакшнз, Марк Пл...</td>\n",
       "      <td>США</td>\n",
       "      <td>Тимур Бекмамбетов</td>\n",
       "      <td>Джим Лемли, Джейсон Нетер, Марк Е.Платт, Яйн Смит</td>\n",
       "      <td>«18+» - запрещено для детей</td>\n",
       "      <td>NaN</td>\n",
       "      <td>NaN</td>\n",
       "      <td>NaN</td>\n",
       "      <td>NaN</td>\n",
       "      <td>6.8</td>\n",
       "      <td>фантастика,боевик,триллер</td>\n",
       "      <td>NaN</td>\n",
       "    </tr>\n",
       "    <tr>\n",
       "      <th>4</th>\n",
       "      <td>Особо опасен</td>\n",
       "      <td>221030815</td>\n",
       "      <td>2015-07-29T12:00:00.000Z</td>\n",
       "      <td>Художественный</td>\n",
       "      <td>Юниверсал Пикчерз, Кикстарт Продакшнз, Марк Пл...</td>\n",
       "      <td>США</td>\n",
       "      <td>Тимур Бекмамбетов</td>\n",
       "      <td>Джим Лемли, Джейсон Нетер, Марк Е.Платт, Яйн Смит</td>\n",
       "      <td>«18+» - запрещено для детей</td>\n",
       "      <td>NaN</td>\n",
       "      <td>NaN</td>\n",
       "      <td>NaN</td>\n",
       "      <td>NaN</td>\n",
       "      <td>6.8</td>\n",
       "      <td>фантастика,боевик,триллер</td>\n",
       "      <td>NaN</td>\n",
       "    </tr>\n",
       "    <tr>\n",
       "      <th>5</th>\n",
       "      <td>Остановился поезд</td>\n",
       "      <td>111013816</td>\n",
       "      <td>2016-09-13T12:00:00.000Z</td>\n",
       "      <td>Художественный</td>\n",
       "      <td>Киностудия \"Мосфильм\"</td>\n",
       "      <td>СССР</td>\n",
       "      <td>В.Абдрашитов</td>\n",
       "      <td>NaN</td>\n",
       "      <td>«6+» - для детей старше 6 лет</td>\n",
       "      <td>NaN</td>\n",
       "      <td>NaN</td>\n",
       "      <td>NaN</td>\n",
       "      <td>NaN</td>\n",
       "      <td>7.7</td>\n",
       "      <td>драма</td>\n",
       "      <td>NaN</td>\n",
       "    </tr>\n",
       "    <tr>\n",
       "      <th>6</th>\n",
       "      <td>Любовь и голуби</td>\n",
       "      <td>111007013</td>\n",
       "      <td>2013-10-18T12:00:00.000Z</td>\n",
       "      <td>Художественный</td>\n",
       "      <td>Киностудия \"Мосфильм\"</td>\n",
       "      <td>СССР</td>\n",
       "      <td>В.Меньшов</td>\n",
       "      <td>NaN</td>\n",
       "      <td>«12+» - для детей старше 12 лет</td>\n",
       "      <td>NaN</td>\n",
       "      <td>NaN</td>\n",
       "      <td>NaN</td>\n",
       "      <td>NaN</td>\n",
       "      <td>8.3</td>\n",
       "      <td>мелодрама,комедия</td>\n",
       "      <td>2700.0</td>\n",
       "    </tr>\n",
       "    <tr>\n",
       "      <th>7</th>\n",
       "      <td>Любовь и сигареты</td>\n",
       "      <td>221074614</td>\n",
       "      <td>2014-12-29T12:00:00.000Z</td>\n",
       "      <td>Художественный</td>\n",
       "      <td>Юнайтед Артистс, Грин Стрит Филмз, Айкон Интер...</td>\n",
       "      <td>США</td>\n",
       "      <td>Джон Туртурро</td>\n",
       "      <td>Джон Пенотти, Джон Туртурро</td>\n",
       "      <td>«18+» - запрещено для детей</td>\n",
       "      <td>NaN</td>\n",
       "      <td>NaN</td>\n",
       "      <td>NaN</td>\n",
       "      <td>NaN</td>\n",
       "      <td>6.6</td>\n",
       "      <td>мюзикл,мелодрама,комедия</td>\n",
       "      <td>NaN</td>\n",
       "    </tr>\n",
       "    <tr>\n",
       "      <th>8</th>\n",
       "      <td>Отпетые мошенники.</td>\n",
       "      <td>121011416</td>\n",
       "      <td>2016-05-05T12:00:00.000Z</td>\n",
       "      <td>Художественный</td>\n",
       "      <td>Пульсар Продюксьон, ТФ1 Фильм</td>\n",
       "      <td>Франция</td>\n",
       "      <td>Эрик Беснард</td>\n",
       "      <td>Патрис Леду</td>\n",
       "      <td>«18+» - запрещено для детей</td>\n",
       "      <td>NaN</td>\n",
       "      <td>NaN</td>\n",
       "      <td>NaN</td>\n",
       "      <td>NaN</td>\n",
       "      <td>8.0</td>\n",
       "      <td>комедия,криминал</td>\n",
       "      <td>NaN</td>\n",
       "    </tr>\n",
       "    <tr>\n",
       "      <th>9</th>\n",
       "      <td>Отпуск за свой счет</td>\n",
       "      <td>111019114</td>\n",
       "      <td>2014-12-01T12:00:00.000Z</td>\n",
       "      <td>Художественный</td>\n",
       "      <td>Киностудия \"Мосфильм\", Телевидение ВНР</td>\n",
       "      <td>СССР, Венгрия</td>\n",
       "      <td>В.Титов</td>\n",
       "      <td>NaN</td>\n",
       "      <td>«12+» - для детей старше 12 лет</td>\n",
       "      <td>NaN</td>\n",
       "      <td>NaN</td>\n",
       "      <td>NaN</td>\n",
       "      <td>NaN</td>\n",
       "      <td>7.8</td>\n",
       "      <td>мелодрама,комедия</td>\n",
       "      <td>NaN</td>\n",
       "    </tr>\n",
       "  </tbody>\n",
       "</table>\n",
       "</div>"
      ],
      "text/plain": [
       "                  title   puNumber           show_start_date            type  \\\n",
       "0      Открытый простор  221048915  2015-11-27T12:00:00.000Z  Художественный   \n",
       "1  Особо важное задание  111013716  2016-09-13T12:00:00.000Z  Художественный   \n",
       "2          Особо опасен  221038416  2016-10-10T12:00:00.000Z  Художественный   \n",
       "3          Особо опасен  221026916  2016-06-10T12:00:00.000Z  Художественный   \n",
       "4          Особо опасен  221030815  2015-07-29T12:00:00.000Z  Художественный   \n",
       "5     Остановился поезд  111013816  2016-09-13T12:00:00.000Z  Художественный   \n",
       "6       Любовь и голуби  111007013  2013-10-18T12:00:00.000Z  Художественный   \n",
       "7     Любовь и сигареты  221074614  2014-12-29T12:00:00.000Z  Художественный   \n",
       "8    Отпетые мошенники.  121011416  2016-05-05T12:00:00.000Z  Художественный   \n",
       "9   Отпуск за свой счет  111019114  2014-12-01T12:00:00.000Z  Художественный   \n",
       "\n",
       "                                         film_studio production_country  \\\n",
       "0  Тачстоун Пикчерз, Кобальт Пикчерз, Бикон Пикче...                США   \n",
       "1                              Киностудия \"Мосфильм\"               СССР   \n",
       "2  Юниверсал Пикчерз, Кикстарт Продакшнз, Марк Пл...                США   \n",
       "3  Юниверсал Пикчерз, Кикстарт Продакшнз, Марк Пл...                США   \n",
       "4  Юниверсал Пикчерз, Кикстарт Продакшнз, Марк Пл...                США   \n",
       "5                              Киностудия \"Мосфильм\"               СССР   \n",
       "6                              Киностудия \"Мосфильм\"               СССР   \n",
       "7  Юнайтед Артистс, Грин Стрит Филмз, Айкон Интер...                США   \n",
       "8                     Пульсар Продюксьон, ТФ1 Фильм             Франция   \n",
       "9             Киностудия \"Мосфильм\", Телевидение ВНР      СССР, Венгрия   \n",
       "\n",
       "            director                                           producer  \\\n",
       "0      Кевин Костнер          Дэвид Валдес, Кевин Костнер, Джейк Эбертс   \n",
       "1          Е.Матвеев                                                NaN   \n",
       "2  Тимур Бекмамбетов  Джим Лемли, Джейсон Нетер, Марк Е.Платт, Яйн Смит   \n",
       "3  Тимур Бекмамбетов  Джим Лемли, Джейсон Нетер, Марк Е.Платт, Яйн Смит   \n",
       "4  Тимур Бекмамбетов  Джим Лемли, Джейсон Нетер, Марк Е.Платт, Яйн Смит   \n",
       "5       В.Абдрашитов                                                NaN   \n",
       "6          В.Меньшов                                                NaN   \n",
       "7      Джон Туртурро                        Джон Пенотти, Джон Туртурро   \n",
       "8       Эрик Беснард                                        Патрис Леду   \n",
       "9            В.Титов                                                NaN   \n",
       "\n",
       "                   age_restriction  refundable_support  nonrefundable_support  \\\n",
       "0      «18+» - запрещено для детей                 NaN                    NaN   \n",
       "1    «6+» - для детей старше 6 лет                 NaN                    NaN   \n",
       "2      «18+» - запрещено для детей                 NaN                    NaN   \n",
       "3      «18+» - запрещено для детей                 NaN                    NaN   \n",
       "4      «18+» - запрещено для детей                 NaN                    NaN   \n",
       "5    «6+» - для детей старше 6 лет                 NaN                    NaN   \n",
       "6  «12+» - для детей старше 12 лет                 NaN                    NaN   \n",
       "7      «18+» - запрещено для детей                 NaN                    NaN   \n",
       "8      «18+» - запрещено для детей                 NaN                    NaN   \n",
       "9  «12+» - для детей старше 12 лет                 NaN                    NaN   \n",
       "\n",
       "   budget financing_source ratings                     genres  box_office  \n",
       "0     NaN              NaN     7.2     боевик,драма,мелодрама         NaN  \n",
       "1     NaN              NaN     6.6              драма,военный         NaN  \n",
       "2     NaN              NaN     6.8  фантастика,боевик,триллер         NaN  \n",
       "3     NaN              NaN     6.8  фантастика,боевик,триллер         NaN  \n",
       "4     NaN              NaN     6.8  фантастика,боевик,триллер         NaN  \n",
       "5     NaN              NaN     7.7                      драма         NaN  \n",
       "6     NaN              NaN     8.3          мелодрама,комедия      2700.0  \n",
       "7     NaN              NaN     6.6   мюзикл,мелодрама,комедия         NaN  \n",
       "8     NaN              NaN     8.0           комедия,криминал         NaN  \n",
       "9     NaN              NaN     7.8          мелодрама,комедия         NaN  "
      ]
     },
     "execution_count": 10,
     "metadata": {},
     "output_type": "execute_result"
    }
   ],
   "source": [
    "mkrf_movies_show = mkrf_movies.merge(mkrf_shows, how='left', on='puNumber')\n",
    "mkrf_movies_show.head(10)"
   ]
  },
  {
   "cell_type": "code",
   "execution_count": 11,
   "metadata": {},
   "outputs": [
    {
     "name": "stdout",
     "output_type": "stream",
     "text": [
      "<class 'pandas.core.frame.DataFrame'>\n",
      "Int64Index: 7486 entries, 0 to 7485\n",
      "Data columns (total 16 columns):\n",
      " #   Column                 Non-Null Count  Dtype  \n",
      "---  ------                 --------------  -----  \n",
      " 0   title                  7486 non-null   object \n",
      " 1   puNumber               7486 non-null   int64  \n",
      " 2   show_start_date        7486 non-null   object \n",
      " 3   type                   7486 non-null   object \n",
      " 4   film_studio            7468 non-null   object \n",
      " 5   production_country     7484 non-null   object \n",
      " 6   director               7477 non-null   object \n",
      " 7   producer               6918 non-null   object \n",
      " 8   age_restriction        7486 non-null   object \n",
      " 9   refundable_support     332 non-null    float64\n",
      " 10  nonrefundable_support  332 non-null    float64\n",
      " 11  budget                 332 non-null    float64\n",
      " 12  financing_source       332 non-null    object \n",
      " 13  ratings                6519 non-null   object \n",
      " 14  genres                 6510 non-null   object \n",
      " 15  box_office             3158 non-null   float64\n",
      "dtypes: float64(4), int64(1), object(11)\n",
      "memory usage: 994.2+ KB\n"
     ]
    }
   ],
   "source": [
    "mkrf_movies_show.info()"
   ]
  },
  {
   "cell_type": "markdown",
   "metadata": {},
   "source": [
    "В данных из mkrf_movies формат значений в столбце puNumber был object, т.к. в нём присутствовали не только цифры, но и пропуски, которые были заполнены отличными от NaN значениями. Поэтому заменил эти пропуски на значение 0, преобразовал в int и объединил с данными из mkrf_shows."
   ]
  },
  {
   "cell_type": "markdown",
   "metadata": {
    "id": "KLDGpPG0gFyM"
   },
   "source": [
    "### Шаг 2. Предобработка данных"
   ]
  },
  {
   "cell_type": "markdown",
   "metadata": {
    "id": "ssWwKXsxgFyO"
   },
   "source": [
    "#### Шаг 2.1. Проверьте типы данных\n",
    "\n",
    "- Проверьте типы данных в датафрейме и преобразуйте их там, где это необходимо."
   ]
  },
  {
   "cell_type": "markdown",
   "metadata": {},
   "source": [
    "Неккоректные типы данных в столбцах show_start_date и ratings. Преобразуем их на datetime64 для show_start_date и float для ratings."
   ]
  },
  {
   "cell_type": "markdown",
   "metadata": {},
   "source": [
    "##### show_start_date"
   ]
  },
  {
   "cell_type": "code",
   "execution_count": 12,
   "metadata": {},
   "outputs": [],
   "source": [
    "mkrf_movies_show['show_start_date'] = pd.to_datetime(mkrf_movies_show['show_start_date'])"
   ]
  },
  {
   "cell_type": "code",
   "execution_count": 13,
   "metadata": {},
   "outputs": [
    {
     "name": "stdout",
     "output_type": "stream",
     "text": [
      "<class 'pandas.core.frame.DataFrame'>\n",
      "Int64Index: 7486 entries, 0 to 7485\n",
      "Data columns (total 16 columns):\n",
      " #   Column                 Non-Null Count  Dtype              \n",
      "---  ------                 --------------  -----              \n",
      " 0   title                  7486 non-null   object             \n",
      " 1   puNumber               7486 non-null   int64              \n",
      " 2   show_start_date        7486 non-null   datetime64[ns, UTC]\n",
      " 3   type                   7486 non-null   object             \n",
      " 4   film_studio            7468 non-null   object             \n",
      " 5   production_country     7484 non-null   object             \n",
      " 6   director               7477 non-null   object             \n",
      " 7   producer               6918 non-null   object             \n",
      " 8   age_restriction        7486 non-null   object             \n",
      " 9   refundable_support     332 non-null    float64            \n",
      " 10  nonrefundable_support  332 non-null    float64            \n",
      " 11  budget                 332 non-null    float64            \n",
      " 12  financing_source       332 non-null    object             \n",
      " 13  ratings                6519 non-null   object             \n",
      " 14  genres                 6510 non-null   object             \n",
      " 15  box_office             3158 non-null   float64            \n",
      "dtypes: datetime64[ns, UTC](1), float64(4), int64(1), object(10)\n",
      "memory usage: 994.2+ KB\n"
     ]
    }
   ],
   "source": [
    "mkrf_movies_show.info()"
   ]
  },
  {
   "cell_type": "markdown",
   "metadata": {},
   "source": [
    "##### ratings"
   ]
  },
  {
   "cell_type": "markdown",
   "metadata": {},
   "source": [
    "Определим какие данные отличны от других и включают в себя не только цифры и точки"
   ]
  },
  {
   "cell_type": "code",
   "execution_count": 14,
   "metadata": {},
   "outputs": [
    {
     "data": {
      "text/html": [
       "<div>\n",
       "<style scoped>\n",
       "    .dataframe tbody tr th:only-of-type {\n",
       "        vertical-align: middle;\n",
       "    }\n",
       "\n",
       "    .dataframe tbody tr th {\n",
       "        vertical-align: top;\n",
       "    }\n",
       "\n",
       "    .dataframe thead th {\n",
       "        text-align: right;\n",
       "    }\n",
       "</style>\n",
       "<table border=\"1\" class=\"dataframe\">\n",
       "  <thead>\n",
       "    <tr style=\"text-align: right;\">\n",
       "      <th></th>\n",
       "      <th>title</th>\n",
       "      <th>puNumber</th>\n",
       "      <th>show_start_date</th>\n",
       "      <th>type</th>\n",
       "      <th>film_studio</th>\n",
       "      <th>production_country</th>\n",
       "      <th>director</th>\n",
       "      <th>producer</th>\n",
       "      <th>age_restriction</th>\n",
       "      <th>refundable_support</th>\n",
       "      <th>nonrefundable_support</th>\n",
       "      <th>budget</th>\n",
       "      <th>financing_source</th>\n",
       "      <th>ratings</th>\n",
       "      <th>genres</th>\n",
       "      <th>box_office</th>\n",
       "    </tr>\n",
       "  </thead>\n",
       "  <tbody>\n",
       "    <tr>\n",
       "      <th>259</th>\n",
       "      <td>Прошлое</td>\n",
       "      <td>221030715</td>\n",
       "      <td>2015-07-29 12:00:00+00:00</td>\n",
       "      <td>Художественный</td>\n",
       "      <td>20 Сенчюри Фокс де Архентина, Чемо, ЭйчБи Филм...</td>\n",
       "      <td>Аргентина - Бразилия</td>\n",
       "      <td>Эктор Бабенко</td>\n",
       "      <td>Эктор Бабенко, Оскар Крамер, Хуго Сидмэн</td>\n",
       "      <td>«16+» - для детей старше 16 лет</td>\n",
       "      <td>NaN</td>\n",
       "      <td>NaN</td>\n",
       "      <td>NaN</td>\n",
       "      <td>NaN</td>\n",
       "      <td>99%</td>\n",
       "      <td>ужасы,триллер,драма</td>\n",
       "      <td>NaN</td>\n",
       "    </tr>\n",
       "    <tr>\n",
       "      <th>811</th>\n",
       "      <td>От винта!</td>\n",
       "      <td>114000212</td>\n",
       "      <td>2012-08-06 12:00:00+00:00</td>\n",
       "      <td>Анимационный</td>\n",
       "      <td>ЗАО \"Продюсерский центр \"Парадиз\"</td>\n",
       "      <td>Россия</td>\n",
       "      <td>О.Лопато</td>\n",
       "      <td>Г.Нерсисян, А.Манасарян, А.Нерсесян</td>\n",
       "      <td>«12+» - для детей старше 12 лет</td>\n",
       "      <td>NaN</td>\n",
       "      <td>NaN</td>\n",
       "      <td>NaN</td>\n",
       "      <td>NaN</td>\n",
       "      <td>28%</td>\n",
       "      <td>детский,приключения,комедия</td>\n",
       "      <td>1.740000e+03</td>\n",
       "    </tr>\n",
       "    <tr>\n",
       "      <th>1053</th>\n",
       "      <td>Песочный человек</td>\n",
       "      <td>121029212</td>\n",
       "      <td>2012-11-29 12:00:00+00:00</td>\n",
       "      <td>Художественный</td>\n",
       "      <td>Спотлайт Медиа Продакшн</td>\n",
       "      <td>Швейцария</td>\n",
       "      <td>Питер Луизи</td>\n",
       "      <td>Дэвид Луизи, Питер Луизи</td>\n",
       "      <td>«16+» - для детей старше 16 лет</td>\n",
       "      <td>NaN</td>\n",
       "      <td>NaN</td>\n",
       "      <td>NaN</td>\n",
       "      <td>NaN</td>\n",
       "      <td>97%</td>\n",
       "      <td>ужасы,фантастика,фэнтези</td>\n",
       "      <td>NaN</td>\n",
       "    </tr>\n",
       "    <tr>\n",
       "      <th>1341</th>\n",
       "      <td>Сказка о добре и Вре</td>\n",
       "      <td>111008913</td>\n",
       "      <td>2013-11-15 12:00:00+00:00</td>\n",
       "      <td>Художественный</td>\n",
       "      <td>НП \"Студия игрового кино \"Лик\"</td>\n",
       "      <td>Россия</td>\n",
       "      <td>Е.Шиляева</td>\n",
       "      <td>К.Терещенко</td>\n",
       "      <td>«6+» - для детей старше 6 лет</td>\n",
       "      <td>NaN</td>\n",
       "      <td>NaN</td>\n",
       "      <td>NaN</td>\n",
       "      <td>NaN</td>\n",
       "      <td>99%</td>\n",
       "      <td>триллер,драма,детектив</td>\n",
       "      <td>NaN</td>\n",
       "    </tr>\n",
       "    <tr>\n",
       "      <th>1805</th>\n",
       "      <td>Спираль.</td>\n",
       "      <td>111001014</td>\n",
       "      <td>2014-01-30 12:00:00+00:00</td>\n",
       "      <td>Художественный</td>\n",
       "      <td>ООО \"Компания Питон\"</td>\n",
       "      <td>Россия</td>\n",
       "      <td>А.Волгин</td>\n",
       "      <td>Е.Ковалева</td>\n",
       "      <td>«12+» - для детей старше 12 лет</td>\n",
       "      <td>NaN</td>\n",
       "      <td>NaN</td>\n",
       "      <td>NaN</td>\n",
       "      <td>NaN</td>\n",
       "      <td>99%</td>\n",
       "      <td>аниме,мультфильм,ужасы</td>\n",
       "      <td>4.295000e+03</td>\n",
       "    </tr>\n",
       "    <tr>\n",
       "      <th>1874</th>\n",
       "      <td>Короткие истории о любви 2</td>\n",
       "      <td>121002615</td>\n",
       "      <td>2015-02-13 12:00:00+00:00</td>\n",
       "      <td>Художественный</td>\n",
       "      <td>Кавиар, Курт 13, СтритЛайт Филмз, Нэйер Дойче ...</td>\n",
       "      <td>Нидерланды - США - Германия - Канада - Франция...</td>\n",
       "      <td>Мэтью Аувро, Лео Брайдл, Бен Бренд, Ден Кларк,...</td>\n",
       "      <td>Мэри Пэт Бентел, Бен Бренд, Сиара Гиллан, Джор...</td>\n",
       "      <td>«18+» - запрещено для детей</td>\n",
       "      <td>NaN</td>\n",
       "      <td>NaN</td>\n",
       "      <td>NaN</td>\n",
       "      <td>NaN</td>\n",
       "      <td>83%</td>\n",
       "      <td>NaN</td>\n",
       "      <td>1.429859e+06</td>\n",
       "    </tr>\n",
       "    <tr>\n",
       "      <th>1899</th>\n",
       "      <td>Золушка /По сказке Шарля Перро/. Холодное торж...</td>\n",
       "      <td>121003615</td>\n",
       "      <td>2015-02-27 12:00:00+00:00</td>\n",
       "      <td>Художественный</td>\n",
       "      <td>Женр Филмз, Уолт Дисней Пикчерз</td>\n",
       "      <td>США</td>\n",
       "      <td>Кеннет Брана</td>\n",
       "      <td>Дэвид Бэррон, Саймон Кинберг, Эллисон Ширмур</td>\n",
       "      <td>«6+» - для детей старше 6 лет</td>\n",
       "      <td>NaN</td>\n",
       "      <td>NaN</td>\n",
       "      <td>NaN</td>\n",
       "      <td>NaN</td>\n",
       "      <td>64%</td>\n",
       "      <td>мюзикл,фэнтези,мелодрама</td>\n",
       "      <td>5.287326e+08</td>\n",
       "    </tr>\n",
       "    <tr>\n",
       "      <th>2126</th>\n",
       "      <td>Поездка к матери</td>\n",
       "      <td>111002015</td>\n",
       "      <td>2015-03-02 12:00:00+00:00</td>\n",
       "      <td>Художественный</td>\n",
       "      <td>ЗАО \"Киностудия \"М\"-Фильм\"</td>\n",
       "      <td>Россия</td>\n",
       "      <td>М.Косырев-Нестеров</td>\n",
       "      <td>М.Косырев-Нестеров</td>\n",
       "      <td>«16+» - для детей старше 16 лет</td>\n",
       "      <td>NaN</td>\n",
       "      <td>NaN</td>\n",
       "      <td>NaN</td>\n",
       "      <td>NaN</td>\n",
       "      <td>91%</td>\n",
       "      <td>драма,семейный</td>\n",
       "      <td>0.000000e+00</td>\n",
       "    </tr>\n",
       "    <tr>\n",
       "      <th>2146</th>\n",
       "      <td>Главный</td>\n",
       "      <td>111003415</td>\n",
       "      <td>2015-03-27 12:00:00+00:00</td>\n",
       "      <td>Художественный</td>\n",
       "      <td>ООО \"Киностудия \"МАСТЕР\"</td>\n",
       "      <td>Россия</td>\n",
       "      <td>Ю.Кара</td>\n",
       "      <td>Ю.Кара</td>\n",
       "      <td>«6+» - для детей старше 6 лет</td>\n",
       "      <td>0.0</td>\n",
       "      <td>10000000.0</td>\n",
       "      <td>40000000.0</td>\n",
       "      <td>Министерство культуры</td>\n",
       "      <td>94%</td>\n",
       "      <td>фантастика,боевик,комедия</td>\n",
       "      <td>3.347500e+05</td>\n",
       "    </tr>\n",
       "    <tr>\n",
       "      <th>2438</th>\n",
       "      <td>Самый рыжий Лис</td>\n",
       "      <td>111012715</td>\n",
       "      <td>2015-07-30 12:00:00+00:00</td>\n",
       "      <td>Художественный</td>\n",
       "      <td>ООО \"Продюсерский центр \"Ленфильм\"</td>\n",
       "      <td>Россия</td>\n",
       "      <td>А.Стреляная</td>\n",
       "      <td>А.Котелевский, Э.Пичугин</td>\n",
       "      <td>«6+» - для детей старше 6 лет</td>\n",
       "      <td>NaN</td>\n",
       "      <td>NaN</td>\n",
       "      <td>NaN</td>\n",
       "      <td>NaN</td>\n",
       "      <td>62%</td>\n",
       "      <td>фэнтези,семейный</td>\n",
       "      <td>NaN</td>\n",
       "    </tr>\n",
       "    <tr>\n",
       "      <th>2680</th>\n",
       "      <td>Год Белого Слона</td>\n",
       "      <td>111003915</td>\n",
       "      <td>2015-04-08 12:00:00+00:00</td>\n",
       "      <td>Художественный</td>\n",
       "      <td>ООО \"Творческое объединение ЮГ\"</td>\n",
       "      <td>Россия</td>\n",
       "      <td>Ю.Грымов</td>\n",
       "      <td>П.Поляков</td>\n",
       "      <td>«6+» - для детей старше 6 лет</td>\n",
       "      <td>NaN</td>\n",
       "      <td>NaN</td>\n",
       "      <td>NaN</td>\n",
       "      <td>NaN</td>\n",
       "      <td>79%</td>\n",
       "      <td>семейный</td>\n",
       "      <td>NaN</td>\n",
       "    </tr>\n",
       "    <tr>\n",
       "      <th>3139</th>\n",
       "      <td>Я умею вязать</td>\n",
       "      <td>111019615</td>\n",
       "      <td>2015-11-27 12:00:00+00:00</td>\n",
       "      <td>Художественный</td>\n",
       "      <td>ООО \"Белое Зеркало\"</td>\n",
       "      <td>Россия</td>\n",
       "      <td>Н.Степанова при участии С.Иванова</td>\n",
       "      <td>С.Кикнавелидзе, Д.Улюкаев</td>\n",
       "      <td>«16+» - для детей старше 16 лет</td>\n",
       "      <td>0.0</td>\n",
       "      <td>4700000.0</td>\n",
       "      <td>14462464.0</td>\n",
       "      <td>Министерство культуры</td>\n",
       "      <td>90%</td>\n",
       "      <td>драма</td>\n",
       "      <td>8.013700e+05</td>\n",
       "    </tr>\n",
       "    <tr>\n",
       "      <th>3431</th>\n",
       "      <td>Наурыз</td>\n",
       "      <td>131000217</td>\n",
       "      <td>2017-03-09 12:00:00+00:00</td>\n",
       "      <td>Художественный</td>\n",
       "      <td>Эс Джи</td>\n",
       "      <td>Республика Казахстан</td>\n",
       "      <td>Аскар Бисембин</td>\n",
       "      <td>Олег Головашкин, Алмас Султангазин</td>\n",
       "      <td>«12+» - для детей старше 12 лет</td>\n",
       "      <td>NaN</td>\n",
       "      <td>NaN</td>\n",
       "      <td>NaN</td>\n",
       "      <td>NaN</td>\n",
       "      <td>19%</td>\n",
       "      <td>комедия</td>\n",
       "      <td>3.796000e+04</td>\n",
       "    </tr>\n",
       "    <tr>\n",
       "      <th>3439</th>\n",
       "      <td>Семь диких историй</td>\n",
       "      <td>126005916</td>\n",
       "      <td>2016-11-28 12:00:00+00:00</td>\n",
       "      <td>Прочие</td>\n",
       "      <td>Макс Бэйкер, Джон Е.Брайан, Пьер-Луи Гарнон,  ...</td>\n",
       "      <td>США - Пуэрто-Рико - Франция</td>\n",
       "      <td>М.Бэйкер, Д.Е.Брайант, Д.Рондот, Я.Серсар, Д.С...</td>\n",
       "      <td>М.Бэйкер, Д.Е.Брайан, П.-Л.Гарнон, М.Х.Дельгад...</td>\n",
       "      <td>«18+» - запрещено для детей</td>\n",
       "      <td>NaN</td>\n",
       "      <td>NaN</td>\n",
       "      <td>NaN</td>\n",
       "      <td>NaN</td>\n",
       "      <td>88%</td>\n",
       "      <td>NaN</td>\n",
       "      <td>1.025937e+06</td>\n",
       "    </tr>\n",
       "    <tr>\n",
       "      <th>3446</th>\n",
       "      <td>Короткие истории о любви - 4</td>\n",
       "      <td>126006316</td>\n",
       "      <td>2016-12-30 12:00:00+00:00</td>\n",
       "      <td>Прочие</td>\n",
       "      <td>Нетворг Айлэнд Телевижн, Магнетфильм, Шорткатс...</td>\n",
       "      <td>Великобритания - Аргентина - США - Франция - Р...</td>\n",
       "      <td>Д.Адар, П.Антохин, М.Биасин, А.Бурунова, К.Кол...</td>\n",
       "      <td>Д.Адар, Д.Амсон, П.Антохин, А.Армстронг, С.Бил...</td>\n",
       "      <td>«18+» - запрещено для детей</td>\n",
       "      <td>NaN</td>\n",
       "      <td>NaN</td>\n",
       "      <td>NaN</td>\n",
       "      <td>NaN</td>\n",
       "      <td>83%</td>\n",
       "      <td>NaN</td>\n",
       "      <td>2.266408e+06</td>\n",
       "    </tr>\n",
       "    <tr>\n",
       "      <th>3514</th>\n",
       "      <td>Чужой дом</td>\n",
       "      <td>111015516</td>\n",
       "      <td>2016-09-14 12:00:00+00:00</td>\n",
       "      <td>Художественный</td>\n",
       "      <td>ООО \"Лига Продакшн\"</td>\n",
       "      <td>Россия, Грузия, Хорватия, Испания</td>\n",
       "      <td>Р.Глурджидзе</td>\n",
       "      <td>З.Магалашвили, К.Гечмен-Вальдек, Н.Горшкова</td>\n",
       "      <td>«12+» - для детей старше 12 лет</td>\n",
       "      <td>NaN</td>\n",
       "      <td>NaN</td>\n",
       "      <td>NaN</td>\n",
       "      <td>NaN</td>\n",
       "      <td>91%</td>\n",
       "      <td>драма</td>\n",
       "      <td>NaN</td>\n",
       "    </tr>\n",
       "    <tr>\n",
       "      <th>3585</th>\n",
       "      <td>Машины Страшилки. Серия \"Жутчайшая повесть о п...</td>\n",
       "      <td>114003916</td>\n",
       "      <td>2016-12-09 12:00:00+00:00</td>\n",
       "      <td>Анимационный</td>\n",
       "      <td>ООО Студия \"АНИМАККОРД\", АНИМАККОРД ЛТД.</td>\n",
       "      <td>Россия, Республика Кипр</td>\n",
       "      <td>Д.Червяцов</td>\n",
       "      <td>Д.Ловейко, О.Кузовков</td>\n",
       "      <td>«0+» - для любой зрительской аудитории</td>\n",
       "      <td>NaN</td>\n",
       "      <td>NaN</td>\n",
       "      <td>NaN</td>\n",
       "      <td>NaN</td>\n",
       "      <td>97%</td>\n",
       "      <td>мультфильм,ужасы,фэнтези</td>\n",
       "      <td>NaN</td>\n",
       "    </tr>\n",
       "    <tr>\n",
       "      <th>3786</th>\n",
       "      <td>Охотники</td>\n",
       "      <td>111017816</td>\n",
       "      <td>2016-02-06 12:00:00+00:00</td>\n",
       "      <td>Художественный</td>\n",
       "      <td>Селиверстов Александр Александрович</td>\n",
       "      <td>Россия</td>\n",
       "      <td>А.Селиверстов</td>\n",
       "      <td>Е.Тарковская, Т.Лагода, Д.Степанян</td>\n",
       "      <td>«16+» - для детей старше 16 лет</td>\n",
       "      <td>NaN</td>\n",
       "      <td>NaN</td>\n",
       "      <td>NaN</td>\n",
       "      <td>NaN</td>\n",
       "      <td>89%</td>\n",
       "      <td>фантастика,комедия,боевик</td>\n",
       "      <td>8.284000e+04</td>\n",
       "    </tr>\n",
       "    <tr>\n",
       "      <th>3948</th>\n",
       "      <td>Круиз.</td>\n",
       "      <td>211038210</td>\n",
       "      <td>2010-09-03 12:00:00+00:00</td>\n",
       "      <td>Художественный</td>\n",
       "      <td>ООО \"ЮНАЙТЕД МУЛЬТИМЕДИА ПРОДЖЕКТС\"</td>\n",
       "      <td>Россия</td>\n",
       "      <td>И.Ромащенко</td>\n",
       "      <td>Р.Атамалибеков</td>\n",
       "      <td>«16+» - для детей старше 16 лет</td>\n",
       "      <td>NaN</td>\n",
       "      <td>NaN</td>\n",
       "      <td>NaN</td>\n",
       "      <td>NaN</td>\n",
       "      <td>97%</td>\n",
       "      <td>приключения,комедия,фэнтези</td>\n",
       "      <td>NaN</td>\n",
       "    </tr>\n",
       "    <tr>\n",
       "      <th>5332</th>\n",
       "      <td>Добыча.</td>\n",
       "      <td>121009411</td>\n",
       "      <td>2011-06-15 12:00:00+00:00</td>\n",
       "      <td>Художественный</td>\n",
       "      <td>Афтер Дарк Филмз</td>\n",
       "      <td>США</td>\n",
       "      <td>Патрик Сиверсен</td>\n",
       "      <td>Закари Ти Брайан, Кристофер</td>\n",
       "      <td>«18+» - запрещено для детей</td>\n",
       "      <td>NaN</td>\n",
       "      <td>NaN</td>\n",
       "      <td>NaN</td>\n",
       "      <td>NaN</td>\n",
       "      <td>88%</td>\n",
       "      <td>фантастика,боевик,триллер</td>\n",
       "      <td>NaN</td>\n",
       "    </tr>\n",
       "    <tr>\n",
       "      <th>5455</th>\n",
       "      <td>Вечный холод</td>\n",
       "      <td>111006417</td>\n",
       "      <td>2017-08-28 12:00:00+00:00</td>\n",
       "      <td>Художественный</td>\n",
       "      <td>ЗАО \"Производственный комплекс \"ГЛАВКИНО\", ООО...</td>\n",
       "      <td>Россия</td>\n",
       "      <td>А.Мигачев</td>\n",
       "      <td>И.Бачурин</td>\n",
       "      <td>«18+» - запрещено для детей</td>\n",
       "      <td>NaN</td>\n",
       "      <td>NaN</td>\n",
       "      <td>NaN</td>\n",
       "      <td>NaN</td>\n",
       "      <td>83%</td>\n",
       "      <td>фэнтези,боевик,триллер</td>\n",
       "      <td>NaN</td>\n",
       "    </tr>\n",
       "    <tr>\n",
       "      <th>5821</th>\n",
       "      <td>Свинья</td>\n",
       "      <td>121007018</td>\n",
       "      <td>2018-04-11 12:00:00+00:00</td>\n",
       "      <td>Художественный</td>\n",
       "      <td>Дарк Прекёрсор Продакшен, Филмиран, Хедейт Филм</td>\n",
       "      <td>Иран</td>\n",
       "      <td>Мани Хагиги</td>\n",
       "      <td>Мани Хагиги</td>\n",
       "      <td>«18+» - запрещено для детей</td>\n",
       "      <td>NaN</td>\n",
       "      <td>NaN</td>\n",
       "      <td>NaN</td>\n",
       "      <td>NaN</td>\n",
       "      <td>94%</td>\n",
       "      <td>триллер,драма</td>\n",
       "      <td>1.587222e+06</td>\n",
       "    </tr>\n",
       "    <tr>\n",
       "      <th>5910</th>\n",
       "      <td>Мира</td>\n",
       "      <td>112000118</td>\n",
       "      <td>2018-06-04 12:00:00+00:00</td>\n",
       "      <td>Документальный</td>\n",
       "      <td>ООО \"Компания \"Новые люди\"</td>\n",
       "      <td>Россия</td>\n",
       "      <td>Д.Шабаев</td>\n",
       "      <td>Н.Мокрицкая</td>\n",
       "      <td>«18+» - запрещено для детей</td>\n",
       "      <td>NaN</td>\n",
       "      <td>NaN</td>\n",
       "      <td>NaN</td>\n",
       "      <td>NaN</td>\n",
       "      <td>94%</td>\n",
       "      <td>драма</td>\n",
       "      <td>NaN</td>\n",
       "    </tr>\n",
       "    <tr>\n",
       "      <th>6426</th>\n",
       "      <td>Памятные даты России. Партизаны и подпольщики</td>\n",
       "      <td>112013018</td>\n",
       "      <td>2018-11-28 12:00:00+00:00</td>\n",
       "      <td>Документальный</td>\n",
       "      <td>ООО Кинокомпания \"Вектор\"</td>\n",
       "      <td>Россия</td>\n",
       "      <td>Н.Иванова, А.Кузнецова</td>\n",
       "      <td>В.Коханович</td>\n",
       "      <td>«12+» - для детей старше 12 лет</td>\n",
       "      <td>NaN</td>\n",
       "      <td>NaN</td>\n",
       "      <td>NaN</td>\n",
       "      <td>NaN</td>\n",
       "      <td>91%</td>\n",
       "      <td>драма,биография</td>\n",
       "      <td>NaN</td>\n",
       "    </tr>\n",
       "    <tr>\n",
       "      <th>6616</th>\n",
       "      <td>ОТ ВОЙНЫ ДО НАШИХ ДНЕЙ</td>\n",
       "      <td>111026518</td>\n",
       "      <td>2019-01-21 12:00:00+00:00</td>\n",
       "      <td>Художественный</td>\n",
       "      <td>ИП Вайсман Анатолий Александрович</td>\n",
       "      <td>Россия</td>\n",
       "      <td>А.Сазонов, Е.Климович, А.Коломеец, С.Черникова...</td>\n",
       "      <td>Д.Руюежин, Л.Пятницкая, Д.Колеров, Э.Ким, А.Хомич</td>\n",
       "      <td>«12+» - для детей старше 12 лет</td>\n",
       "      <td>NaN</td>\n",
       "      <td>NaN</td>\n",
       "      <td>NaN</td>\n",
       "      <td>NaN</td>\n",
       "      <td>98%</td>\n",
       "      <td>фантастика,боевик</td>\n",
       "      <td>NaN</td>\n",
       "    </tr>\n",
       "    <tr>\n",
       "      <th>6737</th>\n",
       "      <td>Колесо времени</td>\n",
       "      <td>111003219</td>\n",
       "      <td>2019-03-01 12:00:00+00:00</td>\n",
       "      <td>Художественный</td>\n",
       "      <td>ООО \"БестМедиа\"</td>\n",
       "      <td>Россия</td>\n",
       "      <td>Б.Куломзин</td>\n",
       "      <td>Б.Куломзин</td>\n",
       "      <td>«6+» - для детей старше 6 лет</td>\n",
       "      <td>NaN</td>\n",
       "      <td>NaN</td>\n",
       "      <td>NaN</td>\n",
       "      <td>NaN</td>\n",
       "      <td>98%</td>\n",
       "      <td>фэнтези,приключения</td>\n",
       "      <td>3.499200e+04</td>\n",
       "    </tr>\n",
       "    <tr>\n",
       "      <th>6882</th>\n",
       "      <td>Животные рядом со Святыми</td>\n",
       "      <td>112003719</td>\n",
       "      <td>2019-05-03 12:00:00+00:00</td>\n",
       "      <td>Документальный</td>\n",
       "      <td>ООО \"Кинопрограмма \"XXI век\"</td>\n",
       "      <td>Россия</td>\n",
       "      <td>Т.Мирошник</td>\n",
       "      <td>В.Есинов, Е.Калинина</td>\n",
       "      <td>«0+» - для любой зрительской аудитории</td>\n",
       "      <td>NaN</td>\n",
       "      <td>NaN</td>\n",
       "      <td>NaN</td>\n",
       "      <td>NaN</td>\n",
       "      <td>99%</td>\n",
       "      <td>криминал,драма</td>\n",
       "      <td>NaN</td>\n",
       "    </tr>\n",
       "    <tr>\n",
       "      <th>7159</th>\n",
       "      <td>Анна Каренина. Интимный дневник</td>\n",
       "      <td>111013919</td>\n",
       "      <td>2019-10-23 12:00:00+00:00</td>\n",
       "      <td>Художественный</td>\n",
       "      <td>ООО \"РТВ\"</td>\n",
       "      <td>Россия</td>\n",
       "      <td>Ю.Грымов</td>\n",
       "      <td>Ю.Грымов</td>\n",
       "      <td>«16+» - для детей старше 16 лет</td>\n",
       "      <td>NaN</td>\n",
       "      <td>NaN</td>\n",
       "      <td>NaN</td>\n",
       "      <td>NaN</td>\n",
       "      <td>79%</td>\n",
       "      <td>драма</td>\n",
       "      <td>1.828825e+05</td>\n",
       "    </tr>\n",
       "    <tr>\n",
       "      <th>7277</th>\n",
       "      <td>Добыча</td>\n",
       "      <td>121028319</td>\n",
       "      <td>2019-10-03 12:00:00+00:00</td>\n",
       "      <td>Художественный</td>\n",
       "      <td>Блумхаус Продакшнз, Хайд Парк Интертейнмент, Т...</td>\n",
       "      <td>США</td>\n",
       "      <td>Франк Халфун</td>\n",
       "      <td>Ашок Амритрадж, Джейсон Блум, Трэвис Клафф</td>\n",
       "      <td>«16+» - для детей старше 16 лет</td>\n",
       "      <td>NaN</td>\n",
       "      <td>NaN</td>\n",
       "      <td>NaN</td>\n",
       "      <td>NaN</td>\n",
       "      <td>88%</td>\n",
       "      <td>фантастика,боевик,триллер</td>\n",
       "      <td>4.416590e+06</td>\n",
       "    </tr>\n",
       "  </tbody>\n",
       "</table>\n",
       "</div>"
      ],
      "text/plain": [
       "                                                  title   puNumber  \\\n",
       "259                                             Прошлое  221030715   \n",
       "811                                           От винта!  114000212   \n",
       "1053                                   Песочный человек  121029212   \n",
       "1341                               Сказка о добре и Вре  111008913   \n",
       "1805                                           Спираль.  111001014   \n",
       "1874                         Короткие истории о любви 2  121002615   \n",
       "1899  Золушка /По сказке Шарля Перро/. Холодное торж...  121003615   \n",
       "2126                                   Поездка к матери  111002015   \n",
       "2146                                            Главный  111003415   \n",
       "2438                                    Самый рыжий Лис  111012715   \n",
       "2680                                   Год Белого Слона  111003915   \n",
       "3139                                      Я умею вязать  111019615   \n",
       "3431                                             Наурыз  131000217   \n",
       "3439                                 Семь диких историй  126005916   \n",
       "3446                       Короткие истории о любви - 4  126006316   \n",
       "3514                                          Чужой дом  111015516   \n",
       "3585  Машины Страшилки. Серия \"Жутчайшая повесть о п...  114003916   \n",
       "3786                                           Охотники  111017816   \n",
       "3948                                             Круиз.  211038210   \n",
       "5332                                            Добыча.  121009411   \n",
       "5455                                       Вечный холод  111006417   \n",
       "5821                                             Свинья  121007018   \n",
       "5910                                               Мира  112000118   \n",
       "6426      Памятные даты России. Партизаны и подпольщики  112013018   \n",
       "6616                             ОТ ВОЙНЫ ДО НАШИХ ДНЕЙ  111026518   \n",
       "6737                                     Колесо времени  111003219   \n",
       "6882                          Животные рядом со Святыми  112003719   \n",
       "7159                    Анна Каренина. Интимный дневник  111013919   \n",
       "7277                                             Добыча  121028319   \n",
       "\n",
       "               show_start_date             type  \\\n",
       "259  2015-07-29 12:00:00+00:00   Художественный   \n",
       "811  2012-08-06 12:00:00+00:00     Анимационный   \n",
       "1053 2012-11-29 12:00:00+00:00   Художественный   \n",
       "1341 2013-11-15 12:00:00+00:00   Художественный   \n",
       "1805 2014-01-30 12:00:00+00:00   Художественный   \n",
       "1874 2015-02-13 12:00:00+00:00   Художественный   \n",
       "1899 2015-02-27 12:00:00+00:00   Художественный   \n",
       "2126 2015-03-02 12:00:00+00:00   Художественный   \n",
       "2146 2015-03-27 12:00:00+00:00   Художественный   \n",
       "2438 2015-07-30 12:00:00+00:00   Художественный   \n",
       "2680 2015-04-08 12:00:00+00:00   Художественный   \n",
       "3139 2015-11-27 12:00:00+00:00   Художественный   \n",
       "3431 2017-03-09 12:00:00+00:00   Художественный   \n",
       "3439 2016-11-28 12:00:00+00:00           Прочие   \n",
       "3446 2016-12-30 12:00:00+00:00           Прочие   \n",
       "3514 2016-09-14 12:00:00+00:00   Художественный   \n",
       "3585 2016-12-09 12:00:00+00:00     Анимационный   \n",
       "3786 2016-02-06 12:00:00+00:00   Художественный   \n",
       "3948 2010-09-03 12:00:00+00:00   Художественный   \n",
       "5332 2011-06-15 12:00:00+00:00   Художественный   \n",
       "5455 2017-08-28 12:00:00+00:00   Художественный   \n",
       "5821 2018-04-11 12:00:00+00:00   Художественный   \n",
       "5910 2018-06-04 12:00:00+00:00   Документальный   \n",
       "6426 2018-11-28 12:00:00+00:00   Документальный   \n",
       "6616 2019-01-21 12:00:00+00:00   Художественный   \n",
       "6737 2019-03-01 12:00:00+00:00   Художественный   \n",
       "6882 2019-05-03 12:00:00+00:00   Документальный   \n",
       "7159 2019-10-23 12:00:00+00:00   Художественный   \n",
       "7277 2019-10-03 12:00:00+00:00   Художественный   \n",
       "\n",
       "                                            film_studio  \\\n",
       "259   20 Сенчюри Фокс де Архентина, Чемо, ЭйчБи Филм...   \n",
       "811                   ЗАО \"Продюсерский центр \"Парадиз\"   \n",
       "1053                            Спотлайт Медиа Продакшн   \n",
       "1341                     НП \"Студия игрового кино \"Лик\"   \n",
       "1805                               ООО \"Компания Питон\"   \n",
       "1874  Кавиар, Курт 13, СтритЛайт Филмз, Нэйер Дойче ...   \n",
       "1899                    Женр Филмз, Уолт Дисней Пикчерз   \n",
       "2126                         ЗАО \"Киностудия \"М\"-Фильм\"   \n",
       "2146                           ООО \"Киностудия \"МАСТЕР\"   \n",
       "2438                 ООО \"Продюсерский центр \"Ленфильм\"   \n",
       "2680                    ООО \"Творческое объединение ЮГ\"   \n",
       "3139                                ООО \"Белое Зеркало\"   \n",
       "3431                                             Эс Джи   \n",
       "3439  Макс Бэйкер, Джон Е.Брайан, Пьер-Луи Гарнон,  ...   \n",
       "3446  Нетворг Айлэнд Телевижн, Магнетфильм, Шорткатс...   \n",
       "3514                                ООО \"Лига Продакшн\"   \n",
       "3585           ООО Студия \"АНИМАККОРД\", АНИМАККОРД ЛТД.   \n",
       "3786                Селиверстов Александр Александрович   \n",
       "3948                ООО \"ЮНАЙТЕД МУЛЬТИМЕДИА ПРОДЖЕКТС\"   \n",
       "5332                                   Афтер Дарк Филмз   \n",
       "5455  ЗАО \"Производственный комплекс \"ГЛАВКИНО\", ООО...   \n",
       "5821    Дарк Прекёрсор Продакшен, Филмиран, Хедейт Филм   \n",
       "5910                         ООО \"Компания \"Новые люди\"   \n",
       "6426                          ООО Кинокомпания \"Вектор\"   \n",
       "6616                  ИП Вайсман Анатолий Александрович   \n",
       "6737                                    ООО \"БестМедиа\"   \n",
       "6882                       ООО \"Кинопрограмма \"XXI век\"   \n",
       "7159                                          ООО \"РТВ\"   \n",
       "7277  Блумхаус Продакшнз, Хайд Парк Интертейнмент, Т...   \n",
       "\n",
       "                                     production_country  \\\n",
       "259                                Аргентина - Бразилия   \n",
       "811                                              Россия   \n",
       "1053                                          Швейцария   \n",
       "1341                                             Россия   \n",
       "1805                                             Россия   \n",
       "1874  Нидерланды - США - Германия - Канада - Франция...   \n",
       "1899                                                США   \n",
       "2126                                             Россия   \n",
       "2146                                             Россия   \n",
       "2438                                             Россия   \n",
       "2680                                             Россия   \n",
       "3139                                             Россия   \n",
       "3431                               Республика Казахстан   \n",
       "3439                       США - Пуэрто-Рико - Франция    \n",
       "3446  Великобритания - Аргентина - США - Франция - Р...   \n",
       "3514                  Россия, Грузия, Хорватия, Испания   \n",
       "3585                            Россия, Республика Кипр   \n",
       "3786                                             Россия   \n",
       "3948                                             Россия   \n",
       "5332                                                США   \n",
       "5455                                             Россия   \n",
       "5821                                               Иран   \n",
       "5910                                             Россия   \n",
       "6426                                             Россия   \n",
       "6616                                             Россия   \n",
       "6737                                             Россия   \n",
       "6882                                             Россия   \n",
       "7159                                             Россия   \n",
       "7277                                                США   \n",
       "\n",
       "                                               director  \\\n",
       "259                                       Эктор Бабенко   \n",
       "811                                            О.Лопато   \n",
       "1053                                        Питер Луизи   \n",
       "1341                                          Е.Шиляева   \n",
       "1805                                           А.Волгин   \n",
       "1874  Мэтью Аувро, Лео Брайдл, Бен Бренд, Ден Кларк,...   \n",
       "1899                                       Кеннет Брана   \n",
       "2126                                 М.Косырев-Нестеров   \n",
       "2146                                             Ю.Кара   \n",
       "2438                                        А.Стреляная   \n",
       "2680                                           Ю.Грымов   \n",
       "3139                  Н.Степанова при участии С.Иванова   \n",
       "3431                                     Аскар Бисембин   \n",
       "3439  М.Бэйкер, Д.Е.Брайант, Д.Рондот, Я.Серсар, Д.С...   \n",
       "3446  Д.Адар, П.Антохин, М.Биасин, А.Бурунова, К.Кол...   \n",
       "3514                                       Р.Глурджидзе   \n",
       "3585                                         Д.Червяцов   \n",
       "3786                                      А.Селиверстов   \n",
       "3948                                        И.Ромащенко   \n",
       "5332                                    Патрик Сиверсен   \n",
       "5455                                          А.Мигачев   \n",
       "5821                                        Мани Хагиги   \n",
       "5910                                           Д.Шабаев   \n",
       "6426                             Н.Иванова, А.Кузнецова   \n",
       "6616  А.Сазонов, Е.Климович, А.Коломеец, С.Черникова...   \n",
       "6737                                         Б.Куломзин   \n",
       "6882                                         Т.Мирошник   \n",
       "7159                                           Ю.Грымов   \n",
       "7277                                       Франк Халфун   \n",
       "\n",
       "                                               producer  \\\n",
       "259            Эктор Бабенко, Оскар Крамер, Хуго Сидмэн   \n",
       "811                 Г.Нерсисян, А.Манасарян, А.Нерсесян   \n",
       "1053                           Дэвид Луизи, Питер Луизи   \n",
       "1341                                        К.Терещенко   \n",
       "1805                                         Е.Ковалева   \n",
       "1874  Мэри Пэт Бентел, Бен Бренд, Сиара Гиллан, Джор...   \n",
       "1899       Дэвид Бэррон, Саймон Кинберг, Эллисон Ширмур   \n",
       "2126                                 М.Косырев-Нестеров   \n",
       "2146                                             Ю.Кара   \n",
       "2438                           А.Котелевский, Э.Пичугин   \n",
       "2680                                          П.Поляков   \n",
       "3139                          С.Кикнавелидзе, Д.Улюкаев   \n",
       "3431                 Олег Головашкин, Алмас Султангазин   \n",
       "3439  М.Бэйкер, Д.Е.Брайан, П.-Л.Гарнон, М.Х.Дельгад...   \n",
       "3446  Д.Адар, Д.Амсон, П.Антохин, А.Армстронг, С.Бил...   \n",
       "3514        З.Магалашвили, К.Гечмен-Вальдек, Н.Горшкова   \n",
       "3585                              Д.Ловейко, О.Кузовков   \n",
       "3786                 Е.Тарковская, Т.Лагода, Д.Степанян   \n",
       "3948                                     Р.Атамалибеков   \n",
       "5332                        Закари Ти Брайан, Кристофер   \n",
       "5455                                          И.Бачурин   \n",
       "5821                                        Мани Хагиги   \n",
       "5910                                        Н.Мокрицкая   \n",
       "6426                                        В.Коханович   \n",
       "6616  Д.Руюежин, Л.Пятницкая, Д.Колеров, Э.Ким, А.Хомич   \n",
       "6737                                         Б.Куломзин   \n",
       "6882                               В.Есинов, Е.Калинина   \n",
       "7159                                           Ю.Грымов   \n",
       "7277         Ашок Амритрадж, Джейсон Блум, Трэвис Клафф   \n",
       "\n",
       "                             age_restriction  refundable_support  \\\n",
       "259          «16+» - для детей старше 16 лет                 NaN   \n",
       "811          «12+» - для детей старше 12 лет                 NaN   \n",
       "1053         «16+» - для детей старше 16 лет                 NaN   \n",
       "1341           «6+» - для детей старше 6 лет                 NaN   \n",
       "1805         «12+» - для детей старше 12 лет                 NaN   \n",
       "1874             «18+» - запрещено для детей                 NaN   \n",
       "1899           «6+» - для детей старше 6 лет                 NaN   \n",
       "2126         «16+» - для детей старше 16 лет                 NaN   \n",
       "2146           «6+» - для детей старше 6 лет                 0.0   \n",
       "2438           «6+» - для детей старше 6 лет                 NaN   \n",
       "2680           «6+» - для детей старше 6 лет                 NaN   \n",
       "3139         «16+» - для детей старше 16 лет                 0.0   \n",
       "3431         «12+» - для детей старше 12 лет                 NaN   \n",
       "3439             «18+» - запрещено для детей                 NaN   \n",
       "3446             «18+» - запрещено для детей                 NaN   \n",
       "3514         «12+» - для детей старше 12 лет                 NaN   \n",
       "3585  «0+» - для любой зрительской аудитории                 NaN   \n",
       "3786         «16+» - для детей старше 16 лет                 NaN   \n",
       "3948         «16+» - для детей старше 16 лет                 NaN   \n",
       "5332             «18+» - запрещено для детей                 NaN   \n",
       "5455             «18+» - запрещено для детей                 NaN   \n",
       "5821             «18+» - запрещено для детей                 NaN   \n",
       "5910             «18+» - запрещено для детей                 NaN   \n",
       "6426         «12+» - для детей старше 12 лет                 NaN   \n",
       "6616         «12+» - для детей старше 12 лет                 NaN   \n",
       "6737           «6+» - для детей старше 6 лет                 NaN   \n",
       "6882  «0+» - для любой зрительской аудитории                 NaN   \n",
       "7159         «16+» - для детей старше 16 лет                 NaN   \n",
       "7277         «16+» - для детей старше 16 лет                 NaN   \n",
       "\n",
       "      nonrefundable_support      budget       financing_source ratings  \\\n",
       "259                     NaN         NaN                    NaN     99%   \n",
       "811                     NaN         NaN                    NaN     28%   \n",
       "1053                    NaN         NaN                    NaN     97%   \n",
       "1341                    NaN         NaN                    NaN     99%   \n",
       "1805                    NaN         NaN                    NaN     99%   \n",
       "1874                    NaN         NaN                    NaN     83%   \n",
       "1899                    NaN         NaN                    NaN     64%   \n",
       "2126                    NaN         NaN                    NaN     91%   \n",
       "2146             10000000.0  40000000.0  Министерство культуры     94%   \n",
       "2438                    NaN         NaN                    NaN     62%   \n",
       "2680                    NaN         NaN                    NaN     79%   \n",
       "3139              4700000.0  14462464.0  Министерство культуры     90%   \n",
       "3431                    NaN         NaN                    NaN     19%   \n",
       "3439                    NaN         NaN                    NaN     88%   \n",
       "3446                    NaN         NaN                    NaN     83%   \n",
       "3514                    NaN         NaN                    NaN     91%   \n",
       "3585                    NaN         NaN                    NaN     97%   \n",
       "3786                    NaN         NaN                    NaN     89%   \n",
       "3948                    NaN         NaN                    NaN     97%   \n",
       "5332                    NaN         NaN                    NaN     88%   \n",
       "5455                    NaN         NaN                    NaN     83%   \n",
       "5821                    NaN         NaN                    NaN     94%   \n",
       "5910                    NaN         NaN                    NaN     94%   \n",
       "6426                    NaN         NaN                    NaN     91%   \n",
       "6616                    NaN         NaN                    NaN     98%   \n",
       "6737                    NaN         NaN                    NaN     98%   \n",
       "6882                    NaN         NaN                    NaN     99%   \n",
       "7159                    NaN         NaN                    NaN     79%   \n",
       "7277                    NaN         NaN                    NaN     88%   \n",
       "\n",
       "                           genres    box_office  \n",
       "259           ужасы,триллер,драма           NaN  \n",
       "811   детский,приключения,комедия  1.740000e+03  \n",
       "1053     ужасы,фантастика,фэнтези           NaN  \n",
       "1341       триллер,драма,детектив           NaN  \n",
       "1805       аниме,мультфильм,ужасы  4.295000e+03  \n",
       "1874                          NaN  1.429859e+06  \n",
       "1899     мюзикл,фэнтези,мелодрама  5.287326e+08  \n",
       "2126               драма,семейный  0.000000e+00  \n",
       "2146    фантастика,боевик,комедия  3.347500e+05  \n",
       "2438             фэнтези,семейный           NaN  \n",
       "2680                     семейный           NaN  \n",
       "3139                        драма  8.013700e+05  \n",
       "3431                      комедия  3.796000e+04  \n",
       "3439                          NaN  1.025937e+06  \n",
       "3446                          NaN  2.266408e+06  \n",
       "3514                        драма           NaN  \n",
       "3585     мультфильм,ужасы,фэнтези           NaN  \n",
       "3786    фантастика,комедия,боевик  8.284000e+04  \n",
       "3948  приключения,комедия,фэнтези           NaN  \n",
       "5332    фантастика,боевик,триллер           NaN  \n",
       "5455       фэнтези,боевик,триллер           NaN  \n",
       "5821                триллер,драма  1.587222e+06  \n",
       "5910                        драма           NaN  \n",
       "6426              драма,биография           NaN  \n",
       "6616            фантастика,боевик           NaN  \n",
       "6737          фэнтези,приключения  3.499200e+04  \n",
       "6882               криминал,драма           NaN  \n",
       "7159                        драма  1.828825e+05  \n",
       "7277    фантастика,боевик,триллер  4.416590e+06  "
      ]
     },
     "execution_count": 14,
     "metadata": {},
     "output_type": "execute_result"
    }
   ],
   "source": [
    "_wrong_raitings = mkrf_movies_show[mkrf_movies_show['ratings'].str.contains('[^0-9.]').fillna(False)]\n",
    "_wrong_raitings"
   ]
  },
  {
   "cell_type": "markdown",
   "metadata": {},
   "source": [
    "Видно, что данные в процентах. Необходимо перевести их в баллы с цифрой и точкой"
   ]
  },
  {
   "cell_type": "code",
   "execution_count": 15,
   "metadata": {},
   "outputs": [
    {
     "data": {
      "text/plain": [
       "min    1.0\n",
       "max    9.9\n",
       "Name: ratings, dtype: float64"
      ]
     },
     "execution_count": 15,
     "metadata": {},
     "output_type": "execute_result"
    }
   ],
   "source": [
    "mkrf_movies_show.loc[_wrong_raitings.index, 'ratings'] = _wrong_raitings['ratings'].str[0] + '.' + \\\n",
    "_wrong_raitings['ratings'].str[1]\n",
    "\n",
    "mkrf_movies_show['ratings'] = pd.to_numeric(mkrf_movies_show['ratings'])\n",
    "\n",
    "mkrf_movies_show['ratings'].describe()[['min', 'max']]"
   ]
  },
  {
   "cell_type": "markdown",
   "metadata": {
    "id": "i0MOLbF-gFyP"
   },
   "source": [
    "#### Шаг 2.2. Изучите пропуски в датафрейме\n",
    "\n",
    "- Объясните, почему заполнили пропуски определённым образом или почему не стали этого делать."
   ]
  },
  {
   "cell_type": "code",
   "execution_count": 16,
   "metadata": {
    "scrolled": true
   },
   "outputs": [
    {
     "data": {
      "text/plain": [
       "title                    0.000000\n",
       "puNumber                 0.000000\n",
       "show_start_date          0.000000\n",
       "type                     0.000000\n",
       "film_studio              0.002404\n",
       "production_country       0.000267\n",
       "director                 0.001202\n",
       "producer                 0.075875\n",
       "age_restriction          0.000000\n",
       "refundable_support       0.955651\n",
       "nonrefundable_support    0.955651\n",
       "budget                   0.955651\n",
       "financing_source         0.955651\n",
       "ratings                  0.129174\n",
       "genres                   0.130377\n",
       "box_office               0.578146\n",
       "dtype: float64"
      ]
     },
     "execution_count": 16,
     "metadata": {},
     "output_type": "execute_result"
    }
   ],
   "source": [
    "mkrf_movies_show.isna().mean()"
   ]
  },
  {
   "cell_type": "markdown",
   "metadata": {},
   "source": [
    "Из таблицы выше следует:\n",
    "1. Пропущенные данные в столбце film_studio составляют менее 1%, поэтому их можно не заменять, а просто удалить;\n",
    "2. Пропущенные данные в столбце production_country составляют менее 1%, поэтому их можно не заменять, а просто удалить;\n",
    "3. Пропущенные данные в столбце director составляют менее 1%, поэтому их можно не заменять, а просто удалить;\n",
    "4. Пропущенные данные в столбце producer составляют около 8%, это большое количество данных, поэтому просто удалить их нельзя. Логически заменить не получиться. Оставляем пропуски;\n",
    "5. Пропущенные данные в столбцах refundable_support, nonrefundable_support, budget и financing_source составляют около 96%. В этих столбцах данные пропущены, т.к. только около 4% фильмов из исходных данных имеют господдержку. Логически заменить не получится. Оставляем пропуски;\n",
    "6. Пропущенные данные в столбце ratings составляют около 13%. В этом столбце данные пропущены, т.к. у этих фильмов отсутствуют рейтинги на Кинопоиске. Логически заменить не получится. Оставляем пропуски;\n",
    "7. Пропущенные данные в столбце genres составляют около 13%, это большое количество данных, поэтому просто удалить их нельзя. Логически заменить не получиться. Оставляем пропуски;\n",
    "8. Пропущенные данные в столбце box_office составляют около 58%. В этом столбце данные пропущены, т.к. имеются данные только по фильмам, которые показывали в российских кинотеатрах. Логически заменить не получиться. Оставляем пропуски."
   ]
  },
  {
   "cell_type": "code",
   "execution_count": 17,
   "metadata": {
    "scrolled": true
   },
   "outputs": [],
   "source": [
    "mkrf_movies_show = mkrf_movies_show.dropna(subset=['film_studio', 'production_country', 'director'])"
   ]
  },
  {
   "cell_type": "markdown",
   "metadata": {
    "id": "4c6k1t9ygFyQ"
   },
   "source": [
    "#### Шаг 2.3. Изучите дубликаты в датафрейме\n",
    "- Проверьте, есть ли в данных дубликаты. Опишите причины, которые могли повлиять на появление дублей."
   ]
  },
  {
   "cell_type": "code",
   "execution_count": 18,
   "metadata": {
    "id": "aKck8RIdgFyQ",
    "scrolled": true
   },
   "outputs": [
    {
     "data": {
      "text/plain": [
       "713"
      ]
     },
     "execution_count": 18,
     "metadata": {},
     "output_type": "execute_result"
    }
   ],
   "source": [
    "mkrf_movies_show['title'].duplicated().sum()"
   ]
  },
  {
   "cell_type": "markdown",
   "metadata": {},
   "source": [
    "Проверку дубликатов осуществим по столбцу title. Из проверки видно, что количество дубликатов в данных 713. Это составляет около 10% от всех данных. Проверим данные по столбцу show_start_date."
   ]
  },
  {
   "cell_type": "code",
   "execution_count": 19,
   "metadata": {
    "scrolled": true
   },
   "outputs": [
    {
     "data": {
      "text/html": [
       "<div>\n",
       "<style scoped>\n",
       "    .dataframe tbody tr th:only-of-type {\n",
       "        vertical-align: middle;\n",
       "    }\n",
       "\n",
       "    .dataframe tbody tr th {\n",
       "        vertical-align: top;\n",
       "    }\n",
       "\n",
       "    .dataframe thead th {\n",
       "        text-align: right;\n",
       "    }\n",
       "</style>\n",
       "<table border=\"1\" class=\"dataframe\">\n",
       "  <thead>\n",
       "    <tr style=\"text-align: right;\">\n",
       "      <th></th>\n",
       "      <th>title</th>\n",
       "      <th>puNumber</th>\n",
       "      <th>show_start_date</th>\n",
       "      <th>type</th>\n",
       "      <th>film_studio</th>\n",
       "      <th>production_country</th>\n",
       "      <th>director</th>\n",
       "      <th>producer</th>\n",
       "      <th>age_restriction</th>\n",
       "      <th>refundable_support</th>\n",
       "      <th>nonrefundable_support</th>\n",
       "      <th>budget</th>\n",
       "      <th>financing_source</th>\n",
       "      <th>ratings</th>\n",
       "      <th>genres</th>\n",
       "      <th>box_office</th>\n",
       "    </tr>\n",
       "  </thead>\n",
       "  <tbody>\n",
       "    <tr>\n",
       "      <th>3</th>\n",
       "      <td>Особо опасен</td>\n",
       "      <td>221026916</td>\n",
       "      <td>2016-06-10 12:00:00+00:00</td>\n",
       "      <td>Художественный</td>\n",
       "      <td>Юниверсал Пикчерз, Кикстарт Продакшнз, Марк Пл...</td>\n",
       "      <td>США</td>\n",
       "      <td>Тимур Бекмамбетов</td>\n",
       "      <td>Джим Лемли, Джейсон Нетер, Марк Е.Платт, Яйн Смит</td>\n",
       "      <td>«18+» - запрещено для детей</td>\n",
       "      <td>NaN</td>\n",
       "      <td>NaN</td>\n",
       "      <td>NaN</td>\n",
       "      <td>NaN</td>\n",
       "      <td>6.8</td>\n",
       "      <td>фантастика,боевик,триллер</td>\n",
       "      <td>NaN</td>\n",
       "    </tr>\n",
       "    <tr>\n",
       "      <th>4</th>\n",
       "      <td>Особо опасен</td>\n",
       "      <td>221030815</td>\n",
       "      <td>2015-07-29 12:00:00+00:00</td>\n",
       "      <td>Художественный</td>\n",
       "      <td>Юниверсал Пикчерз, Кикстарт Продакшнз, Марк Пл...</td>\n",
       "      <td>США</td>\n",
       "      <td>Тимур Бекмамбетов</td>\n",
       "      <td>Джим Лемли, Джейсон Нетер, Марк Е.Платт, Яйн Смит</td>\n",
       "      <td>«18+» - запрещено для детей</td>\n",
       "      <td>NaN</td>\n",
       "      <td>NaN</td>\n",
       "      <td>NaN</td>\n",
       "      <td>NaN</td>\n",
       "      <td>6.8</td>\n",
       "      <td>фантастика,боевик,триллер</td>\n",
       "      <td>NaN</td>\n",
       "    </tr>\n",
       "    <tr>\n",
       "      <th>41</th>\n",
       "      <td>Алекс и Эмма</td>\n",
       "      <td>221004616</td>\n",
       "      <td>2016-02-09 12:00:00+00:00</td>\n",
       "      <td>Художественный</td>\n",
       "      <td>Эскейп Артистс, Франчайз Пикчерз, Рейнер-Грэйс...</td>\n",
       "      <td>США</td>\n",
       "      <td>Роб Райнер</td>\n",
       "      <td>Тодд Блэк, Элан Грейсман, Джереми Левен, Роб Р...</td>\n",
       "      <td>«16+» - для детей старше 16 лет</td>\n",
       "      <td>NaN</td>\n",
       "      <td>NaN</td>\n",
       "      <td>NaN</td>\n",
       "      <td>NaN</td>\n",
       "      <td>6.4</td>\n",
       "      <td>мелодрама,комедия</td>\n",
       "      <td>NaN</td>\n",
       "    </tr>\n",
       "    <tr>\n",
       "      <th>110</th>\n",
       "      <td>Гарри Поттер и орден Феникса /По роману Дж.К.Р...</td>\n",
       "      <td>121026316</td>\n",
       "      <td>2016-09-23 12:00:00+00:00</td>\n",
       "      <td>Художественный</td>\n",
       "      <td>Уорнер Бразерс, Хэйдей Филмз</td>\n",
       "      <td>США - Великобритания</td>\n",
       "      <td>Дэвид Йетс</td>\n",
       "      <td>Дэйвид Баррон, Дэйвид Хейман</td>\n",
       "      <td>«16+» - для детей старше 16 лет</td>\n",
       "      <td>NaN</td>\n",
       "      <td>NaN</td>\n",
       "      <td>NaN</td>\n",
       "      <td>NaN</td>\n",
       "      <td>7.7</td>\n",
       "      <td>фэнтези,приключения,семейный</td>\n",
       "      <td>759526.00</td>\n",
       "    </tr>\n",
       "    <tr>\n",
       "      <th>113</th>\n",
       "      <td>Гарри Поттер и узник Азкабана /По роману Дж.К....</td>\n",
       "      <td>121026116</td>\n",
       "      <td>2016-09-23 12:00:00+00:00</td>\n",
       "      <td>Художественный</td>\n",
       "      <td>Хэйдей Филмз, 1492 Пикчерз, Уорнер Бразерс</td>\n",
       "      <td>США</td>\n",
       "      <td>Альфонсо Куарон</td>\n",
       "      <td>Майкл Барната</td>\n",
       "      <td>«12+» - для детей старше 12 лет</td>\n",
       "      <td>NaN</td>\n",
       "      <td>NaN</td>\n",
       "      <td>NaN</td>\n",
       "      <td>NaN</td>\n",
       "      <td>8.2</td>\n",
       "      <td>фэнтези,приключения,семейный</td>\n",
       "      <td>1125302.00</td>\n",
       "    </tr>\n",
       "    <tr>\n",
       "      <th>...</th>\n",
       "      <td>...</td>\n",
       "      <td>...</td>\n",
       "      <td>...</td>\n",
       "      <td>...</td>\n",
       "      <td>...</td>\n",
       "      <td>...</td>\n",
       "      <td>...</td>\n",
       "      <td>...</td>\n",
       "      <td>...</td>\n",
       "      <td>...</td>\n",
       "      <td>...</td>\n",
       "      <td>...</td>\n",
       "      <td>...</td>\n",
       "      <td>...</td>\n",
       "      <td>...</td>\n",
       "      <td>...</td>\n",
       "    </tr>\n",
       "    <tr>\n",
       "      <th>7369</th>\n",
       "      <td>Невиновен</td>\n",
       "      <td>111019319</td>\n",
       "      <td>2019-11-07 12:00:00+00:00</td>\n",
       "      <td>Художественный</td>\n",
       "      <td>ООО \"Кавказфильм\"</td>\n",
       "      <td>Россия</td>\n",
       "      <td>А.Емкужев</td>\n",
       "      <td>А.Емкужев, А.Хуажева, ООО \"Корпорация Русская ...</td>\n",
       "      <td>«16+» - для детей старше 16 лет</td>\n",
       "      <td>NaN</td>\n",
       "      <td>NaN</td>\n",
       "      <td>NaN</td>\n",
       "      <td>NaN</td>\n",
       "      <td>7.5</td>\n",
       "      <td>триллер,детектив,криминал</td>\n",
       "      <td>NaN</td>\n",
       "    </tr>\n",
       "    <tr>\n",
       "      <th>7416</th>\n",
       "      <td>Отель \"Гранд Будапешт\"</td>\n",
       "      <td>121035119</td>\n",
       "      <td>2019-12-13 12:00:00+00:00</td>\n",
       "      <td>Художественный</td>\n",
       "      <td>Американ Эмпирикал, Индиан Пэинтбраш, Скотт Ру...</td>\n",
       "      <td>Германия, США</td>\n",
       "      <td>Уэс Андерсен</td>\n",
       "      <td>Уэс Андерсон, Джереми Доусон, Стивен Рейлс</td>\n",
       "      <td>«16+» - для детей старше 16 лет</td>\n",
       "      <td>NaN</td>\n",
       "      <td>NaN</td>\n",
       "      <td>NaN</td>\n",
       "      <td>NaN</td>\n",
       "      <td>7.9</td>\n",
       "      <td>комедия,приключения,детектив</td>\n",
       "      <td>NaN</td>\n",
       "    </tr>\n",
       "    <tr>\n",
       "      <th>7438</th>\n",
       "      <td>Зверь</td>\n",
       "      <td>121035919</td>\n",
       "      <td>2019-12-05 12:00:00+00:00</td>\n",
       "      <td>Художественный</td>\n",
       "      <td>Студио энд Нью</td>\n",
       "      <td>Южная Корея</td>\n",
       "      <td>Ли Джон-хо</td>\n",
       "      <td>Чан Гён-ик, Чон Джи-хун, Пэк Кён сук</td>\n",
       "      <td>«18+» - запрещено для детей</td>\n",
       "      <td>NaN</td>\n",
       "      <td>NaN</td>\n",
       "      <td>NaN</td>\n",
       "      <td>NaN</td>\n",
       "      <td>6.5</td>\n",
       "      <td>триллер,драма</td>\n",
       "      <td>175003.51</td>\n",
       "    </tr>\n",
       "    <tr>\n",
       "      <th>7450</th>\n",
       "      <td>В тихом омуте</td>\n",
       "      <td>121036919</td>\n",
       "      <td>2019-12-09 12:00:00+00:00</td>\n",
       "      <td>Художественный</td>\n",
       "      <td>Хэд Гир Филмз, Крео Филмз, Локал Хироу, Метрол...</td>\n",
       "      <td>США</td>\n",
       "      <td>Адам Рэндолл</td>\n",
       "      <td>Мэтт Уолдек</td>\n",
       "      <td>«18+» - запрещено для детей</td>\n",
       "      <td>NaN</td>\n",
       "      <td>NaN</td>\n",
       "      <td>NaN</td>\n",
       "      <td>NaN</td>\n",
       "      <td>6.8</td>\n",
       "      <td>триллер,криминал,детектив</td>\n",
       "      <td>NaN</td>\n",
       "    </tr>\n",
       "    <tr>\n",
       "      <th>7474</th>\n",
       "      <td>Вторжение</td>\n",
       "      <td>111022519</td>\n",
       "      <td>2019-12-23 12:00:00+00:00</td>\n",
       "      <td>Художественный</td>\n",
       "      <td>ООО \"Арт Пикчерс Студия\", ООО \"Водород 2011\"</td>\n",
       "      <td>Россия</td>\n",
       "      <td>Ф.Бондарчук</td>\n",
       "      <td>Ф.Бондарчук, М.Врубель, А.Андрющенко, Д.Рудовский</td>\n",
       "      <td>«12+» - для детей старше 12 лет</td>\n",
       "      <td>100000000.0</td>\n",
       "      <td>400000000.0</td>\n",
       "      <td>944000000.0</td>\n",
       "      <td>Фонд кино</td>\n",
       "      <td>5.7</td>\n",
       "      <td>фантастика,боевик</td>\n",
       "      <td>NaN</td>\n",
       "    </tr>\n",
       "  </tbody>\n",
       "</table>\n",
       "<p>713 rows × 16 columns</p>\n",
       "</div>"
      ],
      "text/plain": [
       "                                                  title   puNumber  \\\n",
       "3                                          Особо опасен  221026916   \n",
       "4                                          Особо опасен  221030815   \n",
       "41                                         Алекс и Эмма  221004616   \n",
       "110   Гарри Поттер и орден Феникса /По роману Дж.К.Р...  121026316   \n",
       "113   Гарри Поттер и узник Азкабана /По роману Дж.К....  121026116   \n",
       "...                                                 ...        ...   \n",
       "7369                                          Невиновен  111019319   \n",
       "7416                             Отель \"Гранд Будапешт\"  121035119   \n",
       "7438                                              Зверь  121035919   \n",
       "7450                                      В тихом омуте  121036919   \n",
       "7474                                          Вторжение  111022519   \n",
       "\n",
       "               show_start_date             type  \\\n",
       "3    2016-06-10 12:00:00+00:00   Художественный   \n",
       "4    2015-07-29 12:00:00+00:00   Художественный   \n",
       "41   2016-02-09 12:00:00+00:00   Художественный   \n",
       "110  2016-09-23 12:00:00+00:00   Художественный   \n",
       "113  2016-09-23 12:00:00+00:00   Художественный   \n",
       "...                        ...              ...   \n",
       "7369 2019-11-07 12:00:00+00:00   Художественный   \n",
       "7416 2019-12-13 12:00:00+00:00   Художественный   \n",
       "7438 2019-12-05 12:00:00+00:00   Художественный   \n",
       "7450 2019-12-09 12:00:00+00:00   Художественный   \n",
       "7474 2019-12-23 12:00:00+00:00   Художественный   \n",
       "\n",
       "                                            film_studio    production_country  \\\n",
       "3     Юниверсал Пикчерз, Кикстарт Продакшнз, Марк Пл...                   США   \n",
       "4     Юниверсал Пикчерз, Кикстарт Продакшнз, Марк Пл...                   США   \n",
       "41    Эскейп Артистс, Франчайз Пикчерз, Рейнер-Грэйс...                   США   \n",
       "110                        Уорнер Бразерс, Хэйдей Филмз  США - Великобритания   \n",
       "113          Хэйдей Филмз, 1492 Пикчерз, Уорнер Бразерс                   США   \n",
       "...                                                 ...                   ...   \n",
       "7369                                  ООО \"Кавказфильм\"                Россия   \n",
       "7416  Американ Эмпирикал, Индиан Пэинтбраш, Скотт Ру...         Германия, США   \n",
       "7438                                     Студио энд Нью           Южная Корея   \n",
       "7450  Хэд Гир Филмз, Крео Филмз, Локал Хироу, Метрол...                   США   \n",
       "7474       ООО \"Арт Пикчерс Студия\", ООО \"Водород 2011\"                Россия   \n",
       "\n",
       "               director                                           producer  \\\n",
       "3     Тимур Бекмамбетов  Джим Лемли, Джейсон Нетер, Марк Е.Платт, Яйн Смит   \n",
       "4     Тимур Бекмамбетов  Джим Лемли, Джейсон Нетер, Марк Е.Платт, Яйн Смит   \n",
       "41           Роб Райнер  Тодд Блэк, Элан Грейсман, Джереми Левен, Роб Р...   \n",
       "110          Дэвид Йетс                       Дэйвид Баррон, Дэйвид Хейман   \n",
       "113     Альфонсо Куарон                                      Майкл Барната   \n",
       "...                 ...                                                ...   \n",
       "7369          А.Емкужев  А.Емкужев, А.Хуажева, ООО \"Корпорация Русская ...   \n",
       "7416       Уэс Андерсен         Уэс Андерсон, Джереми Доусон, Стивен Рейлс   \n",
       "7438         Ли Джон-хо               Чан Гён-ик, Чон Джи-хун, Пэк Кён сук   \n",
       "7450       Адам Рэндолл                                        Мэтт Уолдек   \n",
       "7474        Ф.Бондарчук  Ф.Бондарчук, М.Врубель, А.Андрющенко, Д.Рудовский   \n",
       "\n",
       "                      age_restriction  refundable_support  \\\n",
       "3         «18+» - запрещено для детей                 NaN   \n",
       "4         «18+» - запрещено для детей                 NaN   \n",
       "41    «16+» - для детей старше 16 лет                 NaN   \n",
       "110   «16+» - для детей старше 16 лет                 NaN   \n",
       "113   «12+» - для детей старше 12 лет                 NaN   \n",
       "...                               ...                 ...   \n",
       "7369  «16+» - для детей старше 16 лет                 NaN   \n",
       "7416  «16+» - для детей старше 16 лет                 NaN   \n",
       "7438      «18+» - запрещено для детей                 NaN   \n",
       "7450      «18+» - запрещено для детей                 NaN   \n",
       "7474  «12+» - для детей старше 12 лет         100000000.0   \n",
       "\n",
       "      nonrefundable_support       budget financing_source  ratings  \\\n",
       "3                       NaN          NaN              NaN      6.8   \n",
       "4                       NaN          NaN              NaN      6.8   \n",
       "41                      NaN          NaN              NaN      6.4   \n",
       "110                     NaN          NaN              NaN      7.7   \n",
       "113                     NaN          NaN              NaN      8.2   \n",
       "...                     ...          ...              ...      ...   \n",
       "7369                    NaN          NaN              NaN      7.5   \n",
       "7416                    NaN          NaN              NaN      7.9   \n",
       "7438                    NaN          NaN              NaN      6.5   \n",
       "7450                    NaN          NaN              NaN      6.8   \n",
       "7474            400000000.0  944000000.0        Фонд кино      5.7   \n",
       "\n",
       "                            genres  box_office  \n",
       "3        фантастика,боевик,триллер         NaN  \n",
       "4        фантастика,боевик,триллер         NaN  \n",
       "41               мелодрама,комедия         NaN  \n",
       "110   фэнтези,приключения,семейный   759526.00  \n",
       "113   фэнтези,приключения,семейный  1125302.00  \n",
       "...                            ...         ...  \n",
       "7369     триллер,детектив,криминал         NaN  \n",
       "7416  комедия,приключения,детектив         NaN  \n",
       "7438                 триллер,драма   175003.51  \n",
       "7450     триллер,криминал,детектив         NaN  \n",
       "7474             фантастика,боевик         NaN  \n",
       "\n",
       "[713 rows x 16 columns]"
      ]
     },
     "execution_count": 19,
     "metadata": {},
     "output_type": "execute_result"
    }
   ],
   "source": [
    "mkrf_movies_show[mkrf_movies_show.duplicated(['title'])]"
   ]
  },
  {
   "cell_type": "markdown",
   "metadata": {},
   "source": [
    "Из данных по столбцу show_start_date видно, что дубликаты получились из-за разных данных в этом столбце. Также видно, что сначала идут более поздние даты от даты проката (Пример: \"Особо опасен\" вышел в 2008 г. (данные с Кинопоиска), наиболее ближайшая дата к релизу находится в строке 4). Поэтому отсортируем данне по столбцу show_start_date, затем удалим дубликаты."
   ]
  },
  {
   "cell_type": "code",
   "execution_count": 20,
   "metadata": {},
   "outputs": [],
   "source": [
    "sorted_mkrf_movies_show = \\\n",
    "mkrf_movies_show.sort_values(by='show_start_date').drop_duplicates(subset='title').reset_index(drop=True)"
   ]
  },
  {
   "cell_type": "code",
   "execution_count": 21,
   "metadata": {
    "id": "aKck8RIdgFyQ",
    "scrolled": true
   },
   "outputs": [
    {
     "data": {
      "text/plain": [
       "0"
      ]
     },
     "execution_count": 21,
     "metadata": {},
     "output_type": "execute_result"
    }
   ],
   "source": [
    "sorted_mkrf_movies_show['title'].duplicated().sum()"
   ]
  },
  {
   "cell_type": "code",
   "execution_count": 22,
   "metadata": {
    "scrolled": false
   },
   "outputs": [
    {
     "name": "stdout",
     "output_type": "stream",
     "text": [
      "<class 'pandas.core.frame.DataFrame'>\n",
      "RangeIndex: 6746 entries, 0 to 6745\n",
      "Data columns (total 16 columns):\n",
      " #   Column                 Non-Null Count  Dtype              \n",
      "---  ------                 --------------  -----              \n",
      " 0   title                  6746 non-null   object             \n",
      " 1   puNumber               6746 non-null   int64              \n",
      " 2   show_start_date        6746 non-null   datetime64[ns, UTC]\n",
      " 3   type                   6746 non-null   object             \n",
      " 4   film_studio            6746 non-null   object             \n",
      " 5   production_country     6746 non-null   object             \n",
      " 6   director               6746 non-null   object             \n",
      " 7   producer               6191 non-null   object             \n",
      " 8   age_restriction        6746 non-null   object             \n",
      " 9   refundable_support     329 non-null    float64            \n",
      " 10  nonrefundable_support  329 non-null    float64            \n",
      " 11  budget                 329 non-null    float64            \n",
      " 12  financing_source       329 non-null    object             \n",
      " 13  ratings                5806 non-null   float64            \n",
      " 14  genres                 5797 non-null   object             \n",
      " 15  box_office             3101 non-null   float64            \n",
      "dtypes: datetime64[ns, UTC](1), float64(5), int64(1), object(9)\n",
      "memory usage: 843.4+ KB\n"
     ]
    }
   ],
   "source": [
    "sorted_mkrf_movies_show.info()"
   ]
  },
  {
   "cell_type": "code",
   "execution_count": 23,
   "metadata": {
    "id": "aKck8RIdgFyQ",
    "scrolled": true
   },
   "outputs": [
    {
     "data": {
      "text/plain": [
       "1"
      ]
     },
     "execution_count": 23,
     "metadata": {},
     "output_type": "execute_result"
    }
   ],
   "source": [
    "sorted_mkrf_movies_show['puNumber'].duplicated().sum()"
   ]
  },
  {
   "cell_type": "code",
   "execution_count": 24,
   "metadata": {
    "scrolled": true
   },
   "outputs": [
    {
     "data": {
      "text/html": [
       "<div>\n",
       "<style scoped>\n",
       "    .dataframe tbody tr th:only-of-type {\n",
       "        vertical-align: middle;\n",
       "    }\n",
       "\n",
       "    .dataframe tbody tr th {\n",
       "        vertical-align: top;\n",
       "    }\n",
       "\n",
       "    .dataframe thead th {\n",
       "        text-align: right;\n",
       "    }\n",
       "</style>\n",
       "<table border=\"1\" class=\"dataframe\">\n",
       "  <thead>\n",
       "    <tr style=\"text-align: right;\">\n",
       "      <th></th>\n",
       "      <th>title</th>\n",
       "      <th>puNumber</th>\n",
       "      <th>show_start_date</th>\n",
       "      <th>type</th>\n",
       "      <th>film_studio</th>\n",
       "      <th>production_country</th>\n",
       "      <th>director</th>\n",
       "      <th>producer</th>\n",
       "      <th>age_restriction</th>\n",
       "      <th>refundable_support</th>\n",
       "      <th>nonrefundable_support</th>\n",
       "      <th>budget</th>\n",
       "      <th>financing_source</th>\n",
       "      <th>ratings</th>\n",
       "      <th>genres</th>\n",
       "      <th>box_office</th>\n",
       "    </tr>\n",
       "  </thead>\n",
       "  <tbody>\n",
       "    <tr>\n",
       "      <th>294</th>\n",
       "      <td>Анализируй это!</td>\n",
       "      <td>221054410</td>\n",
       "      <td>2010-05-25 12:00:00+00:00</td>\n",
       "      <td>Художественный</td>\n",
       "      <td>Уорнер Бразерс, Вилладж Роудшоу Филмз ЛТД</td>\n",
       "      <td>США-Австралия</td>\n",
       "      <td>ХЭрольд Рэмис</td>\n",
       "      <td>Джейн Розенталь, Пола Уейнстейн</td>\n",
       "      <td>«16+» - для детей старше 16 лет</td>\n",
       "      <td>NaN</td>\n",
       "      <td>NaN</td>\n",
       "      <td>NaN</td>\n",
       "      <td>NaN</td>\n",
       "      <td>7.4</td>\n",
       "      <td>комедия,криминал</td>\n",
       "      <td>NaN</td>\n",
       "    </tr>\n",
       "  </tbody>\n",
       "</table>\n",
       "</div>"
      ],
      "text/plain": [
       "               title   puNumber           show_start_date            type  \\\n",
       "294  Анализируй это!  221054410 2010-05-25 12:00:00+00:00  Художественный   \n",
       "\n",
       "                                   film_studio production_country  \\\n",
       "294  Уорнер Бразерс, Вилладж Роудшоу Филмз ЛТД      США-Австралия   \n",
       "\n",
       "          director                         producer  \\\n",
       "294  ХЭрольд Рэмис  Джейн Розенталь, Пола Уейнстейн   \n",
       "\n",
       "                     age_restriction  refundable_support  \\\n",
       "294  «16+» - для детей старше 16 лет                 NaN   \n",
       "\n",
       "     nonrefundable_support  budget financing_source  ratings  \\\n",
       "294                    NaN     NaN              NaN      7.4   \n",
       "\n",
       "               genres  box_office  \n",
       "294  комедия,криминал         NaN  "
      ]
     },
     "execution_count": 24,
     "metadata": {},
     "output_type": "execute_result"
    }
   ],
   "source": [
    "sorted_mkrf_movies_show[sorted_mkrf_movies_show.duplicated(['puNumber'])]"
   ]
  },
  {
   "cell_type": "code",
   "execution_count": 25,
   "metadata": {
    "scrolled": true
   },
   "outputs": [
    {
     "data": {
      "text/html": [
       "<div>\n",
       "<style scoped>\n",
       "    .dataframe tbody tr th:only-of-type {\n",
       "        vertical-align: middle;\n",
       "    }\n",
       "\n",
       "    .dataframe tbody tr th {\n",
       "        vertical-align: top;\n",
       "    }\n",
       "\n",
       "    .dataframe thead th {\n",
       "        text-align: right;\n",
       "    }\n",
       "</style>\n",
       "<table border=\"1\" class=\"dataframe\">\n",
       "  <thead>\n",
       "    <tr style=\"text-align: right;\">\n",
       "      <th></th>\n",
       "      <th>title</th>\n",
       "      <th>puNumber</th>\n",
       "      <th>show_start_date</th>\n",
       "      <th>type</th>\n",
       "      <th>film_studio</th>\n",
       "      <th>production_country</th>\n",
       "      <th>director</th>\n",
       "      <th>producer</th>\n",
       "      <th>age_restriction</th>\n",
       "      <th>refundable_support</th>\n",
       "      <th>nonrefundable_support</th>\n",
       "      <th>budget</th>\n",
       "      <th>financing_source</th>\n",
       "      <th>ratings</th>\n",
       "      <th>genres</th>\n",
       "      <th>box_office</th>\n",
       "    </tr>\n",
       "  </thead>\n",
       "  <tbody>\n",
       "    <tr>\n",
       "      <th>293</th>\n",
       "      <td>Анализируй то!</td>\n",
       "      <td>221054410</td>\n",
       "      <td>2010-05-25 12:00:00+00:00</td>\n",
       "      <td>Художественный</td>\n",
       "      <td>Уорнер Бразерс, Виллидж Роадшоу Пикчерз, Эн-Пи...</td>\n",
       "      <td>США</td>\n",
       "      <td>Гарольд Реймис</td>\n",
       "      <td>Джейн Розенталь, Паул Уэйнстейн</td>\n",
       "      <td>«12+» - для детей старше 12 лет</td>\n",
       "      <td>NaN</td>\n",
       "      <td>NaN</td>\n",
       "      <td>NaN</td>\n",
       "      <td>NaN</td>\n",
       "      <td>6.8</td>\n",
       "      <td>комедия,криминал</td>\n",
       "      <td>NaN</td>\n",
       "    </tr>\n",
       "    <tr>\n",
       "      <th>294</th>\n",
       "      <td>Анализируй это!</td>\n",
       "      <td>221054410</td>\n",
       "      <td>2010-05-25 12:00:00+00:00</td>\n",
       "      <td>Художественный</td>\n",
       "      <td>Уорнер Бразерс, Вилладж Роудшоу Филмз ЛТД</td>\n",
       "      <td>США-Австралия</td>\n",
       "      <td>ХЭрольд Рэмис</td>\n",
       "      <td>Джейн Розенталь, Пола Уейнстейн</td>\n",
       "      <td>«16+» - для детей старше 16 лет</td>\n",
       "      <td>NaN</td>\n",
       "      <td>NaN</td>\n",
       "      <td>NaN</td>\n",
       "      <td>NaN</td>\n",
       "      <td>7.4</td>\n",
       "      <td>комедия,криминал</td>\n",
       "      <td>NaN</td>\n",
       "    </tr>\n",
       "  </tbody>\n",
       "</table>\n",
       "</div>"
      ],
      "text/plain": [
       "               title   puNumber           show_start_date            type  \\\n",
       "293   Анализируй то!  221054410 2010-05-25 12:00:00+00:00  Художественный   \n",
       "294  Анализируй это!  221054410 2010-05-25 12:00:00+00:00  Художественный   \n",
       "\n",
       "                                           film_studio production_country  \\\n",
       "293  Уорнер Бразерс, Виллидж Роадшоу Пикчерз, Эн-Пи...                США   \n",
       "294          Уорнер Бразерс, Вилладж Роудшоу Филмз ЛТД      США-Австралия   \n",
       "\n",
       "           director                         producer  \\\n",
       "293  Гарольд Реймис  Джейн Розенталь, Паул Уэйнстейн   \n",
       "294   ХЭрольд Рэмис  Джейн Розенталь, Пола Уейнстейн   \n",
       "\n",
       "                     age_restriction  refundable_support  \\\n",
       "293  «12+» - для детей старше 12 лет                 NaN   \n",
       "294  «16+» - для детей старше 16 лет                 NaN   \n",
       "\n",
       "     nonrefundable_support  budget financing_source  ratings  \\\n",
       "293                    NaN     NaN              NaN      6.8   \n",
       "294                    NaN     NaN              NaN      7.4   \n",
       "\n",
       "               genres  box_office  \n",
       "293  комедия,криминал         NaN  \n",
       "294  комедия,криминал         NaN  "
      ]
     },
     "execution_count": 25,
     "metadata": {},
     "output_type": "execute_result"
    }
   ],
   "source": [
    "sorted_mkrf_movies_show.loc[sorted_mkrf_movies_show['puNumber'] == 221054410]"
   ]
  },
  {
   "cell_type": "code",
   "execution_count": 26,
   "metadata": {},
   "outputs": [],
   "source": [
    "sorted_mkrf_movies_show = sorted_mkrf_movies_show.drop_duplicates(subset='puNumber').reset_index(drop=True)"
   ]
  },
  {
   "cell_type": "code",
   "execution_count": 27,
   "metadata": {
    "id": "aKck8RIdgFyQ",
    "scrolled": true
   },
   "outputs": [
    {
     "data": {
      "text/plain": [
       "0"
      ]
     },
     "execution_count": 27,
     "metadata": {},
     "output_type": "execute_result"
    }
   ],
   "source": [
    "sorted_mkrf_movies_show['puNumber'].duplicated().sum()"
   ]
  },
  {
   "cell_type": "code",
   "execution_count": 28,
   "metadata": {
    "id": "aKck8RIdgFyQ",
    "scrolled": true
   },
   "outputs": [
    {
     "data": {
      "text/plain": [
       "0"
      ]
     },
     "execution_count": 28,
     "metadata": {},
     "output_type": "execute_result"
    }
   ],
   "source": [
    "sorted_mkrf_movies_show.duplicated().sum()"
   ]
  },
  {
   "cell_type": "markdown",
   "metadata": {
    "id": "52fOPrEBgFyQ"
   },
   "source": [
    "#### Шаг 2.4. Изучите категориальные значения\n",
    "\n",
    "- Посмотрите, какая общая проблема встречается почти во всех категориальных столбцах;\n",
    "- Исправьте проблемные значения в поле `type`."
   ]
  },
  {
   "cell_type": "markdown",
   "metadata": {
    "id": "PnXKIVdFgFyR"
   },
   "source": [
    "##### Сделаем анализ данных во всех категориальных значениях, за исключением type."
   ]
  },
  {
   "cell_type": "markdown",
   "metadata": {
    "id": "PnXKIVdFgFyR"
   },
   "source": [
    "При анализе данных выше видно, что общей проблемой почти во всех категориальных столбцах является лишние пробелы. Уберём их."
   ]
  },
  {
   "cell_type": "code",
   "execution_count": 29,
   "metadata": {
    "scrolled": true
   },
   "outputs": [
    {
     "name": "stdout",
     "output_type": "stream",
     "text": [
      "уникальные значения в director\n",
      "   было 4770\n",
      "  стало 4760\n",
      "\n",
      "уникальные значения в producer\n",
      "   было 5285\n",
      "  стало 5269\n",
      "\n",
      "уникальные значения в film_studio\n",
      "   было 5440\n",
      "  стало 5412\n",
      "\n",
      "уникальные значения в production_country\n",
      "   было 943\n",
      "  стало 926\n",
      "\n",
      "уникальные значения в genres\n",
      "   было 741\n",
      "  стало 741\n",
      "\n"
     ]
    }
   ],
   "source": [
    "for column in ['director', 'producer', 'film_studio', 'production_country', 'genres']:\n",
    "    \n",
    "    print('уникальные значения в', column)\n",
    "    print('   было', sorted_mkrf_movies_show[column].nunique())\n",
    "    \n",
    "    sorted_mkrf_movies_show[column] = \\\n",
    "    sorted_mkrf_movies_show[column].dropna().apply(lambda x: ', '.join([x.strip() for x in x.split(',')]))\n",
    "    \n",
    "    print('  стало', sorted_mkrf_movies_show[column].nunique())\n",
    "    print()"
   ]
  },
  {
   "cell_type": "code",
   "execution_count": 30,
   "metadata": {},
   "outputs": [
    {
     "data": {
      "text/plain": [
       "array(['«16+» - для детей старше 16 лет',\n",
       "       '«0+» - для любой зрительской аудитории',\n",
       "       '«12+» - для детей старше 12 лет', '«18+» - запрещено для детей',\n",
       "       '«6+» - для детей старше 6 лет'], dtype=object)"
      ]
     },
     "execution_count": 30,
     "metadata": {},
     "output_type": "execute_result"
    }
   ],
   "source": [
    "sorted_mkrf_movies_show['age_restriction'].unique()"
   ]
  },
  {
   "cell_type": "code",
   "execution_count": 31,
   "metadata": {},
   "outputs": [
    {
     "data": {
      "text/plain": [
       "array([nan, 'Фонд кино', 'Министерство культуры',\n",
       "       'Министерство культуры, Фонд кино'], dtype=object)"
      ]
     },
     "execution_count": 31,
     "metadata": {},
     "output_type": "execute_result"
    }
   ],
   "source": [
    "sorted_mkrf_movies_show['financing_source'].unique()"
   ]
  },
  {
   "cell_type": "code",
   "execution_count": 32,
   "metadata": {},
   "outputs": [
    {
     "data": {
      "text/plain": [
       "array(['Алберт Хьюз, Эллен Хьюз', 'В.Ефремов, И.Ефремова, В.Лопач',\n",
       "       'Кевин МакДональд', ..., 'Л.Соломатина (Томилова)', 'А.Беляев',\n",
       "       'И.Трусов'], dtype=object)"
      ]
     },
     "execution_count": 32,
     "metadata": {},
     "output_type": "execute_result"
    }
   ],
   "source": [
    "sorted_mkrf_movies_show['director'].unique()"
   ]
  },
  {
   "cell_type": "code",
   "execution_count": 33,
   "metadata": {},
   "outputs": [
    {
     "data": {
      "text/plain": [
       "array(['Бродерик Джонсон, Джоэл Силвер', 'В.Бажин',\n",
       "       'Лиза Брайер, Андреа Колдервуд, Кристин Рупперт, Чарлз Стилл', ...,\n",
       "       'ВГИК', 'Л.Соломатина (Томилова)', 'Дженнифер Додж'], dtype=object)"
      ]
     },
     "execution_count": 33,
     "metadata": {},
     "output_type": "execute_result"
    }
   ],
   "source": [
    "sorted_mkrf_movies_show['producer'].unique()"
   ]
  },
  {
   "cell_type": "code",
   "execution_count": 34,
   "metadata": {},
   "outputs": [
    {
     "data": {
      "text/plain": [
       "array(['Элкон Интертейнмент, Силвер Пикчерз', 'ОАО \"Леннаучфильм\"',\n",
       "       'Дэ Эн А Филмз, Фокс Серчлайт Пикчерз, Филм Фо, Ковбой Филмз, Скоттиш Скрин, Стэйт Филмз, Татфилм, Ю Ка Филм Каунсил, ХХ век Фокс',\n",
       "       ..., 'Соломатина Людмила Леонидовна',\n",
       "       'Никелодеон Анимейшн Студиос, Спин Мастер',\n",
       "       'Анимаккорд Лтд., ООО Студия \"АНИМАККОРД\"'], dtype=object)"
      ]
     },
     "execution_count": 34,
     "metadata": {},
     "output_type": "execute_result"
    }
   ],
   "source": [
    "sorted_mkrf_movies_show['film_studio'].unique()"
   ]
  },
  {
   "cell_type": "code",
   "execution_count": 35,
   "metadata": {},
   "outputs": [
    {
     "data": {
      "text/plain": [
       "array(['США', 'Россия', 'Великобритания - США', 'СССР, Россия',\n",
       "       'США - Великобритания', 'США-Канада-Франция',\n",
       "       'США - Германия - Канада', 'США-Аргентина',\n",
       "       'США - Канада - Германия - Франция', 'Германия', 'Италия',\n",
       "       'Франция - Великобритания', 'США-Великобритания', 'Великобритания',\n",
       "       'США - Канада', 'Франция', 'СССР', 'США-Франция',\n",
       "       'Китай - Гонконг', 'Канада - Франция - Великобритания',\n",
       "       'Испания - Мексика', 'Россия-Казахстан', 'США - Австралия',\n",
       "       'Индия', 'Россия - Германия', 'Испания - Мальта',\n",
       "       'США-Великобритания-Франция', 'США - Германия',\n",
       "       'США - Франция - Испания - Великобритания',\n",
       "       'Германия-Франция-Великобритания', 'Россия-Италия', 'Эстония',\n",
       "       'Германия-Австрия-Франция-Италия', 'Испания', 'Испания - США',\n",
       "       'СССР - Италия', 'СССР - ГДР - Польша - Италия',\n",
       "       'Испания - Франция', 'Канада-Бразилия-Япония', 'Швеция',\n",
       "       'США - ОАЭ', 'Германия - Великобритания - Италия - Испания',\n",
       "       'Ирландия', 'США-Германия', 'Греция', 'Литва-Россия-Украина',\n",
       "       'Южная Корея', 'США - Новая Зеландия',\n",
       "       'Великобритания - Франция - США', 'США-Канада',\n",
       "       'Израиль-США-Франция', 'Великобритания - Австрия - Германия',\n",
       "       'Япония', 'Германия-Канада-Франция-Бельгия', 'США - Южная Корея',\n",
       "       'Украина', 'Италия-Франция', 'Германия - Италия - Франция',\n",
       "       'США-ОАЭ', 'Франция-Германия-Италия', 'Голландия',\n",
       "       'Канада-Великобритания', 'Франция - США',\n",
       "       'Германия - Дания - Норвегия', 'Дания - Германия', 'США - Франция',\n",
       "       'США-Австралия', 'Норвегия', 'Канада', 'США-Франция-Канада',\n",
       "       'США-Великобритания-Новая Зеландия', 'Россия - Польша',\n",
       "       'Дания - США', 'Франция-США', 'Китай', 'Великобритания-США',\n",
       "       'Россия-Польша', 'Австрия-Франция-Германия',\n",
       "       'Великобритания-Франция-Германия',\n",
       "       'Израиль - Франция - Великобритания - Германия',\n",
       "       'Великобритания - Франция - Италия',\n",
       "       'Франция-Германия-Великобритания', 'Франция - Италия',\n",
       "       'Россия - Германия - Швейцария', 'Германия-Израиль',\n",
       "       'Франция-Италия', 'КНР - Гонконг', 'Корея', 'США-Бельгия',\n",
       "       'Швейцария-Франция', 'Франция - Монако', 'США - Индия',\n",
       "       'Россия - Болгария', 'США-Италия-Греция', 'США-Индия',\n",
       "       'Швеция - Германия - Дания - Норвегия',\n",
       "       'США - Великобритания - Франция', 'Румыния', 'Россия-Германия',\n",
       "       'Франция-Испания-Швейцария', 'Грузия', 'Франция-Гонконг-Ирландия',\n",
       "       'США - Германия - Великобритания', 'Германия - Австрия',\n",
       "       'Мексика-Аргентина', 'Аргентина - Испания',\n",
       "       'Германия - США - Великобритания - Ирландия', 'Австрия',\n",
       "       'Бельгия - Франция',\n",
       "       'США-Япония-Германия-Великобритания-Нидерланды',\n",
       "       'США-Япония-Германия-Великобритания', 'Россия-Белоруссия',\n",
       "       'Канада-США', 'Франция-Россия-Румыния-Италия-Бельгия',\n",
       "       'Франция-Австралия', 'Франция - Испания - Тайвань', 'США-Испания',\n",
       "       'США-Гонконг-Китай', 'США-Южная Корея-Новая Зеландия',\n",
       "       'Великобритания-Венгрия', 'Швеция-Финляндия-Франция-Норвегия',\n",
       "       'США - Великобритания - Канада',\n",
       "       'Франция - Чехия - Великобритания', 'Франция - Германия',\n",
       "       'США - Новая Зеландия - Япония', 'Франция-Великобритания',\n",
       "       'США-Германия-Канада', 'Великобритания - Чехия - Франция - Италия',\n",
       "       'Япония-США-Франция', 'США - Хорватия - Босния-Герцеговина',\n",
       "       'Франция-Испания-Германия', 'Германия - Франция - Канада',\n",
       "       'США - Германия - Нидерланды', 'КНР', 'США - Мексика',\n",
       "       'США - Великобритания - Германия', 'Великобритания - Канада',\n",
       "       'Новая Зеландия', 'США-Канада-Австралия', 'США - Франция - Турция',\n",
       "       'Франция-Грузия-Германия-Россия-Украина-Бельгия', 'Нидерланды',\n",
       "       'Россия - США', 'Франция - Италия - Иран', 'Гонконг',\n",
       "       'США - Франция - Великобритания', 'Россия - Азербайджан',\n",
       "       'США-Канада-Италия', 'США-Германия-Австралия', 'Франция-Испания',\n",
       "       'США - Япония - Германия', 'Австралия-США', 'Испания-Мексика',\n",
       "       'США - Япония - Канада - Великобритания - Германия - Франция',\n",
       "       'США -Великобритания - Австралия', 'Дания',\n",
       "       'Россия-Украина-Германия', 'Германия-Кения',\n",
       "       'США - Испания - Франция - Великобритания', 'Финляндия',\n",
       "       'США-Китай', 'Нидерланды - Россия', 'Португалия',\n",
       "       'Бразилия - Канада - США', 'Германия - Великобритания - Австрия',\n",
       "       'Франция-Украина', 'Швеция-Франция', 'Германия-Украина-Нидерланды',\n",
       "       'Великобритания - Италия', 'Италия - Канада', 'Дания - Швеция',\n",
       "       'Аргентина', 'Мексика',\n",
       "       'Франция - Великобритания - Багамские острова - США',\n",
       "       'США-Германия-Великобритания', 'Германия - Китай',\n",
       "       'Республика Корея',\n",
       "       'Таиланд-Великобритания-Франция-Германия-Испания-Нидерланды',\n",
       "       'Нидерланды-Великобритания-Франция-Италия-Япония', 'Австралия',\n",
       "       'Франция - Великобритания - Нидерланды - Люксембург',\n",
       "       'Бельгия - Германия - Люксембург - Франция',\n",
       "       'Финляндия-Дания-Германия-Ирландия', 'Франция - Бельгия',\n",
       "       'США-Венгрия', 'Германия-Италия-Швейцария',\n",
       "       'Дания-Швеция-Франция-Германия', 'Италия-Швейцария',\n",
       "       'Франция - Греция', 'Франция-Аргентина', 'Бельгия',\n",
       "       'США - Бельгия', 'Германия - США', 'Казахстан',\n",
       "       'Великобритания - Израиль - Франция - Япония - США',\n",
       "       'Швейцария - Люксембург', 'Швейцария - Австрия', 'Польша',\n",
       "       'Германия-Франция-Великобритания-США', 'Канада - Италия',\n",
       "       'Литва - Венгрия', 'Япония-Великобритания',\n",
       "       'США - Объединенные Арабские Эмираты', 'США - Австралия - Мексика',\n",
       "       'Малайзия', 'Латвия - Россия', 'Франция - Италия - Швейцария',\n",
       "       'Германия - Нидерланды - ЮАР', 'США - Испания',\n",
       "       'Дания - Швеция - Великобритания - Франция - Германия - Нидерланды - Норвегия - Финляндия',\n",
       "       'Великобритания - Франция - Германия',\n",
       "       'Россия - Германия - Украина', 'Германия - Швейцария', 'Иран',\n",
       "       'США-Япония', 'Германия - Франция - Польша', 'Швейцария-Австрия',\n",
       "       'США - Германия - Франция - Великобритания - Канада',\n",
       "       'Франция-Великобритания - Германия',\n",
       "       'Норвегия - Швеция - Дания - Германия', 'Франция-Бельгия',\n",
       "       'Швейцария', 'Великобритания - Испания',\n",
       "       'Германия-Канада-Великобритания-Швейцария-Франция',\n",
       "       'Босния и Герцеговина - Франция - Великобритания - Германия - Словения - Бельгия - Сербия',\n",
       "       'США - ЮАР', 'Франция - Бельгия - Люксембург', 'США - Индия - ОАЭ',\n",
       "       'Германия-Италия- Шри-Ланка', 'Мексика - Чили', 'Бразилия', 'Чили',\n",
       "       'США-ЮАР', 'Великобритания-Австралия - США',\n",
       "       'Великобритания - Франция - Италия - США',\n",
       "       'США - Бразилия - Франция - Австралия - Великобритания - Германия',\n",
       "       'Германия-Австрия', 'Великобритания - Франция',\n",
       "       'Исландия-Ирландия-Германия', 'США - Венгрия - Великобритания',\n",
       "       'США - Великобритания - Канада - Швеция', 'Италия - Франция',\n",
       "       'Канада-ЮАР', 'Бельгия-Франция-Италия', 'Швеция-Франция-Дания',\n",
       "       'Мексика - Испания - Дания - США', 'США-Индонезия',\n",
       "       'Канада-Франция', 'Чехия - Германия', 'Германия - Франция',\n",
       "       'США-Нидерланды', 'Германия-Франция-Польша', 'Франция-Перу',\n",
       "       'Франция-Индия', 'Великобритания - Германия',\n",
       "       'США-Франция-Испания', 'США-Великобритания-Ирландия',\n",
       "       'Германия - Финляндия - Австралия', 'Франция - Россия',\n",
       "       'Португалия - Франция', 'Финляндия - Франция - Германия',\n",
       "       'США-Италия-Испания', 'Австрия-Германия-Франция',\n",
       "       'США - Сингапур - Малайзия - Индонезия',\n",
       "       'США - Швейцария - Франция', 'Швеция-Куба',\n",
       "       'Германия - Франция - Австрия', 'Гонконг - КНР', 'Израиль',\n",
       "       'Франция - Испания', 'США-Россия', 'Франция - Канада', 'ЮАР',\n",
       "       'Великобритания - Ирландия', 'Канада - Франция - Испания',\n",
       "       'Киргизия', 'США-Великобритания-Индия', 'США-Канада-Бельгия',\n",
       "       'Республика Узбекистан', 'Франция - Германия - Бельгия',\n",
       "       'США - Великобритания - Чехия', 'США - КНР',\n",
       "       'США - Франция - Великобритания - Бразилия',\n",
       "       'США - Германия - Гонконг - Сингапур',\n",
       "       'Великобритания - Франция - Бельгия - Италия',\n",
       "       'Бразилия - Германия - Порртугалия - Франция', 'Мексика - Франция',\n",
       "       'Финляндия - Австрия - Россия', 'Франция-Италия-Испания-Венгрия',\n",
       "       'Сербия - Словения - Хорватия - Черногория - Македония',\n",
       "       'Южная Корея - США', 'Румыния - Франция - Бельгия',\n",
       "       'Франция-Великобритания-Чехия',\n",
       "       'Гонконг - Сингапур - Таиланд - Великобритания',\n",
       "       'Канада - Южная Корея', 'Франция - Италия - Великобритания - США',\n",
       "       'Германия - Нидерланды - Беларусь - Россия - Латвия',\n",
       "       'Испания - США - Колумбия', 'Финляндия - Исландия - Швеция',\n",
       "       'Япония - Франция - США - Южная Корея - Турция',\n",
       "       'Франция - Люксембург - Германия - Бельгия - Швейцария - Великобритания',\n",
       "       'Мексика - Аргентина - Великобритания', 'Россия - Казахстан',\n",
       "       'Мексика - Франция - Нидерланды - Германия', 'Канада - США',\n",
       "       'Финляндия - Дания - Германия - Ирландия', 'Германия-США',\n",
       "       'Франция - Люксембург - Бельгия', 'Норвения', 'Испания - Канада',\n",
       "       'Франция - Канада - Бельгия', 'Греция - Германия - Франция',\n",
       "       'Испания - Куба', 'Великобритания - ЮАР', 'Турция', 'Канада - КНР',\n",
       "       'Испания - Канада - Япония',\n",
       "       'Бельгия - Люксембург - Франция - Швейцария',\n",
       "       'Дания - Швеция - Италия - Франция - Германия',\n",
       "       'Великобритания - Австрия - Франция - США', 'Республика Беларусь',\n",
       "       'Чили - Франция - США', 'Япония - Канада', 'Израиль - Франция',\n",
       "       'Великобритания - Норвегия - Дания - Германия',\n",
       "       'Германия - Россия',\n",
       "       'Польша - Португалия - Франция - Великобритания',\n",
       "       'Австрия - Германия - Франция',\n",
       "       'Великобритания - Нидерланды - Франция - Хорватия',\n",
       "       'Нидерланды - Россия - Германия',\n",
       "       'Бельгия - Испания - Канада - Нидерланды',\n",
       "       'Великобритания - Польша - КНР - Индия - Норвегия',\n",
       "       'Швеция - Дания', 'Армения', 'Австралия - США', 'Канада - Франция',\n",
       "       'Норвегия - Швеция', 'Грузия - Франция - Люксембург',\n",
       "       'КНР - Гонконг - США', 'Испания - Италия - Франция',\n",
       "       'Финляндия - Канада', 'США-Мальта',\n",
       "       'США - Канада - Великобритания', 'Франция - Бенльгия',\n",
       "       'Германия - Аргентина - Нидерланды - Чили', 'Таиланд',\n",
       "       'Исландия - Финляндия',\n",
       "       'Канада - Франция - США - ОАЭ - Великобритания', 'Парагвай',\n",
       "       'Испания - Уругвай - Аргентина',\n",
       "       'Франция - Италия - Бельгия - Люксембург',\n",
       "       'США - Великобритания - Ирландия', 'Испания - Аргентина',\n",
       "       'Уругвай-Мексика-Германия', 'Германия - Канада',\n",
       "       'США - Канада - Индонезия', 'Германия-Великобритания',\n",
       "       'Ирландия - Финляндия - Бельгия - Великобритания - США - Швейцария',\n",
       "       'США - Австралия - Франция', 'США - Россия',\n",
       "       'Германия - Франция - Люксембург',\n",
       "       'Великобритания - Италия - Швейцария',\n",
       "       'Россия, Германия, Франция, Бельгия', 'СССР - Швейцария - Франция',\n",
       "       'СССР, Швеция', 'СССР, Финляндия', 'Франция - Ирландия - Швеция',\n",
       "       'Великобритания - США - Индия', 'Индия - Великобритания',\n",
       "       'Армения - Казахстан', 'Германия - Италия',\n",
       "       'Великобритания - Франция - Швеция - Бельгия', 'США - Чили',\n",
       "       'США - Великобритания - Австралия', 'Азербайджан-Россия',\n",
       "       'США -Германия', 'Россия-Польша-Голландия-Словакия',\n",
       "       'Мексика - Эквадор - Канада - США - Франция - Малайзия - Италия - Аргентина - Германия - Индия',\n",
       "       'СССР, ЧССР, Западный Берлин, ПНР', 'СССР, ФРГ, Западный Берлин',\n",
       "       'СССР, Франция, Англия, Куба, ГДР',\n",
       "       'США - Канада - Афганистан - Бельгия - Франция',\n",
       "       'США - Великобритания - Германия - Новая Зеландия - Бельгия - Франция',\n",
       "       'Франция - Австрия', 'Малайзия - США', 'Бельгия-Нидерланды',\n",
       "       'Румыния-США', 'Дания-Франция-Бельгия-Германия-Великобритания',\n",
       "       'Великобритания - США - Франция', 'Россия, Республика Беларусь',\n",
       "       'Германия - Бельгия - США -Франция', 'США - Австралия - Дания',\n",
       "       'Дания - Германия - Швеция', 'Южная Корея - США - Канада',\n",
       "       'Израиль - Германия - Польша - Бельгия - Франция - Люксембург',\n",
       "       'СССР, Италия', 'Индонезия', 'Россия-Азербайджан',\n",
       "       'Великобритания - Германия - Франция - Кипр - США',\n",
       "       'США - Украина',\n",
       "       'США - Финляндия - Испания - Великобритания - Франция',\n",
       "       'Чили - Испания', 'Франция - Швейцария',\n",
       "       'Япония - Великобритания - Франция',\n",
       "       'Франция - Украина - Грузия - Армения',\n",
       "       'Сербия - Германия - Венгрия', 'США - Япония',\n",
       "       'США - Франция - Бельгия - Италия', 'Франция-Польша',\n",
       "       'Австралия-Великобритания', 'Франция-Канада',\n",
       "       'Болгария - Франция - Изриль',\n",
       "       'США - Нидерланды - Бельгия - Венгрия - Греция - Канада',\n",
       "       'Великобритания - Пуэрто-Рико', 'Франция - Португалия',\n",
       "       'США - Россия - Франция', 'Бельгия-Франция', 'США-Мексика',\n",
       "       'США - Румыния - Великобритания',\n",
       "       'Россия - Эстония - Финляндия - Беларусь', 'Канада - Испания',\n",
       "       'Франция-Россия', 'США - Франция - ЮАР',\n",
       "       'Великобритания - США - Швейцария', 'Россия - Италия',\n",
       "       'Великобритания - США - Германия', 'Франция - Чили',\n",
       "       'Польша - Италия - Россия', 'Франция - Бразилия',\n",
       "       'Турция - Германя - Франция',\n",
       "       'Норвегия - Исландия - США - Великобритания',\n",
       "       'Япония, Великобритания, Австрия, Германия, Ю.Корея', 'Чехия',\n",
       "       'Германия - Исландия', 'Бельгия - Италия - Франция',\n",
       "       'Великобритания - Ирландия - США', 'Ирландия-Великобритания',\n",
       "       'Хорватия', 'Австрия - Германия', 'Армения - Германия',\n",
       "       'США - Испания - Болгария', 'Ирландия, Канада',\n",
       "       'Германия - Великобритания', 'Швеция - Германия',\n",
       "       'Норвегия - Дания - Швеция', 'Франция - Швейцария - Германия',\n",
       "       'Россия, Франция, Латвия',\n",
       "       'США - Великобритания- Франция - Швеция',\n",
       "       'США - Великобритания - КНР', 'Мексика - Испания',\n",
       "       'Швейцария-Германия-ЮАР', 'США - Ирландия - Великобритания',\n",
       "       'Великобритания - США - Германия - Бельгия',\n",
       "       'Германия - Италия - США', 'США - Испания - Франция',\n",
       "       'США - Чехия - Франция',\n",
       "       'Мексика - Нидерланды - Германия - Франция',\n",
       "       'Бельгия - Германия - Люксембург', 'Австралия - Германия',\n",
       "       'Франция - США - Великобритания - Колумбия - Бельгия - Россия',\n",
       "       'Бразилия - США', 'Дания - Великобритания - ЮАР',\n",
       "       'США - Канада - КНР', 'США - Великобритания - Канада - КНР',\n",
       "       'Грузия - Украина', 'Германия - США - Швеция - Франция',\n",
       "       'Россия - Республика Кипр', 'СССР, Венгрия, ЧССР, ГДР',\n",
       "       'СССР, Венгрия', 'Франция - Австрия - Германия - Италия - США',\n",
       "       'Великобритания-Германия-Канада-ЮАР',\n",
       "       'США - Великобритания - Испания',\n",
       "       'Канада - США - Германия - Франция',\n",
       "       'Великобритания - Германия - США', 'Украина - Нидерланды',\n",
       "       'Германия - Швейцария - Франция - Южная Корея - США',\n",
       "       'Чехословакия', 'Россия-США-Канада-Люксембург',\n",
       "       'Великобритания, Канада', 'Бельгия - США',\n",
       "       'Япония - Великобритания - Швейцария - Ирландия - Дания - Франция - Польша - Австралия - Канада',\n",
       "       'Великобритания - США - Россия', 'США- Ю.Корея',\n",
       "       'Германия - Франция -  Польша - Турция - Канада - Италия - Россия',\n",
       "       'Венгрия - Германия - Швеция', 'СЩА', 'Уругвай - Колумбия',\n",
       "       'Новая Зеландия - США',\n",
       "       'Нидерланды - США - Германия - Канада - Франция - Ирландия - Великобритания',\n",
       "       'Норвегия - Азербайджан - Россия - Колумбия - Великобритания - Венгрия - Румыния - Франция - Грузия',\n",
       "       'Россия-Украина', 'Германия - США - Великобритания - Израиль',\n",
       "       'Бразилия - Испания', 'Испания - Аргентина - Индия - США',\n",
       "       'Австралия-Турция-США',\n",
       "       'Великобритания - Франция - Республика Кипр - Швейцария - США - Сербия',\n",
       "       'США-Франция-Великобритания-Австрия', 'Канада - Германия',\n",
       "       'Великобритания - Нидерланды - Германия - Франция - Бельгия - Австрия',\n",
       "       'Индия - Мексика', 'Аргентина - Бразилия',\n",
       "       'Македония - Франция - Великобритания',\n",
       "       'Финляндия - Великобритания - Германия',\n",
       "       'США - Япония - Франция - Великобритания',\n",
       "       'Швейцария - Израиль - Франция - Великобритания',\n",
       "       'Великобритания - США - Канада - Нидерланды - Франция',\n",
       "       'Аргентина - Мексика - Бразилия - Франция - США',\n",
       "       'США - Колумбия - Испания',\n",
       "       'Нидерланды - Великобритания - Бельгия', 'Южная Корея - КНР',\n",
       "       'Франция - Италия - Бельгия - КНР', 'Франция - Мексика - США',\n",
       "       'Россия, Украина, Республика Беларусь, Литва', 'СССР, Польша',\n",
       "       'СССР, Албания', 'Россия, Казахстан, США',\n",
       "       'Швеция - Франция - Норвегия - Дания',\n",
       "       'Аргентина - Уругвай - Россия - Германия - Франция - Нидерланды',\n",
       "       'Россия, Италия', 'Россия, Украина, Польша', 'Венесуэла',\n",
       "       'Дания - Норвегия - Великобритания', 'США - Канада - Германия',\n",
       "       'Австралия - Великобритания - Бельгия - Индия',\n",
       "       'Великобритания - США - Австралия - Ирландия - Германия - Куба - Канада',\n",
       "       'Испания - Великобритания - Франция',\n",
       "       'Франция - Бразилия - Италия', 'Россия, Германия',\n",
       "       'Россия-Ирландия', 'США-Великобритания-Чехия-Румыния',\n",
       "       'Германия - Бельгия - Люксембург - Ирландия',\n",
       "       'Россия, Германия, Великобритания',\n",
       "       'Люксембург - Нидерланды - Испания - Великобритания - США - Италия',\n",
       "       'Россия-Кипр', 'Великобритания - Италия - Испания',\n",
       "       'Швеция - Германия - Франция - Норвегия',\n",
       "       'Япония - КНР - Южная Корея', 'Италия - Россия',\n",
       "       'США - Россия - Польша - Германия - Пуэрто Рико',\n",
       "       'Франция - Бельгия - Великобритания - США - Нидерланды - Канада',\n",
       "       'Франция -  Бельгия', 'ЮАР - США', 'Грузия-Франция',\n",
       "       'Франция - Бельгия - Канада', 'Армения-Россия', 'Россия-США',\n",
       "       'США - Гонконг - КНР', 'КНР - Сингапур',\n",
       "       'Ирландия - Дания - Бельгия - Люксембург - Франция',\n",
       "       'Мексика - США', 'Греция - Россия',\n",
       "       'Великобритания - Исландия - Испания - Швейцария - США',\n",
       "       'Франция-Китай', 'Эстония - Россия', 'Великобритания, Франция',\n",
       "       'Австралия, США', 'Франция-Испания-Бельгия-Панама',\n",
       "       'СССР, Афганистан', 'СССР, Монголия',\n",
       "       'Италия-Франция-Великобритания',\n",
       "       'Ирландия-Великобритания-Германия',\n",
       "       'Дания - Швейцария - Бельгия - Франция',\n",
       "       'Нидерланды - Бельгия - Германия - Ирландия',\n",
       "       'Россия, Грузия, Испания',\n",
       "       'Франция - Бельгия - Великобритания - Испания - Германия - США',\n",
       "       'Бельгия - Франция - Люксембург',\n",
       "       'Италия - Франция - Швейцария - Великобритания', 'Швеция - США',\n",
       "       'Франция - Германия - Турция - Катар',\n",
       "       'Великобритания - США - Канада - Бельгия - Нидерланды - Австрия - Германия',\n",
       "       'Россия, Румыния', 'Турция - США', 'Аргентина - Франция - Испания',\n",
       "       'Республика Кипр', 'Великобритания-США-Франция',\n",
       "       'Великобритания - Франция - Италия - Индия - Дания - КНР - Бангладеш - Камбоджа - Гаити - Уганда',\n",
       "       'Китай-Гонконг', 'США - Германия - КНР',\n",
       "       'Великобритания-США-Германия-КНР',\n",
       "       'США - Великобритания - Германия - Бельгия - Дания',\n",
       "       'Великобритания - Новая Зеландия',\n",
       "       'Франция - Канада - Н.Зеландия - США - Нидерланды - Германия - Швеция - Россия',\n",
       "       'США - Норвегия', 'Перу', 'Франция - Дания - Швеция - КНР',\n",
       "       'Италия - Франция - Швейцария',\n",
       "       'Франция - Германия - Швеция - США - Чехия - Словакия - Великобритания - Нидерланды',\n",
       "       'США-КНР', 'Испания-Канада', 'Великобритания-Франция',\n",
       "       'Ирландия - Великобритания - Канада',\n",
       "       'США - Франция - Канада - Германия - Австралия - Индия',\n",
       "       'СССР, Румыния, Франция', 'СССР, ГДР', 'США-Ирландия', 'Венгрия',\n",
       "       'США - Великобритания - Исландия',\n",
       "       'Израиль - Франция - Германия - Палестина - США - Австрия - Великобритания',\n",
       "       'Австралия - Ирландия', 'Россия, Республика Кипр',\n",
       "       'Франция - Германия - Нидерланды', 'Великобритания - Люксембург',\n",
       "       'Испания - Франция - Нидерланды - Германия - Бельгия - Великобритания - Канада',\n",
       "       'США - Великобритания - Болгария',\n",
       "       'США - Канада - Россия - Франция - Чили - Ирландия',\n",
       "       'Италия - Аргентина - Словения',\n",
       "       'Великобритания - США - Германия - Канада - Австралия',\n",
       "       'Индия - США', 'Россия-Франция', 'Германия - Люксембург - Франция',\n",
       "       'Франция - США - Норвегия - Дания',\n",
       "       'Дания - Австрия - Ирландия - Финляндия - Норвегия - Швеция - Нидерланды',\n",
       "       'Грузия-Россия',\n",
       "       'США - Нидерланды - Финляндия - Великобритания - Италия',\n",
       "       'Германия - Австрия - Ирландия', 'Франция - Чехия - Бельгия',\n",
       "       'Великобритания - Франция - Германия - США', 'Россия, Испания',\n",
       "       'США - Финляндия', 'Италия-Великобритания',\n",
       "       'Ирландия - Великобритания - Франция - США - Германия - Нидерланды',\n",
       "       'США - Канада - Япония - КНР', 'Гонконг, КНР',\n",
       "       'Канада - США - Нидерланды - Великобритания - Аргентина',\n",
       "       'США-Италия-Испания-Аргентина', 'Австралия-Ирландия',\n",
       "       'Франция - Дания - США',\n",
       "       'Ирландия - Великобритания - Франция - США', 'США - Колумбия',\n",
       "       'США - Бельгия - Великобритания',\n",
       "       'США - Великобритания - Новая Зеландия', 'США-ФРГ-Россия',\n",
       "       'Ирландия-Нидерланды-Франция-США-Великобритания', 'Франция-КНР',\n",
       "       'Россия, Украина', 'Великобритания - Канада - США',\n",
       "       'США - Ирландия - Великобритания - Франция',\n",
       "       'Великобритания - Франция - Венгрия', 'СССР, ВНР',\n",
       "       'Германия - Франция - Бельгия',\n",
       "       'Россия, Грузия, Хорватия, Испания', 'США - Германия - Франция',\n",
       "       'США - Китай',\n",
       "       'Германия - Дания - Испания - Швеция - Канада - Эстония - Франция',\n",
       "       'США-Франция-Ирландия',\n",
       "       'Великобритания - Франция - Австрия - Швеция',\n",
       "       'Великобритания - Франция - Бельгия', 'Франция - Бельгия - Чехия',\n",
       "       'Франция - Бельгия - Испания', 'Швейцария - Великобритания',\n",
       "       'США - Великобритания - Франция - Гонконг', 'Бразилия - К;анада',\n",
       "       'Великобритания - Дания', 'США - Пуэрто-Рико - Франция',\n",
       "       'США - Гонконг', 'Финляндия - Швеция - Норвегия',\n",
       "       'Испания - США - Великобритания - Канада', 'Франция - Македония',\n",
       "       'Великобритания - Испания - Непал - Индия - Венгрия - Гонконг - Германия - Дания - Бахрейн',\n",
       "       'Нидерланды - Франция - Германия - Бельгия - Швеция - Великобритания',\n",
       "       'Сербия - Великобритания - США', 'Польша - Ирландия',\n",
       "       'США - Дания', 'КНР - США',\n",
       "       'Великобритания - Аргентина - США - Франция - Россия - Испания',\n",
       "       'Франция-Бельгия-Канада', 'Иран, Франция',\n",
       "       'Мексика - Тайвань - США', 'Китай-Гонконг-США', 'Франция-Германия',\n",
       "       'США - Великобритания - Япония', 'США - Франция - Германия',\n",
       "       'США - Франция - Германия - Канада - Австралия',\n",
       "       'Республика Казахстан', 'Франция - Бельгия - Япония',\n",
       "       'Франция - Германия - США', 'США - Вьетнам', 'Италия - США',\n",
       "       'Франция - Испания - Дания - Венгрия - Швейцария',\n",
       "       'Польша - Франция', 'Индия - КНР',\n",
       "       'Нидерланды - Бельгия - Болгария', 'Великобритания - США - Канада',\n",
       "       'Финляндия - Швеция - Германия', 'Княжество Андорра - Украина',\n",
       "       'США - Франция - Канада - Великобритания',\n",
       "       'Чехия-Великобритания-США', 'Франция -Бельгия',\n",
       "       'Германия - Бельгия - Люксембург - Норвегия', 'Канада- Испания',\n",
       "       'США - Австралия - Новая Зеландия - Великобритания', 'ОАЭ - США',\n",
       "       'Великобритания - Россия - Украина - США',\n",
       "       'Германия - Люксембург - Бельгия', 'США - Италия',\n",
       "       'Швейцария - Франция', 'Россия, Таджикистан',\n",
       "       'Россия, Франция, Германия, Бельгия', 'Испания-Колумбия',\n",
       "       'Испания - Франция - США - Великобритания - Бельгия',\n",
       "       'Германия - Австралия', 'Великобритания - Чехия - Франция',\n",
       "       'США-Колумбия', 'Исландия', 'Испания-Аргентина',\n",
       "       'Великобритания - Нидерланды - Франция - США', 'Канада - Мексика',\n",
       "       'США, Франция', 'Канада-Южная Корея-США',\n",
       "       'Великобритания - Франция - Бельгия - США',\n",
       "       'Италия - Франция - Германия',\n",
       "       'Швеция - Германия - Франция - Дания', 'КНР - Канада - США',\n",
       "       'Франция - США - Бельгия', 'Австрия - Люксембург',\n",
       "       'США - Германия - Япония', 'Швеция - Дания - Финляндия',\n",
       "       'Украина - Германия - Латвия - Эстония',\n",
       "       'Великобритания - Румыния', 'Франция - Нидерланды',\n",
       "       'Великобритания - КНР', 'Монголия', 'Таиланд - США',\n",
       "       'Франция - Дания',\n",
       "       'Сингапур - Великобритания - Индонезия - Канада - США',\n",
       "       'США - ЮАР - Гонконг',\n",
       "       'Великобритания - Германия - Нидерланды - Дания',\n",
       "       'Австралия - Колумбия', 'США - Мальта', 'Великобритания - Польша',\n",
       "       'СССР, ФРГ', 'Болгария - США',\n",
       "       'Франция - Германия - Литва - Нидерланды - Россия',\n",
       "       'США - Великобритания - Швеция',\n",
       "       'Франция - Швеция - Дания - Норвегия',\n",
       "       'Бельгия - Нидерланды - Франция',\n",
       "       'Грузия - Россия - Украина - Хорватия - Германия', 'Болгария',\n",
       "       'Финляндия - Германия', 'Франция - Люксембург',\n",
       "       'Франция-Германия-Австрия', 'Франция - Германия - Италия',\n",
       "       'Франция - Германия - Австрия', 'Норвегия - США',\n",
       "       'Германия-Швеция', 'КНР-США', 'Финляндия - Польша',\n",
       "       'Дания - Латвия - Россия - США',\n",
       "       'Германия - США - Франция - Испания', 'Германия - Бельгия',\n",
       "       'Канада-Германия', 'Нидерланды - Бельгия - Люксембург',\n",
       "       'США-Великобритания-Австралия', 'Люксембург - Бельгия - Франция',\n",
       "       'Бельгия, Великобритания, США', 'Великобритания, Новая Зеландия',\n",
       "       'Великобритания, США', 'Франция, Бельгия',\n",
       "       'Испания - Швейцария - Великобритания - Германия - Новая Зеландия - Нидерланды - Канада',\n",
       "       'Великобритания, Австралия', 'Исландия, Бельгия',\n",
       "       'Киргизия-Россия', 'Великобритания, США, Испания',\n",
       "       'Россия, Армения', 'КНР, США', 'Германия, США',\n",
       "       'Франция, Германия', 'Испания, Ирландия, Бельгия, Франция',\n",
       "       'США, Великобритания, Люксембург', 'Китай, Канада, США',\n",
       "       'Италия - Швейцария - Германия', 'Германия, Австралия',\n",
       "       'Великобритания - Гонконг - Венгрия - США - Ирландия',\n",
       "       'США - Пуэрто Рико', 'Израиль - Германия - Франция - Швейцария',\n",
       "       'Испания - Болгария - США', 'Аргентина - Испания - Уругвай',\n",
       "       'Великобритания - Мексика - США',\n",
       "       'Швейцария - КНР - США - Россия - Республика Корея - Великобритания',\n",
       "       'Россия, Нидерланды, Финляндия', 'Швеция - Норвегия',\n",
       "       'Бразилия - Португалия - Франция', 'Италия, Франция, Германия',\n",
       "       'Испания - Бельгия - Франция - Португалия - Великобритания', 'CША',\n",
       "       'Франция - Польша - Бельгия', 'Россия, Польша, Финляндия',\n",
       "       'Франция - Великобритания - Камбоджа - США - КНР',\n",
       "       'Россия, Латвия, Чешская Республика', 'Чехия - Испания - США',\n",
       "       'Великобритания - Испания - Германия',\n",
       "       'Чехия - Словакия - Хорватия', 'Германия - Австрия - Франция',\n",
       "       'Китай, США', 'Дания - Исландия', 'Германия - Люксембург - Дания',\n",
       "       'Великобритания - Испания - Италия - Латвия - Франция - Эстония',\n",
       "       'Польша - Франция - Великобритания', 'Россия-Словакия-Чехия',\n",
       "       'Дания, Норвегия, Венгрия, Чехия',\n",
       "       'Канада, Франция, Италия, Швейцария, США', 'США, Индия',\n",
       "       'США - Великобритания - Германия - - Швеция - Канада',\n",
       "       'Россия - Франция - Великобритания - Латвия', 'Италия, Франция',\n",
       "       'Великобритания, Швеция, США', 'Италия-США',\n",
       "       'Франция - Испания - Румыния - США - Бельгия',\n",
       "       'Республика Беларусь, Германия, США, Россия',\n",
       "       'Италия-Швейцария-Франция-Германия', 'Россия, Австрия',\n",
       "       'Дания - Франция - Германия - Швеция',\n",
       "       'Мексика, Франция, Германия, Дания, Швеция',\n",
       "       'Испания-Франция-Греция-Индия-США-Россия-Великобритания',\n",
       "       'Швеция, Норвегия, Финляндия, Франция',\n",
       "       'Великобритания - Япония - США', 'Нидерланды, Бельгия',\n",
       "       'Ирландия - Великобритания - США', 'Аргентина, Испания',\n",
       "       'Ливан-США', 'США - Канада - Аргентина',\n",
       "       'Швейцария, Великобритания, Франция, США, Ирландия',\n",
       "       'Дания, Канада, Норвегия, Австралия, США',\n",
       "       'Россия, Германия, Казахстан, Польша, Китай',\n",
       "       'Португалия, Франция, Польша, США', 'Испания, Франция, Италия',\n",
       "       'США, Гонконг', 'Япония - США', 'Аргентина-Испания',\n",
       "       'Россия-Беларусь', 'США - Болгария - Мексика', 'Россия, Сербия',\n",
       "       'США, Великобритания', 'Ирландия - США',\n",
       "       'Великобритания, Нидерланды, Польша, Швейцария, Франция',\n",
       "       'Таиланд - КНР - США',\n",
       "       'Германия - Франция - Великобритания - Польша - США',\n",
       "       'США - Великобритания - Швейцария - Франция',\n",
       "       'Великобритания - Израиль',\n",
       "       'Великобритания - Норвегия - Кения - Хорватия',\n",
       "       'США - Бразилия - Великобритания - Канада', 'Германия, Бельгия',\n",
       "       'США - Австралия - Индия', 'Австралия, Канада',\n",
       "       'США, Великобритания, Франция',\n",
       "       'Испания, Франция, Великобритания, Дания, Бельгия, Германия',\n",
       "       'Франция - Израиль - Германия', 'Франция - КНР',\n",
       "       'Румыния, ЮАР, Иран, Франция, Канада, Великобритания',\n",
       "       'Нидерланды, Бельгия, Люксембург', 'Колумбия', 'Латвия - Франция',\n",
       "       'Кения, Германия', 'Швеция, Франция, Великобритания',\n",
       "       'Германия - Бельгия - Великобритания', 'США, Япония',\n",
       "       'Ирландия, Великобритания', 'Германия, Франция',\n",
       "       'США, Франция, Япония', 'Республика Армения',\n",
       "       'Республика Кипр - Россия',\n",
       "       'США, Великобритания, Ирландия, Люксембург', 'Канада, США',\n",
       "       'Дания - Франция - Италия - Бельгия - Нидерланды', 'Япония, США',\n",
       "       'Россия - Грузия', 'Италия, Германия', 'Норвегия, Швеция, Дания',\n",
       "       'Бельгия - Люксембург', 'США, Россия', 'Израиль, Украина',\n",
       "       'КНР, Индия, Гонконг, США', 'США - КНР - Индия - Ю.Корея',\n",
       "       'Республика Кипр, Россия', 'США - Швеция',\n",
       "       'Бразилия, Уругвай, Дания, Норвегия, Чили, Швеция',\n",
       "       'Канада, Великобритания', 'Пуэрто-Рико, Великобритания, США',\n",
       "       'Канада, США, Каймановы острова', 'Уругвай - Аргентина - Испания',\n",
       "       'США - Канада - Франция - Индия',\n",
       "       'США - Великобритания - Италия - Израиль - Сербия - Индия',\n",
       "       'Франция, Новая Зеландия', 'Канада, США, Норвегия',\n",
       "       'Испания - Германия - Нидерланды', 'Россия-Китай',\n",
       "       'Италия, Испания', 'Великобритания - Россия - КНР',\n",
       "       'Франция, Люксембург, Бельгия', 'Норвегия - Швеция - Россия',\n",
       "       '2019', 'Италия - Фрация - Бразилия - Германия',\n",
       "       'Великобритания, Германия, Дания, США', 'Бразилия - США - КНР',\n",
       "       'Великобритания, Япония, США', 'Сша, Канада', 'Бельгия, Канада',\n",
       "       'США, Канада', 'Франция - Финляндия',\n",
       "       'Великобритания - Австралия - США', 'Колумбия - США',\n",
       "       'Великобритания, Франция, Бельгия', 'Великобритания, Канада, США',\n",
       "       'США, Украина', 'Франция, Норвегия', 'Норвегия - Нидерланды',\n",
       "       'Канада - Норвегия', 'Италия - Бельгия - Франция',\n",
       "       'Германия, Россия',\n",
       "       'Великобритания, Южная Корея, Канада, США, Индия, Китай, Япония',\n",
       "       'Республика Кипр-Россия', 'Австрия, Великобритания, Германия',\n",
       "       'Россия, Бельгия, Финляндия',\n",
       "       'Польша - Франция - Испания - Бразилия - Швеция',\n",
       "       'Япония, Великобритания', 'Франция - Сенегал - Бельгия',\n",
       "       'Финляндия, Латвия', 'Германия, Франция, США',\n",
       "       'Германия - Великобритания - США', 'Франция, Бельгия, Люксембург',\n",
       "       'КНР - Франция', 'Республика Кипр, США, Россия',\n",
       "       'Новая Зеландия - КНР', 'Пакистан',\n",
       "       'Дания - Канада - Швеция - Франция - Германия - Великобритания - США',\n",
       "       'Дания, Норвегия, Швеция, Исландия'], dtype=object)"
      ]
     },
     "execution_count": 35,
     "metadata": {},
     "output_type": "execute_result"
    }
   ],
   "source": [
    "sorted_mkrf_movies_show['production_country'].unique()"
   ]
  },
  {
   "cell_type": "code",
   "execution_count": 36,
   "metadata": {},
   "outputs": [
    {
     "data": {
      "text/plain": [
       "array(['фантастика, боевик, драма', 'драма', 'триллер, драма, биография',\n",
       "       'комедия', 'комедия, военный', 'боевик, триллер, криминал',\n",
       "       'триллер, драма, мелодрама', 'триллер, драма, криминал',\n",
       "       'фантастика, фэнтези, драма', 'ужасы, боевик, триллер', nan,\n",
       "       'драма, мелодрама, криминал', 'ужасы, триллер, детектив',\n",
       "       'фантастика, триллер, драма', 'ужасы, комедия, фэнтези',\n",
       "       'драма, комедия', 'драма, биография, история',\n",
       "       'документальный, музыка', 'документальный, драма, музыка',\n",
       "       'боевик, комедия, семейный', 'мелодрама', 'мелодрама, детектив',\n",
       "       'комедия, семейный', 'драма, приключения, история',\n",
       "       'драма, боевик', 'фантастика, боевик, детектив',\n",
       "       'боевик, триллер, драма', 'фэнтези, триллер, драма',\n",
       "       'драма, мелодрама, комедия', 'фэнтези, приключения, семейный',\n",
       "       'боевик, триллер, комедия', 'приключения', 'биография, история',\n",
       "       'комедия, детектив', 'военный, драма, боевик', 'комедия, криминал',\n",
       "       'детский, приключения, фантастика',\n",
       "       'фэнтези, приключения, комедия', 'военный',\n",
       "       'короткометражка, боевик, драма',\n",
       "       'мультфильм, комедия, приключения', 'мелодрама, комедия',\n",
       "       'ужасы, фантастика, фэнтези', 'ужасы, фэнтези, триллер',\n",
       "       'комедия, криминал, драма', 'драма, мелодрама, биография',\n",
       "       'фантастика, боевик, приключения', 'ужасы, триллер',\n",
       "       'триллер, детектив, драма', 'фэнтези, боевик, триллер',\n",
       "       'мультфильм, мюзикл, фэнтези', 'драма, спорт',\n",
       "       'мультфильм, фэнтези, комедия', 'драма, мелодрама',\n",
       "       'драма, мелодрама, военный', 'драма, история',\n",
       "       'комедия, мелодрама, фэнтези', 'боевик, мелодрама, комедия',\n",
       "       'боевик, приключения, детектив', 'триллер, мелодрама',\n",
       "       'боевик, триллер', 'фантастика, фэнтези, боевик',\n",
       "       'боевик, драма, приключения', 'ужасы, фантастика, боевик',\n",
       "       'фантастика, комедия', 'ужасы, триллер, драма',\n",
       "       'ужасы, фантастика, триллер', 'триллер, драма, детектив', 'боевик',\n",
       "       'драма, военный', 'детектив, триллер, драма',\n",
       "       'мультфильм, короткометражка', 'боевик, драма, комедия',\n",
       "       'фантастика, боевик, триллер', 'драма, криминал',\n",
       "       'мюзикл, мелодрама, комедия', 'документальный', 'ужасы, комедия',\n",
       "       'мелодрама, комедия, криминал', 'ужасы, триллер, фантастика',\n",
       "       'драма, мелодрама, история', 'боевик, драма',\n",
       "       'боевик, приключения', 'фэнтези, боевик, приключения',\n",
       "       'боевик, приключения, триллер', 'фэнтези, драма, приключения',\n",
       "       'триллер, драма', 'драма, спорт, боевик', 'мультфильм, комедия',\n",
       "       'боевик, фантастика, приключения', 'триллер, мелодрама, комедия',\n",
       "       'комедия, криминал, детектив', 'мюзикл, драма, мелодрама',\n",
       "       'фэнтези, приключения, драма', 'боевик, драма, криминал',\n",
       "       'боевик, триллер, приключения', 'драма, комедия, музыка',\n",
       "       'боевик, драма, военный', 'фэнтези, комедия, семейный',\n",
       "       'боевик, комедия, криминал', 'драма, биография',\n",
       "       'фэнтези, драма, мелодрама', 'фантастика, триллер, комедия',\n",
       "       'мелодрама, комедия, драма', 'фантастика, триллер, боевик',\n",
       "       'триллер, боевик, криминал', 'ужасы, комедия, боевик',\n",
       "       'мультфильм, драма, комедия', 'фантастика, мелодрама, фэнтези',\n",
       "       'драма, приключения', 'мультфильм, фэнтези, мелодрама',\n",
       "       'фэнтези, драма', 'фэнтези, приключения', 'ужасы',\n",
       "       'боевик, криминал', 'драма, криминал, детектив',\n",
       "       'документальный, комедия, криминал',\n",
       "       'мультфильм, короткометражка, мелодрама', 'история, спорт, драма',\n",
       "       'мюзикл, комедия, музыка', 'боевик, триллер, мелодрама',\n",
       "       'драма, военный, биография', 'мелодрама, музыка',\n",
       "       'мелодрама, комедия, приключения',\n",
       "       'мультфильм, короткометражка, детский', 'драма, комедия, семейный',\n",
       "       'драма, биография, музыка', 'документальный, семейный',\n",
       "       'детектив, триллер, криминал', 'комедия, приключения, музыка',\n",
       "       'аниме, мультфильм, фэнтези', 'боевик, криминал, детектив',\n",
       "       'мультфильм, комедия, семейный', 'боевик, комедия',\n",
       "       'триллер, криминал, детектив', 'драма, комедия, криминал',\n",
       "       'ужасы, фантастика, драма', 'триллер, драма, комедия',\n",
       "       'мелодрама, семейный', 'детский, фэнтези, приключения',\n",
       "       'мультфильм, фантастика, фэнтези', 'фэнтези',\n",
       "       'мелодрама, драма, комедия', 'боевик, комедия, приключения',\n",
       "       'фэнтези, боевик, детектив', 'фэнтези, триллер, мелодрама',\n",
       "       'триллер, боевик, приключения', 'семейный, комедия, музыка',\n",
       "       'фантастика, приключения, боевик', 'драма, мелодрама, приключения',\n",
       "       'мультфильм, фантастика, комедия', 'боевик, драма, история',\n",
       "       'драма, спорт, семейный', 'фэнтези, боевик, драма',\n",
       "       'мультфильм, приключения, семейный', 'ужасы, фэнтези, мелодрама',\n",
       "       'драма, мелодрама, музыка', 'триллер, криминал',\n",
       "       'триллер, детектив', 'мультфильм, мелодрама, комедия',\n",
       "       'драма, комедия, приключения', 'фэнтези, боевик, мелодрама',\n",
       "       'мультфильм, короткометражка, фэнтези',\n",
       "       'мультфильм, фэнтези, драма', 'фэнтези, мелодрама, комедия',\n",
       "       'детектив', 'документальный, драма, семейный',\n",
       "       'ужасы, комедия, семейный', 'фантастика, триллер, детектив',\n",
       "       'драма, семейный', 'ужасы, фэнтези, боевик',\n",
       "       'фэнтези, драма, детектив', 'приключения, комедия, фэнтези',\n",
       "       'приключения, история', 'ужасы, боевик, фантастика',\n",
       "       'драма, детектив', 'ужасы, боевик', 'комедия, мелодрама',\n",
       "       'детектив, криминал, триллер', 'ужасы, триллер, комедия',\n",
       "       'документальный, короткометражка', 'ужасы, фэнтези, драма',\n",
       "       'боевик, история, драма', 'фантастика, драма',\n",
       "       'мультфильм, фэнтези, боевик', 'мультфильм, боевик, триллер',\n",
       "       'мультфильм', 'драма, военный, история', 'документальный, комедия',\n",
       "       'мультфильм, фантастика, боевик', 'фантастика, драма, мелодрама',\n",
       "       'аниме, мультфильм, боевик', 'фантастика, боевик, мелодрама',\n",
       "       'биография', 'триллер, комедия, криминал', 'криминал',\n",
       "       'военный, боевик, драма', 'мультфильм, ужасы, комедия',\n",
       "       'фантастика, боевик', 'драма, комедия, мелодрама',\n",
       "       'мультфильм, фэнтези, приключения', 'фантастика, боевик, фэнтези',\n",
       "       'фантастика', 'триллер, боевик', 'фэнтези, боевик, вестерн',\n",
       "       'драма, детектив, история', 'фэнтези, боевик, семейный',\n",
       "       'ужасы, фэнтези, приключения', 'драма, фэнтези',\n",
       "       'криминал, боевик, триллер', 'фантастика, боевик, комедия',\n",
       "       'мультфильм, мюзикл, мелодрама', 'триллер, фэнтези, драма',\n",
       "       'мюзикл, фэнтези, комедия', 'мюзикл, ужасы, триллер',\n",
       "       'триллер, драма, приключения', 'фэнтези, боевик, комедия',\n",
       "       'драма, мелодрама, детектив', 'ужасы, детектив', 'триллер',\n",
       "       'драма, семейный, биография', 'фантастика, фэнтези, приключения',\n",
       "       'мелодрама, драма, боевик', 'драма, биография, спорт',\n",
       "       'триллер, драма, военный', 'боевик, драма, мелодрама',\n",
       "       'фэнтези, комедия, приключения', 'драма, вестерн, приключения',\n",
       "       'драма, приключения, мелодрама', 'фэнтези, боевик, криминал',\n",
       "       'документальный, биография', 'комедия, спорт',\n",
       "       'ужасы, драма, детектив', 'фантастика, комедия, семейный',\n",
       "       'комедия, приключения, семейный', 'мелодрама, комедия, музыка',\n",
       "       'драма, криминал, биография', 'фэнтези, мелодрама, драма',\n",
       "       'детский, фэнтези', 'фантастика, мелодрама, комедия',\n",
       "       'семейный, спорт, боевик', 'триллер, биография, драма',\n",
       "       'ужасы, драма, комедия', 'документальный, фантастика',\n",
       "       'мелодрама, комедия, семейный', 'боевик, триллер, детектив',\n",
       "       'комедия, криминал, приключения', 'фантастика, триллер, мелодрама',\n",
       "       'комедия, фантастика, боевик', 'триллер, приключения',\n",
       "       'фантастика, драма, комедия', 'фантастика, триллер',\n",
       "       'детский, комедия', 'фантастика, комедия, приключения',\n",
       "       'мультфильм, фантастика, приключения',\n",
       "       'аниме, мультфильм, мелодрама', 'мультфильм, мюзикл, комедия',\n",
       "       'мелодрама, комедия, спорт', 'комедия, биография',\n",
       "       'мультфильм, фэнтези, триллер', 'военный, история',\n",
       "       'документальный, короткометражка, семейный',\n",
       "       'документальный, драма', 'ужасы, боевик, криминал',\n",
       "       'мелодрама, биография', 'для взрослых, драма, мелодрама',\n",
       "       'боевик, спорт, драма', 'документальный, мюзикл',\n",
       "       'мультфильм, комедия, криминал', 'комедия, приключения, вестерн',\n",
       "       'документальный, ужасы, боевик', 'аниме, мультфильм, фантастика',\n",
       "       'комедия, боевик, приключения', 'документальный, приключения',\n",
       "       'мультфильм, детский', 'триллер, криминал, драма', 'мюзикл',\n",
       "       'фантастика, боевик, семейный', 'биография, спорт, драма',\n",
       "       'фэнтези, драма, комедия', 'ужасы, фэнтези',\n",
       "       'фантастика, мелодрама, боевик', 'ужасы, фантастика, детектив',\n",
       "       'мультфильм, боевик, детектив', 'аниме, мультфильм, драма',\n",
       "       'документальный, история', 'детектив, триллер',\n",
       "       'драма, детектив, приключения', 'драма, фантастика, триллер',\n",
       "       'документальный, фэнтези, семейный', 'драма, криминал, история',\n",
       "       'драма, семейный, комедия', 'фэнтези, семейный',\n",
       "       'драма, приключения, военный', 'ужасы, драма',\n",
       "       'драма, мелодрама, семейный', 'история', 'концерт, музыка',\n",
       "       'драма, комедия, биография', 'мюзикл, боевик, драма',\n",
       "       'документальный, биография, музыка', 'драма, комедия, спорт',\n",
       "       'мелодрама, история, триллер', 'мультфильм, мюзикл, драма',\n",
       "       'семейный, комедия', 'боевик, криминал, триллер',\n",
       "       'драма, мультфильм', 'документальный, музыка, концерт',\n",
       "       'мультфильм, приключения, драма', 'мюзикл, комедия, приключения',\n",
       "       'комедия, криминал, семейный', 'мультфильм, драма',\n",
       "       'драма, спорт, биография', 'мультфильм, семейный',\n",
       "       'мультфильм, приключения', 'фантастика, триллер, криминал',\n",
       "       'приключения, семейный', 'фантастика, приключения, детектив',\n",
       "       'короткометражка, драма, военный', 'комедия, приключения',\n",
       "       'семейный, комедия, драма', 'документальный, биография, история',\n",
       "       'мультфильм, фэнтези, детский', 'мультфильм, фэнтези, семейный',\n",
       "       'драма, приключения, биография', 'фэнтези, драма, семейный',\n",
       "       'детский, приключения, комедия', 'мелодрама, фэнтези, триллер',\n",
       "       'фантастика, боевик, криминал', 'драма, криминал, боевик',\n",
       "       'ужасы, боевик, комедия', 'триллер, мелодрама, драма',\n",
       "       'мюзикл, драма', 'фантастика, драма, боевик',\n",
       "       'драма, детектив, криминал', 'мультфильм, ужасы, фантастика',\n",
       "       'концерт, музыка, документальный', 'ужасы, комедия, приключения',\n",
       "       'триллер, ужасы', 'драма, триллер, приключения',\n",
       "       'мультфильм, боевик, комедия', 'боевик, фэнтези, драма',\n",
       "       'аниме, мультфильм, ужасы', 'мультфильм, ужасы, фэнтези',\n",
       "       'мультфильм, мюзикл, детский', 'мюзикл, фэнтези, мелодрама',\n",
       "       'фэнтези, приключения, боевик', 'комедия, драма',\n",
       "       'ужасы, боевик, фэнтези', 'мелодрама, драма',\n",
       "       'спорт, драма, биография', 'детский, приключения, семейный',\n",
       "       'ужасы, мелодрама, комедия', 'вестерн, боевик, драма',\n",
       "       'ужасы, комедия, фантастика',\n",
       "       'мультфильм, короткометражка, комедия', 'ужасы, фантастика',\n",
       "       'мультфильм, комедия, детский', 'драма, комедия, история',\n",
       "       'триллер, драма, история', 'триллер, криминал, комедия',\n",
       "       'приключения, фантастика, семейный',\n",
       "       'приключения, биография, история', 'триллер, комедия',\n",
       "       'комедия, криминал, спорт', 'фэнтези, комедия, драма',\n",
       "       'криминал, комедия, триллер', 'комедия, биография, история',\n",
       "       'приключения, драма', 'криминал, драма, триллер',\n",
       "       'комедия, драма, мелодрама', 'криминал, триллер, драма',\n",
       "       'криминал, драма', 'мультфильм, семейный, фэнтези',\n",
       "       'мелодрама, драма, фэнтези', 'мультфильм, фэнтези', 'семейный',\n",
       "       'комедия, криминал, боевик', 'боевик, детектив',\n",
       "       'аниме, мультфильм, комедия', 'мелодрама, приключения, боевик',\n",
       "       'вестерн, приключения, боевик', 'документальный, комедия, история',\n",
       "       'вестерн, криминал, триллер', 'комедия, фэнтези, ужасы',\n",
       "       'драма, фэнтези, история', 'фэнтези, триллер, приключения',\n",
       "       'комедия, ужасы', 'фантастика, драма, ужасы',\n",
       "       'криминал, комедия, боевик', 'детектив, драма, криминал',\n",
       "       'военный, драма', 'биография, драма, история',\n",
       "       'комедия, фантастика', 'комедия, криминал, триллер',\n",
       "       'комедия, фэнтези', 'музыка, приключения, концерт',\n",
       "       'драма, фантастика', 'комедия, драма, короткометражка',\n",
       "       'комедия, приключения, фэнтези', 'комедия, приключения, мелодрама',\n",
       "       'боевик, история', 'комедия, мелодрама, криминал',\n",
       "       'комедия, приключения, история',\n",
       "       'короткометражка, комедия, криминал', 'криминал, комедия, драма',\n",
       "       'драма, история, триллер', 'триллер, ужасы, драма',\n",
       "       'музыка, концерт', 'мелодрама, драма, музыка',\n",
       "       'триллер, драма, ужасы', 'фантастика, приключения, драма',\n",
       "       'комедия, мелодрама, драма', 'триллер, драма, боевик',\n",
       "       'драма, музыка', 'детский', 'мюзикл, комедия',\n",
       "       'военный, приключения, драма', 'мюзикл, комедия, детский',\n",
       "       'мюзикл, семейный', 'комедия, история', 'триллер, военный',\n",
       "       'история, биография, драма',\n",
       "       'документальный, приключения, семейный',\n",
       "       'приключения, история, драма', 'спорт, драма',\n",
       "       'триллер, криминал, боевик', 'боевик, фэнтези',\n",
       "       'история, мелодрама', 'военный, драма, комедия',\n",
       "       'боевик, мелодрама', 'фэнтези, боевик, военный',\n",
       "       'комедия, приключения, детектив', 'мелодрама, фантастика, драма',\n",
       "       'детектив, триллер, боевик', 'фантастика, драма, детектив',\n",
       "       'драма, приключения, фэнтези', 'фантастика, мультфильм, драма',\n",
       "       'приключения, фантастика', 'триллер, детектив, ужасы',\n",
       "       'приключения, боевик', 'драма, история, музыка',\n",
       "       'драма, триллер, детектив', 'фантастика, детектив, боевик',\n",
       "       'фантастика, драма, триллер', 'фэнтези, семейный, мелодрама',\n",
       "       'мультфильм, семейный, детский', 'семейный, приключения, комедия',\n",
       "       'мультфильм, драма, приключения', 'приключения, детский',\n",
       "       'детский, мелодрама, семейный', 'комедия, драма, семейный',\n",
       "       'комедия, вестерн', 'комедия, боевик, криминал',\n",
       "       'короткометражка, мультфильм', 'приключения, боевик, триллер',\n",
       "       'детектив, ужасы, криминал', 'боевик, фантастика',\n",
       "       'ужасы, приключения', 'фэнтези, драма, биография',\n",
       "       'комедия, музыка', 'мелодрама, комедия, ужасы',\n",
       "       'фантастика, триллер, приключения', 'фэнтези, боевик, ужасы',\n",
       "       'детектив, фантастика, криминал', 'драма, криминал, фантастика',\n",
       "       'фильм-нуар, триллер, детектив',\n",
       "       'документальный, биография, спорт', 'драма, вестерн, боевик',\n",
       "       'ужасы, триллер, мелодрама', 'криминал, драма, комедия',\n",
       "       'ужасы, комедия, драма', 'детектив, криминал',\n",
       "       'драма, комедия, вестерн', 'комедия, фантастика, мелодрама',\n",
       "       'криминал, детектив, приключения', 'криминал, детектив',\n",
       "       'документальный, военный, история',\n",
       "       'музыка, концерт, документальный', 'история, драма, боевик',\n",
       "       'фантастика, драма, приключения', 'семейный, фэнтези',\n",
       "       'приключения, семейный, драма', 'драма, вестерн',\n",
       "       'мелодрама, приключения', 'мультфильм, приключения, фэнтези',\n",
       "       'мультфильм, приключения, комедия', 'ужасы, мелодрама, детектив',\n",
       "       'драма, военный, приключения', 'мюзикл, мелодрама',\n",
       "       'боевик, военный', 'боевик, приключения, история',\n",
       "       'драма, криминал, приключения', 'приключения, детектив, мелодрама',\n",
       "       'комедия, семейный, приключения', 'мюзикл, фэнтези, драма',\n",
       "       'мелодрама, криминал', 'мелодрама, история',\n",
       "       'триллер, драма, фантастика', 'драма, спорт, история',\n",
       "       'детский, семейный', 'триллер, мелодрама, детектив',\n",
       "       'детектив, фэнтези, триллер', 'драма, история, детектив',\n",
       "       'документальный, драма, история', 'биография, мелодрама, драма',\n",
       "       'военный, драма, история', 'мультфильм, фэнтези, история',\n",
       "       'биография, военный, драма', 'мюзикл, семейный, драма',\n",
       "       'фантастика, комедия, детектив', 'боевик, криминал, драма',\n",
       "       'детектив, история, драма', 'драма, боевик, приключения',\n",
       "       'драма, мелодрама, фэнтези', 'ужасы, фантастика, комедия',\n",
       "       'мультфильм, семейный, спорт', 'драма, триллер', 'фэнтези, боевик',\n",
       "       'ужасы, фэнтези, комедия', 'фантастика, приключения, семейный',\n",
       "       'документальный, криминал, военный',\n",
       "       'фэнтези, мелодрама, приключения', 'короткометражка, мелодрама',\n",
       "       'комедия, триллер', 'драма, комедия, триллер',\n",
       "       'триллер, детектив, криминал', 'комедия, музыка, драма',\n",
       "       'комедия, семейный, музыка', 'мелодрама, детектив, комедия',\n",
       "       'документальный, триллер, биография', 'короткометражка, музыка',\n",
       "       'спорт, драма, комедия', 'аниме, мультфильм',\n",
       "       'боевик, фантастика, триллер', 'драма, спорт, комедия',\n",
       "       'комедия, криминал, история', 'короткометражка, биография',\n",
       "       'мультфильм, приключения, фантастика', 'драма, криминал, спорт',\n",
       "       'триллер, ужасы, криминал', 'мультфильм, приключения, детектив',\n",
       "       'фэнтези, комедия', 'ужасы, триллер, криминал',\n",
       "       'комедия, фэнтези, мелодрама', 'история, драма, мелодрама',\n",
       "       'мультфильм, приключения, военный', 'драма, боевик, криминал',\n",
       "       'документальный, ужасы', 'комедия, военный, музыка',\n",
       "       'короткометражка, драма', 'драма, история, военный',\n",
       "       'документальный, новости, драма', 'ужасы, драма, вестерн',\n",
       "       'мюзикл, комедия, мелодрама', 'вестерн, драма, триллер',\n",
       "       'история, детектив', 'мюзикл, фэнтези, семейный',\n",
       "       'приключения, вестерн, боевик', 'драма, комедия, военный',\n",
       "       'биография, история, драма', 'фантастика, комедия, боевик',\n",
       "       'драма, комедия, детектив', 'мюзикл, мелодрама, фэнтези',\n",
       "       'ужасы, драма, мелодрама', 'ужасы, драма, триллер',\n",
       "       'боевик, драма, вестерн', 'комедия, семейный, фантастика',\n",
       "       'мультфильм, семейный, комедия', 'для взрослых, драма, комедия',\n",
       "       'драма, фантастика, ужасы', 'ужасы, комедия, музыка',\n",
       "       'комедия, история, драма', 'семейный, детектив, детский',\n",
       "       'приключения, мелодрама, детектив', 'военный, биография, драма',\n",
       "       'мелодрама, комедия, триллер', 'фантастика, мелодрама',\n",
       "       'семейный, приключения, военный', 'мелодрама, триллер, история',\n",
       "       'комедия, драма, криминал', 'документальный, боевик, приключения',\n",
       "       'приключения, военный', 'приключения, детский, комедия',\n",
       "       'боевик, вестерн, приключения', 'комедия, криминал, биография',\n",
       "       'фантастика, фэнтези, комедия', 'мультфильм, детский, комедия',\n",
       "       'спорт, мелодрама, криминал',\n",
       "       'семейный, приключения, документальный',\n",
       "       'приключения, биография, драма', 'комедия, мультфильм, фантастика',\n",
       "       'мелодрама, военный, драма', 'документальный, фэнтези, драма',\n",
       "       'драма, комедия, мультфильм', 'криминал, биография, комедия',\n",
       "       'история, драма', 'триллер, фэнтези', 'документальный, фэнтези',\n",
       "       'приключения, триллер, биография',\n",
       "       'мультфильм, короткометражка, ужасы', 'военный, детектив',\n",
       "       'мультфильм, приключения, детский', 'триллер, ужасы, детектив',\n",
       "       'детектив, триллер, ужасы', 'короткометражка',\n",
       "       'семейный, мультфильм, комедия', 'мультфильм, семейный, драма',\n",
       "       'криминал, комедия', 'фантастика, боевик, военный',\n",
       "       'комедия, боевик, фантастика', 'приключения, триллер',\n",
       "       'боевик, драма, биография', 'драма, комедия, фантастика',\n",
       "       'драма, триллер, биография', 'драма, приключения, триллер',\n",
       "       'комедия, фэнтези, приключения', 'приключения, детектив, семейный',\n",
       "       'фантастика, боевик, ужасы', 'боевик, триллер, фэнтези',\n",
       "       'ужасы, комедия, криминал', 'детектив, криминал, драма',\n",
       "       'мультфильм, биография, драма', 'комедия, приключения, спорт',\n",
       "       'детектив, криминал, боевик', 'приключения, фэнтези',\n",
       "       'история, боевик, фэнтези', 'комедия, семейный, фэнтези',\n",
       "       'боевик, приключения, семейный', 'драма, биография, мюзикл',\n",
       "       'биография, спорт, комедия', 'документальный, драма, биография',\n",
       "       'фантастика, приключения, военный',\n",
       "       'аниме, мультфильм, приключения', 'семейный, документальный',\n",
       "       'детектив, приключения, драма', 'семейный, приключения',\n",
       "       'ужасы, фэнтези, детектив', 'драма, приключения, семейный',\n",
       "       'фэнтези, мелодрама', 'приключения, история, военный',\n",
       "       'фэнтези, триллер, детектив', 'детектив, драма, триллер',\n",
       "       'документальный, спорт, биография', 'драма, ужасы',\n",
       "       'комедия, триллер, драма', 'биография, музыка, драма',\n",
       "       'фэнтези, ужасы', 'детектив, мелодрама, фэнтези',\n",
       "       'биография, драма, криминал', 'боевик, военный, история',\n",
       "       'триллер, мелодрама, криминал', 'фантастика, детектив, фэнтези',\n",
       "       'военный, история, драма', 'биография, драма',\n",
       "       'детектив, приключения, триллер',\n",
       "       'мультфильм, короткометражка, мюзикл',\n",
       "       'мультфильм, детский, семейный', 'фантастика, приключения',\n",
       "       'семейный, мелодрама', 'документальный, драма, комедия',\n",
       "       'документальный, семейный, музыка',\n",
       "       'комедия, приключения, криминал', 'мелодрама, музыка, драма',\n",
       "       'детектив, фантастика, триллер', 'документальный, спорт',\n",
       "       'драма, мелодрама, триллер', 'детектив, фильм-нуар, комедия',\n",
       "       'приключения, фантастика, драма', 'биография, документальный',\n",
       "       'триллер, фантастика, драма', 'биография, драма, военный',\n",
       "       'ужасы, фантастика, мелодрама', 'история, биография, военный',\n",
       "       'драма, криминал, вестерн', 'мелодрама, семейный, приключения',\n",
       "       'детектив, комедия', 'детектив, мелодрама',\n",
       "       'драма, военный, боевик', 'фантастика, драма, криминал',\n",
       "       'драма, комедия, ужасы', 'комедия, драма, биография',\n",
       "       'документальный, музыка, биография',\n",
       "       'мультфильм, боевик, приключения', 'криминал, мелодрама',\n",
       "       'триллер, ужасы, мелодрама', 'мультфильм, мелодрама, драма',\n",
       "       'боевик, военный, драма', 'детский, мультфильм, приключения',\n",
       "       'фэнтези, семейный, приключения', 'ужасы, триллер, приключения',\n",
       "       'семейный, фэнтези, комедия', 'фэнтези, комедия, детектив',\n",
       "       'фэнтези, ужасы, триллер', 'аниме, мультфильм, короткометражка',\n",
       "       'история, приключения', 'драма, боевик, история',\n",
       "       'фантастика, фэнтези, детектив', 'вестерн, биография, драма',\n",
       "       'биография, криминал, триллер', 'драма, история, биография',\n",
       "       'биография, музыка, мюзикл', 'фэнтези, драма, фильм-нуар',\n",
       "       'приключения, драма, фантастика', 'драма, военный, триллер',\n",
       "       'комедия, фэнтези, криминал', 'драма, криминал, семейный',\n",
       "       'детектив, боевик, история', 'триллер, приключения, драма',\n",
       "       'ужасы, комедия, детектив', 'триллер, криминал, приключения',\n",
       "       'комедия, детектив, приключения', 'аниме, мультфильм, детектив',\n",
       "       'фэнтези, драма, ужасы', 'приключения, фэнтези, семейный',\n",
       "       'драма, биография, комедия', 'триллер, комедия, ужасы',\n",
       "       'реальное ТВ', 'ужасы, драма, военный',\n",
       "       'фэнтези, комедия, криминал', 'мультфильм, история',\n",
       "       'музыка, мелодрама, фэнтези', 'мультфильм, комедия, фантастика',\n",
       "       'биография, криминал, драма', 'биография, спорт, история',\n",
       "       'комедия, мелодрама, фантастика', 'криминал, боевик, комедия',\n",
       "       'мультфильм, мелодрама, приключения', 'история, криминал',\n",
       "       'фантастика, фэнтези, триллер', 'драма, триллер, криминал',\n",
       "       'детектив, комедия, драма', 'военный, боевик, история',\n",
       "       'комедия, драма, военный', 'короткометражка, драма, триллер',\n",
       "       'триллер, фантастика, боевик', 'криминал, боевик',\n",
       "       'боевик, драма, триллер', 'драма, криминал, фильм-нуар',\n",
       "       'документальный, военный, драма', 'мелодрама, история, драма',\n",
       "       'мультфильм, детский, приключения'], dtype=object)"
      ]
     },
     "execution_count": 36,
     "metadata": {},
     "output_type": "execute_result"
    }
   ],
   "source": [
    "sorted_mkrf_movies_show['genres'].unique()"
   ]
  },
  {
   "cell_type": "markdown",
   "metadata": {
    "id": "PnXKIVdFgFyR"
   },
   "source": [
    "##### Сделаем анализ данных в столбце type."
   ]
  },
  {
   "cell_type": "code",
   "execution_count": 37,
   "metadata": {},
   "outputs": [
    {
     "data": {
      "text/plain": [
       "array(['Художественный', 'Анимационный', 'Прочие', 'Научно-популярный',\n",
       "       'Документальный', ' Художественный', ' Анимационный',\n",
       "       'Музыкально-развлекательный'], dtype=object)"
      ]
     },
     "execution_count": 37,
     "metadata": {},
     "output_type": "execute_result"
    }
   ],
   "source": [
    "sorted_mkrf_movies_show['type'].unique()"
   ]
  },
  {
   "cell_type": "code",
   "execution_count": 38,
   "metadata": {},
   "outputs": [
    {
     "data": {
      "text/plain": [
       "array(['Художественный', 'Анимационный', 'Прочие', 'Научно-популярный',\n",
       "       'Документальный', 'Музыкально-развлекательный'], dtype=object)"
      ]
     },
     "execution_count": 38,
     "metadata": {},
     "output_type": "execute_result"
    }
   ],
   "source": [
    "sorted_mkrf_movies_show['type'] = sorted_mkrf_movies_show['type'].str.strip()\n",
    "sorted_mkrf_movies_show['type'].unique()"
   ]
  },
  {
   "cell_type": "markdown",
   "metadata": {
    "id": "PnXKIVdFgFyR"
   },
   "source": [
    "##### Сделаем проверку на дубликаты по столбцу title."
   ]
  },
  {
   "cell_type": "code",
   "execution_count": 39,
   "metadata": {
    "id": "aKck8RIdgFyQ",
    "scrolled": true
   },
   "outputs": [
    {
     "data": {
      "text/plain": [
       "0"
      ]
     },
     "execution_count": 39,
     "metadata": {},
     "output_type": "execute_result"
    }
   ],
   "source": [
    "sorted_mkrf_movies_show['title'].duplicated().sum()"
   ]
  },
  {
   "cell_type": "markdown",
   "metadata": {},
   "source": [
    "После обработки категориальных данных дополнительных дубликатов не появилось."
   ]
  },
  {
   "cell_type": "markdown",
   "metadata": {
    "id": "XFSN5lrEgFyR"
   },
   "source": [
    "#### Шаг 2.5. Проверьте количественные значения\n",
    "\n",
    "- Проверьте, обнаружились ли в таких столбцах подозрительные данные. Как с такими данными лучше поступить?"
   ]
  },
  {
   "cell_type": "code",
   "execution_count": 40,
   "metadata": {
    "id": "YbzClBxagFyS",
    "scrolled": true
   },
   "outputs": [
    {
     "data": {
      "text/html": [
       "<div>\n",
       "<style scoped>\n",
       "    .dataframe tbody tr th:only-of-type {\n",
       "        vertical-align: middle;\n",
       "    }\n",
       "\n",
       "    .dataframe tbody tr th {\n",
       "        vertical-align: top;\n",
       "    }\n",
       "\n",
       "    .dataframe thead th {\n",
       "        text-align: right;\n",
       "    }\n",
       "</style>\n",
       "<table border=\"1\" class=\"dataframe\">\n",
       "  <thead>\n",
       "    <tr style=\"text-align: right;\">\n",
       "      <th></th>\n",
       "      <th>title</th>\n",
       "      <th>puNumber</th>\n",
       "      <th>show_start_date</th>\n",
       "      <th>type</th>\n",
       "      <th>film_studio</th>\n",
       "      <th>production_country</th>\n",
       "      <th>director</th>\n",
       "      <th>producer</th>\n",
       "      <th>age_restriction</th>\n",
       "      <th>refundable_support</th>\n",
       "      <th>nonrefundable_support</th>\n",
       "      <th>budget</th>\n",
       "      <th>financing_source</th>\n",
       "      <th>ratings</th>\n",
       "      <th>genres</th>\n",
       "      <th>box_office</th>\n",
       "    </tr>\n",
       "  </thead>\n",
       "  <tbody>\n",
       "    <tr>\n",
       "      <th>3127</th>\n",
       "      <td>14+</td>\n",
       "      <td>111023614</td>\n",
       "      <td>2014-12-19 12:00:00+00:00</td>\n",
       "      <td>Художественный</td>\n",
       "      <td>ООО Киностудия  \"Сентябрь\"</td>\n",
       "      <td>Россия</td>\n",
       "      <td>А.Зайцев</td>\n",
       "      <td>О.Гранина, А.Зайцев</td>\n",
       "      <td>«16+» - для детей старше 16 лет</td>\n",
       "      <td>0.0</td>\n",
       "      <td>23000000.0</td>\n",
       "      <td>0.0</td>\n",
       "      <td>Министерство культуры, Фонд кино</td>\n",
       "      <td>6.6</td>\n",
       "      <td>мелодрама</td>\n",
       "      <td>1.023402e+07</td>\n",
       "    </tr>\n",
       "    <tr>\n",
       "      <th>3225</th>\n",
       "      <td>Дуxless 2</td>\n",
       "      <td>111000415</td>\n",
       "      <td>2015-01-26 12:00:00+00:00</td>\n",
       "      <td>Художественный</td>\n",
       "      <td>ООО \"Киностудия \"Слово\", ООО \"Арт Пикчерс Студия\"</td>\n",
       "      <td>Россия</td>\n",
       "      <td>Р.Прыгунов</td>\n",
       "      <td>П.Ануров, Ф.Бондарчук, Д.Рудовский</td>\n",
       "      <td>«16+» - для детей старше 16 лет</td>\n",
       "      <td>0.0</td>\n",
       "      <td>75000000.0</td>\n",
       "      <td>0.0</td>\n",
       "      <td>Фонд кино</td>\n",
       "      <td>6.6</td>\n",
       "      <td>драма</td>\n",
       "      <td>4.461635e+08</td>\n",
       "    </tr>\n",
       "    <tr>\n",
       "      <th>3490</th>\n",
       "      <td>Бармен.</td>\n",
       "      <td>111009615</td>\n",
       "      <td>2015-05-26 12:00:00+00:00</td>\n",
       "      <td>Художественный</td>\n",
       "      <td>АО \"ВайТ Медиа\", ООО \"Арт Пикчерс Студия\"</td>\n",
       "      <td>Россия</td>\n",
       "      <td>Д.Штурманова</td>\n",
       "      <td>Т.Вайнштейн</td>\n",
       "      <td>«16+» - для детей старше 16 лет</td>\n",
       "      <td>20000000.0</td>\n",
       "      <td>0.0</td>\n",
       "      <td>0.0</td>\n",
       "      <td>Фонд кино</td>\n",
       "      <td>6.2</td>\n",
       "      <td>комедия, фэнтези</td>\n",
       "      <td>6.741897e+07</td>\n",
       "    </tr>\n",
       "    <tr>\n",
       "      <th>3510</th>\n",
       "      <td>Тряпичный союз</td>\n",
       "      <td>111010215</td>\n",
       "      <td>2015-06-08 12:00:00+00:00</td>\n",
       "      <td>Художественный</td>\n",
       "      <td>ООО \"Кинокомпания \"КОКТЕБЕЛЬ\"</td>\n",
       "      <td>Россия</td>\n",
       "      <td>М.Местецкий</td>\n",
       "      <td>Р.Борисевич, А.Кушаев</td>\n",
       "      <td>«18+» - запрещено для детей</td>\n",
       "      <td>0.0</td>\n",
       "      <td>59000000.0</td>\n",
       "      <td>0.0</td>\n",
       "      <td>Фонд кино</td>\n",
       "      <td>6.3</td>\n",
       "      <td>комедия, драма</td>\n",
       "      <td>1.957739e+06</td>\n",
       "    </tr>\n",
       "    <tr>\n",
       "      <th>3575</th>\n",
       "      <td>Савва. Сердце воина</td>\n",
       "      <td>114001715</td>\n",
       "      <td>2015-07-21 12:00:00+00:00</td>\n",
       "      <td>Анимационный</td>\n",
       "      <td>ООО \"Глюкоза Продакшн\", ООО \"Арт Пикчерс Студия\"</td>\n",
       "      <td>Россия</td>\n",
       "      <td>М.Фадеев</td>\n",
       "      <td>А.Чистяков</td>\n",
       "      <td>«6+» - для детей старше 6 лет</td>\n",
       "      <td>60000000.0</td>\n",
       "      <td>100000000.0</td>\n",
       "      <td>0.0</td>\n",
       "      <td>Фонд кино</td>\n",
       "      <td>4.6</td>\n",
       "      <td>мультфильм, приключения, фэнтези</td>\n",
       "      <td>1.844876e+08</td>\n",
       "    </tr>\n",
       "    <tr>\n",
       "      <th>3696</th>\n",
       "      <td>Воин (2015)</td>\n",
       "      <td>111017315</td>\n",
       "      <td>2015-09-28 12:00:00+00:00</td>\n",
       "      <td>Художественный</td>\n",
       "      <td>ООО \"Форпост Продакшн\", ООО \"Арт Пикчерс Студия\"</td>\n",
       "      <td>Россия</td>\n",
       "      <td>А.Андрианов</td>\n",
       "      <td>ООО \"Арт Пикчерс Студия\"</td>\n",
       "      <td>«12+» - для детей старше 12 лет</td>\n",
       "      <td>10000000.0</td>\n",
       "      <td>70000000.0</td>\n",
       "      <td>0.0</td>\n",
       "      <td>Фонд кино</td>\n",
       "      <td>7.8</td>\n",
       "      <td>боевик, драма, криминал</td>\n",
       "      <td>1.965724e+08</td>\n",
       "    </tr>\n",
       "    <tr>\n",
       "      <th>3700</th>\n",
       "      <td>Срочно выйду замуж</td>\n",
       "      <td>111017115</td>\n",
       "      <td>2015-09-30 12:00:00+00:00</td>\n",
       "      <td>Художественный</td>\n",
       "      <td>АО \"ВайТ Медиа\", ООО \"Арт Пикчерс Студия\"</td>\n",
       "      <td>Россия</td>\n",
       "      <td>С Чекалов</td>\n",
       "      <td>Ф.Бондарчук, Т.Вайнштейн, Д.Рудовский</td>\n",
       "      <td>«16+» - для детей старше 16 лет</td>\n",
       "      <td>0.0</td>\n",
       "      <td>35000000.0</td>\n",
       "      <td>0.0</td>\n",
       "      <td>Фонд кино</td>\n",
       "      <td>5.1</td>\n",
       "      <td>комедия, мелодрама</td>\n",
       "      <td>7.293778e+07</td>\n",
       "    </tr>\n",
       "    <tr>\n",
       "      <th>3971</th>\n",
       "      <td>Помню - не помню!</td>\n",
       "      <td>111004916</td>\n",
       "      <td>2016-03-01 12:00:00+00:00</td>\n",
       "      <td>Художественный</td>\n",
       "      <td>ООО \"КиноФирма\"</td>\n",
       "      <td>Россия</td>\n",
       "      <td>В.Ровенский</td>\n",
       "      <td>ООО \"КиноФирма\"</td>\n",
       "      <td>«12+» - для детей старше 12 лет</td>\n",
       "      <td>0.0</td>\n",
       "      <td>6000000.0</td>\n",
       "      <td>0.0</td>\n",
       "      <td>Министерство культуры</td>\n",
       "      <td>4.3</td>\n",
       "      <td>комедия</td>\n",
       "      <td>1.536293e+07</td>\n",
       "    </tr>\n",
       "    <tr>\n",
       "      <th>4101</th>\n",
       "      <td>Любовь с ограничениями</td>\n",
       "      <td>111008216</td>\n",
       "      <td>2016-04-29 12:00:00+00:00</td>\n",
       "      <td>Художественный</td>\n",
       "      <td>АО \"ВайТ Медиа\", ООО \"Арт Пикчерс Студия\"</td>\n",
       "      <td>Россия</td>\n",
       "      <td>Д.Тюрин</td>\n",
       "      <td>Ф.Бондарчук, Т.Вайнштейн, Д.Рудовский</td>\n",
       "      <td>«16+» - для детей старше 16 лет</td>\n",
       "      <td>19000000.0</td>\n",
       "      <td>51000000.0</td>\n",
       "      <td>0.0</td>\n",
       "      <td>Фонд кино</td>\n",
       "      <td>6.3</td>\n",
       "      <td>комедия, мелодрама</td>\n",
       "      <td>7.029905e+07</td>\n",
       "    </tr>\n",
       "    <tr>\n",
       "      <th>4453</th>\n",
       "      <td>Притяжение (2016)</td>\n",
       "      <td>111018116</td>\n",
       "      <td>2016-12-16 12:00:00+00:00</td>\n",
       "      <td>Художественный</td>\n",
       "      <td>ООО \"Водород 2011\", ООО \"Арт Пикчерс Студия\"</td>\n",
       "      <td>Россия</td>\n",
       "      <td>Ф.Бондарчук</td>\n",
       "      <td>ООО \"Арт Пикчерс Студия\"</td>\n",
       "      <td>«12+» - для детей старше 12 лет</td>\n",
       "      <td>0.0</td>\n",
       "      <td>250000000.0</td>\n",
       "      <td>0.0</td>\n",
       "      <td>Фонд кино</td>\n",
       "      <td>5.6</td>\n",
       "      <td>фантастика</td>\n",
       "      <td>1.038321e+09</td>\n",
       "    </tr>\n",
       "    <tr>\n",
       "      <th>4699</th>\n",
       "      <td>Мифы</td>\n",
       "      <td>111004317</td>\n",
       "      <td>2017-06-07 12:00:00+00:00</td>\n",
       "      <td>Художественный</td>\n",
       "      <td>ООО \"ХАЙПФИЛМ\", ООО \"Арт Пикчерс Студия\"</td>\n",
       "      <td>Россия</td>\n",
       "      <td>А.Молочников</td>\n",
       "      <td>Ф.Бондарчук, Д.Рудовский, И.Стюарт, М.Османн, ...</td>\n",
       "      <td>«16+» - для детей старше 16 лет</td>\n",
       "      <td>25000000.0</td>\n",
       "      <td>20000000.0</td>\n",
       "      <td>0.0</td>\n",
       "      <td>Фонд кино</td>\n",
       "      <td>4.8</td>\n",
       "      <td>комедия</td>\n",
       "      <td>5.045195e+07</td>\n",
       "    </tr>\n",
       "    <tr>\n",
       "      <th>4716</th>\n",
       "      <td>Чудо-юдо</td>\n",
       "      <td>114001817</td>\n",
       "      <td>2017-06-27 12:00:00+00:00</td>\n",
       "      <td>Анимационный</td>\n",
       "      <td>ООО \"КиноФирма\"</td>\n",
       "      <td>Россия</td>\n",
       "      <td>А.Лукичев</td>\n",
       "      <td>ООО \"КиноФирма\"</td>\n",
       "      <td>«6+» - для детей старше 6 лет</td>\n",
       "      <td>20000000.0</td>\n",
       "      <td>20000000.0</td>\n",
       "      <td>0.0</td>\n",
       "      <td>Фонд кино</td>\n",
       "      <td>5.2</td>\n",
       "      <td>мультфильм, фэнтези, семейный</td>\n",
       "      <td>5.510801e+07</td>\n",
       "    </tr>\n",
       "    <tr>\n",
       "      <th>5029</th>\n",
       "      <td>Селфи</td>\n",
       "      <td>111012117</td>\n",
       "      <td>2018-02-01 12:00:00+00:00</td>\n",
       "      <td>Художественный</td>\n",
       "      <td>ООО \"Киностудия \"Слово\", ООО \"Арт Пикчерс Студия\"</td>\n",
       "      <td>Россия</td>\n",
       "      <td>Н.Хомерики</td>\n",
       "      <td>П.Ануров, Ф.Бондарчук, Д.Рудовский</td>\n",
       "      <td>«16+» - для детей старше 16 лет</td>\n",
       "      <td>20000000.0</td>\n",
       "      <td>40000000.0</td>\n",
       "      <td>0.0</td>\n",
       "      <td>Фонд кино</td>\n",
       "      <td>5.8</td>\n",
       "      <td>триллер, драма</td>\n",
       "      <td>2.251964e+08</td>\n",
       "    </tr>\n",
       "    <tr>\n",
       "      <th>5212</th>\n",
       "      <td>Два хвоста</td>\n",
       "      <td>114001018</td>\n",
       "      <td>2018-05-31 12:00:00+00:00</td>\n",
       "      <td>Анимационный</td>\n",
       "      <td>ООО \"ЛИЦЕНЗИОННЫЕ БРЕНДЫ\"</td>\n",
       "      <td>Россия</td>\n",
       "      <td>В.Ровенский, Н.Лопато, В.Азеев</td>\n",
       "      <td>ООО \"ЛИЦЕНЗИОННЫЕ БРЕНДЫ\"</td>\n",
       "      <td>«6+» - для детей старше 6 лет</td>\n",
       "      <td>10000000.0</td>\n",
       "      <td>60000000.0</td>\n",
       "      <td>0.0</td>\n",
       "      <td>Фонд кино</td>\n",
       "      <td>5.0</td>\n",
       "      <td>мультфильм, детский</td>\n",
       "      <td>1.065143e+08</td>\n",
       "    </tr>\n",
       "    <tr>\n",
       "      <th>5445</th>\n",
       "      <td>Принцесса и дракон</td>\n",
       "      <td>114003018</td>\n",
       "      <td>2018-08-23 12:00:00+00:00</td>\n",
       "      <td>Анимационный</td>\n",
       "      <td>ООО \"ЛИЦЕНЗИОННЫЕ БРЕНДЫ\"</td>\n",
       "      <td>Россия</td>\n",
       "      <td>М.Нефедова</td>\n",
       "      <td>ООО \"ЛИЦЕНЗИОННЫЕ БРЕНДЫ\"</td>\n",
       "      <td>«6+» - для детей старше 6 лет</td>\n",
       "      <td>40000000.0</td>\n",
       "      <td>40000000.0</td>\n",
       "      <td>0.0</td>\n",
       "      <td>Фонд кино</td>\n",
       "      <td>5.2</td>\n",
       "      <td>мультфильм, фэнтези, детский</td>\n",
       "      <td>8.336633e+07</td>\n",
       "    </tr>\n",
       "    <tr>\n",
       "      <th>5677</th>\n",
       "      <td>Баба Яга</td>\n",
       "      <td>114006518</td>\n",
       "      <td>2018-11-08 12:00:00+00:00</td>\n",
       "      <td>Анимационный</td>\n",
       "      <td>ООО \"Арт Пикчерс Студия\"</td>\n",
       "      <td>Россия</td>\n",
       "      <td>В.Саков</td>\n",
       "      <td>ООО \"Арт Пикчерс Студия\", ООО \"КРИЭЙТИВ АНИМЭЙ...</td>\n",
       "      <td>«6+» - для детей старше 6 лет</td>\n",
       "      <td>0.0</td>\n",
       "      <td>138969465.0</td>\n",
       "      <td>0.0</td>\n",
       "      <td>Фонд кино</td>\n",
       "      <td>NaN</td>\n",
       "      <td>NaN</td>\n",
       "      <td>1.334699e+06</td>\n",
       "    </tr>\n",
       "    <tr>\n",
       "      <th>6134</th>\n",
       "      <td>Большое путешествие</td>\n",
       "      <td>114002419</td>\n",
       "      <td>2019-04-20 12:00:00+00:00</td>\n",
       "      <td>Анимационный</td>\n",
       "      <td>ООО \"ЛИЦЕНЗИОННЫЕ БРЕНДЫ\"</td>\n",
       "      <td>Россия</td>\n",
       "      <td>Н.Лопато, В.Ровенский</td>\n",
       "      <td>ООО \"ЛИЦЕНЗИОННЫЕ БРЕНДЫ\"</td>\n",
       "      <td>«6+» - для детей старше 6 лет</td>\n",
       "      <td>60000000.0</td>\n",
       "      <td>120000000.0</td>\n",
       "      <td>0.0</td>\n",
       "      <td>Фонд кино</td>\n",
       "      <td>6.2</td>\n",
       "      <td>мультфильм, комедия, приключения</td>\n",
       "      <td>1.476068e+08</td>\n",
       "    </tr>\n",
       "  </tbody>\n",
       "</table>\n",
       "</div>"
      ],
      "text/plain": [
       "                       title   puNumber           show_start_date  \\\n",
       "3127                     14+  111023614 2014-12-19 12:00:00+00:00   \n",
       "3225               Дуxless 2  111000415 2015-01-26 12:00:00+00:00   \n",
       "3490                 Бармен.  111009615 2015-05-26 12:00:00+00:00   \n",
       "3510          Тряпичный союз  111010215 2015-06-08 12:00:00+00:00   \n",
       "3575     Савва. Сердце воина  114001715 2015-07-21 12:00:00+00:00   \n",
       "3696             Воин (2015)  111017315 2015-09-28 12:00:00+00:00   \n",
       "3700      Срочно выйду замуж  111017115 2015-09-30 12:00:00+00:00   \n",
       "3971       Помню - не помню!  111004916 2016-03-01 12:00:00+00:00   \n",
       "4101  Любовь с ограничениями  111008216 2016-04-29 12:00:00+00:00   \n",
       "4453       Притяжение (2016)  111018116 2016-12-16 12:00:00+00:00   \n",
       "4699                    Мифы  111004317 2017-06-07 12:00:00+00:00   \n",
       "4716                Чудо-юдо  114001817 2017-06-27 12:00:00+00:00   \n",
       "5029                   Селфи  111012117 2018-02-01 12:00:00+00:00   \n",
       "5212              Два хвоста  114001018 2018-05-31 12:00:00+00:00   \n",
       "5445      Принцесса и дракон  114003018 2018-08-23 12:00:00+00:00   \n",
       "5677                Баба Яга  114006518 2018-11-08 12:00:00+00:00   \n",
       "6134     Большое путешествие  114002419 2019-04-20 12:00:00+00:00   \n",
       "\n",
       "                type                                        film_studio  \\\n",
       "3127  Художественный                         ООО Киностудия  \"Сентябрь\"   \n",
       "3225  Художественный  ООО \"Киностудия \"Слово\", ООО \"Арт Пикчерс Студия\"   \n",
       "3490  Художественный          АО \"ВайТ Медиа\", ООО \"Арт Пикчерс Студия\"   \n",
       "3510  Художественный                      ООО \"Кинокомпания \"КОКТЕБЕЛЬ\"   \n",
       "3575    Анимационный   ООО \"Глюкоза Продакшн\", ООО \"Арт Пикчерс Студия\"   \n",
       "3696  Художественный   ООО \"Форпост Продакшн\", ООО \"Арт Пикчерс Студия\"   \n",
       "3700  Художественный          АО \"ВайТ Медиа\", ООО \"Арт Пикчерс Студия\"   \n",
       "3971  Художественный                                    ООО \"КиноФирма\"   \n",
       "4101  Художественный          АО \"ВайТ Медиа\", ООО \"Арт Пикчерс Студия\"   \n",
       "4453  Художественный       ООО \"Водород 2011\", ООО \"Арт Пикчерс Студия\"   \n",
       "4699  Художественный           ООО \"ХАЙПФИЛМ\", ООО \"Арт Пикчерс Студия\"   \n",
       "4716    Анимационный                                    ООО \"КиноФирма\"   \n",
       "5029  Художественный  ООО \"Киностудия \"Слово\", ООО \"Арт Пикчерс Студия\"   \n",
       "5212    Анимационный                          ООО \"ЛИЦЕНЗИОННЫЕ БРЕНДЫ\"   \n",
       "5445    Анимационный                          ООО \"ЛИЦЕНЗИОННЫЕ БРЕНДЫ\"   \n",
       "5677    Анимационный                           ООО \"Арт Пикчерс Студия\"   \n",
       "6134    Анимационный                          ООО \"ЛИЦЕНЗИОННЫЕ БРЕНДЫ\"   \n",
       "\n",
       "     production_country                        director  \\\n",
       "3127             Россия                        А.Зайцев   \n",
       "3225             Россия                      Р.Прыгунов   \n",
       "3490             Россия                    Д.Штурманова   \n",
       "3510             Россия                     М.Местецкий   \n",
       "3575             Россия                        М.Фадеев   \n",
       "3696             Россия                     А.Андрианов   \n",
       "3700             Россия                       С Чекалов   \n",
       "3971             Россия                     В.Ровенский   \n",
       "4101             Россия                         Д.Тюрин   \n",
       "4453             Россия                     Ф.Бондарчук   \n",
       "4699             Россия                    А.Молочников   \n",
       "4716             Россия                       А.Лукичев   \n",
       "5029             Россия                      Н.Хомерики   \n",
       "5212             Россия  В.Ровенский, Н.Лопато, В.Азеев   \n",
       "5445             Россия                      М.Нефедова   \n",
       "5677             Россия                         В.Саков   \n",
       "6134             Россия           Н.Лопато, В.Ровенский   \n",
       "\n",
       "                                               producer  \\\n",
       "3127                                О.Гранина, А.Зайцев   \n",
       "3225                 П.Ануров, Ф.Бондарчук, Д.Рудовский   \n",
       "3490                                        Т.Вайнштейн   \n",
       "3510                              Р.Борисевич, А.Кушаев   \n",
       "3575                                         А.Чистяков   \n",
       "3696                           ООО \"Арт Пикчерс Студия\"   \n",
       "3700              Ф.Бондарчук, Т.Вайнштейн, Д.Рудовский   \n",
       "3971                                    ООО \"КиноФирма\"   \n",
       "4101              Ф.Бондарчук, Т.Вайнштейн, Д.Рудовский   \n",
       "4453                           ООО \"Арт Пикчерс Студия\"   \n",
       "4699  Ф.Бондарчук, Д.Рудовский, И.Стюарт, М.Османн, ...   \n",
       "4716                                    ООО \"КиноФирма\"   \n",
       "5029                 П.Ануров, Ф.Бондарчук, Д.Рудовский   \n",
       "5212                          ООО \"ЛИЦЕНЗИОННЫЕ БРЕНДЫ\"   \n",
       "5445                          ООО \"ЛИЦЕНЗИОННЫЕ БРЕНДЫ\"   \n",
       "5677  ООО \"Арт Пикчерс Студия\", ООО \"КРИЭЙТИВ АНИМЭЙ...   \n",
       "6134                          ООО \"ЛИЦЕНЗИОННЫЕ БРЕНДЫ\"   \n",
       "\n",
       "                      age_restriction  refundable_support  \\\n",
       "3127  «16+» - для детей старше 16 лет                 0.0   \n",
       "3225  «16+» - для детей старше 16 лет                 0.0   \n",
       "3490  «16+» - для детей старше 16 лет          20000000.0   \n",
       "3510      «18+» - запрещено для детей                 0.0   \n",
       "3575    «6+» - для детей старше 6 лет          60000000.0   \n",
       "3696  «12+» - для детей старше 12 лет          10000000.0   \n",
       "3700  «16+» - для детей старше 16 лет                 0.0   \n",
       "3971  «12+» - для детей старше 12 лет                 0.0   \n",
       "4101  «16+» - для детей старше 16 лет          19000000.0   \n",
       "4453  «12+» - для детей старше 12 лет                 0.0   \n",
       "4699  «16+» - для детей старше 16 лет          25000000.0   \n",
       "4716    «6+» - для детей старше 6 лет          20000000.0   \n",
       "5029  «16+» - для детей старше 16 лет          20000000.0   \n",
       "5212    «6+» - для детей старше 6 лет          10000000.0   \n",
       "5445    «6+» - для детей старше 6 лет          40000000.0   \n",
       "5677    «6+» - для детей старше 6 лет                 0.0   \n",
       "6134    «6+» - для детей старше 6 лет          60000000.0   \n",
       "\n",
       "      nonrefundable_support  budget                  financing_source  \\\n",
       "3127             23000000.0     0.0  Министерство культуры, Фонд кино   \n",
       "3225             75000000.0     0.0                         Фонд кино   \n",
       "3490                    0.0     0.0                         Фонд кино   \n",
       "3510             59000000.0     0.0                         Фонд кино   \n",
       "3575            100000000.0     0.0                         Фонд кино   \n",
       "3696             70000000.0     0.0                         Фонд кино   \n",
       "3700             35000000.0     0.0                         Фонд кино   \n",
       "3971              6000000.0     0.0             Министерство культуры   \n",
       "4101             51000000.0     0.0                         Фонд кино   \n",
       "4453            250000000.0     0.0                         Фонд кино   \n",
       "4699             20000000.0     0.0                         Фонд кино   \n",
       "4716             20000000.0     0.0                         Фонд кино   \n",
       "5029             40000000.0     0.0                         Фонд кино   \n",
       "5212             60000000.0     0.0                         Фонд кино   \n",
       "5445             40000000.0     0.0                         Фонд кино   \n",
       "5677            138969465.0     0.0                         Фонд кино   \n",
       "6134            120000000.0     0.0                         Фонд кино   \n",
       "\n",
       "      ratings                            genres    box_office  \n",
       "3127      6.6                         мелодрама  1.023402e+07  \n",
       "3225      6.6                             драма  4.461635e+08  \n",
       "3490      6.2                  комедия, фэнтези  6.741897e+07  \n",
       "3510      6.3                    комедия, драма  1.957739e+06  \n",
       "3575      4.6  мультфильм, приключения, фэнтези  1.844876e+08  \n",
       "3696      7.8           боевик, драма, криминал  1.965724e+08  \n",
       "3700      5.1                комедия, мелодрама  7.293778e+07  \n",
       "3971      4.3                           комедия  1.536293e+07  \n",
       "4101      6.3                комедия, мелодрама  7.029905e+07  \n",
       "4453      5.6                        фантастика  1.038321e+09  \n",
       "4699      4.8                           комедия  5.045195e+07  \n",
       "4716      5.2     мультфильм, фэнтези, семейный  5.510801e+07  \n",
       "5029      5.8                    триллер, драма  2.251964e+08  \n",
       "5212      5.0               мультфильм, детский  1.065143e+08  \n",
       "5445      5.2      мультфильм, фэнтези, детский  8.336633e+07  \n",
       "5677      NaN                               NaN  1.334699e+06  \n",
       "6134      6.2  мультфильм, комедия, приключения  1.476068e+08  "
      ]
     },
     "execution_count": 40,
     "metadata": {},
     "output_type": "execute_result"
    }
   ],
   "source": [
    "_wrong_budget = sorted_mkrf_movies_show[sorted_mkrf_movies_show['budget'] < \n",
    "                                       (sorted_mkrf_movies_show['refundable_support'] + \n",
    "                                        sorted_mkrf_movies_show['nonrefundable_support'])]\n",
    "_wrong_budget"
   ]
  },
  {
   "cell_type": "markdown",
   "metadata": {},
   "source": [
    "Есть фильмы, которые выходили с господдержкой, но в бюджете стоит 0. Найдём процент суммарной господдержки от бюджета картины и там где значение 0 в бюджете, заменим значения на суммарную господдержку деленой на средний процент господдержки."
   ]
  },
  {
   "cell_type": "code",
   "execution_count": 41,
   "metadata": {
    "scrolled": true
   },
   "outputs": [
    {
     "name": "stdout",
     "output_type": "stream",
     "text": [
      "Чаще всего доля участия государства в бюджете составляет 0.6153846153846154\n",
      "\n"
     ]
    },
    {
     "data": {
      "image/png": "[encoded data removed]",
      "text/plain": [
       "<Figure size 1080x360 with 1 Axes>"
      ]
     },
     "metadata": {
      "needs_background": "light"
     },
     "output_type": "display_data"
    }
   ],
   "source": [
    "ax = sorted_mkrf_movies_show.plot.scatter(\n",
    "    title='Зависимость размера бюджета от объёма господдержки',\n",
    "    label='объём возвратных средств',\n",
    "    x='budget',\n",
    "    y='refundable_support',\n",
    "    color='blue',\n",
    "    alpha=0.3\n",
    ")\n",
    "\n",
    "sorted_mkrf_movies_show.plot.scatter(\n",
    "    label='объём невозвратных средств',\n",
    "    x='budget', y='nonrefundable_support',\n",
    "    color='green',\n",
    "    alpha=0.3,\n",
    "    ax=ax,\n",
    "    grid=True,\n",
    "    figsize=(15, 5)\n",
    ")\n",
    "\n",
    "sorted_mkrf_movies_show['support_percentage'] = \\\n",
    "(sorted_mkrf_movies_show['refundable_support'] + \n",
    " sorted_mkrf_movies_show['nonrefundable_support']) / sorted_mkrf_movies_show['budget']\n",
    "\n",
    "support_percentage = sorted_mkrf_movies_show['support_percentage'].median()\n",
    "\n",
    "print('Чаще всего доля участия государства в бюджете составляет', support_percentage)\n",
    "print()"
   ]
  },
  {
   "cell_type": "code",
   "execution_count": 42,
   "metadata": {
    "scrolled": true
   },
   "outputs": [
    {
     "data": {
      "text/html": [
       "<div>\n",
       "<style scoped>\n",
       "    .dataframe tbody tr th:only-of-type {\n",
       "        vertical-align: middle;\n",
       "    }\n",
       "\n",
       "    .dataframe tbody tr th {\n",
       "        vertical-align: top;\n",
       "    }\n",
       "\n",
       "    .dataframe thead th {\n",
       "        text-align: right;\n",
       "    }\n",
       "</style>\n",
       "<table border=\"1\" class=\"dataframe\">\n",
       "  <thead>\n",
       "    <tr style=\"text-align: right;\">\n",
       "      <th></th>\n",
       "      <th>title</th>\n",
       "      <th>puNumber</th>\n",
       "      <th>show_start_date</th>\n",
       "      <th>type</th>\n",
       "      <th>film_studio</th>\n",
       "      <th>production_country</th>\n",
       "      <th>director</th>\n",
       "      <th>producer</th>\n",
       "      <th>age_restriction</th>\n",
       "      <th>refundable_support</th>\n",
       "      <th>nonrefundable_support</th>\n",
       "      <th>budget</th>\n",
       "      <th>financing_source</th>\n",
       "      <th>ratings</th>\n",
       "      <th>genres</th>\n",
       "      <th>box_office</th>\n",
       "      <th>support_percentage</th>\n",
       "    </tr>\n",
       "  </thead>\n",
       "  <tbody>\n",
       "    <tr>\n",
       "      <th>3127</th>\n",
       "      <td>14+</td>\n",
       "      <td>111023614</td>\n",
       "      <td>2014-12-19 12:00:00+00:00</td>\n",
       "      <td>Художественный</td>\n",
       "      <td>ООО Киностудия  \"Сентябрь\"</td>\n",
       "      <td>Россия</td>\n",
       "      <td>А.Зайцев</td>\n",
       "      <td>О.Гранина, А.Зайцев</td>\n",
       "      <td>«16+» - для детей старше 16 лет</td>\n",
       "      <td>0.0</td>\n",
       "      <td>23000000.0</td>\n",
       "      <td>3.737500e+07</td>\n",
       "      <td>Министерство культуры, Фонд кино</td>\n",
       "      <td>6.6</td>\n",
       "      <td>мелодрама</td>\n",
       "      <td>1.023402e+07</td>\n",
       "      <td>inf</td>\n",
       "    </tr>\n",
       "    <tr>\n",
       "      <th>3225</th>\n",
       "      <td>Дуxless 2</td>\n",
       "      <td>111000415</td>\n",
       "      <td>2015-01-26 12:00:00+00:00</td>\n",
       "      <td>Художественный</td>\n",
       "      <td>ООО \"Киностудия \"Слово\", ООО \"Арт Пикчерс Студия\"</td>\n",
       "      <td>Россия</td>\n",
       "      <td>Р.Прыгунов</td>\n",
       "      <td>П.Ануров, Ф.Бондарчук, Д.Рудовский</td>\n",
       "      <td>«16+» - для детей старше 16 лет</td>\n",
       "      <td>0.0</td>\n",
       "      <td>75000000.0</td>\n",
       "      <td>1.218750e+08</td>\n",
       "      <td>Фонд кино</td>\n",
       "      <td>6.6</td>\n",
       "      <td>драма</td>\n",
       "      <td>4.461635e+08</td>\n",
       "      <td>inf</td>\n",
       "    </tr>\n",
       "    <tr>\n",
       "      <th>3490</th>\n",
       "      <td>Бармен.</td>\n",
       "      <td>111009615</td>\n",
       "      <td>2015-05-26 12:00:00+00:00</td>\n",
       "      <td>Художественный</td>\n",
       "      <td>АО \"ВайТ Медиа\", ООО \"Арт Пикчерс Студия\"</td>\n",
       "      <td>Россия</td>\n",
       "      <td>Д.Штурманова</td>\n",
       "      <td>Т.Вайнштейн</td>\n",
       "      <td>«16+» - для детей старше 16 лет</td>\n",
       "      <td>20000000.0</td>\n",
       "      <td>0.0</td>\n",
       "      <td>3.250000e+07</td>\n",
       "      <td>Фонд кино</td>\n",
       "      <td>6.2</td>\n",
       "      <td>комедия, фэнтези</td>\n",
       "      <td>6.741897e+07</td>\n",
       "      <td>inf</td>\n",
       "    </tr>\n",
       "    <tr>\n",
       "      <th>3510</th>\n",
       "      <td>Тряпичный союз</td>\n",
       "      <td>111010215</td>\n",
       "      <td>2015-06-08 12:00:00+00:00</td>\n",
       "      <td>Художественный</td>\n",
       "      <td>ООО \"Кинокомпания \"КОКТЕБЕЛЬ\"</td>\n",
       "      <td>Россия</td>\n",
       "      <td>М.Местецкий</td>\n",
       "      <td>Р.Борисевич, А.Кушаев</td>\n",
       "      <td>«18+» - запрещено для детей</td>\n",
       "      <td>0.0</td>\n",
       "      <td>59000000.0</td>\n",
       "      <td>9.587500e+07</td>\n",
       "      <td>Фонд кино</td>\n",
       "      <td>6.3</td>\n",
       "      <td>комедия, драма</td>\n",
       "      <td>1.957739e+06</td>\n",
       "      <td>inf</td>\n",
       "    </tr>\n",
       "    <tr>\n",
       "      <th>3575</th>\n",
       "      <td>Савва. Сердце воина</td>\n",
       "      <td>114001715</td>\n",
       "      <td>2015-07-21 12:00:00+00:00</td>\n",
       "      <td>Анимационный</td>\n",
       "      <td>ООО \"Глюкоза Продакшн\", ООО \"Арт Пикчерс Студия\"</td>\n",
       "      <td>Россия</td>\n",
       "      <td>М.Фадеев</td>\n",
       "      <td>А.Чистяков</td>\n",
       "      <td>«6+» - для детей старше 6 лет</td>\n",
       "      <td>60000000.0</td>\n",
       "      <td>100000000.0</td>\n",
       "      <td>2.600000e+08</td>\n",
       "      <td>Фонд кино</td>\n",
       "      <td>4.6</td>\n",
       "      <td>мультфильм, приключения, фэнтези</td>\n",
       "      <td>1.844876e+08</td>\n",
       "      <td>inf</td>\n",
       "    </tr>\n",
       "    <tr>\n",
       "      <th>3696</th>\n",
       "      <td>Воин (2015)</td>\n",
       "      <td>111017315</td>\n",
       "      <td>2015-09-28 12:00:00+00:00</td>\n",
       "      <td>Художественный</td>\n",
       "      <td>ООО \"Форпост Продакшн\", ООО \"Арт Пикчерс Студия\"</td>\n",
       "      <td>Россия</td>\n",
       "      <td>А.Андрианов</td>\n",
       "      <td>ООО \"Арт Пикчерс Студия\"</td>\n",
       "      <td>«12+» - для детей старше 12 лет</td>\n",
       "      <td>10000000.0</td>\n",
       "      <td>70000000.0</td>\n",
       "      <td>1.300000e+08</td>\n",
       "      <td>Фонд кино</td>\n",
       "      <td>7.8</td>\n",
       "      <td>боевик, драма, криминал</td>\n",
       "      <td>1.965724e+08</td>\n",
       "      <td>inf</td>\n",
       "    </tr>\n",
       "    <tr>\n",
       "      <th>3700</th>\n",
       "      <td>Срочно выйду замуж</td>\n",
       "      <td>111017115</td>\n",
       "      <td>2015-09-30 12:00:00+00:00</td>\n",
       "      <td>Художественный</td>\n",
       "      <td>АО \"ВайТ Медиа\", ООО \"Арт Пикчерс Студия\"</td>\n",
       "      <td>Россия</td>\n",
       "      <td>С Чекалов</td>\n",
       "      <td>Ф.Бондарчук, Т.Вайнштейн, Д.Рудовский</td>\n",
       "      <td>«16+» - для детей старше 16 лет</td>\n",
       "      <td>0.0</td>\n",
       "      <td>35000000.0</td>\n",
       "      <td>5.687500e+07</td>\n",
       "      <td>Фонд кино</td>\n",
       "      <td>5.1</td>\n",
       "      <td>комедия, мелодрама</td>\n",
       "      <td>7.293778e+07</td>\n",
       "      <td>inf</td>\n",
       "    </tr>\n",
       "    <tr>\n",
       "      <th>3971</th>\n",
       "      <td>Помню - не помню!</td>\n",
       "      <td>111004916</td>\n",
       "      <td>2016-03-01 12:00:00+00:00</td>\n",
       "      <td>Художественный</td>\n",
       "      <td>ООО \"КиноФирма\"</td>\n",
       "      <td>Россия</td>\n",
       "      <td>В.Ровенский</td>\n",
       "      <td>ООО \"КиноФирма\"</td>\n",
       "      <td>«12+» - для детей старше 12 лет</td>\n",
       "      <td>0.0</td>\n",
       "      <td>6000000.0</td>\n",
       "      <td>9.750000e+06</td>\n",
       "      <td>Министерство культуры</td>\n",
       "      <td>4.3</td>\n",
       "      <td>комедия</td>\n",
       "      <td>1.536293e+07</td>\n",
       "      <td>inf</td>\n",
       "    </tr>\n",
       "    <tr>\n",
       "      <th>4101</th>\n",
       "      <td>Любовь с ограничениями</td>\n",
       "      <td>111008216</td>\n",
       "      <td>2016-04-29 12:00:00+00:00</td>\n",
       "      <td>Художественный</td>\n",
       "      <td>АО \"ВайТ Медиа\", ООО \"Арт Пикчерс Студия\"</td>\n",
       "      <td>Россия</td>\n",
       "      <td>Д.Тюрин</td>\n",
       "      <td>Ф.Бондарчук, Т.Вайнштейн, Д.Рудовский</td>\n",
       "      <td>«16+» - для детей старше 16 лет</td>\n",
       "      <td>19000000.0</td>\n",
       "      <td>51000000.0</td>\n",
       "      <td>1.137500e+08</td>\n",
       "      <td>Фонд кино</td>\n",
       "      <td>6.3</td>\n",
       "      <td>комедия, мелодрама</td>\n",
       "      <td>7.029905e+07</td>\n",
       "      <td>inf</td>\n",
       "    </tr>\n",
       "    <tr>\n",
       "      <th>4453</th>\n",
       "      <td>Притяжение (2016)</td>\n",
       "      <td>111018116</td>\n",
       "      <td>2016-12-16 12:00:00+00:00</td>\n",
       "      <td>Художественный</td>\n",
       "      <td>ООО \"Водород 2011\", ООО \"Арт Пикчерс Студия\"</td>\n",
       "      <td>Россия</td>\n",
       "      <td>Ф.Бондарчук</td>\n",
       "      <td>ООО \"Арт Пикчерс Студия\"</td>\n",
       "      <td>«12+» - для детей старше 12 лет</td>\n",
       "      <td>0.0</td>\n",
       "      <td>250000000.0</td>\n",
       "      <td>4.062500e+08</td>\n",
       "      <td>Фонд кино</td>\n",
       "      <td>5.6</td>\n",
       "      <td>фантастика</td>\n",
       "      <td>1.038321e+09</td>\n",
       "      <td>inf</td>\n",
       "    </tr>\n",
       "    <tr>\n",
       "      <th>4699</th>\n",
       "      <td>Мифы</td>\n",
       "      <td>111004317</td>\n",
       "      <td>2017-06-07 12:00:00+00:00</td>\n",
       "      <td>Художественный</td>\n",
       "      <td>ООО \"ХАЙПФИЛМ\", ООО \"Арт Пикчерс Студия\"</td>\n",
       "      <td>Россия</td>\n",
       "      <td>А.Молочников</td>\n",
       "      <td>Ф.Бондарчук, Д.Рудовский, И.Стюарт, М.Османн, ...</td>\n",
       "      <td>«16+» - для детей старше 16 лет</td>\n",
       "      <td>25000000.0</td>\n",
       "      <td>20000000.0</td>\n",
       "      <td>7.312500e+07</td>\n",
       "      <td>Фонд кино</td>\n",
       "      <td>4.8</td>\n",
       "      <td>комедия</td>\n",
       "      <td>5.045195e+07</td>\n",
       "      <td>inf</td>\n",
       "    </tr>\n",
       "    <tr>\n",
       "      <th>4716</th>\n",
       "      <td>Чудо-юдо</td>\n",
       "      <td>114001817</td>\n",
       "      <td>2017-06-27 12:00:00+00:00</td>\n",
       "      <td>Анимационный</td>\n",
       "      <td>ООО \"КиноФирма\"</td>\n",
       "      <td>Россия</td>\n",
       "      <td>А.Лукичев</td>\n",
       "      <td>ООО \"КиноФирма\"</td>\n",
       "      <td>«6+» - для детей старше 6 лет</td>\n",
       "      <td>20000000.0</td>\n",
       "      <td>20000000.0</td>\n",
       "      <td>6.500000e+07</td>\n",
       "      <td>Фонд кино</td>\n",
       "      <td>5.2</td>\n",
       "      <td>мультфильм, фэнтези, семейный</td>\n",
       "      <td>5.510801e+07</td>\n",
       "      <td>inf</td>\n",
       "    </tr>\n",
       "    <tr>\n",
       "      <th>5029</th>\n",
       "      <td>Селфи</td>\n",
       "      <td>111012117</td>\n",
       "      <td>2018-02-01 12:00:00+00:00</td>\n",
       "      <td>Художественный</td>\n",
       "      <td>ООО \"Киностудия \"Слово\", ООО \"Арт Пикчерс Студия\"</td>\n",
       "      <td>Россия</td>\n",
       "      <td>Н.Хомерики</td>\n",
       "      <td>П.Ануров, Ф.Бондарчук, Д.Рудовский</td>\n",
       "      <td>«16+» - для детей старше 16 лет</td>\n",
       "      <td>20000000.0</td>\n",
       "      <td>40000000.0</td>\n",
       "      <td>9.750000e+07</td>\n",
       "      <td>Фонд кино</td>\n",
       "      <td>5.8</td>\n",
       "      <td>триллер, драма</td>\n",
       "      <td>2.251964e+08</td>\n",
       "      <td>inf</td>\n",
       "    </tr>\n",
       "    <tr>\n",
       "      <th>5212</th>\n",
       "      <td>Два хвоста</td>\n",
       "      <td>114001018</td>\n",
       "      <td>2018-05-31 12:00:00+00:00</td>\n",
       "      <td>Анимационный</td>\n",
       "      <td>ООО \"ЛИЦЕНЗИОННЫЕ БРЕНДЫ\"</td>\n",
       "      <td>Россия</td>\n",
       "      <td>В.Ровенский, Н.Лопато, В.Азеев</td>\n",
       "      <td>ООО \"ЛИЦЕНЗИОННЫЕ БРЕНДЫ\"</td>\n",
       "      <td>«6+» - для детей старше 6 лет</td>\n",
       "      <td>10000000.0</td>\n",
       "      <td>60000000.0</td>\n",
       "      <td>1.137500e+08</td>\n",
       "      <td>Фонд кино</td>\n",
       "      <td>5.0</td>\n",
       "      <td>мультфильм, детский</td>\n",
       "      <td>1.065143e+08</td>\n",
       "      <td>inf</td>\n",
       "    </tr>\n",
       "    <tr>\n",
       "      <th>5445</th>\n",
       "      <td>Принцесса и дракон</td>\n",
       "      <td>114003018</td>\n",
       "      <td>2018-08-23 12:00:00+00:00</td>\n",
       "      <td>Анимационный</td>\n",
       "      <td>ООО \"ЛИЦЕНЗИОННЫЕ БРЕНДЫ\"</td>\n",
       "      <td>Россия</td>\n",
       "      <td>М.Нефедова</td>\n",
       "      <td>ООО \"ЛИЦЕНЗИОННЫЕ БРЕНДЫ\"</td>\n",
       "      <td>«6+» - для детей старше 6 лет</td>\n",
       "      <td>40000000.0</td>\n",
       "      <td>40000000.0</td>\n",
       "      <td>1.300000e+08</td>\n",
       "      <td>Фонд кино</td>\n",
       "      <td>5.2</td>\n",
       "      <td>мультфильм, фэнтези, детский</td>\n",
       "      <td>8.336633e+07</td>\n",
       "      <td>inf</td>\n",
       "    </tr>\n",
       "    <tr>\n",
       "      <th>5677</th>\n",
       "      <td>Баба Яга</td>\n",
       "      <td>114006518</td>\n",
       "      <td>2018-11-08 12:00:00+00:00</td>\n",
       "      <td>Анимационный</td>\n",
       "      <td>ООО \"Арт Пикчерс Студия\"</td>\n",
       "      <td>Россия</td>\n",
       "      <td>В.Саков</td>\n",
       "      <td>ООО \"Арт Пикчерс Студия\", ООО \"КРИЭЙТИВ АНИМЭЙ...</td>\n",
       "      <td>«6+» - для детей старше 6 лет</td>\n",
       "      <td>0.0</td>\n",
       "      <td>138969465.0</td>\n",
       "      <td>2.258254e+08</td>\n",
       "      <td>Фонд кино</td>\n",
       "      <td>NaN</td>\n",
       "      <td>NaN</td>\n",
       "      <td>1.334699e+06</td>\n",
       "      <td>inf</td>\n",
       "    </tr>\n",
       "    <tr>\n",
       "      <th>6134</th>\n",
       "      <td>Большое путешествие</td>\n",
       "      <td>114002419</td>\n",
       "      <td>2019-04-20 12:00:00+00:00</td>\n",
       "      <td>Анимационный</td>\n",
       "      <td>ООО \"ЛИЦЕНЗИОННЫЕ БРЕНДЫ\"</td>\n",
       "      <td>Россия</td>\n",
       "      <td>Н.Лопато, В.Ровенский</td>\n",
       "      <td>ООО \"ЛИЦЕНЗИОННЫЕ БРЕНДЫ\"</td>\n",
       "      <td>«6+» - для детей старше 6 лет</td>\n",
       "      <td>60000000.0</td>\n",
       "      <td>120000000.0</td>\n",
       "      <td>2.925000e+08</td>\n",
       "      <td>Фонд кино</td>\n",
       "      <td>6.2</td>\n",
       "      <td>мультфильм, комедия, приключения</td>\n",
       "      <td>1.476068e+08</td>\n",
       "      <td>inf</td>\n",
       "    </tr>\n",
       "  </tbody>\n",
       "</table>\n",
       "</div>"
      ],
      "text/plain": [
       "                       title   puNumber           show_start_date  \\\n",
       "3127                     14+  111023614 2014-12-19 12:00:00+00:00   \n",
       "3225               Дуxless 2  111000415 2015-01-26 12:00:00+00:00   \n",
       "3490                 Бармен.  111009615 2015-05-26 12:00:00+00:00   \n",
       "3510          Тряпичный союз  111010215 2015-06-08 12:00:00+00:00   \n",
       "3575     Савва. Сердце воина  114001715 2015-07-21 12:00:00+00:00   \n",
       "3696             Воин (2015)  111017315 2015-09-28 12:00:00+00:00   \n",
       "3700      Срочно выйду замуж  111017115 2015-09-30 12:00:00+00:00   \n",
       "3971       Помню - не помню!  111004916 2016-03-01 12:00:00+00:00   \n",
       "4101  Любовь с ограничениями  111008216 2016-04-29 12:00:00+00:00   \n",
       "4453       Притяжение (2016)  111018116 2016-12-16 12:00:00+00:00   \n",
       "4699                    Мифы  111004317 2017-06-07 12:00:00+00:00   \n",
       "4716                Чудо-юдо  114001817 2017-06-27 12:00:00+00:00   \n",
       "5029                   Селфи  111012117 2018-02-01 12:00:00+00:00   \n",
       "5212              Два хвоста  114001018 2018-05-31 12:00:00+00:00   \n",
       "5445      Принцесса и дракон  114003018 2018-08-23 12:00:00+00:00   \n",
       "5677                Баба Яга  114006518 2018-11-08 12:00:00+00:00   \n",
       "6134     Большое путешествие  114002419 2019-04-20 12:00:00+00:00   \n",
       "\n",
       "                type                                        film_studio  \\\n",
       "3127  Художественный                         ООО Киностудия  \"Сентябрь\"   \n",
       "3225  Художественный  ООО \"Киностудия \"Слово\", ООО \"Арт Пикчерс Студия\"   \n",
       "3490  Художественный          АО \"ВайТ Медиа\", ООО \"Арт Пикчерс Студия\"   \n",
       "3510  Художественный                      ООО \"Кинокомпания \"КОКТЕБЕЛЬ\"   \n",
       "3575    Анимационный   ООО \"Глюкоза Продакшн\", ООО \"Арт Пикчерс Студия\"   \n",
       "3696  Художественный   ООО \"Форпост Продакшн\", ООО \"Арт Пикчерс Студия\"   \n",
       "3700  Художественный          АО \"ВайТ Медиа\", ООО \"Арт Пикчерс Студия\"   \n",
       "3971  Художественный                                    ООО \"КиноФирма\"   \n",
       "4101  Художественный          АО \"ВайТ Медиа\", ООО \"Арт Пикчерс Студия\"   \n",
       "4453  Художественный       ООО \"Водород 2011\", ООО \"Арт Пикчерс Студия\"   \n",
       "4699  Художественный           ООО \"ХАЙПФИЛМ\", ООО \"Арт Пикчерс Студия\"   \n",
       "4716    Анимационный                                    ООО \"КиноФирма\"   \n",
       "5029  Художественный  ООО \"Киностудия \"Слово\", ООО \"Арт Пикчерс Студия\"   \n",
       "5212    Анимационный                          ООО \"ЛИЦЕНЗИОННЫЕ БРЕНДЫ\"   \n",
       "5445    Анимационный                          ООО \"ЛИЦЕНЗИОННЫЕ БРЕНДЫ\"   \n",
       "5677    Анимационный                           ООО \"Арт Пикчерс Студия\"   \n",
       "6134    Анимационный                          ООО \"ЛИЦЕНЗИОННЫЕ БРЕНДЫ\"   \n",
       "\n",
       "     production_country                        director  \\\n",
       "3127             Россия                        А.Зайцев   \n",
       "3225             Россия                      Р.Прыгунов   \n",
       "3490             Россия                    Д.Штурманова   \n",
       "3510             Россия                     М.Местецкий   \n",
       "3575             Россия                        М.Фадеев   \n",
       "3696             Россия                     А.Андрианов   \n",
       "3700             Россия                       С Чекалов   \n",
       "3971             Россия                     В.Ровенский   \n",
       "4101             Россия                         Д.Тюрин   \n",
       "4453             Россия                     Ф.Бондарчук   \n",
       "4699             Россия                    А.Молочников   \n",
       "4716             Россия                       А.Лукичев   \n",
       "5029             Россия                      Н.Хомерики   \n",
       "5212             Россия  В.Ровенский, Н.Лопато, В.Азеев   \n",
       "5445             Россия                      М.Нефедова   \n",
       "5677             Россия                         В.Саков   \n",
       "6134             Россия           Н.Лопато, В.Ровенский   \n",
       "\n",
       "                                               producer  \\\n",
       "3127                                О.Гранина, А.Зайцев   \n",
       "3225                 П.Ануров, Ф.Бондарчук, Д.Рудовский   \n",
       "3490                                        Т.Вайнштейн   \n",
       "3510                              Р.Борисевич, А.Кушаев   \n",
       "3575                                         А.Чистяков   \n",
       "3696                           ООО \"Арт Пикчерс Студия\"   \n",
       "3700              Ф.Бондарчук, Т.Вайнштейн, Д.Рудовский   \n",
       "3971                                    ООО \"КиноФирма\"   \n",
       "4101              Ф.Бондарчук, Т.Вайнштейн, Д.Рудовский   \n",
       "4453                           ООО \"Арт Пикчерс Студия\"   \n",
       "4699  Ф.Бондарчук, Д.Рудовский, И.Стюарт, М.Османн, ...   \n",
       "4716                                    ООО \"КиноФирма\"   \n",
       "5029                 П.Ануров, Ф.Бондарчук, Д.Рудовский   \n",
       "5212                          ООО \"ЛИЦЕНЗИОННЫЕ БРЕНДЫ\"   \n",
       "5445                          ООО \"ЛИЦЕНЗИОННЫЕ БРЕНДЫ\"   \n",
       "5677  ООО \"Арт Пикчерс Студия\", ООО \"КРИЭЙТИВ АНИМЭЙ...   \n",
       "6134                          ООО \"ЛИЦЕНЗИОННЫЕ БРЕНДЫ\"   \n",
       "\n",
       "                      age_restriction  refundable_support  \\\n",
       "3127  «16+» - для детей старше 16 лет                 0.0   \n",
       "3225  «16+» - для детей старше 16 лет                 0.0   \n",
       "3490  «16+» - для детей старше 16 лет          20000000.0   \n",
       "3510      «18+» - запрещено для детей                 0.0   \n",
       "3575    «6+» - для детей старше 6 лет          60000000.0   \n",
       "3696  «12+» - для детей старше 12 лет          10000000.0   \n",
       "3700  «16+» - для детей старше 16 лет                 0.0   \n",
       "3971  «12+» - для детей старше 12 лет                 0.0   \n",
       "4101  «16+» - для детей старше 16 лет          19000000.0   \n",
       "4453  «12+» - для детей старше 12 лет                 0.0   \n",
       "4699  «16+» - для детей старше 16 лет          25000000.0   \n",
       "4716    «6+» - для детей старше 6 лет          20000000.0   \n",
       "5029  «16+» - для детей старше 16 лет          20000000.0   \n",
       "5212    «6+» - для детей старше 6 лет          10000000.0   \n",
       "5445    «6+» - для детей старше 6 лет          40000000.0   \n",
       "5677    «6+» - для детей старше 6 лет                 0.0   \n",
       "6134    «6+» - для детей старше 6 лет          60000000.0   \n",
       "\n",
       "      nonrefundable_support        budget                  financing_source  \\\n",
       "3127             23000000.0  3.737500e+07  Министерство культуры, Фонд кино   \n",
       "3225             75000000.0  1.218750e+08                         Фонд кино   \n",
       "3490                    0.0  3.250000e+07                         Фонд кино   \n",
       "3510             59000000.0  9.587500e+07                         Фонд кино   \n",
       "3575            100000000.0  2.600000e+08                         Фонд кино   \n",
       "3696             70000000.0  1.300000e+08                         Фонд кино   \n",
       "3700             35000000.0  5.687500e+07                         Фонд кино   \n",
       "3971              6000000.0  9.750000e+06             Министерство культуры   \n",
       "4101             51000000.0  1.137500e+08                         Фонд кино   \n",
       "4453            250000000.0  4.062500e+08                         Фонд кино   \n",
       "4699             20000000.0  7.312500e+07                         Фонд кино   \n",
       "4716             20000000.0  6.500000e+07                         Фонд кино   \n",
       "5029             40000000.0  9.750000e+07                         Фонд кино   \n",
       "5212             60000000.0  1.137500e+08                         Фонд кино   \n",
       "5445             40000000.0  1.300000e+08                         Фонд кино   \n",
       "5677            138969465.0  2.258254e+08                         Фонд кино   \n",
       "6134            120000000.0  2.925000e+08                         Фонд кино   \n",
       "\n",
       "      ratings                            genres    box_office  \\\n",
       "3127      6.6                         мелодрама  1.023402e+07   \n",
       "3225      6.6                             драма  4.461635e+08   \n",
       "3490      6.2                  комедия, фэнтези  6.741897e+07   \n",
       "3510      6.3                    комедия, драма  1.957739e+06   \n",
       "3575      4.6  мультфильм, приключения, фэнтези  1.844876e+08   \n",
       "3696      7.8           боевик, драма, криминал  1.965724e+08   \n",
       "3700      5.1                комедия, мелодрама  7.293778e+07   \n",
       "3971      4.3                           комедия  1.536293e+07   \n",
       "4101      6.3                комедия, мелодрама  7.029905e+07   \n",
       "4453      5.6                        фантастика  1.038321e+09   \n",
       "4699      4.8                           комедия  5.045195e+07   \n",
       "4716      5.2     мультфильм, фэнтези, семейный  5.510801e+07   \n",
       "5029      5.8                    триллер, драма  2.251964e+08   \n",
       "5212      5.0               мультфильм, детский  1.065143e+08   \n",
       "5445      5.2      мультфильм, фэнтези, детский  8.336633e+07   \n",
       "5677      NaN                               NaN  1.334699e+06   \n",
       "6134      6.2  мультфильм, комедия, приключения  1.476068e+08   \n",
       "\n",
       "      support_percentage  \n",
       "3127                 inf  \n",
       "3225                 inf  \n",
       "3490                 inf  \n",
       "3510                 inf  \n",
       "3575                 inf  \n",
       "3696                 inf  \n",
       "3700                 inf  \n",
       "3971                 inf  \n",
       "4101                 inf  \n",
       "4453                 inf  \n",
       "4699                 inf  \n",
       "4716                 inf  \n",
       "5029                 inf  \n",
       "5212                 inf  \n",
       "5445                 inf  \n",
       "5677                 inf  \n",
       "6134                 inf  "
      ]
     },
     "execution_count": 42,
     "metadata": {},
     "output_type": "execute_result"
    }
   ],
   "source": [
    "sorted_mkrf_movies_show.loc[_wrong_budget.index, 'budget'] = \\\n",
    "(sorted_mkrf_movies_show.loc[_wrong_budget.index, 'refundable_support'] + \n",
    " sorted_mkrf_movies_show.loc[_wrong_budget.index, 'nonrefundable_support']) / support_percentage\n",
    "\n",
    "sorted_mkrf_movies_show.loc[_wrong_budget.index]"
   ]
  },
  {
   "cell_type": "code",
   "execution_count": 43,
   "metadata": {},
   "outputs": [
    {
     "data": {
      "image/png": "[encoded data removed]",
      "text/plain": [
       "<Figure size 1080x144 with 1 Axes>"
      ]
     },
     "metadata": {
      "needs_background": "light"
     },
     "output_type": "display_data"
    }
   ],
   "source": [
    "fig, ax = plt.subplots(figsize = (15,2))\n",
    "ax = sorted_mkrf_movies_show[['budget']].boxplot(vert = False, ax =ax)\n",
    "ax.set_title('Диаграмма размаха значений бюджета фильмов с господдержкой');"
   ]
  },
  {
   "cell_type": "code",
   "execution_count": 44,
   "metadata": {},
   "outputs": [
    {
     "data": {
      "text/plain": [
       "count    3.290000e+02\n",
       "mean     1.320219e+08\n",
       "std      1.830528e+08\n",
       "min      9.750000e+06\n",
       "25%      4.615389e+07\n",
       "50%      7.427510e+07\n",
       "75%      1.500000e+08\n",
       "max      2.305074e+09\n",
       "Name: budget, dtype: float64"
      ]
     },
     "execution_count": 44,
     "metadata": {},
     "output_type": "execute_result"
    }
   ],
   "source": [
    "sorted_mkrf_movies_show['budget'].describe()"
   ]
  },
  {
   "cell_type": "markdown",
   "metadata": {},
   "source": [
    "Из диаграмм видно, что количество выбросов большое, поэтому их просто удалить не получится. Необходимо учитывать их при анализе данных."
   ]
  },
  {
   "cell_type": "code",
   "execution_count": 45,
   "metadata": {},
   "outputs": [
    {
     "data": {
      "image/png": "[encoded data removed]",
      "text/plain": [
       "<Figure size 1080x144 with 1 Axes>"
      ]
     },
     "metadata": {
      "needs_background": "light"
     },
     "output_type": "display_data"
    }
   ],
   "source": [
    "fig, ax = plt.subplots(figsize = (15,2))\n",
    "ax = sorted_mkrf_movies_show[['refundable_support']].boxplot(vert = False, ax =ax)\n",
    "ax.set_title('Диаграмма размаха значений объёма финансирования с возвратной господдержкой');"
   ]
  },
  {
   "cell_type": "code",
   "execution_count": 46,
   "metadata": {},
   "outputs": [
    {
     "data": {
      "text/plain": [
       "count    3.290000e+02\n",
       "mean     1.165350e+07\n",
       "std      2.454003e+07\n",
       "min      0.000000e+00\n",
       "25%      0.000000e+00\n",
       "50%      0.000000e+00\n",
       "75%      1.500000e+07\n",
       "max      1.800000e+08\n",
       "Name: refundable_support, dtype: float64"
      ]
     },
     "execution_count": 46,
     "metadata": {},
     "output_type": "execute_result"
    }
   ],
   "source": [
    "sorted_mkrf_movies_show['refundable_support'].describe()"
   ]
  },
  {
   "cell_type": "code",
   "execution_count": 47,
   "metadata": {},
   "outputs": [
    {
     "data": {
      "image/png": "[encoded data removed]",
      "text/plain": [
       "<Figure size 1080x144 with 1 Axes>"
      ]
     },
     "metadata": {
      "needs_background": "light"
     },
     "output_type": "display_data"
    }
   ],
   "source": [
    "fig, ax = plt.subplots(figsize = (15,2))\n",
    "ax = sorted_mkrf_movies_show[['nonrefundable_support']].boxplot(vert = False, ax =ax)\n",
    "ax.set_title('Диаграмма размаха значений объёма финансирования с невозвратной господдержкой');"
   ]
  },
  {
   "cell_type": "code",
   "execution_count": 48,
   "metadata": {},
   "outputs": [
    {
     "data": {
      "text/plain": [
       "count    3.290000e+02\n",
       "mean     4.805984e+07\n",
       "std      5.701189e+07\n",
       "min      0.000000e+00\n",
       "25%      2.500000e+07\n",
       "50%      3.000000e+07\n",
       "75%      4.000000e+07\n",
       "max      4.000000e+08\n",
       "Name: nonrefundable_support, dtype: float64"
      ]
     },
     "execution_count": 48,
     "metadata": {},
     "output_type": "execute_result"
    }
   ],
   "source": [
    "sorted_mkrf_movies_show['nonrefundable_support'].describe()"
   ]
  },
  {
   "cell_type": "code",
   "execution_count": 49,
   "metadata": {},
   "outputs": [
    {
     "data": {
      "image/png": "[encoded data removed]",
      "text/plain": [
       "<Figure size 1080x144 with 1 Axes>"
      ]
     },
     "metadata": {
      "needs_background": "light"
     },
     "output_type": "display_data"
    }
   ],
   "source": [
    "fig, ax = plt.subplots(figsize = (15,2))\n",
    "ax = sorted_mkrf_movies_show[['ratings']].boxplot(vert = False, ax =ax)\n",
    "ax.set_title('Диаграмма размаха значений рейтинга фильмов');"
   ]
  },
  {
   "cell_type": "code",
   "execution_count": 50,
   "metadata": {},
   "outputs": [
    {
     "data": {
      "text/plain": [
       "count    5805.000000\n",
       "mean        6.461895\n",
       "std         1.126422\n",
       "min         1.000000\n",
       "25%         5.800000\n",
       "50%         6.600000\n",
       "75%         7.200000\n",
       "max         9.900000\n",
       "Name: ratings, dtype: float64"
      ]
     },
     "execution_count": 50,
     "metadata": {},
     "output_type": "execute_result"
    }
   ],
   "source": [
    "sorted_mkrf_movies_show['ratings'].describe()"
   ]
  },
  {
   "cell_type": "code",
   "execution_count": 51,
   "metadata": {},
   "outputs": [
    {
     "data": {
      "image/png": "[encoded data removed]",
      "text/plain": [
       "<Figure size 1080x144 with 1 Axes>"
      ]
     },
     "metadata": {
      "needs_background": "light"
     },
     "output_type": "display_data"
    }
   ],
   "source": [
    "fig, ax = plt.subplots(figsize = (15,2))\n",
    "ax = sorted_mkrf_movies_show[['box_office']].boxplot(vert = False, ax =ax)\n",
    "ax.set_title('Диаграмма размаха значений сборов фильмов в российском прокате');"
   ]
  },
  {
   "cell_type": "code",
   "execution_count": 52,
   "metadata": {},
   "outputs": [
    {
     "data": {
      "text/plain": [
       "count    3.101000e+03\n",
       "mean     7.786543e+07\n",
       "std      2.423327e+08\n",
       "min      0.000000e+00\n",
       "25%      1.032100e+05\n",
       "50%      2.459668e+06\n",
       "75%      2.524666e+07\n",
       "max      3.073569e+09\n",
       "Name: box_office, dtype: float64"
      ]
     },
     "execution_count": 52,
     "metadata": {},
     "output_type": "execute_result"
    }
   ],
   "source": [
    "sorted_mkrf_movies_show['box_office'].describe()"
   ]
  },
  {
   "cell_type": "markdown",
   "metadata": {},
   "source": [
    "Общий вывод по этапу:\n",
    "\n",
    "- Пропуски были обнаружены в следующих столбцах:\n",
    "1. Пропущенные данные в столбце film_studio составляют менее 1%, поэтому их можно не заменять, а просто удалить;\n",
    "2. Пропущенные данные в столбце production_country составляют менее 1%, поэтому их можно не заменять, а просто удалить;\n",
    "3. Пропущенные данные в столбце director составляют менее 1%, поэтому их можно не заменять, а просто удалить;\n",
    "4. Пропущенные данные в столбце producer составляют около 8%, это большое количество данных, поэтому просто удалить их нельзя. Логически заменить не получиться. Оставляем пропуски;\n",
    "5. Пропущенные данные в столбцах refundable_support, nonrefundable_support, budget и financing_source составляют около 96%. В этих столбцах данные пропущены, т.к. только около 4% фильмов из исходных данных имеют господдержку. Логически заменить не получится. Оставляем пропуски;\n",
    "6. Пропущенные данные в столбце ratings составляют около 13%. В этом столбце данные пропущены, т.к. у этих фильмов отсутствуют рейтинги на Кинопоиске. Логически заменить не получится. Оставляем пропуски;\n",
    "7. Пропущенные данные в столбце genres составляют около 13%, это большое количество данных, поэтому просто удалить их нельзя. Логически заменить не получиться. Оставляем пропуски;\n",
    "8. Пропущенные данные в столбце box_office составляют около 58%. В этом столбце данные пропущены, т.к. имеются данные только по фильмам, которые показывали в российских кинотеатрах. Логически заменить не получиться. Оставляем пропуски.\n",
    "\n",
    "- Неккоректные типы данных в столбцах show_start_date и ratings. Преобразуем их на datetime64 для show_start_date и float для ratings.\n",
    "\n",
    "- Полных дубликатов не выявлено. Были выявлены дубликаты по столбцам title и punumber. Для начала выявили пропуски в стобце title, затем отсортировали по столбцу show_start_date и удалили данные дубликаты. Также проверили по столбцу punumber и удалили их."
   ]
  },
  {
   "cell_type": "markdown",
   "metadata": {
    "id": "Eu6oWp2CgFyS"
   },
   "source": [
    "#### Шаг 2.6. Добавьте новые столбцы\n",
    "\n",
    "\n",
    "\n"
   ]
  },
  {
   "cell_type": "markdown",
   "metadata": {
    "id": "7GgW-UpAgFyS"
   },
   "source": [
    "- Создайте столбец с информацией о годе проката. Выделите год из даты премьеры фильма."
   ]
  },
  {
   "cell_type": "code",
   "execution_count": 53,
   "metadata": {
    "id": "I-yd1DkWgFyT"
   },
   "outputs": [],
   "source": [
    "sorted_mkrf_movies_show['year'] = sorted_mkrf_movies_show['show_start_date'].dt.year"
   ]
  },
  {
   "cell_type": "markdown",
   "metadata": {
    "id": "nFTDLDYOgFyT"
   },
   "source": [
    "- Создайте два столбца: с именем и фамилией главного режиссёра и основным жанром фильма. В столбцы войдут первые значения из списка режиссёров и жанров соответственно."
   ]
  },
  {
   "cell_type": "code",
   "execution_count": 54,
   "metadata": {
    "id": "LSbRZKbMgFyU"
   },
   "outputs": [],
   "source": [
    "def add_col_main(df, columns):\n",
    "    for col in columns:\n",
    "        df[f'main_{col}'] = df[col].dropna().apply(lambda x: x.split(', ')[0])\n",
    "    return df"
   ]
  },
  {
   "cell_type": "code",
   "execution_count": 55,
   "metadata": {},
   "outputs": [],
   "source": [
    "sorted_mkrf_movies_show = add_col_main(sorted_mkrf_movies_show, ['director', 'genres'])"
   ]
  },
  {
   "cell_type": "code",
   "execution_count": 56,
   "metadata": {
    "scrolled": true
   },
   "outputs": [
    {
     "data": {
      "text/html": [
       "<div>\n",
       "<style scoped>\n",
       "    .dataframe tbody tr th:only-of-type {\n",
       "        vertical-align: middle;\n",
       "    }\n",
       "\n",
       "    .dataframe tbody tr th {\n",
       "        vertical-align: top;\n",
       "    }\n",
       "\n",
       "    .dataframe thead th {\n",
       "        text-align: right;\n",
       "    }\n",
       "</style>\n",
       "<table border=\"1\" class=\"dataframe\">\n",
       "  <thead>\n",
       "    <tr style=\"text-align: right;\">\n",
       "      <th></th>\n",
       "      <th>title</th>\n",
       "      <th>puNumber</th>\n",
       "      <th>show_start_date</th>\n",
       "      <th>type</th>\n",
       "      <th>film_studio</th>\n",
       "      <th>production_country</th>\n",
       "      <th>director</th>\n",
       "      <th>producer</th>\n",
       "      <th>age_restriction</th>\n",
       "      <th>refundable_support</th>\n",
       "      <th>nonrefundable_support</th>\n",
       "      <th>budget</th>\n",
       "      <th>financing_source</th>\n",
       "      <th>ratings</th>\n",
       "      <th>genres</th>\n",
       "      <th>box_office</th>\n",
       "      <th>support_percentage</th>\n",
       "      <th>year</th>\n",
       "      <th>main_director</th>\n",
       "      <th>main_genres</th>\n",
       "    </tr>\n",
       "  </thead>\n",
       "  <tbody>\n",
       "    <tr>\n",
       "      <th>0</th>\n",
       "      <td>Книга Илая</td>\n",
       "      <td>121000210</td>\n",
       "      <td>2010-01-11 12:00:00+00:00</td>\n",
       "      <td>Художественный</td>\n",
       "      <td>Элкон Интертейнмент, Силвер Пикчерз</td>\n",
       "      <td>США</td>\n",
       "      <td>Алберт Хьюз, Эллен Хьюз</td>\n",
       "      <td>Бродерик Джонсон, Джоэл Силвер</td>\n",
       "      <td>«16+» - для детей старше 16 лет</td>\n",
       "      <td>NaN</td>\n",
       "      <td>NaN</td>\n",
       "      <td>NaN</td>\n",
       "      <td>NaN</td>\n",
       "      <td>7.1</td>\n",
       "      <td>фантастика, боевик, драма</td>\n",
       "      <td>NaN</td>\n",
       "      <td>NaN</td>\n",
       "      <td>2010</td>\n",
       "      <td>Алберт Хьюз</td>\n",
       "      <td>фантастика</td>\n",
       "    </tr>\n",
       "    <tr>\n",
       "      <th>1</th>\n",
       "      <td>Вечный зов.</td>\n",
       "      <td>213000210</td>\n",
       "      <td>2010-01-13 12:00:00+00:00</td>\n",
       "      <td>Художественный</td>\n",
       "      <td>ОАО \"Леннаучфильм\"</td>\n",
       "      <td>Россия</td>\n",
       "      <td>В.Ефремов, И.Ефремова, В.Лопач</td>\n",
       "      <td>В.Бажин</td>\n",
       "      <td>«0+» - для любой зрительской аудитории</td>\n",
       "      <td>NaN</td>\n",
       "      <td>NaN</td>\n",
       "      <td>NaN</td>\n",
       "      <td>NaN</td>\n",
       "      <td>8.3</td>\n",
       "      <td>драма</td>\n",
       "      <td>NaN</td>\n",
       "      <td>NaN</td>\n",
       "      <td>2010</td>\n",
       "      <td>В.Ефремов</td>\n",
       "      <td>драма</td>\n",
       "    </tr>\n",
       "    <tr>\n",
       "      <th>2</th>\n",
       "      <td>Последний король Шотландии</td>\n",
       "      <td>221002410</td>\n",
       "      <td>2010-01-13 12:00:00+00:00</td>\n",
       "      <td>Художественный</td>\n",
       "      <td>Дэ Эн А Филмз, Фокс Серчлайт Пикчерз, Филм Фо,...</td>\n",
       "      <td>Великобритания - США</td>\n",
       "      <td>Кевин МакДональд</td>\n",
       "      <td>Лиза Брайер, Андреа Колдервуд, Кристин Рупперт...</td>\n",
       "      <td>«16+» - для детей старше 16 лет</td>\n",
       "      <td>NaN</td>\n",
       "      <td>NaN</td>\n",
       "      <td>NaN</td>\n",
       "      <td>NaN</td>\n",
       "      <td>7.7</td>\n",
       "      <td>триллер, драма, биография</td>\n",
       "      <td>NaN</td>\n",
       "      <td>NaN</td>\n",
       "      <td>2010</td>\n",
       "      <td>Кевин МакДональд</td>\n",
       "      <td>триллер</td>\n",
       "    </tr>\n",
       "    <tr>\n",
       "      <th>3</th>\n",
       "      <td>Право на надежду.</td>\n",
       "      <td>217000210</td>\n",
       "      <td>2010-01-14 12:00:00+00:00</td>\n",
       "      <td>Художественный</td>\n",
       "      <td>ООО \"ТВ КУПОЛ\"  (Телеканал \"100 ТВ\")</td>\n",
       "      <td>Россия</td>\n",
       "      <td>Н.Очигава</td>\n",
       "      <td>О.Руднов</td>\n",
       "      <td>«12+» - для детей старше 12 лет</td>\n",
       "      <td>NaN</td>\n",
       "      <td>NaN</td>\n",
       "      <td>NaN</td>\n",
       "      <td>NaN</td>\n",
       "      <td>6.8</td>\n",
       "      <td>комедия</td>\n",
       "      <td>NaN</td>\n",
       "      <td>NaN</td>\n",
       "      <td>2010</td>\n",
       "      <td>Н.Очигава</td>\n",
       "      <td>комедия</td>\n",
       "    </tr>\n",
       "    <tr>\n",
       "      <th>4</th>\n",
       "      <td>Небесный тихоход (новая цветная версия)</td>\n",
       "      <td>111000110</td>\n",
       "      <td>2010-01-14 12:00:00+00:00</td>\n",
       "      <td>Художественный</td>\n",
       "      <td>Киностудия \"Ленфильм\", ЗАО \"Киновидеообъединен...</td>\n",
       "      <td>СССР, Россия</td>\n",
       "      <td>И.Цветов (режиссер ч/б фильма - С.Тимошенко)</td>\n",
       "      <td>ЗАО \"Киновидеообъединение \"Крупный план\"</td>\n",
       "      <td>«0+» - для любой зрительской аудитории</td>\n",
       "      <td>NaN</td>\n",
       "      <td>NaN</td>\n",
       "      <td>NaN</td>\n",
       "      <td>NaN</td>\n",
       "      <td>8.0</td>\n",
       "      <td>комедия, военный</td>\n",
       "      <td>NaN</td>\n",
       "      <td>NaN</td>\n",
       "      <td>2010</td>\n",
       "      <td>И.Цветов (режиссер ч/б фильма - С.Тимошенко)</td>\n",
       "      <td>комедия</td>\n",
       "    </tr>\n",
       "    <tr>\n",
       "      <th>5</th>\n",
       "      <td>Бомж.</td>\n",
       "      <td>211000910</td>\n",
       "      <td>2010-01-14 12:00:00+00:00</td>\n",
       "      <td>Художественный</td>\n",
       "      <td>ООО \"Студия \"Панорама\"</td>\n",
       "      <td>Россия</td>\n",
       "      <td>А.Богданов</td>\n",
       "      <td>ООО \"Форвард-Фильм\"</td>\n",
       "      <td>«16+» - для детей старше 16 лет</td>\n",
       "      <td>NaN</td>\n",
       "      <td>NaN</td>\n",
       "      <td>NaN</td>\n",
       "      <td>NaN</td>\n",
       "      <td>6.0</td>\n",
       "      <td>боевик, триллер, криминал</td>\n",
       "      <td>NaN</td>\n",
       "      <td>NaN</td>\n",
       "      <td>2010</td>\n",
       "      <td>А.Богданов</td>\n",
       "      <td>боевик</td>\n",
       "    </tr>\n",
       "    <tr>\n",
       "      <th>6</th>\n",
       "      <td>Другой мужчина</td>\n",
       "      <td>221009610</td>\n",
       "      <td>2010-01-14 12:00:00+00:00</td>\n",
       "      <td>Художественный</td>\n",
       "      <td>Готэм Продакшнз, Рэйнмарк Филмз, Илинг Студиос...</td>\n",
       "      <td>США - Великобритания</td>\n",
       "      <td>РичардЭйр</td>\n",
       "      <td>Ричард Эйр, Майкл Дрейер, Фрэнк Дулгер</td>\n",
       "      <td>«16+» - для детей старше 16 лет</td>\n",
       "      <td>NaN</td>\n",
       "      <td>NaN</td>\n",
       "      <td>NaN</td>\n",
       "      <td>NaN</td>\n",
       "      <td>5.9</td>\n",
       "      <td>триллер, драма, мелодрама</td>\n",
       "      <td>NaN</td>\n",
       "      <td>NaN</td>\n",
       "      <td>2010</td>\n",
       "      <td>РичардЭйр</td>\n",
       "      <td>триллер</td>\n",
       "    </tr>\n",
       "    <tr>\n",
       "      <th>7</th>\n",
       "      <td>Предел контроля</td>\n",
       "      <td>221009910</td>\n",
       "      <td>2010-01-15 12:00:00+00:00</td>\n",
       "      <td>Художественный</td>\n",
       "      <td>ПойнтБланк, Интертейнмент Фарм, Фокус Фьючерс</td>\n",
       "      <td>США</td>\n",
       "      <td>Джим Джармуш</td>\n",
       "      <td>Гретхен МакГоэн, Стэси Смит</td>\n",
       "      <td>«16+» - для детей старше 16 лет</td>\n",
       "      <td>NaN</td>\n",
       "      <td>NaN</td>\n",
       "      <td>NaN</td>\n",
       "      <td>NaN</td>\n",
       "      <td>6.9</td>\n",
       "      <td>триллер, драма, криминал</td>\n",
       "      <td>NaN</td>\n",
       "      <td>NaN</td>\n",
       "      <td>2010</td>\n",
       "      <td>Джим Джармуш</td>\n",
       "      <td>триллер</td>\n",
       "    </tr>\n",
       "    <tr>\n",
       "      <th>8</th>\n",
       "      <td>Жена путешественника во времени</td>\n",
       "      <td>221010310</td>\n",
       "      <td>2010-01-15 12:00:00+00:00</td>\n",
       "      <td>Художественный</td>\n",
       "      <td>Уорнер Бразерс, Нью Лайн Синема, Плэн Би</td>\n",
       "      <td>США</td>\n",
       "      <td>Роберт Швентке</td>\n",
       "      <td>Деде Гарднер, Ник Уэкслер</td>\n",
       "      <td>«16+» - для детей старше 16 лет</td>\n",
       "      <td>NaN</td>\n",
       "      <td>NaN</td>\n",
       "      <td>NaN</td>\n",
       "      <td>NaN</td>\n",
       "      <td>7.6</td>\n",
       "      <td>фантастика, фэнтези, драма</td>\n",
       "      <td>NaN</td>\n",
       "      <td>NaN</td>\n",
       "      <td>2010</td>\n",
       "      <td>Роберт Швентке</td>\n",
       "      <td>фантастика</td>\n",
       "    </tr>\n",
       "    <tr>\n",
       "      <th>9</th>\n",
       "      <td>Белая мгла /По комиксу Грега Рукка и Стива Либ...</td>\n",
       "      <td>221010210</td>\n",
       "      <td>2010-01-15 12:00:00+00:00</td>\n",
       "      <td>Художественный</td>\n",
       "      <td>Уорнер Бразерс, Дарк Касл Интертейнмент, Дон К...</td>\n",
       "      <td>США-Канада-Франция</td>\n",
       "      <td>Доминик Сена</td>\n",
       "      <td>Джоэл Сильвер</td>\n",
       "      <td>«16+» - для детей старше 16 лет</td>\n",
       "      <td>NaN</td>\n",
       "      <td>NaN</td>\n",
       "      <td>NaN</td>\n",
       "      <td>NaN</td>\n",
       "      <td>6.1</td>\n",
       "      <td>ужасы, боевик, триллер</td>\n",
       "      <td>NaN</td>\n",
       "      <td>NaN</td>\n",
       "      <td>2010</td>\n",
       "      <td>Доминик Сена</td>\n",
       "      <td>ужасы</td>\n",
       "    </tr>\n",
       "  </tbody>\n",
       "</table>\n",
       "</div>"
      ],
      "text/plain": [
       "                                               title   puNumber  \\\n",
       "0                                         Книга Илая  121000210   \n",
       "1                                        Вечный зов.  213000210   \n",
       "2                         Последний король Шотландии  221002410   \n",
       "3                                  Право на надежду.  217000210   \n",
       "4            Небесный тихоход (новая цветная версия)  111000110   \n",
       "5                                              Бомж.  211000910   \n",
       "6                                     Другой мужчина  221009610   \n",
       "7                                    Предел контроля  221009910   \n",
       "8                    Жена путешественника во времени  221010310   \n",
       "9  Белая мгла /По комиксу Грега Рукка и Стива Либ...  221010210   \n",
       "\n",
       "            show_start_date            type  \\\n",
       "0 2010-01-11 12:00:00+00:00  Художественный   \n",
       "1 2010-01-13 12:00:00+00:00  Художественный   \n",
       "2 2010-01-13 12:00:00+00:00  Художественный   \n",
       "3 2010-01-14 12:00:00+00:00  Художественный   \n",
       "4 2010-01-14 12:00:00+00:00  Художественный   \n",
       "5 2010-01-14 12:00:00+00:00  Художественный   \n",
       "6 2010-01-14 12:00:00+00:00  Художественный   \n",
       "7 2010-01-15 12:00:00+00:00  Художественный   \n",
       "8 2010-01-15 12:00:00+00:00  Художественный   \n",
       "9 2010-01-15 12:00:00+00:00  Художественный   \n",
       "\n",
       "                                         film_studio    production_country  \\\n",
       "0                Элкон Интертейнмент, Силвер Пикчерз                   США   \n",
       "1                                 ОАО \"Леннаучфильм\"                Россия   \n",
       "2  Дэ Эн А Филмз, Фокс Серчлайт Пикчерз, Филм Фо,...  Великобритания - США   \n",
       "3               ООО \"ТВ КУПОЛ\"  (Телеканал \"100 ТВ\")                Россия   \n",
       "4  Киностудия \"Ленфильм\", ЗАО \"Киновидеообъединен...          СССР, Россия   \n",
       "5                             ООО \"Студия \"Панорама\"                Россия   \n",
       "6  Готэм Продакшнз, Рэйнмарк Филмз, Илинг Студиос...  США - Великобритания   \n",
       "7      ПойнтБланк, Интертейнмент Фарм, Фокус Фьючерс                   США   \n",
       "8           Уорнер Бразерс, Нью Лайн Синема, Плэн Би                   США   \n",
       "9  Уорнер Бразерс, Дарк Касл Интертейнмент, Дон К...    США-Канада-Франция   \n",
       "\n",
       "                                       director  \\\n",
       "0                       Алберт Хьюз, Эллен Хьюз   \n",
       "1                В.Ефремов, И.Ефремова, В.Лопач   \n",
       "2                              Кевин МакДональд   \n",
       "3                                     Н.Очигава   \n",
       "4  И.Цветов (режиссер ч/б фильма - С.Тимошенко)   \n",
       "5                                    А.Богданов   \n",
       "6                                     РичардЭйр   \n",
       "7                                  Джим Джармуш   \n",
       "8                                Роберт Швентке   \n",
       "9                                  Доминик Сена   \n",
       "\n",
       "                                            producer  \\\n",
       "0                     Бродерик Джонсон, Джоэл Силвер   \n",
       "1                                            В.Бажин   \n",
       "2  Лиза Брайер, Андреа Колдервуд, Кристин Рупперт...   \n",
       "3                                           О.Руднов   \n",
       "4           ЗАО \"Киновидеообъединение \"Крупный план\"   \n",
       "5                                ООО \"Форвард-Фильм\"   \n",
       "6             Ричард Эйр, Майкл Дрейер, Фрэнк Дулгер   \n",
       "7                        Гретхен МакГоэн, Стэси Смит   \n",
       "8                          Деде Гарднер, Ник Уэкслер   \n",
       "9                                      Джоэл Сильвер   \n",
       "\n",
       "                          age_restriction  refundable_support  \\\n",
       "0         «16+» - для детей старше 16 лет                 NaN   \n",
       "1  «0+» - для любой зрительской аудитории                 NaN   \n",
       "2         «16+» - для детей старше 16 лет                 NaN   \n",
       "3         «12+» - для детей старше 12 лет                 NaN   \n",
       "4  «0+» - для любой зрительской аудитории                 NaN   \n",
       "5         «16+» - для детей старше 16 лет                 NaN   \n",
       "6         «16+» - для детей старше 16 лет                 NaN   \n",
       "7         «16+» - для детей старше 16 лет                 NaN   \n",
       "8         «16+» - для детей старше 16 лет                 NaN   \n",
       "9         «16+» - для детей старше 16 лет                 NaN   \n",
       "\n",
       "   nonrefundable_support  budget financing_source  ratings  \\\n",
       "0                    NaN     NaN              NaN      7.1   \n",
       "1                    NaN     NaN              NaN      8.3   \n",
       "2                    NaN     NaN              NaN      7.7   \n",
       "3                    NaN     NaN              NaN      6.8   \n",
       "4                    NaN     NaN              NaN      8.0   \n",
       "5                    NaN     NaN              NaN      6.0   \n",
       "6                    NaN     NaN              NaN      5.9   \n",
       "7                    NaN     NaN              NaN      6.9   \n",
       "8                    NaN     NaN              NaN      7.6   \n",
       "9                    NaN     NaN              NaN      6.1   \n",
       "\n",
       "                       genres  box_office  support_percentage  year  \\\n",
       "0   фантастика, боевик, драма         NaN                 NaN  2010   \n",
       "1                       драма         NaN                 NaN  2010   \n",
       "2   триллер, драма, биография         NaN                 NaN  2010   \n",
       "3                     комедия         NaN                 NaN  2010   \n",
       "4            комедия, военный         NaN                 NaN  2010   \n",
       "5   боевик, триллер, криминал         NaN                 NaN  2010   \n",
       "6   триллер, драма, мелодрама         NaN                 NaN  2010   \n",
       "7    триллер, драма, криминал         NaN                 NaN  2010   \n",
       "8  фантастика, фэнтези, драма         NaN                 NaN  2010   \n",
       "9      ужасы, боевик, триллер         NaN                 NaN  2010   \n",
       "\n",
       "                                  main_director main_genres  \n",
       "0                                   Алберт Хьюз  фантастика  \n",
       "1                                     В.Ефремов       драма  \n",
       "2                              Кевин МакДональд     триллер  \n",
       "3                                     Н.Очигава     комедия  \n",
       "4  И.Цветов (режиссер ч/б фильма - С.Тимошенко)     комедия  \n",
       "5                                    А.Богданов      боевик  \n",
       "6                                     РичардЭйр     триллер  \n",
       "7                                  Джим Джармуш     триллер  \n",
       "8                                Роберт Швентке  фантастика  \n",
       "9                                  Доминик Сена       ужасы  "
      ]
     },
     "execution_count": 56,
     "metadata": {},
     "output_type": "execute_result"
    }
   ],
   "source": [
    "sorted_mkrf_movies_show.head(10)"
   ]
  },
  {
   "cell_type": "markdown",
   "metadata": {
    "id": "1FsCXHwdgFyU"
   },
   "source": [
    "- Посчитайте, какую долю от общего бюджета фильма составляет государственная поддержка."
   ]
  },
  {
   "cell_type": "code",
   "execution_count": 57,
   "metadata": {
    "id": "LV6qFuZLgFyV"
   },
   "outputs": [
    {
     "name": "stdout",
     "output_type": "stream",
     "text": [
      "Чаще всего доля участия государства в бюджете составляет 0.6153846153846154\n"
     ]
    }
   ],
   "source": [
    "print('Чаще всего доля участия государства в бюджете составляет', support_percentage)"
   ]
  },
  {
   "cell_type": "markdown",
   "metadata": {
    "id": "6t4EukPLgFyV"
   },
   "source": [
    "### Шаг 3. Проведите исследовательский анализ данных\n"
   ]
  },
  {
   "cell_type": "markdown",
   "metadata": {
    "id": "vAH8WCzugFyV"
   },
   "source": [
    "- Посмотрите, сколько фильмов выходило в прокат каждый год. Обратите внимание, что данные о прокате в кинотеатрах известны не для всех фильмов. Посчитайте, какую долю составляют фильмы с указанной информацией о прокате в кинотеатрах. Проанализируйте, как эта доля менялась по годам. Сделайте вывод о том, какой период полнее всего представлен в данных."
   ]
  },
  {
   "cell_type": "code",
   "execution_count": 58,
   "metadata": {
    "id": "ABeV47y7gFyW",
    "scrolled": true
   },
   "outputs": [
    {
     "name": "stdout",
     "output_type": "stream",
     "text": [
      "      title  box_office  percentage\n",
      "year                               \n",
      "2010    812         100       12.32\n",
      "2011    523         106       20.27\n",
      "2012    537         126       23.46\n",
      "2013    597         184       30.82\n",
      "2014    740         275       37.16\n",
      "2015    649         460       70.88\n",
      "2016    644         501       77.80\n",
      "2017    492         355       72.15\n",
      "2018    864         472       54.63\n",
      "2019    887         522       58.85\n"
     ]
    },
    {
     "data": {
      "text/plain": [
       "<matplotlib.legend.Legend at 0x7f95693663d0>"
      ]
     },
     "execution_count": 58,
     "metadata": {},
     "output_type": "execute_result"
    },
    {
     "data": {
      "image/png": "[encoded data removed]",
      "text/plain": [
       "<Figure size 432x288 with 1 Axes>"
      ]
     },
     "metadata": {
      "needs_background": "light"
     },
     "output_type": "display_data"
    },
    {
     "data": {
      "image/png": "[encoded data removed]",
      "text/plain": [
       "<Figure size 432x288 with 1 Axes>"
      ]
     },
     "metadata": {
      "needs_background": "light"
     },
     "output_type": "display_data"
    }
   ],
   "source": [
    "_count_films_every_years = sorted_mkrf_movies_show.groupby('year')[['title', 'box_office']].count()\n",
    "_count_films_every_years['percentage'] = round(_count_films_every_years['box_office'] * 100 \\\n",
    "                                                / _count_films_every_years['title'], 2)\n",
    "print(_count_films_every_years);\n",
    "\n",
    "fig,ax = plt.subplots()\n",
    "ax.plot(_count_films_every_years.index, _count_films_every_years.title, _count_films_every_years.box_office, marker='o')\n",
    "ax.set_xlabel('Year', fontsize=14)\n",
    "ax.set_ylabel('title and box_office', fontsize=16)\n",
    "ax.set_title('Ежегодное количество фильмов', fontsize=16)\n",
    "plt.grid()\n",
    "plt.legend(['title', 'box_office'])\n",
    "\n",
    "fig,ax2 = plt.subplots()\n",
    "ax2.plot(_count_films_every_years.index, _count_films_every_years.percentage, color='red', marker='o')\n",
    "ax2.set_xlabel('Year', fontsize=14)\n",
    "ax2.set_ylabel('percentage', fontsize=16)\n",
    "plt.grid()\n",
    "plt.legend(['percentage'])"
   ]
  },
  {
   "cell_type": "markdown",
   "metadata": {},
   "source": [
    "Из графика выше видно, что доля фильмов с указанной информацией о прокате в кинотеатрах растёт. В 2016 году доля таких фильмов максимальна."
   ]
  },
  {
   "cell_type": "markdown",
   "metadata": {
    "id": "BEOdcIrIgFyW"
   },
   "source": [
    "- Изучите, как менялась динамика проката по годам. В каком году сумма сборов была минимальной? А максимальной?"
   ]
  },
  {
   "cell_type": "code",
   "execution_count": 59,
   "metadata": {
    "id": "tfEhofYvgFyX",
    "scrolled": false
   },
   "outputs": [
    {
     "name": "stdout",
     "output_type": "stream",
     "text": [
      "      count           sum\n",
      "year                     \n",
      "2010    100  2.427104e+06\n",
      "2011    106  1.405016e+07\n",
      "2012    126  6.910873e+06\n",
      "2013    184  2.979971e+07\n",
      "2014    275  7.444947e+09\n",
      "2015    460  3.948315e+10\n",
      "2016    501  4.785736e+10\n",
      "2017    355  4.855903e+10\n",
      "2018    472  4.965363e+10\n",
      "2019    522  4.840940e+10\n"
     ]
    },
    {
     "data": {
      "image/png": "[encoded data removed]",
      "text/plain": [
       "<Figure size 1080x360 with 1 Axes>"
      ]
     },
     "metadata": {
      "needs_background": "light"
     },
     "output_type": "display_data"
    }
   ],
   "source": [
    "_sum_films_every_years = sorted_mkrf_movies_show[sorted_mkrf_movies_show['box_office'].notna()] \\\n",
    ".groupby('year')['box_office'].agg(['count', 'sum'])\n",
    "print(_sum_films_every_years);\n",
    "_sum_films_every_years.plot(title='Cумма сборов по годам', y='sum', figsize=(15, 5), marker='o', grid=True);"
   ]
  },
  {
   "cell_type": "markdown",
   "metadata": {},
   "source": [
    "Из графика выше видно, что минимальная сумма сборов была в 2010 году, а максимальная в 2018 году."
   ]
  },
  {
   "cell_type": "code",
   "execution_count": 60,
   "metadata": {},
   "outputs": [
    {
     "data": {
      "text/html": [
       "<div>\n",
       "<style scoped>\n",
       "    .dataframe tbody tr th:only-of-type {\n",
       "        vertical-align: middle;\n",
       "    }\n",
       "\n",
       "    .dataframe tbody tr th {\n",
       "        vertical-align: top;\n",
       "    }\n",
       "\n",
       "    .dataframe thead th {\n",
       "        text-align: right;\n",
       "    }\n",
       "</style>\n",
       "<table border=\"1\" class=\"dataframe\">\n",
       "  <thead>\n",
       "    <tr style=\"text-align: right;\">\n",
       "      <th></th>\n",
       "      <th>count</th>\n",
       "      <th>sum</th>\n",
       "    </tr>\n",
       "    <tr>\n",
       "      <th>year</th>\n",
       "      <th></th>\n",
       "      <th></th>\n",
       "    </tr>\n",
       "  </thead>\n",
       "  <tbody>\n",
       "    <tr>\n",
       "      <th>2010</th>\n",
       "      <td>100</td>\n",
       "      <td>2.427104e+06</td>\n",
       "    </tr>\n",
       "    <tr>\n",
       "      <th>2011</th>\n",
       "      <td>106</td>\n",
       "      <td>1.405016e+07</td>\n",
       "    </tr>\n",
       "    <tr>\n",
       "      <th>2012</th>\n",
       "      <td>126</td>\n",
       "      <td>6.910873e+06</td>\n",
       "    </tr>\n",
       "    <tr>\n",
       "      <th>2013</th>\n",
       "      <td>184</td>\n",
       "      <td>2.979971e+07</td>\n",
       "    </tr>\n",
       "    <tr>\n",
       "      <th>2014</th>\n",
       "      <td>275</td>\n",
       "      <td>7.444947e+09</td>\n",
       "    </tr>\n",
       "    <tr>\n",
       "      <th>2015</th>\n",
       "      <td>460</td>\n",
       "      <td>3.948315e+10</td>\n",
       "    </tr>\n",
       "    <tr>\n",
       "      <th>2016</th>\n",
       "      <td>501</td>\n",
       "      <td>4.785736e+10</td>\n",
       "    </tr>\n",
       "    <tr>\n",
       "      <th>2017</th>\n",
       "      <td>355</td>\n",
       "      <td>4.855903e+10</td>\n",
       "    </tr>\n",
       "    <tr>\n",
       "      <th>2018</th>\n",
       "      <td>472</td>\n",
       "      <td>4.965363e+10</td>\n",
       "    </tr>\n",
       "    <tr>\n",
       "      <th>2019</th>\n",
       "      <td>522</td>\n",
       "      <td>4.840940e+10</td>\n",
       "    </tr>\n",
       "  </tbody>\n",
       "</table>\n",
       "</div>"
      ],
      "text/plain": [
       "      count           sum\n",
       "year                     \n",
       "2010    100  2.427104e+06\n",
       "2011    106  1.405016e+07\n",
       "2012    126  6.910873e+06\n",
       "2013    184  2.979971e+07\n",
       "2014    275  7.444947e+09\n",
       "2015    460  3.948315e+10\n",
       "2016    501  4.785736e+10\n",
       "2017    355  4.855903e+10\n",
       "2018    472  4.965363e+10\n",
       "2019    522  4.840940e+10"
      ]
     },
     "execution_count": 60,
     "metadata": {},
     "output_type": "execute_result"
    }
   ],
   "source": [
    "_sum_films_every_years"
   ]
  },
  {
   "cell_type": "markdown",
   "metadata": {
    "id": "G-7qS-N-gFyY"
   },
   "source": [
    "- С помощью сводной таблицы посчитайте среднюю и медианную сумму сборов для каждого года."
   ]
  },
  {
   "cell_type": "code",
   "execution_count": 61,
   "metadata": {
    "id": "jmp-rgg9gFyY",
    "scrolled": true
   },
   "outputs": [
    {
     "name": "stdout",
     "output_type": "stream",
     "text": [
      "              mean        median\n",
      "year                            \n",
      "2010  2.427104e+04  1.765000e+03\n",
      "2011  1.325487e+05  3.042500e+03\n",
      "2012  5.484820e+04  5.660000e+03\n",
      "2013  1.619549e+05  3.522500e+03\n",
      "2014  2.707254e+07  2.022000e+04\n",
      "2015  8.583294e+07  5.003450e+06\n",
      "2016  9.552367e+07  4.692815e+06\n",
      "2017  1.367860e+08  1.038733e+07\n",
      "2018  1.051984e+08  8.911534e+06\n",
      "2019  9.273831e+07  4.774520e+06\n"
     ]
    },
    {
     "data": {
      "image/png": "[encoded data removed]",
      "text/plain": [
       "<Figure size 1080x360 with 1 Axes>"
      ]
     },
     "metadata": {
      "needs_background": "light"
     },
     "output_type": "display_data"
    }
   ],
   "source": [
    "_pivot_table_sorted_mkrf_movies_show = sorted_mkrf_movies_show[sorted_mkrf_movies_show['box_office'].notna()] \\\n",
    ".pivot_table(index='year', values='box_office', aggfunc=['mean', 'median'])\n",
    "\n",
    "_pivot_table_sorted_mkrf_movies_show.columns = _pivot_table_sorted_mkrf_movies_show.columns.get_level_values(0)\n",
    "\n",
    "print(_pivot_table_sorted_mkrf_movies_show)\n",
    "_pivot_table_sorted_mkrf_movies_show.plot(title='Средняя и медианная суммы сборов по годам', figsize=(15, 5), \n",
    "                                          marker='o', grid=True);"
   ]
  },
  {
   "cell_type": "markdown",
   "metadata": {},
   "source": [
    "Из графика видно, что медианные значения намного меньше средних. Это связано с тем, что в исходных данных много небольших значений сборов."
   ]
  },
  {
   "cell_type": "markdown",
   "metadata": {
    "id": "Ok89WFwJgFyZ"
   },
   "source": [
    "- Определите, влияет ли возрастное ограничение аудитории («6+», «12+», «16+», «18+» и т. д.) на сборы фильма в прокате в период с 2015 по 2019 год? Фильмы с каким возрастным ограничением собрали больше всего денег в прокате? Меняется ли картина в зависимости от года? Если да, предположите, с чем это может быть связано."
   ]
  },
  {
   "cell_type": "code",
   "execution_count": 62,
   "metadata": {
    "id": "jsSbEqfjgFya",
    "scrolled": true
   },
   "outputs": [
    {
     "name": "stdout",
     "output_type": "stream",
     "text": [
      "age_restriction  «0+» - для любой зрительской аудитории  \\\n",
      "year                                                      \n",
      "2010                                       1.886451e+06   \n",
      "2011                                       1.344727e+07   \n",
      "2012                                       2.222133e+06   \n",
      "2013                                       2.710302e+06   \n",
      "2014                                       3.755595e+08   \n",
      "2015                                       3.649020e+08   \n",
      "2016                                       1.499888e+08   \n",
      "2017                                       2.295989e+08   \n",
      "2018                                       3.244900e+07   \n",
      "2019                                       1.774607e+07   \n",
      "\n",
      "age_restriction  «12+» - для детей старше 12 лет  \\\n",
      "year                                               \n",
      "2010                                1.201460e+05   \n",
      "2011                                2.198910e+05   \n",
      "2012                                1.087340e+05   \n",
      "2013                                2.091034e+07   \n",
      "2014                                2.584781e+09   \n",
      "2015                                1.361608e+10   \n",
      "2016                                1.219937e+10   \n",
      "2017                                7.851428e+09   \n",
      "2018                                1.426725e+10   \n",
      "2019                                1.267655e+10   \n",
      "\n",
      "age_restriction  «16+» - для детей старше 16 лет  «18+» - запрещено для детей  \\\n",
      "year                                                                            \n",
      "2010                                3.661220e+05                 5.438500e+04   \n",
      "2011                                3.815130e+05                 1.040000e+03   \n",
      "2012                                3.254016e+06                 1.825800e+05   \n",
      "2013                                6.580696e+05                 5.161246e+06   \n",
      "2014                                5.442796e+08                 2.209713e+09   \n",
      "2015                                1.136807e+10                 5.432302e+09   \n",
      "2016                                1.666094e+10                 6.793923e+09   \n",
      "2017                                1.874037e+10                 9.651496e+09   \n",
      "2018                                1.650360e+10                 8.745356e+09   \n",
      "2019                                1.274854e+10                 1.011401e+10   \n",
      "\n",
      "age_restriction  «6+» - для детей старше 6 лет  \n",
      "year                                            \n",
      "2010                                       NaN  \n",
      "2011                              4.500000e+02  \n",
      "2012                              1.143410e+06  \n",
      "2013                              3.597520e+05  \n",
      "2014                              1.730614e+09  \n",
      "2015                              8.701799e+09  \n",
      "2016                              1.205314e+10  \n",
      "2017                              1.208614e+10  \n",
      "2018                              1.010497e+10  \n",
      "2019                              1.285255e+10  \n"
     ]
    },
    {
     "data": {
      "image/png": "[encoded data removed]",
      "text/plain": [
       "<Figure size 1080x360 with 1 Axes>"
      ]
     },
     "metadata": {
      "needs_background": "light"
     },
     "output_type": "display_data"
    }
   ],
   "source": [
    "_age_pivot_table_sorted_mkrf_movies_show = sorted_mkrf_movies_show[sorted_mkrf_movies_show['box_office'].notna()] \\\n",
    "    .pivot_table(index='year',\n",
    "                columns='age_restriction',\n",
    "                values='box_office',\n",
    "                aggfunc='sum')\n",
    "print(_age_pivot_table_sorted_mkrf_movies_show);\n",
    "_age_pivot_table_sorted_mkrf_movies_show.plot(title='Cумма сборов по годам с разбивкой по возрастным категориям', \n",
    "                                              kind='line', xlim=[2015, 2019], figsize=(15, 5), marker='o', grid=True);"
   ]
  },
  {
   "cell_type": "markdown",
   "metadata": {},
   "source": [
    "Из графика видно следующее:\n",
    "1. Да, возрастные ограничения влияют на сборы фильмов в прокате;\n",
    "2. Больше всего собирали фильмы с возрастным ограничением 16+;\n",
    "3. У разных возрастных категорий разные зависимости в период с 2015 по 2019 год:\n",
    "- у ограничения 0+ практически нет разницы по сумме сборов, которые составляют около 0,3 млрд;\n",
    "- у ограничения 6+ сумма сборов изменяется в коридоре значений от 7,5 до 12,5 млрд;\n",
    "- у ограничения 12+ сумма сборов изменяется в коридоре значений от 7,5 до 15 млрд;\n",
    "- у ограничения 16+ сумма сборов изменяется в коридоре значений от 11 до 19 млрд;\n",
    "- у ограничения 18+ сумма сборов изменяется в коридоре значений от 5 до 10 млрд.\n",
    "4. Такие изменения могут быть связаны с тем, что подростки больше ходят в кино, чем взрослые и дети."
   ]
  },
  {
   "cell_type": "markdown",
   "metadata": {
    "id": "l_Kg6Ku4gFya"
   },
   "source": [
    "### Шаг 4. Исследуйте фильмы, которые получили государственную поддержку\n",
    "\n",
    "На этом этапе нет конкретных инструкций и заданий — поищите интересные закономерности в данных. Посмотрите, сколько выделяют средств на поддержку кино. Проверьте, хорошо ли окупаются такие фильмы, какой у них рейтинг."
   ]
  },
  {
   "cell_type": "markdown",
   "metadata": {},
   "source": [
    "#### Рассмотрим зависимости между суммами сборов с возвратной господдержкой и бюжетом в зависимости от типа и основного жанра. Также рассмотрим среднюю оценку фильма в зависимости от типа и основного жанра. С невозвратной господдержкой рассматривать не имеет смысла, т.к. у этих столбцов пропуски в одинаковых строках."
   ]
  },
  {
   "cell_type": "markdown",
   "metadata": {},
   "source": [
    "##### Суммы сборов и бюджета"
   ]
  },
  {
   "cell_type": "code",
   "execution_count": 63,
   "metadata": {
    "id": "W9QKpjUdgFyb",
    "scrolled": true
   },
   "outputs": [
    {
     "name": "stdout",
     "output_type": "stream",
     "text": [
      "                  box_office              budget      \n",
      "                         sum count           sum count\n",
      "type                                                  \n",
      "Анимационный    5.623293e+09    30  6.327530e+09    31\n",
      "Документальный  0.000000e+00     0  3.300000e+07     1\n",
      "Художественный  3.648478e+10   286  3.707469e+10   297\n"
     ]
    },
    {
     "data": {
      "image/png": "[encoded data removed]",
      "text/plain": [
       "<Figure size 1080x360 with 1 Axes>"
      ]
     },
     "metadata": {
      "needs_background": "light"
     },
     "output_type": "display_data"
    }
   ],
   "source": [
    "print(sorted_mkrf_movies_show[sorted_mkrf_movies_show['refundable_support'].notna()].groupby('type')[['box_office', 'budget']] \\\n",
    ".agg(['sum', 'count']))\n",
    "sorted_mkrf_movies_show[sorted_mkrf_movies_show['refundable_support'].notna()].groupby('type')[['box_office', 'budget']] \\\n",
    ".agg('sum').plot(kind='bar', title='Суммы сборов и бюджетов фильмов с возвратной господдержкой по типам фильмов',\n",
    "                 figsize=(15, 5), grid=True);"
   ]
  },
  {
   "cell_type": "markdown",
   "metadata": {},
   "source": [
    "Видно, что в сборах есть отсутствующие данные. Заполним средним значением по типу фильма."
   ]
  },
  {
   "cell_type": "code",
   "execution_count": 64,
   "metadata": {},
   "outputs": [],
   "source": [
    "for t in sorted_mkrf_movies_show['type'].unique():\n",
    "    sorted_mkrf_movies_show.loc[(sorted_mkrf_movies_show['type'] == t) & (sorted_mkrf_movies_show['box_office'].isna()) &\n",
    "                               (sorted_mkrf_movies_show['refundable_support'].notna()), 'box_office'] = \\\n",
    "    sorted_mkrf_movies_show.loc[(sorted_mkrf_movies_show['type'] == t), 'box_office'].mean()"
   ]
  },
  {
   "cell_type": "code",
   "execution_count": 65,
   "metadata": {
    "id": "W9QKpjUdgFyb",
    "scrolled": true
   },
   "outputs": [
    {
     "name": "stdout",
     "output_type": "stream",
     "text": [
      "                  box_office              budget      \n",
      "                         sum count           sum count\n",
      "type                                                  \n",
      "Анимационный    5.725373e+09    31  6.327530e+09    31\n",
      "Документальный  1.697802e+06     1  3.300000e+07     1\n",
      "Художественный  3.736356e+10   297  3.707469e+10   297\n"
     ]
    },
    {
     "data": {
      "image/png": "[encoded data removed]",
      "text/plain": [
       "<Figure size 1080x360 with 1 Axes>"
      ]
     },
     "metadata": {
      "needs_background": "light"
     },
     "output_type": "display_data"
    }
   ],
   "source": [
    "print(sorted_mkrf_movies_show[sorted_mkrf_movies_show['refundable_support'].notna()].groupby('type')[['box_office', 'budget']] \\\n",
    ".agg(['sum', 'count']))\n",
    "sorted_mkrf_movies_show[sorted_mkrf_movies_show['refundable_support'].notna()].groupby('type')[['box_office', 'budget']] \\\n",
    ".agg('sum').plot(kind='bar', title='Суммы сборов и бюджетов фильмов с возвратной господдержкой по типам фильмов',\n",
    "                 figsize=(15, 5), grid=True);"
   ]
  },
  {
   "cell_type": "markdown",
   "metadata": {},
   "source": [
    "Из графика следует, что бюджет фильмов с господдержкой по типам фильмов Анимационный и Документальный был выше, чем его сборы. По типу Художественный наоборот."
   ]
  },
  {
   "cell_type": "code",
   "execution_count": 66,
   "metadata": {
    "id": "W9QKpjUdgFyb",
    "scrolled": false
   },
   "outputs": [
    {
     "name": "stdout",
     "output_type": "stream",
     "text": [
      "                  box_office              budget      \n",
      "                         sum count           sum count\n",
      "type                                                  \n",
      "Анимационный    5.725373e+09    31  6.327530e+09    31\n",
      "Документальный  1.697802e+06     1  3.300000e+07     1\n",
      "Художественный  3.736356e+10   297  3.707469e+10   297\n"
     ]
    },
    {
     "data": {
      "image/png": "[encoded data removed]",
      "text/plain": [
       "<Figure size 1080x360 with 1 Axes>"
      ]
     },
     "metadata": {
      "needs_background": "light"
     },
     "output_type": "display_data"
    }
   ],
   "source": [
    "print(sorted_mkrf_movies_show[sorted_mkrf_movies_show['refundable_support'].notna()].groupby('type')[['box_office', 'budget']] \\\n",
    ".agg(['sum', 'count']))\n",
    "sorted_mkrf_movies_show[sorted_mkrf_movies_show['refundable_support'].notna()].groupby('type')[['box_office', 'budget']] \\\n",
    ".agg('sum').plot(kind='box', title='Суммы сборов и бюджетов фильмов с возвратной господдержкой по типам фильмов',\n",
    "                 figsize=(15, 5), grid=True);"
   ]
  },
  {
   "cell_type": "code",
   "execution_count": 67,
   "metadata": {},
   "outputs": [
    {
     "data": {
      "image/png": "[encoded data removed]",
      "text/plain": [
       "<Figure size 1080x360 with 2 Axes>"
      ]
     },
     "metadata": {
      "needs_background": "light"
     },
     "output_type": "display_data"
    }
   ],
   "source": [
    "sorted_mkrf_movies_show[sorted_mkrf_movies_show['refundable_support'].notna()] \\\n",
    ".boxplot(column=['box_office', 'budget'], by='type', figsize=(15, 5));"
   ]
  },
  {
   "cell_type": "code",
   "execution_count": 68,
   "metadata": {
    "id": "W9QKpjUdgFyb",
    "scrolled": true
   },
   "outputs": [
    {
     "name": "stdout",
     "output_type": "stream",
     "text": [
      "               box_office              budget      \n",
      "                      sum count           sum count\n",
      "main_genres                                        \n",
      "биография    5.168830e+08     3  5.289336e+08     3\n",
      "боевик       5.959289e+08     6  7.334368e+08     6\n",
      "военный      1.017670e+09     9  1.285907e+09     9\n",
      "детектив     1.385475e+08     5  1.198222e+09     5\n",
      "детский      8.290263e+07     4  1.838980e+08     4\n",
      "драма        9.966997e+09    92  1.109876e+10    92\n",
      "история      1.455468e+09     4  2.145062e+09     4\n",
      "комедия      1.255987e+10    74  6.297462e+09    74\n",
      "криминал     2.397939e+08     3  4.265948e+08     3\n",
      "мелодрама    1.346779e+08    15  9.553803e+08    15\n",
      "мультфильм   5.724094e+09    31  6.146749e+09    31\n",
      "мюзикл       1.017050e+08     4  5.641975e+08     4\n",
      "приключения  1.285486e+09     7  3.374742e+09     7\n",
      "реальное ТВ  3.272110e+07     1  8.000000e+07     1\n",
      "семейный     5.861226e+08     7  6.367998e+08     7\n",
      "спорт        2.967768e+09     3  7.104690e+08     3\n",
      "триллер      7.004502e+08    15  1.388461e+09    15\n",
      "ужасы        7.101232e+08    10  5.638776e+08    10\n",
      "фантастика   1.718204e+09    10  1.655351e+09    10\n",
      "фэнтези      9.935782e+08    10  2.292124e+09    10\n"
     ]
    },
    {
     "data": {
      "image/png": "[encoded data removed]",
      "text/plain": [
       "<Figure size 1080x360 with 1 Axes>"
      ]
     },
     "metadata": {
      "needs_background": "light"
     },
     "output_type": "display_data"
    }
   ],
   "source": [
    "print(sorted_mkrf_movies_show[sorted_mkrf_movies_show['refundable_support'].notna()] \\\n",
    "      .groupby('main_genres')[['box_office', 'budget']].agg(['sum', 'count']))\n",
    "sorted_mkrf_movies_show[sorted_mkrf_movies_show['refundable_support'].notna()] \\\n",
    ".groupby('main_genres')[['box_office', 'budget']].agg('sum') \\\n",
    ".plot(kind='bar',title='Суммы сборов и бюджетов фильмов с возвратной господдержкой по основным жанрам фильмов',\n",
    "      figsize=(15, 5), grid=True);"
   ]
  },
  {
   "cell_type": "markdown",
   "metadata": {},
   "source": [
    "Из графика следует, что бюджет фильмов с возвратной господдержкой по всем основным жанрам кроме Комедия, Спорт, Ужасы и Фантастика был выше, чем его сборы."
   ]
  },
  {
   "cell_type": "markdown",
   "metadata": {},
   "source": [
    "##### Рейтинг"
   ]
  },
  {
   "cell_type": "code",
   "execution_count": 69,
   "metadata": {
    "id": "W9QKpjUdgFyb",
    "scrolled": true
   },
   "outputs": [
    {
     "name": "stdout",
     "output_type": "stream",
     "text": [
      "type\n",
      "Анимационный      5.750000\n",
      "Документальный    8.000000\n",
      "Художественный    6.040071\n",
      "Name: ratings, dtype: float64\n"
     ]
    },
    {
     "data": {
      "image/png": "[encoded data removed]",
      "text/plain": [
       "<Figure size 1080x360 with 1 Axes>"
      ]
     },
     "metadata": {
      "needs_background": "light"
     },
     "output_type": "display_data"
    }
   ],
   "source": [
    "print(sorted_mkrf_movies_show[sorted_mkrf_movies_show['refundable_support'].notna()].groupby('type')['ratings'] \\\n",
    ".agg('mean'))\n",
    "sorted_mkrf_movies_show[sorted_mkrf_movies_show['refundable_support'].notna()].groupby('type')['ratings'] \\\n",
    ".agg('mean').plot(kind='bar', title='Рейтинг фильмов с возвратной господдержкой по типам фильмов',\n",
    "                 figsize=(15, 5), grid=True);"
   ]
  },
  {
   "cell_type": "markdown",
   "metadata": {},
   "source": [
    "Из графика следует, что самый высокий рейтинг у Документальных фильмов с возвратной господдержкой (8.0), а у Анимационных самый низкий (5.75)."
   ]
  },
  {
   "cell_type": "code",
   "execution_count": 70,
   "metadata": {
    "id": "W9QKpjUdgFyb"
   },
   "outputs": [
    {
     "name": "stdout",
     "output_type": "stream",
     "text": [
      "main_genres\n",
      "биография      6.900000\n",
      "боевик         6.583333\n",
      "военный        6.466667\n",
      "детектив       6.760000\n",
      "детский        7.125000\n",
      "драма          6.404348\n",
      "история        5.350000\n",
      "комедия        5.514865\n",
      "криминал       7.500000\n",
      "мелодрама      5.953333\n",
      "мультфильм     5.800000\n",
      "мюзикл         6.550000\n",
      "приключения    5.871429\n",
      "реальное ТВ    5.600000\n",
      "семейный       5.414286\n",
      "спорт          6.933333\n",
      "триллер        5.706667\n",
      "ужасы          5.200000\n",
      "фантастика     6.190000\n",
      "фэнтези        6.170000\n",
      "Name: ratings, dtype: float64\n"
     ]
    },
    {
     "data": {
      "image/png": "[encoded data removed]",
      "text/plain": [
       "<Figure size 1080x360 with 1 Axes>"
      ]
     },
     "metadata": {
      "needs_background": "light"
     },
     "output_type": "display_data"
    }
   ],
   "source": [
    "print(sorted_mkrf_movies_show[sorted_mkrf_movies_show['refundable_support'].notna()].groupby('main_genres')['ratings'] \\\n",
    ".agg('mean'))\n",
    "sorted_mkrf_movies_show[sorted_mkrf_movies_show['refundable_support'].notna()].groupby('main_genres')['ratings'] \\\n",
    ".agg('mean').plot(kind='bar', title='Рейтинг фильмов с возвратной господдержкой по основным жанрам фильмов',\n",
    "                 figsize=(15, 5), grid=True);"
   ]
  },
  {
   "cell_type": "markdown",
   "metadata": {},
   "source": [
    "Из графика следует, что самый высокий рейтинг у Криминальных фильмов с возвратной господдержкой (7.5), а у Ужасов самый низкий (5.2)."
   ]
  },
  {
   "cell_type": "markdown",
   "metadata": {
    "id": "V2gYwMcPgFyd"
   },
   "source": [
    "### Шаг 5. Напишите общий вывод"
   ]
  },
  {
   "cell_type": "markdown",
   "metadata": {
    "id": "AYRg3dzXgFye"
   },
   "source": [
    "#### В данных из mkrf_movies формат значений в столбце puNumber был object, т.к. в нём присутствовали не только цифры, но и пропуски, которые были заполнены отличными от NaN значениями. Поэтому заменил эти пропуски на значение 0, преобразовал в int и объединил с данными из mkrf_shows.\n",
    "\n",
    "#### Неккоректные типы данных в столбцах show_start_date и ratings. Преобразуем их на datetime64 для show_start_date и float для ratings.\n",
    "\n",
    "#### Из данных следует:\n",
    "1. Пропущенные данные в столбце film_studio составляют менее 1%, поэтому их можно не заменять, а просто удалить;\n",
    "2. Пропущенные данные в столбце production_country составляют менее 1%, поэтому их можно не заменять, а просто удалить;\n",
    "3. Пропущенные данные в столбце director составляют менее 1%, поэтому их можно не заменять, а просто удалить;\n",
    "4. Пропущенные данные в столбце producer составляют около 8%, это большое количество данных, поэтому просто удалить их нельзя. Логически заменить не получиться. Оставляем пропуски;\n",
    "5. Пропущенные данные в столбцах refundable_support, nonrefundable_support, budget и financing_source составляют около 96%. В этих столбцах данные пропущены, т.к. только около 4% фильмов из исходных данных имеют господдержку. Логически заменить не получится. Оставляем пропуски;\n",
    "6. Пропущенные данные в столбце ratings составляют около 13%. В этом столбце данные пропущены, т.к. у этих фильмов отсутствуют рейтинги на Кинопоиске. Логически заменить не получится. Оставляем пропуски;\n",
    "7. Пропущенные данные в столбце genres составляют около 13%, это большое количество данных, поэтому просто удалить их нельзя. Логически заменить не получиться. Оставляем пропуски;\n",
    "8. Пропущенные данные в столбце box_office составляют около 58%. В этом столбце данные пропущены, т.к. имеются данные только по фильмам, которые показывали в российских кинотеатрах. Логически заменить не получиться. Оставляем пропуски.\n",
    "\n",
    "#### Проверку дубликатов осуществим по столбцу title. Из проверки видно, что количество дубликатов в данных 714. Это составляет около 10% от всех данных. Проверим данные по столбцу show_start_date.\n",
    "\n",
    "Из данных по столбцу show_start_date видно, что дубликаты получились из-за разных данных в этом столбце. Также видно, что сначала идут более поздние даты от даты проката (Пример: \"Особо опасен\" вышел в 2008 г. (данные с Кинопоиска), наиболее ближайшая дата к релизу находится в строке 4). Поэтому отсортируем данне по столбцу show_start_date, затем удалим дубликаты.\n",
    "\n",
    "#### При анализе данных выше видно, что общей проблемой почти во всех категориальных столбцах является лишние пробелы. Уберём их.\n",
    "\n",
    "уникальные значения в director\n",
    "   было 4786\n",
    "  стало 4776\n",
    "\n",
    "уникальные значения в producer\n",
    "   было 5306\n",
    "  стало 5290\n",
    "\n",
    "уникальные значения в film_studio\n",
    "   было 5446\n",
    "  стало 5418\n",
    "\n",
    "уникальные значения в production_country\n",
    "   было 943\n",
    "  стало 926\n",
    "\n",
    "уникальные значения в genres\n",
    "   было 742\n",
    "  стало 742\n",
    "\n",
    "уникальные значения в director\n",
    "   было 4786\n",
    "  стало 4776\n",
    "\n",
    "уникальные значения в producer\n",
    "   было 5306\n",
    "  стало 5290\n",
    "\n",
    "уникальные значения в film_studio\n",
    "   было 5446\n",
    "  стало 5418\n",
    "\n",
    "уникальные значения в production_country\n",
    "   было 943\n",
    "  стало 926\n",
    "\n",
    "В категориальных данных, которые не описаны выше, проблем с пробелами нет.\n",
    "\n",
    "#### Есть фильмы, которые выходили с господдержкой, но в бюджете стоит 0. Найдём процент суммарной господдержки от бюджета картины и там где значение 0 в бюджете, заменим значения на суммарную господдержку деленой на средний процент господдержки.\n",
    "\n",
    "Чаще всего доля участия государства в бюджете составляет 61.5%.\n",
    "\n",
    "Из данных следует, что доля фильмов с указанной информацией о прокате в кинотеатрах растёт. В 2016 году доля таких фильмов максимальна.\n",
    "\n",
    "#### Из данных следует, что минимальная сумма сборов была в 2010 году, а максимальная в 2018 году.\n",
    "\n",
    "#### Из данных следует, что медианные значения намного меньше средних. Это связано с тем, что в исходных данных много небольших значений сборов.\n",
    "\n",
    "#### Из данных следует:\n",
    "1. Да, возрастные ограничения влияют на сборы фильмов в прокате;\n",
    "2. Больше всего собирали фильмы с возрастным ограничением 16+;\n",
    "3. У разных возрастных категорий разные зависимости в период с 2015 по 2019 год:\n",
    "- у ограничения 0+ практически нет разницы по сумме сборов, которые составляют около 0,3 млрд;\n",
    "- у ограничения 6+ сумма сборов изменяется в коридоре значений от 7,5 до 12,5 млрд;\n",
    "- у ограничения 12+ сумма сборов изменяется в коридоре значений от 7,5 до 15 млрд;\n",
    "- у ограничения 16+ сумма сборов изменяется в коридоре значений от 11 до 19 млрд;\n",
    "- у ограничения 18+ сумма сборов изменяется в коридоре значений от 5 до 10 млрд.\n",
    "4. Такие изменения могут быть связаны с тем, что подростки больше ходят в кино, чем взрослые и дети.\n",
    "\n",
    "#### Из данных следует, что бюджет фильмов с господдержкой по типам фильмов Анимационный и Документальный был выше, чем его сборы. По типу Художественный наоборот.\n",
    "\n",
    "#### Из данных следует, что бюджет фильмов с возвратной господдержкой по всем основным жанрам кроме Комедия, Спорт, Ужасы и Фантастика был выше, чем его сборы.\n",
    "\n",
    "#### Из данных следует, что самый высокий рейтинг у Документальных фильмов с возвратной господдержкой (8.0), а у Анимационных самый низкий (5.75).\n",
    "\n",
    "#### Из данных следует, что самый высокий рейтинг у Криминальных фильмов с возвратной господдержкой (7.5), а у Ужасов самый низкий (5.2)."
   ]
  },
  {
   "cell_type": "markdown",
   "metadata": {},
   "source": [
    "В изначальных данных присутствовали дубликаты, к некоторым столбцам был присвоен ошибочный формат, также были пропуски данных. На основании этого было сделано следующее:\n",
    "1. Выявленные дубликаты были удалены из данных;\n",
    "2. Ошибочный формат был исправлен;\n",
    "3. Пропуски данных, там где это было возможно, были заменены."
   ]
  }
 ],
 "metadata": {
  "ExecuteTimeLog": [
   {
    "duration": 537,
    "start_time": "2021-07-07T10:12:08.634Z"
   },
   {
    "duration": 206,
    "start_time": "2021-07-07T10:12:30.191Z"
   },
   {
    "duration": 227,
    "start_time": "2021-07-07T10:12:33.078Z"
   },
   {
    "duration": 153,
    "start_time": "2021-07-07T10:13:42.146Z"
   },
   {
    "duration": 233,
    "start_time": "2021-07-07T10:30:09.252Z"
   },
   {
    "duration": 19,
    "start_time": "2021-07-07T10:30:15.577Z"
   },
   {
    "duration": 18,
    "start_time": "2021-07-07T10:30:57.348Z"
   },
   {
    "duration": 19,
    "start_time": "2021-07-07T10:31:17.452Z"
   },
   {
    "duration": 21,
    "start_time": "2021-07-07T10:31:32.227Z"
   },
   {
    "duration": 27,
    "start_time": "2021-07-07T10:32:06.588Z"
   },
   {
    "duration": 23,
    "start_time": "2021-07-07T10:32:43.645Z"
   },
   {
    "duration": 24,
    "start_time": "2021-07-07T10:33:06.948Z"
   },
   {
    "duration": 7,
    "start_time": "2021-07-07T10:33:28.558Z"
   },
   {
    "duration": 23,
    "start_time": "2021-07-07T10:33:43.761Z"
   },
   {
    "duration": 28,
    "start_time": "2021-07-07T10:34:13.466Z"
   },
   {
    "duration": 23,
    "start_time": "2021-07-07T10:35:56.187Z"
   },
   {
    "duration": 6,
    "start_time": "2021-07-07T10:36:48.182Z"
   },
   {
    "duration": 14,
    "start_time": "2021-07-07T10:37:49.641Z"
   },
   {
    "duration": 6,
    "start_time": "2021-07-07T10:38:06.694Z"
   },
   {
    "duration": 6,
    "start_time": "2021-07-07T10:38:13.493Z"
   },
   {
    "duration": 19,
    "start_time": "2021-07-07T10:38:44.056Z"
   },
   {
    "duration": 186,
    "start_time": "2021-07-07T10:48:35.618Z"
   },
   {
    "duration": 24,
    "start_time": "2021-07-07T10:48:51.498Z"
   },
   {
    "duration": 20,
    "start_time": "2021-07-07T10:48:59.415Z"
   },
   {
    "duration": 20,
    "start_time": "2021-07-07T10:53:02.195Z"
   },
   {
    "duration": 188,
    "start_time": "2021-07-07T10:54:40.486Z"
   },
   {
    "duration": 115,
    "start_time": "2021-07-07T10:54:52.552Z"
   },
   {
    "duration": 214,
    "start_time": "2021-07-07T10:54:56.354Z"
   },
   {
    "duration": 47,
    "start_time": "2021-07-07T10:54:58.282Z"
   },
   {
    "duration": 217,
    "start_time": "2021-07-07T10:59:16.075Z"
   },
   {
    "duration": 51,
    "start_time": "2021-07-07T10:59:16.243Z"
   },
   {
    "duration": 578,
    "start_time": "2021-07-07T10:59:18.774Z"
   },
   {
    "duration": 161,
    "start_time": "2021-07-07T10:59:21.238Z"
   },
   {
    "duration": 59,
    "start_time": "2021-07-07T10:59:21.453Z"
   },
   {
    "duration": 3,
    "start_time": "2021-07-07T11:02:10.786Z"
   },
   {
    "duration": 13,
    "start_time": "2021-07-07T11:07:07.722Z"
   },
   {
    "duration": 26,
    "start_time": "2021-07-07T11:07:17.958Z"
   },
   {
    "duration": 22,
    "start_time": "2021-07-07T11:08:17.939Z"
   },
   {
    "duration": 212,
    "start_time": "2021-07-07T11:08:19.665Z"
   },
   {
    "duration": 21,
    "start_time": "2021-07-07T11:08:29.945Z"
   },
   {
    "duration": 31,
    "start_time": "2021-07-07T11:08:38.899Z"
   },
   {
    "duration": 23,
    "start_time": "2021-07-07T11:08:54.527Z"
   },
   {
    "duration": 8,
    "start_time": "2021-07-07T11:18:55.974Z"
   },
   {
    "duration": 7,
    "start_time": "2021-07-07T11:19:03.639Z"
   },
   {
    "duration": 7,
    "start_time": "2021-07-07T11:19:06.444Z"
   },
   {
    "duration": 578,
    "start_time": "2021-07-07T12:09:59.576Z"
   },
   {
    "duration": 195,
    "start_time": "2021-07-07T12:10:00.156Z"
   },
   {
    "duration": 115,
    "start_time": "2021-07-07T12:10:00.353Z"
   },
   {
    "duration": 3,
    "start_time": "2021-07-07T12:10:00.470Z"
   },
   {
    "duration": 32,
    "start_time": "2021-07-07T12:10:00.474Z"
   },
   {
    "duration": 23,
    "start_time": "2021-07-07T12:10:00.508Z"
   },
   {
    "duration": 19,
    "start_time": "2021-07-07T12:10:00.533Z"
   },
   {
    "duration": 44,
    "start_time": "2021-07-07T12:10:00.553Z"
   },
   {
    "duration": 7,
    "start_time": "2021-07-07T12:10:00.600Z"
   },
   {
    "duration": 7,
    "start_time": "2021-07-07T12:19:45.761Z"
   },
   {
    "duration": 21,
    "start_time": "2021-07-07T12:21:35.482Z"
   },
   {
    "duration": 21,
    "start_time": "2021-07-07T12:29:23.569Z"
   },
   {
    "duration": 525,
    "start_time": "2021-07-07T12:29:44.542Z"
   },
   {
    "duration": 214,
    "start_time": "2021-07-07T12:29:45.069Z"
   },
   {
    "duration": 92,
    "start_time": "2021-07-07T12:29:45.285Z"
   },
   {
    "duration": 3,
    "start_time": "2021-07-07T12:29:45.379Z"
   },
   {
    "duration": 28,
    "start_time": "2021-07-07T12:29:45.384Z"
   },
   {
    "duration": 23,
    "start_time": "2021-07-07T12:29:45.413Z"
   },
   {
    "duration": 21,
    "start_time": "2021-07-07T12:29:45.437Z"
   },
   {
    "duration": 41,
    "start_time": "2021-07-07T12:29:45.460Z"
   },
   {
    "duration": 7,
    "start_time": "2021-07-07T12:29:45.502Z"
   },
   {
    "duration": 20,
    "start_time": "2021-07-07T12:29:45.511Z"
   },
   {
    "duration": 12,
    "start_time": "2021-07-07T12:34:02.800Z"
   },
   {
    "duration": 7,
    "start_time": "2021-07-07T12:35:10.479Z"
   },
   {
    "duration": 8,
    "start_time": "2021-07-07T12:35:22.440Z"
   },
   {
    "duration": 6,
    "start_time": "2021-07-07T12:35:35.649Z"
   },
   {
    "duration": 6,
    "start_time": "2021-07-07T12:35:43.107Z"
   },
   {
    "duration": 22,
    "start_time": "2021-07-07T12:38:03.029Z"
   },
   {
    "duration": 10,
    "start_time": "2021-07-07T12:38:06.592Z"
   },
   {
    "duration": 563,
    "start_time": "2021-07-07T12:38:46.493Z"
   },
   {
    "duration": 265,
    "start_time": "2021-07-07T12:38:47.058Z"
   },
   {
    "duration": 94,
    "start_time": "2021-07-07T12:38:47.325Z"
   },
   {
    "duration": 3,
    "start_time": "2021-07-07T12:38:47.422Z"
   },
   {
    "duration": 30,
    "start_time": "2021-07-07T12:38:47.427Z"
   },
   {
    "duration": 16,
    "start_time": "2021-07-07T12:38:53.305Z"
   },
   {
    "duration": 10,
    "start_time": "2021-07-07T12:38:53.499Z"
   },
   {
    "duration": 8,
    "start_time": "2021-07-07T12:39:48.161Z"
   },
   {
    "duration": 27,
    "start_time": "2021-07-07T12:41:17.629Z"
   },
   {
    "duration": 17,
    "start_time": "2021-07-07T12:41:17.867Z"
   },
   {
    "duration": 21,
    "start_time": "2021-07-07T12:41:19.310Z"
   },
   {
    "duration": 7,
    "start_time": "2021-07-07T12:41:19.544Z"
   },
   {
    "duration": 20,
    "start_time": "2021-07-07T12:41:20.504Z"
   },
   {
    "duration": 554,
    "start_time": "2021-07-07T12:56:23.696Z"
   },
   {
    "duration": 200,
    "start_time": "2021-07-07T12:56:25.234Z"
   },
   {
    "duration": 119,
    "start_time": "2021-07-07T12:56:25.480Z"
   },
   {
    "duration": 4,
    "start_time": "2021-07-07T12:56:25.762Z"
   },
   {
    "duration": 26,
    "start_time": "2021-07-07T12:56:27.172Z"
   },
   {
    "duration": 12,
    "start_time": "2021-07-07T12:56:29.051Z"
   },
   {
    "duration": 10,
    "start_time": "2021-07-07T12:56:29.291Z"
   },
   {
    "duration": 8,
    "start_time": "2021-07-07T12:56:29.623Z"
   },
   {
    "duration": 28,
    "start_time": "2021-07-07T12:56:32.137Z"
   },
   {
    "duration": 19,
    "start_time": "2021-07-07T12:56:39.785Z"
   },
   {
    "duration": 20,
    "start_time": "2021-07-07T12:56:44.297Z"
   },
   {
    "duration": 7,
    "start_time": "2021-07-07T12:56:45.392Z"
   },
   {
    "duration": 23,
    "start_time": "2021-07-07T12:56:46.615Z"
   },
   {
    "duration": 4,
    "start_time": "2021-07-07T12:57:06.625Z"
   },
   {
    "duration": 32,
    "start_time": "2021-07-07T12:57:36.690Z"
   },
   {
    "duration": 18,
    "start_time": "2021-07-07T12:58:00.149Z"
   },
   {
    "duration": 15,
    "start_time": "2021-07-07T12:59:16.793Z"
   },
   {
    "duration": 7,
    "start_time": "2021-07-07T13:19:22.624Z"
   },
   {
    "duration": 6,
    "start_time": "2021-07-07T14:17:33.527Z"
   },
   {
    "duration": 9,
    "start_time": "2021-07-07T14:17:48.409Z"
   },
   {
    "duration": 8,
    "start_time": "2021-07-07T14:20:13.060Z"
   },
   {
    "duration": 8,
    "start_time": "2021-07-07T14:20:37.957Z"
   },
   {
    "duration": 8,
    "start_time": "2021-07-07T14:20:47.470Z"
   },
   {
    "duration": 9,
    "start_time": "2021-07-07T14:20:54.503Z"
   },
   {
    "duration": 10,
    "start_time": "2021-07-07T14:28:57.763Z"
   },
   {
    "duration": 3,
    "start_time": "2021-07-07T14:30:23.377Z"
   },
   {
    "duration": 3,
    "start_time": "2021-07-07T14:30:36.489Z"
   },
   {
    "duration": 103,
    "start_time": "2021-07-07T14:30:52.351Z"
   },
   {
    "duration": 8,
    "start_time": "2021-07-07T14:30:54.763Z"
   },
   {
    "duration": 8,
    "start_time": "2021-07-07T14:31:29.301Z"
   },
   {
    "duration": 13,
    "start_time": "2021-07-07T14:31:44.516Z"
   },
   {
    "duration": 7,
    "start_time": "2021-07-07T14:33:10.972Z"
   },
   {
    "duration": 11,
    "start_time": "2021-07-07T14:33:27.780Z"
   },
   {
    "duration": 8,
    "start_time": "2021-07-07T14:34:44.588Z"
   },
   {
    "duration": 57,
    "start_time": "2021-07-07T14:35:59.042Z"
   },
   {
    "duration": 3,
    "start_time": "2021-07-07T14:36:28.168Z"
   },
   {
    "duration": 5,
    "start_time": "2021-07-07T14:36:46.254Z"
   },
   {
    "duration": 4,
    "start_time": "2021-07-07T14:36:52.714Z"
   },
   {
    "duration": 3,
    "start_time": "2021-07-07T14:36:56.612Z"
   },
   {
    "duration": 4,
    "start_time": "2021-07-07T14:36:57.049Z"
   },
   {
    "duration": 3,
    "start_time": "2021-07-07T14:39:21.214Z"
   },
   {
    "duration": 7,
    "start_time": "2021-07-07T14:39:52.406Z"
   },
   {
    "duration": 11,
    "start_time": "2021-07-07T14:39:58.576Z"
   },
   {
    "duration": 9,
    "start_time": "2021-07-07T14:40:26.301Z"
   },
   {
    "duration": 10,
    "start_time": "2021-07-07T14:40:31.704Z"
   },
   {
    "duration": 11,
    "start_time": "2021-07-07T14:40:36.249Z"
   },
   {
    "duration": 10,
    "start_time": "2021-07-07T14:40:39.783Z"
   },
   {
    "duration": 9,
    "start_time": "2021-07-07T14:40:48.558Z"
   },
   {
    "duration": 10,
    "start_time": "2021-07-07T14:40:57.143Z"
   },
   {
    "duration": 9,
    "start_time": "2021-07-07T14:41:06.074Z"
   },
   {
    "duration": 4324,
    "start_time": "2021-07-07T14:41:22.004Z"
   },
   {
    "duration": 11,
    "start_time": "2021-07-07T14:41:33.392Z"
   },
   {
    "duration": 9,
    "start_time": "2021-07-07T14:41:39.288Z"
   },
   {
    "duration": 569,
    "start_time": "2021-07-07T14:42:14.387Z"
   },
   {
    "duration": 197,
    "start_time": "2021-07-07T14:42:14.959Z"
   },
   {
    "duration": 84,
    "start_time": "2021-07-07T14:42:16.052Z"
   },
   {
    "duration": 4,
    "start_time": "2021-07-07T14:42:16.900Z"
   },
   {
    "duration": 27,
    "start_time": "2021-07-07T14:42:19.898Z"
   },
   {
    "duration": 12,
    "start_time": "2021-07-07T14:42:21.577Z"
   },
   {
    "duration": 9,
    "start_time": "2021-07-07T14:42:21.813Z"
   },
   {
    "duration": 9,
    "start_time": "2021-07-07T14:42:22.569Z"
   },
   {
    "duration": 29,
    "start_time": "2021-07-07T14:42:25.837Z"
   },
   {
    "duration": 20,
    "start_time": "2021-07-07T14:42:27.003Z"
   },
   {
    "duration": 21,
    "start_time": "2021-07-07T14:42:28.767Z"
   },
   {
    "duration": 7,
    "start_time": "2021-07-07T14:42:29.838Z"
   },
   {
    "duration": 4,
    "start_time": "2021-07-07T14:43:25.493Z"
   },
   {
    "duration": 7,
    "start_time": "2021-07-07T14:43:26.573Z"
   },
   {
    "duration": 10,
    "start_time": "2021-07-07T14:43:31.639Z"
   },
   {
    "duration": 9,
    "start_time": "2021-07-07T14:43:32.046Z"
   },
   {
    "duration": 10,
    "start_time": "2021-07-07T14:43:33.301Z"
   },
   {
    "duration": 12,
    "start_time": "2021-07-07T14:43:33.658Z"
   },
   {
    "duration": 8,
    "start_time": "2021-07-07T14:43:34.552Z"
   },
   {
    "duration": 9,
    "start_time": "2021-07-07T14:43:35.058Z"
   },
   {
    "duration": 12,
    "start_time": "2021-07-07T14:43:35.914Z"
   },
   {
    "duration": 17,
    "start_time": "2021-07-07T14:45:34.368Z"
   },
   {
    "duration": 512,
    "start_time": "2021-07-07T14:51:58.236Z"
   },
   {
    "duration": 223,
    "start_time": "2021-07-07T14:51:58.750Z"
   },
   {
    "duration": 93,
    "start_time": "2021-07-07T14:51:58.977Z"
   },
   {
    "duration": 4,
    "start_time": "2021-07-07T14:51:59.071Z"
   },
   {
    "duration": 37,
    "start_time": "2021-07-07T14:51:59.077Z"
   },
   {
    "duration": 18,
    "start_time": "2021-07-07T14:51:59.116Z"
   },
   {
    "duration": 10,
    "start_time": "2021-07-07T14:51:59.137Z"
   },
   {
    "duration": 8,
    "start_time": "2021-07-07T14:51:59.149Z"
   },
   {
    "duration": 54,
    "start_time": "2021-07-07T14:51:59.158Z"
   },
   {
    "duration": 18,
    "start_time": "2021-07-07T14:51:59.213Z"
   },
   {
    "duration": 22,
    "start_time": "2021-07-07T14:51:59.232Z"
   },
   {
    "duration": 36,
    "start_time": "2021-07-07T14:51:59.255Z"
   },
   {
    "duration": 7,
    "start_time": "2021-07-07T14:51:59.293Z"
   },
   {
    "duration": 10,
    "start_time": "2021-07-07T14:51:59.302Z"
   },
   {
    "duration": 9,
    "start_time": "2021-07-07T14:51:59.313Z"
   },
   {
    "duration": 11,
    "start_time": "2021-07-07T14:51:59.324Z"
   },
   {
    "duration": 8,
    "start_time": "2021-07-07T14:51:59.337Z"
   },
   {
    "duration": 46,
    "start_time": "2021-07-07T14:51:59.347Z"
   },
   {
    "duration": 22,
    "start_time": "2021-07-07T14:51:59.395Z"
   },
   {
    "duration": 24,
    "start_time": "2021-07-07T14:57:32.911Z"
   },
   {
    "duration": 7,
    "start_time": "2021-07-07T14:58:22.070Z"
   },
   {
    "duration": 4,
    "start_time": "2021-07-07T14:59:11.239Z"
   },
   {
    "duration": 25,
    "start_time": "2021-07-07T15:07:22.208Z"
   },
   {
    "duration": 16,
    "start_time": "2021-07-07T15:08:25.560Z"
   },
   {
    "duration": 15,
    "start_time": "2021-07-07T15:08:40.647Z"
   },
   {
    "duration": 14,
    "start_time": "2021-07-07T15:08:46.669Z"
   },
   {
    "duration": 533,
    "start_time": "2021-07-07T15:18:07.440Z"
   },
   {
    "duration": 173,
    "start_time": "2021-07-07T15:18:07.974Z"
   },
   {
    "duration": 84,
    "start_time": "2021-07-07T15:18:08.149Z"
   },
   {
    "duration": 3,
    "start_time": "2021-07-07T15:18:08.235Z"
   },
   {
    "duration": 30,
    "start_time": "2021-07-07T15:18:08.240Z"
   },
   {
    "duration": 22,
    "start_time": "2021-07-07T15:18:08.272Z"
   },
   {
    "duration": 11,
    "start_time": "2021-07-07T15:18:08.295Z"
   },
   {
    "duration": 11,
    "start_time": "2021-07-07T15:18:08.309Z"
   },
   {
    "duration": 40,
    "start_time": "2021-07-07T15:18:08.322Z"
   },
   {
    "duration": 42,
    "start_time": "2021-07-07T15:18:08.364Z"
   },
   {
    "duration": 22,
    "start_time": "2021-07-07T15:18:08.408Z"
   },
   {
    "duration": 5,
    "start_time": "2021-07-07T15:18:08.432Z"
   },
   {
    "duration": 13,
    "start_time": "2021-07-07T15:18:08.439Z"
   },
   {
    "duration": 9,
    "start_time": "2021-07-07T15:18:08.454Z"
   },
   {
    "duration": 32,
    "start_time": "2021-07-07T15:18:08.465Z"
   },
   {
    "duration": 10,
    "start_time": "2021-07-07T15:18:08.501Z"
   },
   {
    "duration": 7,
    "start_time": "2021-07-07T15:18:08.513Z"
   },
   {
    "duration": 11,
    "start_time": "2021-07-07T15:18:08.521Z"
   },
   {
    "duration": 17,
    "start_time": "2021-07-07T15:18:08.534Z"
   },
   {
    "duration": 44,
    "start_time": "2021-07-07T15:18:08.553Z"
   },
   {
    "duration": 22,
    "start_time": "2021-07-07T15:18:08.599Z"
   },
   {
    "duration": 61,
    "start_time": "2021-07-07T15:18:08.622Z"
   },
   {
    "duration": 7,
    "start_time": "2021-07-07T15:18:39.457Z"
   },
   {
    "duration": 5,
    "start_time": "2021-07-07T16:05:17.020Z"
   },
   {
    "duration": 5,
    "start_time": "2021-07-07T16:51:28.794Z"
   },
   {
    "duration": 546,
    "start_time": "2021-07-07T16:52:26.306Z"
   },
   {
    "duration": 203,
    "start_time": "2021-07-07T16:52:27.523Z"
   },
   {
    "duration": 85,
    "start_time": "2021-07-07T16:52:27.736Z"
   },
   {
    "duration": 4,
    "start_time": "2021-07-07T16:52:27.899Z"
   },
   {
    "duration": 25,
    "start_time": "2021-07-07T16:52:28.674Z"
   },
   {
    "duration": 8,
    "start_time": "2021-07-07T16:52:32.956Z"
   },
   {
    "duration": 18,
    "start_time": "2021-07-07T16:52:35.616Z"
   },
   {
    "duration": 6,
    "start_time": "2021-07-07T16:52:36.913Z"
   },
   {
    "duration": 11,
    "start_time": "2021-07-07T16:52:40.258Z"
   },
   {
    "duration": 10,
    "start_time": "2021-07-07T16:52:46.251Z"
   },
   {
    "duration": 8,
    "start_time": "2021-07-07T16:52:47.182Z"
   },
   {
    "duration": 27,
    "start_time": "2021-07-07T16:53:20.391Z"
   },
   {
    "duration": 20,
    "start_time": "2021-07-07T16:53:22.022Z"
   },
   {
    "duration": 23,
    "start_time": "2021-07-07T16:53:23.690Z"
   },
   {
    "duration": 8,
    "start_time": "2021-07-07T16:53:24.261Z"
   },
   {
    "duration": 4,
    "start_time": "2021-07-07T16:53:38.733Z"
   },
   {
    "duration": 7,
    "start_time": "2021-07-07T16:53:40.445Z"
   },
   {
    "duration": 11,
    "start_time": "2021-07-07T16:53:41.348Z"
   },
   {
    "duration": 13,
    "start_time": "2021-07-07T16:53:45.250Z"
   },
   {
    "duration": 12,
    "start_time": "2021-07-07T16:53:45.467Z"
   },
   {
    "duration": 4,
    "start_time": "2021-07-07T16:55:32.704Z"
   },
   {
    "duration": 12,
    "start_time": "2021-07-07T16:55:49.012Z"
   },
   {
    "duration": 18,
    "start_time": "2021-07-07T16:55:49.547Z"
   },
   {
    "duration": 611,
    "start_time": "2021-07-07T16:58:35.156Z"
   },
   {
    "duration": 200,
    "start_time": "2021-07-07T16:58:35.770Z"
   },
   {
    "duration": 86,
    "start_time": "2021-07-07T16:58:35.972Z"
   },
   {
    "duration": 3,
    "start_time": "2021-07-07T16:58:36.060Z"
   },
   {
    "duration": 27,
    "start_time": "2021-07-07T16:58:36.065Z"
   },
   {
    "duration": 8,
    "start_time": "2021-07-07T16:58:36.094Z"
   },
   {
    "duration": 17,
    "start_time": "2021-07-07T16:58:36.103Z"
   },
   {
    "duration": 5,
    "start_time": "2021-07-07T16:58:36.123Z"
   },
   {
    "duration": 11,
    "start_time": "2021-07-07T16:58:36.130Z"
   },
   {
    "duration": 7,
    "start_time": "2021-07-07T16:58:36.143Z"
   },
   {
    "duration": 37,
    "start_time": "2021-07-07T16:58:36.152Z"
   },
   {
    "duration": 27,
    "start_time": "2021-07-07T16:58:36.191Z"
   },
   {
    "duration": 19,
    "start_time": "2021-07-07T16:58:36.219Z"
   },
   {
    "duration": 49,
    "start_time": "2021-07-07T16:58:36.240Z"
   },
   {
    "duration": 6,
    "start_time": "2021-07-07T16:58:36.291Z"
   },
   {
    "duration": 3,
    "start_time": "2021-07-07T16:58:36.299Z"
   },
   {
    "duration": 13,
    "start_time": "2021-07-07T16:58:36.304Z"
   },
   {
    "duration": 10,
    "start_time": "2021-07-07T16:58:36.319Z"
   },
   {
    "duration": 10,
    "start_time": "2021-07-07T16:58:36.331Z"
   },
   {
    "duration": 44,
    "start_time": "2021-07-07T16:58:36.343Z"
   },
   {
    "duration": 4,
    "start_time": "2021-07-07T16:58:36.388Z"
   },
   {
    "duration": 13,
    "start_time": "2021-07-07T16:58:36.394Z"
   },
   {
    "duration": 16,
    "start_time": "2021-07-07T16:58:36.410Z"
   },
   {
    "duration": 8,
    "start_time": "2021-07-07T17:02:31.629Z"
   },
   {
    "duration": 8,
    "start_time": "2021-07-07T17:02:34.308Z"
   },
   {
    "duration": 6,
    "start_time": "2021-07-07T17:05:13.483Z"
   },
   {
    "duration": 17,
    "start_time": "2021-07-07T17:05:20.606Z"
   },
   {
    "duration": 7,
    "start_time": "2021-07-07T17:05:34.638Z"
   },
   {
    "duration": 3,
    "start_time": "2021-07-07T17:06:31.883Z"
   },
   {
    "duration": 570,
    "start_time": "2021-07-07T17:06:37.165Z"
   },
   {
    "duration": 174,
    "start_time": "2021-07-07T17:06:37.737Z"
   },
   {
    "duration": 47,
    "start_time": "2021-07-07T17:06:37.913Z"
   },
   {
    "duration": 3,
    "start_time": "2021-07-07T17:06:37.962Z"
   },
   {
    "duration": 27,
    "start_time": "2021-07-07T17:06:37.967Z"
   },
   {
    "duration": 7,
    "start_time": "2021-07-07T17:06:37.996Z"
   },
   {
    "duration": 16,
    "start_time": "2021-07-07T17:06:38.005Z"
   },
   {
    "duration": 6,
    "start_time": "2021-07-07T17:06:38.024Z"
   },
   {
    "duration": 12,
    "start_time": "2021-07-07T17:06:38.031Z"
   },
   {
    "duration": 41,
    "start_time": "2021-07-07T17:06:38.045Z"
   },
   {
    "duration": 8,
    "start_time": "2021-07-07T17:06:38.088Z"
   },
   {
    "duration": 26,
    "start_time": "2021-07-07T17:06:38.098Z"
   },
   {
    "duration": 17,
    "start_time": "2021-07-07T17:06:38.126Z"
   },
   {
    "duration": 43,
    "start_time": "2021-07-07T17:06:38.144Z"
   },
   {
    "duration": 6,
    "start_time": "2021-07-07T17:06:38.188Z"
   },
   {
    "duration": 5,
    "start_time": "2021-07-07T17:06:38.195Z"
   },
   {
    "duration": 9,
    "start_time": "2021-07-07T17:06:38.201Z"
   },
   {
    "duration": 12,
    "start_time": "2021-07-07T17:06:38.212Z"
   },
   {
    "duration": 11,
    "start_time": "2021-07-07T17:06:38.226Z"
   },
   {
    "duration": 47,
    "start_time": "2021-07-07T17:06:38.239Z"
   },
   {
    "duration": 4,
    "start_time": "2021-07-07T17:06:38.288Z"
   },
   {
    "duration": 13,
    "start_time": "2021-07-07T17:06:38.293Z"
   },
   {
    "duration": 5,
    "start_time": "2021-07-07T17:06:38.309Z"
   },
   {
    "duration": 18,
    "start_time": "2021-07-07T17:06:38.325Z"
   },
   {
    "duration": 20,
    "start_time": "2021-07-07T17:07:02.805Z"
   },
   {
    "duration": 19,
    "start_time": "2021-07-07T17:07:08.527Z"
   },
   {
    "duration": 19,
    "start_time": "2021-07-07T17:07:12.758Z"
   },
   {
    "duration": 22,
    "start_time": "2021-07-07T17:07:17.497Z"
   },
   {
    "duration": 19,
    "start_time": "2021-07-07T17:07:19.645Z"
   },
   {
    "duration": 10,
    "start_time": "2021-07-07T17:07:34.239Z"
   },
   {
    "duration": 17,
    "start_time": "2021-07-07T17:07:54.144Z"
   },
   {
    "duration": 14,
    "start_time": "2021-07-07T17:08:14.357Z"
   },
   {
    "duration": 616,
    "start_time": "2021-07-07T17:08:45.254Z"
   },
   {
    "duration": 178,
    "start_time": "2021-07-07T17:08:45.872Z"
   },
   {
    "duration": 60,
    "start_time": "2021-07-07T17:08:46.054Z"
   },
   {
    "duration": 3,
    "start_time": "2021-07-07T17:08:46.116Z"
   },
   {
    "duration": 26,
    "start_time": "2021-07-07T17:08:46.121Z"
   },
   {
    "duration": 7,
    "start_time": "2021-07-07T17:08:46.149Z"
   },
   {
    "duration": 17,
    "start_time": "2021-07-07T17:08:46.158Z"
   },
   {
    "duration": 14,
    "start_time": "2021-07-07T17:08:46.176Z"
   },
   {
    "duration": 17,
    "start_time": "2021-07-07T17:08:46.193Z"
   },
   {
    "duration": 9,
    "start_time": "2021-07-07T17:08:46.211Z"
   },
   {
    "duration": 21,
    "start_time": "2021-07-07T17:08:46.221Z"
   },
   {
    "duration": 49,
    "start_time": "2021-07-07T17:08:46.244Z"
   },
   {
    "duration": 24,
    "start_time": "2021-07-07T17:08:46.295Z"
   },
   {
    "duration": 22,
    "start_time": "2021-07-07T17:08:46.321Z"
   },
   {
    "duration": 6,
    "start_time": "2021-07-07T17:08:46.345Z"
   },
   {
    "duration": 5,
    "start_time": "2021-07-07T17:08:46.353Z"
   },
   {
    "duration": 13,
    "start_time": "2021-07-07T17:08:46.386Z"
   },
   {
    "duration": 12,
    "start_time": "2021-07-07T17:08:46.402Z"
   },
   {
    "duration": 10,
    "start_time": "2021-07-07T17:08:46.415Z"
   },
   {
    "duration": 7,
    "start_time": "2021-07-07T17:08:46.427Z"
   },
   {
    "duration": 8,
    "start_time": "2021-07-07T17:08:46.435Z"
   },
   {
    "duration": 68,
    "start_time": "2021-07-07T17:08:46.446Z"
   },
   {
    "duration": 13,
    "start_time": "2021-07-07T17:08:46.516Z"
   },
   {
    "duration": 78,
    "start_time": "2021-07-07T17:08:46.530Z"
   },
   {
    "duration": 40,
    "start_time": "2021-07-07T17:09:08.185Z"
   },
   {
    "duration": 16,
    "start_time": "2021-07-07T17:09:19.324Z"
   },
   {
    "duration": 21,
    "start_time": "2021-07-07T17:09:23.290Z"
   },
   {
    "duration": 13,
    "start_time": "2021-07-07T17:09:54.812Z"
   },
   {
    "duration": 13,
    "start_time": "2021-07-07T17:10:02.039Z"
   },
   {
    "duration": 10,
    "start_time": "2021-07-07T17:10:29.632Z"
   },
   {
    "duration": 13,
    "start_time": "2021-07-07T17:10:52.372Z"
   },
   {
    "duration": 13,
    "start_time": "2021-07-07T17:11:17.270Z"
   },
   {
    "duration": 13,
    "start_time": "2021-07-07T17:14:59.284Z"
   },
   {
    "duration": 547,
    "start_time": "2021-07-07T17:18:52.403Z"
   },
   {
    "duration": 163,
    "start_time": "2021-07-07T17:18:52.952Z"
   },
   {
    "duration": 44,
    "start_time": "2021-07-07T17:18:53.117Z"
   },
   {
    "duration": 3,
    "start_time": "2021-07-07T17:18:53.162Z"
   },
   {
    "duration": 26,
    "start_time": "2021-07-07T17:18:53.167Z"
   },
   {
    "duration": 6,
    "start_time": "2021-07-07T17:18:53.195Z"
   },
   {
    "duration": 15,
    "start_time": "2021-07-07T17:18:53.203Z"
   },
   {
    "duration": 5,
    "start_time": "2021-07-07T17:18:53.220Z"
   },
   {
    "duration": 11,
    "start_time": "2021-07-07T17:18:53.228Z"
   },
   {
    "duration": 9,
    "start_time": "2021-07-07T17:18:53.241Z"
   },
   {
    "duration": 41,
    "start_time": "2021-07-07T17:18:53.252Z"
   },
   {
    "duration": 33,
    "start_time": "2021-07-07T17:18:53.295Z"
   },
   {
    "duration": 19,
    "start_time": "2021-07-07T17:18:53.330Z"
   },
   {
    "duration": 49,
    "start_time": "2021-07-07T17:18:53.350Z"
   },
   {
    "duration": 5,
    "start_time": "2021-07-07T17:18:53.401Z"
   },
   {
    "duration": 5,
    "start_time": "2021-07-07T17:18:53.408Z"
   },
   {
    "duration": 11,
    "start_time": "2021-07-07T17:18:53.414Z"
   },
   {
    "duration": 9,
    "start_time": "2021-07-07T17:18:53.427Z"
   },
   {
    "duration": 10,
    "start_time": "2021-07-07T17:18:53.437Z"
   },
   {
    "duration": 39,
    "start_time": "2021-07-07T17:18:53.448Z"
   },
   {
    "duration": 26,
    "start_time": "2021-07-07T17:18:55.799Z"
   },
   {
    "duration": 598,
    "start_time": "2021-07-07T17:20:17.862Z"
   },
   {
    "duration": 161,
    "start_time": "2021-07-07T17:20:18.462Z"
   },
   {
    "duration": 45,
    "start_time": "2021-07-07T17:20:18.626Z"
   },
   {
    "duration": 4,
    "start_time": "2021-07-07T17:20:18.673Z"
   },
   {
    "duration": 38,
    "start_time": "2021-07-07T17:20:26.877Z"
   },
   {
    "duration": 7,
    "start_time": "2021-07-07T17:20:37.405Z"
   },
   {
    "duration": 19,
    "start_time": "2021-07-07T17:20:51.534Z"
   },
   {
    "duration": 5,
    "start_time": "2021-07-07T17:20:57.228Z"
   },
   {
    "duration": 7,
    "start_time": "2021-07-07T17:21:08.235Z"
   },
   {
    "duration": 19,
    "start_time": "2021-07-07T17:21:42.158Z"
   },
   {
    "duration": 14,
    "start_time": "2021-07-07T17:21:50.225Z"
   },
   {
    "duration": 22,
    "start_time": "2021-07-07T17:22:54.104Z"
   },
   {
    "duration": 5,
    "start_time": "2021-07-07T17:22:56.371Z"
   },
   {
    "duration": 14,
    "start_time": "2021-07-07T17:22:58.316Z"
   },
   {
    "duration": 5,
    "start_time": "2021-07-07T17:22:58.493Z"
   },
   {
    "duration": 35,
    "start_time": "2021-07-07T17:22:59.666Z"
   },
   {
    "duration": 6,
    "start_time": "2021-07-07T17:23:02.410Z"
   },
   {
    "duration": 611,
    "start_time": "2021-07-07T17:24:59.664Z"
   },
   {
    "duration": 178,
    "start_time": "2021-07-07T17:25:01.945Z"
   },
   {
    "duration": 47,
    "start_time": "2021-07-07T17:25:02.125Z"
   },
   {
    "duration": 2,
    "start_time": "2021-07-07T17:25:07.903Z"
   },
   {
    "duration": 254,
    "start_time": "2021-07-07T17:25:08.232Z"
   },
   {
    "duration": 182,
    "start_time": "2021-07-07T17:25:08.671Z"
   },
   {
    "duration": 6,
    "start_time": "2021-07-07T17:25:13.104Z"
   },
   {
    "duration": 36,
    "start_time": "2021-07-07T17:25:13.662Z"
   },
   {
    "duration": 7,
    "start_time": "2021-07-07T17:25:14.528Z"
   },
   {
    "duration": 24,
    "start_time": "2021-07-07T17:25:27.982Z"
   },
   {
    "duration": 3,
    "start_time": "2021-07-07T17:25:48.982Z"
   },
   {
    "duration": 165,
    "start_time": "2021-07-07T17:25:48.987Z"
   },
   {
    "duration": 50,
    "start_time": "2021-07-07T17:25:49.154Z"
   },
   {
    "duration": 4,
    "start_time": "2021-07-07T17:25:49.206Z"
   },
   {
    "duration": 26,
    "start_time": "2021-07-07T17:25:49.212Z"
   },
   {
    "duration": 7,
    "start_time": "2021-07-07T17:25:49.240Z"
   },
   {
    "duration": 16,
    "start_time": "2021-07-07T17:25:49.249Z"
   },
   {
    "duration": 22,
    "start_time": "2021-07-07T17:25:49.266Z"
   },
   {
    "duration": 16,
    "start_time": "2021-07-07T17:25:49.291Z"
   },
   {
    "duration": 9,
    "start_time": "2021-07-07T17:25:49.309Z"
   },
   {
    "duration": 7,
    "start_time": "2021-07-07T17:25:49.319Z"
   },
   {
    "duration": 28,
    "start_time": "2021-07-07T17:25:49.328Z"
   },
   {
    "duration": 44,
    "start_time": "2021-07-07T17:25:49.357Z"
   },
   {
    "duration": 22,
    "start_time": "2021-07-07T17:25:49.403Z"
   },
   {
    "duration": 7,
    "start_time": "2021-07-07T17:25:49.427Z"
   },
   {
    "duration": 3,
    "start_time": "2021-07-07T17:25:49.436Z"
   },
   {
    "duration": 44,
    "start_time": "2021-07-07T17:25:49.441Z"
   },
   {
    "duration": 12,
    "start_time": "2021-07-07T17:25:49.488Z"
   },
   {
    "duration": 13,
    "start_time": "2021-07-07T17:25:49.502Z"
   },
   {
    "duration": 10,
    "start_time": "2021-07-07T17:25:49.516Z"
   },
   {
    "duration": 62,
    "start_time": "2021-07-07T17:25:49.527Z"
   },
   {
    "duration": 26,
    "start_time": "2021-07-07T17:26:51.809Z"
   },
   {
    "duration": 26,
    "start_time": "2021-07-07T17:26:55.759Z"
   },
   {
    "duration": 26,
    "start_time": "2021-07-07T17:27:04.501Z"
   },
   {
    "duration": 25,
    "start_time": "2021-07-07T17:28:24.859Z"
   },
   {
    "duration": 21,
    "start_time": "2021-07-07T17:28:55.250Z"
   },
   {
    "duration": 21,
    "start_time": "2021-07-07T17:28:58.885Z"
   },
   {
    "duration": 7,
    "start_time": "2021-07-07T17:45:40.972Z"
   },
   {
    "duration": 13,
    "start_time": "2021-07-07T17:45:42.529Z"
   },
   {
    "duration": 27,
    "start_time": "2021-07-07T17:45:51.026Z"
   },
   {
    "duration": 518,
    "start_time": "2021-07-07T17:46:15.532Z"
   },
   {
    "duration": 235,
    "start_time": "2021-07-07T17:46:16.053Z"
   },
   {
    "duration": 80,
    "start_time": "2021-07-07T17:46:16.292Z"
   },
   {
    "duration": 5,
    "start_time": "2021-07-07T17:46:16.373Z"
   },
   {
    "duration": 26,
    "start_time": "2021-07-07T17:46:16.380Z"
   },
   {
    "duration": 7,
    "start_time": "2021-07-07T17:46:16.408Z"
   },
   {
    "duration": 16,
    "start_time": "2021-07-07T17:46:16.418Z"
   },
   {
    "duration": 5,
    "start_time": "2021-07-07T17:46:16.436Z"
   },
   {
    "duration": 13,
    "start_time": "2021-07-07T17:46:16.442Z"
   },
   {
    "duration": 35,
    "start_time": "2021-07-07T17:46:16.456Z"
   },
   {
    "duration": 8,
    "start_time": "2021-07-07T17:46:16.493Z"
   },
   {
    "duration": 28,
    "start_time": "2021-07-07T17:46:16.502Z"
   },
   {
    "duration": 17,
    "start_time": "2021-07-07T17:46:16.532Z"
   },
   {
    "duration": 44,
    "start_time": "2021-07-07T17:46:16.551Z"
   },
   {
    "duration": 6,
    "start_time": "2021-07-07T17:46:16.597Z"
   },
   {
    "duration": 4,
    "start_time": "2021-07-07T17:46:16.605Z"
   },
   {
    "duration": 9,
    "start_time": "2021-07-07T17:46:16.610Z"
   },
   {
    "duration": 9,
    "start_time": "2021-07-07T17:46:16.621Z"
   },
   {
    "duration": 10,
    "start_time": "2021-07-07T17:46:16.632Z"
   },
   {
    "duration": 43,
    "start_time": "2021-07-07T17:46:16.644Z"
   },
   {
    "duration": 26,
    "start_time": "2021-07-07T17:46:16.689Z"
   },
   {
    "duration": 19,
    "start_time": "2021-07-07T17:46:16.718Z"
   },
   {
    "duration": 8,
    "start_time": "2021-07-07T17:46:16.738Z"
   },
   {
    "duration": 43,
    "start_time": "2021-07-07T17:46:16.747Z"
   },
   {
    "duration": 19,
    "start_time": "2021-07-07T17:46:16.791Z"
   },
   {
    "duration": 9,
    "start_time": "2021-07-07T17:46:16.812Z"
   },
   {
    "duration": 60,
    "start_time": "2021-07-07T17:46:16.822Z"
   },
   {
    "duration": -8,
    "start_time": "2021-07-07T17:46:16.892Z"
   },
   {
    "duration": 12,
    "start_time": "2021-07-07T17:48:47.707Z"
   },
   {
    "duration": 553,
    "start_time": "2021-07-07T18:10:09.350Z"
   },
   {
    "duration": 230,
    "start_time": "2021-07-07T18:10:09.905Z"
   },
   {
    "duration": 97,
    "start_time": "2021-07-07T18:10:10.137Z"
   },
   {
    "duration": 5,
    "start_time": "2021-07-07T18:10:10.236Z"
   },
   {
    "duration": 29,
    "start_time": "2021-07-07T18:10:10.242Z"
   },
   {
    "duration": 7,
    "start_time": "2021-07-07T18:10:10.272Z"
   },
   {
    "duration": 15,
    "start_time": "2021-07-07T18:10:10.281Z"
   },
   {
    "duration": 4,
    "start_time": "2021-07-07T18:10:10.299Z"
   },
   {
    "duration": 14,
    "start_time": "2021-07-07T18:10:10.305Z"
   },
   {
    "duration": 8,
    "start_time": "2021-07-07T18:10:10.321Z"
   },
   {
    "duration": 8,
    "start_time": "2021-07-07T18:10:10.331Z"
   },
   {
    "duration": 56,
    "start_time": "2021-07-07T18:10:10.341Z"
   },
   {
    "duration": 19,
    "start_time": "2021-07-07T18:10:10.399Z"
   },
   {
    "duration": 23,
    "start_time": "2021-07-07T18:10:10.419Z"
   },
   {
    "duration": 6,
    "start_time": "2021-07-07T18:10:10.444Z"
   },
   {
    "duration": 9,
    "start_time": "2021-07-07T18:10:10.451Z"
   },
   {
    "duration": 30,
    "start_time": "2021-07-07T18:10:10.462Z"
   },
   {
    "duration": 9,
    "start_time": "2021-07-07T18:10:10.494Z"
   },
   {
    "duration": 14,
    "start_time": "2021-07-07T18:10:10.505Z"
   },
   {
    "duration": 7,
    "start_time": "2021-07-07T18:10:10.521Z"
   },
   {
    "duration": 26,
    "start_time": "2021-07-07T18:10:10.530Z"
   },
   {
    "duration": 44,
    "start_time": "2021-07-07T18:10:10.558Z"
   },
   {
    "duration": 7,
    "start_time": "2021-07-07T18:10:10.605Z"
   },
   {
    "duration": 11,
    "start_time": "2021-07-07T18:10:10.614Z"
   },
   {
    "duration": 19,
    "start_time": "2021-07-07T18:10:10.626Z"
   },
   {
    "duration": 44,
    "start_time": "2021-07-07T18:10:10.646Z"
   },
   {
    "duration": 516,
    "start_time": "2021-07-07T18:14:00.826Z"
   },
   {
    "duration": 230,
    "start_time": "2021-07-07T18:14:01.344Z"
   },
   {
    "duration": 105,
    "start_time": "2021-07-07T18:14:01.576Z"
   },
   {
    "duration": 5,
    "start_time": "2021-07-07T18:14:01.683Z"
   },
   {
    "duration": 46,
    "start_time": "2021-07-07T18:14:01.690Z"
   },
   {
    "duration": 7,
    "start_time": "2021-07-07T18:14:01.738Z"
   },
   {
    "duration": 20,
    "start_time": "2021-07-07T18:14:01.747Z"
   },
   {
    "duration": 16,
    "start_time": "2021-07-07T18:14:01.769Z"
   },
   {
    "duration": 14,
    "start_time": "2021-07-07T18:14:01.787Z"
   },
   {
    "duration": 15,
    "start_time": "2021-07-07T18:14:01.803Z"
   },
   {
    "duration": 12,
    "start_time": "2021-07-07T18:14:01.820Z"
   },
   {
    "duration": 35,
    "start_time": "2021-07-07T18:14:01.833Z"
   },
   {
    "duration": 31,
    "start_time": "2021-07-07T18:14:01.869Z"
   },
   {
    "duration": 37,
    "start_time": "2021-07-07T18:14:01.902Z"
   },
   {
    "duration": 8,
    "start_time": "2021-07-07T18:14:01.942Z"
   },
   {
    "duration": 16,
    "start_time": "2021-07-07T18:14:01.952Z"
   },
   {
    "duration": 13,
    "start_time": "2021-07-07T18:14:01.970Z"
   },
   {
    "duration": 32,
    "start_time": "2021-07-07T18:14:01.985Z"
   },
   {
    "duration": 11,
    "start_time": "2021-07-07T18:14:02.019Z"
   },
   {
    "duration": 22,
    "start_time": "2021-07-07T18:14:02.031Z"
   },
   {
    "duration": 27,
    "start_time": "2021-07-07T18:14:02.055Z"
   },
   {
    "duration": 18,
    "start_time": "2021-07-07T18:14:02.084Z"
   },
   {
    "duration": 18,
    "start_time": "2021-07-07T18:14:02.106Z"
   },
   {
    "duration": 11,
    "start_time": "2021-07-07T18:14:02.126Z"
   },
   {
    "duration": 21,
    "start_time": "2021-07-07T18:14:02.138Z"
   },
   {
    "duration": 32,
    "start_time": "2021-07-07T18:14:02.161Z"
   },
   {
    "duration": 28,
    "start_time": "2021-07-07T18:14:44.295Z"
   },
   {
    "duration": 6,
    "start_time": "2021-07-07T18:15:05.834Z"
   },
   {
    "duration": 511,
    "start_time": "2021-07-07T18:15:41.541Z"
   },
   {
    "duration": 183,
    "start_time": "2021-07-07T18:15:42.054Z"
   },
   {
    "duration": 50,
    "start_time": "2021-07-07T18:15:42.239Z"
   },
   {
    "duration": 5,
    "start_time": "2021-07-07T18:15:42.291Z"
   },
   {
    "duration": 48,
    "start_time": "2021-07-07T18:15:42.297Z"
   },
   {
    "duration": 8,
    "start_time": "2021-07-07T18:15:42.346Z"
   },
   {
    "duration": 17,
    "start_time": "2021-07-07T18:15:42.356Z"
   },
   {
    "duration": 15,
    "start_time": "2021-07-07T18:15:42.375Z"
   },
   {
    "duration": 12,
    "start_time": "2021-07-07T18:15:42.392Z"
   },
   {
    "duration": 7,
    "start_time": "2021-07-07T18:15:42.406Z"
   },
   {
    "duration": 7,
    "start_time": "2021-07-07T18:15:42.415Z"
   },
   {
    "duration": 29,
    "start_time": "2021-07-07T18:15:42.423Z"
   },
   {
    "duration": 43,
    "start_time": "2021-07-07T18:15:42.453Z"
   },
   {
    "duration": 18,
    "start_time": "2021-07-07T18:15:42.497Z"
   },
   {
    "duration": 6,
    "start_time": "2021-07-07T18:15:42.516Z"
   },
   {
    "duration": 3,
    "start_time": "2021-07-07T18:15:42.523Z"
   },
   {
    "duration": 18,
    "start_time": "2021-07-07T18:15:42.528Z"
   },
   {
    "duration": 10,
    "start_time": "2021-07-07T18:15:42.547Z"
   },
   {
    "duration": 36,
    "start_time": "2021-07-07T18:15:42.559Z"
   },
   {
    "duration": 8,
    "start_time": "2021-07-07T18:15:42.597Z"
   },
   {
    "duration": 28,
    "start_time": "2021-07-07T18:15:42.606Z"
   },
   {
    "duration": 52,
    "start_time": "2021-07-07T18:15:42.635Z"
   },
   {
    "duration": 7,
    "start_time": "2021-07-07T18:15:42.690Z"
   },
   {
    "duration": 10,
    "start_time": "2021-07-07T18:15:42.699Z"
   },
   {
    "duration": 19,
    "start_time": "2021-07-07T18:15:42.711Z"
   },
   {
    "duration": 9,
    "start_time": "2021-07-07T18:15:42.732Z"
   },
   {
    "duration": 5,
    "start_time": "2021-07-07T18:15:42.743Z"
   },
   {
    "duration": 1450,
    "start_time": "2021-07-07T18:15:51.984Z"
   },
   {
    "duration": 161,
    "start_time": "2021-07-07T18:15:53.435Z"
   },
   {
    "duration": 124,
    "start_time": "2021-07-07T18:15:53.598Z"
   },
   {
    "duration": 5,
    "start_time": "2021-07-07T18:15:53.724Z"
   },
   {
    "duration": 34,
    "start_time": "2021-07-07T18:15:53.730Z"
   },
   {
    "duration": 7,
    "start_time": "2021-07-07T18:15:53.765Z"
   },
   {
    "duration": 15,
    "start_time": "2021-07-07T18:15:53.773Z"
   },
   {
    "duration": 5,
    "start_time": "2021-07-07T18:15:53.791Z"
   },
   {
    "duration": 19,
    "start_time": "2021-07-07T18:15:53.798Z"
   },
   {
    "duration": 9,
    "start_time": "2021-07-07T18:15:53.818Z"
   },
   {
    "duration": 19,
    "start_time": "2021-07-07T18:15:53.828Z"
   },
   {
    "duration": 27,
    "start_time": "2021-07-07T18:15:53.848Z"
   },
   {
    "duration": 16,
    "start_time": "2021-07-07T18:15:53.884Z"
   },
   {
    "duration": 29,
    "start_time": "2021-07-07T18:15:53.901Z"
   },
   {
    "duration": 5,
    "start_time": "2021-07-07T18:15:53.932Z"
   },
   {
    "duration": 15,
    "start_time": "2021-07-07T18:15:53.939Z"
   },
   {
    "duration": 13,
    "start_time": "2021-07-07T18:15:53.956Z"
   },
   {
    "duration": 20,
    "start_time": "2021-07-07T18:15:53.971Z"
   },
   {
    "duration": 14,
    "start_time": "2021-07-07T18:15:53.992Z"
   },
   {
    "duration": 9,
    "start_time": "2021-07-07T18:15:54.009Z"
   },
   {
    "duration": 28,
    "start_time": "2021-07-07T18:15:54.020Z"
   },
   {
    "duration": 50,
    "start_time": "2021-07-07T18:15:54.051Z"
   },
   {
    "duration": 8,
    "start_time": "2021-07-07T18:15:54.105Z"
   },
   {
    "duration": 11,
    "start_time": "2021-07-07T18:15:54.115Z"
   },
   {
    "duration": 20,
    "start_time": "2021-07-07T18:15:54.128Z"
   },
   {
    "duration": 13,
    "start_time": "2021-07-07T18:15:54.184Z"
   },
   {
    "duration": 7,
    "start_time": "2021-07-07T18:15:54.199Z"
   },
   {
    "duration": 7,
    "start_time": "2021-07-07T18:17:08.042Z"
   },
   {
    "duration": 8,
    "start_time": "2021-07-07T18:17:21.008Z"
   },
   {
    "duration": 7,
    "start_time": "2021-07-07T18:17:29.003Z"
   },
   {
    "duration": 8,
    "start_time": "2021-07-07T18:17:32.492Z"
   },
   {
    "duration": 9,
    "start_time": "2021-07-07T18:17:41.758Z"
   },
   {
    "duration": 255,
    "start_time": "2021-07-07T18:20:20.897Z"
   },
   {
    "duration": 173,
    "start_time": "2021-07-07T18:20:26.636Z"
   },
   {
    "duration": 7,
    "start_time": "2021-07-07T18:21:47.164Z"
   },
   {
    "duration": 254,
    "start_time": "2021-07-07T18:23:08.703Z"
   },
   {
    "duration": 21,
    "start_time": "2021-07-07T18:23:22.506Z"
   },
   {
    "duration": 315,
    "start_time": "2021-07-07T18:25:54.801Z"
   },
   {
    "duration": 34,
    "start_time": "2021-07-07T18:26:51.817Z"
   },
   {
    "duration": 327,
    "start_time": "2021-07-07T18:26:56.147Z"
   },
   {
    "duration": 342,
    "start_time": "2021-07-07T18:27:15.887Z"
   },
   {
    "duration": 302,
    "start_time": "2021-07-07T18:28:18.569Z"
   },
   {
    "duration": 226,
    "start_time": "2021-07-07T18:29:20.879Z"
   },
   {
    "duration": 207,
    "start_time": "2021-07-07T18:29:58.114Z"
   },
   {
    "duration": 140,
    "start_time": "2021-07-07T18:32:04.372Z"
   },
   {
    "duration": 158,
    "start_time": "2021-07-07T18:32:32.508Z"
   },
   {
    "duration": 145,
    "start_time": "2021-07-07T18:32:41.365Z"
   },
   {
    "duration": 132,
    "start_time": "2021-07-07T18:32:45.199Z"
   },
   {
    "duration": 11,
    "start_time": "2021-07-07T18:35:24.679Z"
   },
   {
    "duration": 268,
    "start_time": "2021-07-07T18:36:16.145Z"
   },
   {
    "duration": 227,
    "start_time": "2021-07-07T18:37:04.918Z"
   },
   {
    "duration": 3,
    "start_time": "2021-07-07T18:37:33.012Z"
   },
   {
    "duration": 671,
    "start_time": "2021-07-07T18:37:38.295Z"
   },
   {
    "duration": 54,
    "start_time": "2021-07-07T18:37:53.406Z"
   },
   {
    "duration": 631,
    "start_time": "2021-07-07T18:37:56.463Z"
   },
   {
    "duration": 19,
    "start_time": "2021-07-07T18:39:40.535Z"
   },
   {
    "duration": 20,
    "start_time": "2021-07-07T18:40:12.236Z"
   },
   {
    "duration": 633,
    "start_time": "2021-07-07T18:42:00.398Z"
   },
   {
    "duration": 218,
    "start_time": "2021-07-07T18:42:01.033Z"
   },
   {
    "duration": 49,
    "start_time": "2021-07-07T18:42:01.253Z"
   },
   {
    "duration": 5,
    "start_time": "2021-07-07T18:42:01.303Z"
   },
   {
    "duration": 27,
    "start_time": "2021-07-07T18:42:01.310Z"
   },
   {
    "duration": 8,
    "start_time": "2021-07-07T18:42:01.339Z"
   },
   {
    "duration": 20,
    "start_time": "2021-07-07T18:42:01.348Z"
   },
   {
    "duration": 6,
    "start_time": "2021-07-07T18:42:01.386Z"
   },
   {
    "duration": 16,
    "start_time": "2021-07-07T18:42:01.394Z"
   },
   {
    "duration": 9,
    "start_time": "2021-07-07T18:42:01.411Z"
   },
   {
    "duration": 11,
    "start_time": "2021-07-07T18:42:01.421Z"
   },
   {
    "duration": 31,
    "start_time": "2021-07-07T18:42:01.434Z"
   },
   {
    "duration": 18,
    "start_time": "2021-07-07T18:42:01.485Z"
   },
   {
    "duration": 23,
    "start_time": "2021-07-07T18:42:01.505Z"
   },
   {
    "duration": 6,
    "start_time": "2021-07-07T18:42:01.530Z"
   },
   {
    "duration": 10,
    "start_time": "2021-07-07T18:42:01.538Z"
   },
   {
    "duration": 13,
    "start_time": "2021-07-07T18:42:01.550Z"
   },
   {
    "duration": 24,
    "start_time": "2021-07-07T18:42:01.564Z"
   },
   {
    "duration": 20,
    "start_time": "2021-07-07T18:42:01.590Z"
   },
   {
    "duration": 8,
    "start_time": "2021-07-07T18:42:01.611Z"
   },
   {
    "duration": 31,
    "start_time": "2021-07-07T18:42:01.620Z"
   },
   {
    "duration": 39,
    "start_time": "2021-07-07T18:42:01.653Z"
   },
   {
    "duration": 8,
    "start_time": "2021-07-07T18:42:01.696Z"
   },
   {
    "duration": 13,
    "start_time": "2021-07-07T18:42:01.705Z"
   },
   {
    "duration": 20,
    "start_time": "2021-07-07T18:42:01.720Z"
   },
   {
    "duration": 12,
    "start_time": "2021-07-07T18:42:01.741Z"
   },
   {
    "duration": 35,
    "start_time": "2021-07-07T18:42:01.755Z"
   },
   {
    "duration": 14,
    "start_time": "2021-07-07T18:42:01.792Z"
   },
   {
    "duration": 188,
    "start_time": "2021-07-07T18:42:01.808Z"
   },
   {
    "duration": 19,
    "start_time": "2021-07-07T18:42:01.998Z"
   },
   {
    "duration": 175,
    "start_time": "2021-07-07T18:42:02.019Z"
   },
   {
    "duration": 134,
    "start_time": "2021-07-07T18:42:02.196Z"
   },
   {
    "duration": 10,
    "start_time": "2021-07-07T18:42:02.331Z"
   },
   {
    "duration": 19,
    "start_time": "2021-07-07T18:42:02.343Z"
   },
   {
    "duration": 628,
    "start_time": "2021-07-07T18:46:30.701Z"
   },
   {
    "duration": 183,
    "start_time": "2021-07-07T18:46:31.331Z"
   },
   {
    "duration": 48,
    "start_time": "2021-07-07T18:46:31.516Z"
   },
   {
    "duration": 5,
    "start_time": "2021-07-07T18:46:31.566Z"
   },
   {
    "duration": 28,
    "start_time": "2021-07-07T18:46:31.572Z"
   },
   {
    "duration": 8,
    "start_time": "2021-07-07T18:46:31.602Z"
   },
   {
    "duration": 19,
    "start_time": "2021-07-07T18:46:31.611Z"
   },
   {
    "duration": 6,
    "start_time": "2021-07-07T18:46:31.633Z"
   },
   {
    "duration": 17,
    "start_time": "2021-07-07T18:46:31.642Z"
   },
   {
    "duration": 10,
    "start_time": "2021-07-07T18:46:31.684Z"
   },
   {
    "duration": 9,
    "start_time": "2021-07-07T18:46:31.695Z"
   },
   {
    "duration": 28,
    "start_time": "2021-07-07T18:46:31.705Z"
   },
   {
    "duration": 18,
    "start_time": "2021-07-07T18:46:31.735Z"
   },
   {
    "duration": 48,
    "start_time": "2021-07-07T18:46:31.755Z"
   },
   {
    "duration": 6,
    "start_time": "2021-07-07T18:46:31.804Z"
   },
   {
    "duration": 4,
    "start_time": "2021-07-07T18:46:31.812Z"
   },
   {
    "duration": 9,
    "start_time": "2021-07-07T18:46:31.817Z"
   },
   {
    "duration": 10,
    "start_time": "2021-07-07T18:46:31.827Z"
   },
   {
    "duration": 12,
    "start_time": "2021-07-07T18:46:31.838Z"
   },
   {
    "duration": 39,
    "start_time": "2021-07-07T18:46:31.851Z"
   },
   {
    "duration": 24,
    "start_time": "2021-07-07T18:46:31.892Z"
   },
   {
    "duration": 15,
    "start_time": "2021-07-07T18:46:31.918Z"
   },
   {
    "duration": 7,
    "start_time": "2021-07-07T18:46:31.936Z"
   },
   {
    "duration": 8,
    "start_time": "2021-07-07T18:46:31.944Z"
   },
   {
    "duration": 19,
    "start_time": "2021-07-07T18:46:31.984Z"
   },
   {
    "duration": 10,
    "start_time": "2021-07-07T18:46:32.004Z"
   },
   {
    "duration": 5,
    "start_time": "2021-07-07T18:46:32.016Z"
   },
   {
    "duration": 9,
    "start_time": "2021-07-07T18:46:32.023Z"
   },
   {
    "duration": 199,
    "start_time": "2021-07-07T18:46:32.033Z"
   },
   {
    "duration": 19,
    "start_time": "2021-07-07T18:46:32.234Z"
   },
   {
    "duration": 159,
    "start_time": "2021-07-07T18:46:32.255Z"
   },
   {
    "duration": 134,
    "start_time": "2021-07-07T18:46:32.416Z"
   },
   {
    "duration": 10,
    "start_time": "2021-07-07T18:46:32.552Z"
   },
   {
    "duration": 34,
    "start_time": "2021-07-07T18:46:32.563Z"
   },
   {
    "duration": 1039,
    "start_time": "2021-07-08T08:41:09.419Z"
   },
   {
    "duration": 333,
    "start_time": "2021-07-08T08:41:10.459Z"
   },
   {
    "duration": 173,
    "start_time": "2021-07-08T08:41:10.794Z"
   },
   {
    "duration": 5,
    "start_time": "2021-07-08T08:41:10.968Z"
   },
   {
    "duration": 25,
    "start_time": "2021-07-08T08:41:10.975Z"
   },
   {
    "duration": 9,
    "start_time": "2021-07-08T08:41:11.002Z"
   },
   {
    "duration": 18,
    "start_time": "2021-07-08T08:41:11.013Z"
   },
   {
    "duration": 6,
    "start_time": "2021-07-08T08:41:11.033Z"
   },
   {
    "duration": 44,
    "start_time": "2021-07-08T08:41:11.042Z"
   },
   {
    "duration": 10,
    "start_time": "2021-07-08T08:41:11.088Z"
   },
   {
    "duration": 9,
    "start_time": "2021-07-08T08:41:11.100Z"
   },
   {
    "duration": 27,
    "start_time": "2021-07-08T08:41:11.111Z"
   },
   {
    "duration": 46,
    "start_time": "2021-07-08T08:41:11.140Z"
   },
   {
    "duration": 17,
    "start_time": "2021-07-08T08:41:11.187Z"
   },
   {
    "duration": 6,
    "start_time": "2021-07-08T08:41:11.206Z"
   },
   {
    "duration": 5,
    "start_time": "2021-07-08T08:41:11.213Z"
   },
   {
    "duration": 10,
    "start_time": "2021-07-08T08:41:11.219Z"
   },
   {
    "duration": 9,
    "start_time": "2021-07-08T08:41:11.230Z"
   },
   {
    "duration": 45,
    "start_time": "2021-07-08T08:41:11.241Z"
   },
   {
    "duration": 7,
    "start_time": "2021-07-08T08:41:11.287Z"
   },
   {
    "duration": 24,
    "start_time": "2021-07-08T08:41:11.296Z"
   },
   {
    "duration": 16,
    "start_time": "2021-07-08T08:41:11.322Z"
   },
   {
    "duration": 7,
    "start_time": "2021-07-08T08:41:11.341Z"
   },
   {
    "duration": 41,
    "start_time": "2021-07-08T08:41:11.349Z"
   },
   {
    "duration": 17,
    "start_time": "2021-07-08T08:41:11.391Z"
   },
   {
    "duration": 9,
    "start_time": "2021-07-08T08:41:11.410Z"
   },
   {
    "duration": 5,
    "start_time": "2021-07-08T08:41:11.421Z"
   },
   {
    "duration": 6,
    "start_time": "2021-07-08T08:41:11.428Z"
   },
   {
    "duration": 198,
    "start_time": "2021-07-08T08:41:11.435Z"
   },
   {
    "duration": 18,
    "start_time": "2021-07-08T08:41:11.635Z"
   },
   {
    "duration": 155,
    "start_time": "2021-07-08T08:41:11.655Z"
   },
   {
    "duration": 138,
    "start_time": "2021-07-08T08:41:11.811Z"
   },
   {
    "duration": 10,
    "start_time": "2021-07-08T08:41:11.950Z"
   },
   {
    "duration": 29,
    "start_time": "2021-07-08T08:41:11.961Z"
   },
   {
    "duration": 171,
    "start_time": "2021-07-08T08:47:44.522Z"
   },
   {
    "duration": 124,
    "start_time": "2021-07-08T08:47:46.872Z"
   },
   {
    "duration": 191,
    "start_time": "2021-07-08T08:47:58.148Z"
   },
   {
    "duration": 191,
    "start_time": "2021-07-08T08:48:07.412Z"
   },
   {
    "duration": 261,
    "start_time": "2021-07-08T08:48:10.385Z"
   },
   {
    "duration": 255,
    "start_time": "2021-07-08T08:48:14.494Z"
   },
   {
    "duration": 219,
    "start_time": "2021-07-08T08:48:22.752Z"
   },
   {
    "duration": 173,
    "start_time": "2021-07-08T08:49:06.395Z"
   },
   {
    "duration": 180,
    "start_time": "2021-07-08T08:49:21.011Z"
   },
   {
    "duration": 6,
    "start_time": "2021-07-08T08:50:31.697Z"
   },
   {
    "duration": 10,
    "start_time": "2021-07-08T08:50:47.394Z"
   },
   {
    "duration": 11,
    "start_time": "2021-07-08T08:53:49.332Z"
   },
   {
    "duration": 171,
    "start_time": "2021-07-08T08:54:28.408Z"
   },
   {
    "duration": 636,
    "start_time": "2021-07-08T09:02:48.385Z"
   },
   {
    "duration": 227,
    "start_time": "2021-07-08T09:02:49.023Z"
   },
   {
    "duration": 104,
    "start_time": "2021-07-08T09:02:49.252Z"
   },
   {
    "duration": 5,
    "start_time": "2021-07-08T09:02:49.358Z"
   },
   {
    "duration": 27,
    "start_time": "2021-07-08T09:02:49.365Z"
   },
   {
    "duration": 8,
    "start_time": "2021-07-08T09:02:49.394Z"
   },
   {
    "duration": 18,
    "start_time": "2021-07-08T09:02:49.404Z"
   },
   {
    "duration": 6,
    "start_time": "2021-07-08T09:02:49.424Z"
   },
   {
    "duration": 11,
    "start_time": "2021-07-08T09:02:49.433Z"
   },
   {
    "duration": 13,
    "start_time": "2021-07-08T09:02:49.485Z"
   },
   {
    "duration": 9,
    "start_time": "2021-07-08T09:02:49.500Z"
   },
   {
    "duration": 38,
    "start_time": "2021-07-08T09:02:49.511Z"
   },
   {
    "duration": 42,
    "start_time": "2021-07-08T09:02:49.551Z"
   },
   {
    "duration": 21,
    "start_time": "2021-07-08T09:02:49.594Z"
   },
   {
    "duration": 6,
    "start_time": "2021-07-08T09:02:49.616Z"
   },
   {
    "duration": 3,
    "start_time": "2021-07-08T09:02:49.623Z"
   },
   {
    "duration": 9,
    "start_time": "2021-07-08T09:02:49.628Z"
   },
   {
    "duration": 52,
    "start_time": "2021-07-08T09:02:49.638Z"
   },
   {
    "duration": 11,
    "start_time": "2021-07-08T09:02:49.692Z"
   },
   {
    "duration": 8,
    "start_time": "2021-07-08T09:02:49.704Z"
   },
   {
    "duration": 27,
    "start_time": "2021-07-08T09:02:49.713Z"
   },
   {
    "duration": 59,
    "start_time": "2021-07-08T09:02:49.741Z"
   },
   {
    "duration": 8,
    "start_time": "2021-07-08T09:02:49.803Z"
   },
   {
    "duration": 14,
    "start_time": "2021-07-08T09:02:49.813Z"
   },
   {
    "duration": 20,
    "start_time": "2021-07-08T09:02:49.829Z"
   },
   {
    "duration": 44,
    "start_time": "2021-07-08T09:02:49.851Z"
   },
   {
    "duration": 14,
    "start_time": "2021-07-08T09:02:49.896Z"
   },
   {
    "duration": 221,
    "start_time": "2021-07-08T09:02:49.912Z"
   },
   {
    "duration": 6,
    "start_time": "2021-07-08T09:02:50.134Z"
   },
   {
    "duration": 206,
    "start_time": "2021-07-08T09:02:50.142Z"
   },
   {
    "duration": 19,
    "start_time": "2021-07-08T09:02:50.350Z"
   },
   {
    "duration": 21,
    "start_time": "2021-07-08T09:02:50.370Z"
   },
   {
    "duration": 20,
    "start_time": "2021-07-08T09:02:50.393Z"
   },
   {
    "duration": 5,
    "start_time": "2021-07-08T09:02:50.414Z"
   },
   {
    "duration": 5,
    "start_time": "2021-07-08T09:03:34.173Z"
   },
   {
    "duration": 6,
    "start_time": "2021-07-08T09:04:49.062Z"
   },
   {
    "duration": 9,
    "start_time": "2021-07-08T09:04:50.118Z"
   },
   {
    "duration": 14,
    "start_time": "2021-07-08T09:04:58.512Z"
   },
   {
    "duration": 9,
    "start_time": "2021-07-08T09:05:10.988Z"
   },
   {
    "duration": 11,
    "start_time": "2021-07-08T09:05:11.743Z"
   },
   {
    "duration": 7,
    "start_time": "2021-07-08T09:05:25.677Z"
   },
   {
    "duration": 13,
    "start_time": "2021-07-08T09:05:47.189Z"
   },
   {
    "duration": 13,
    "start_time": "2021-07-08T09:05:54.755Z"
   },
   {
    "duration": 4,
    "start_time": "2021-07-08T09:06:29.189Z"
   },
   {
    "duration": 244,
    "start_time": "2021-07-08T09:06:29.195Z"
   },
   {
    "duration": 91,
    "start_time": "2021-07-08T09:06:29.441Z"
   },
   {
    "duration": 4,
    "start_time": "2021-07-08T09:06:29.534Z"
   },
   {
    "duration": 28,
    "start_time": "2021-07-08T09:06:29.540Z"
   },
   {
    "duration": 6,
    "start_time": "2021-07-08T09:06:29.570Z"
   },
   {
    "duration": 18,
    "start_time": "2021-07-08T09:06:29.578Z"
   },
   {
    "duration": 5,
    "start_time": "2021-07-08T09:06:29.597Z"
   },
   {
    "duration": 13,
    "start_time": "2021-07-08T09:06:29.605Z"
   },
   {
    "duration": 8,
    "start_time": "2021-07-08T09:06:29.620Z"
   },
   {
    "duration": 7,
    "start_time": "2021-07-08T09:06:29.630Z"
   },
   {
    "duration": 63,
    "start_time": "2021-07-08T09:06:29.639Z"
   },
   {
    "duration": 17,
    "start_time": "2021-07-08T09:06:29.704Z"
   },
   {
    "duration": 20,
    "start_time": "2021-07-08T09:06:29.723Z"
   },
   {
    "duration": 6,
    "start_time": "2021-07-08T09:06:29.745Z"
   },
   {
    "duration": 3,
    "start_time": "2021-07-08T09:06:29.752Z"
   },
   {
    "duration": 7,
    "start_time": "2021-07-08T09:06:29.785Z"
   },
   {
    "duration": 11,
    "start_time": "2021-07-08T09:06:29.794Z"
   },
   {
    "duration": 15,
    "start_time": "2021-07-08T09:06:29.807Z"
   },
   {
    "duration": 8,
    "start_time": "2021-07-08T09:06:29.823Z"
   },
   {
    "duration": 70,
    "start_time": "2021-07-08T09:06:29.832Z"
   },
   {
    "duration": 17,
    "start_time": "2021-07-08T09:06:29.903Z"
   },
   {
    "duration": 9,
    "start_time": "2021-07-08T09:06:29.921Z"
   },
   {
    "duration": 9,
    "start_time": "2021-07-08T09:06:29.932Z"
   },
   {
    "duration": 57,
    "start_time": "2021-07-08T09:06:29.942Z"
   },
   {
    "duration": 11,
    "start_time": "2021-07-08T09:06:30.001Z"
   },
   {
    "duration": 19,
    "start_time": "2021-07-08T09:06:30.016Z"
   },
   {
    "duration": 217,
    "start_time": "2021-07-08T09:06:30.037Z"
   },
   {
    "duration": 6,
    "start_time": "2021-07-08T09:06:30.255Z"
   },
   {
    "duration": 205,
    "start_time": "2021-07-08T09:06:30.263Z"
   },
   {
    "duration": 27,
    "start_time": "2021-07-08T09:06:30.470Z"
   },
   {
    "duration": 11,
    "start_time": "2021-07-08T09:06:30.500Z"
   },
   {
    "duration": 31,
    "start_time": "2021-07-08T09:06:30.513Z"
   },
   {
    "duration": 18,
    "start_time": "2021-07-08T09:06:30.546Z"
   },
   {
    "duration": 11,
    "start_time": "2021-07-08T09:06:30.566Z"
   },
   {
    "duration": 19,
    "start_time": "2021-07-08T09:06:30.579Z"
   },
   {
    "duration": 20,
    "start_time": "2021-07-08T09:06:49.466Z"
   },
   {
    "duration": 9,
    "start_time": "2021-07-08T09:06:51.994Z"
   },
   {
    "duration": 20,
    "start_time": "2021-07-08T09:06:52.273Z"
   },
   {
    "duration": 246,
    "start_time": "2021-07-08T09:10:21.272Z"
   },
   {
    "duration": 84,
    "start_time": "2021-07-08T09:10:21.436Z"
   },
   {
    "duration": 7,
    "start_time": "2021-07-08T09:10:37.608Z"
   },
   {
    "duration": 189,
    "start_time": "2021-07-08T09:10:38.573Z"
   },
   {
    "duration": 185,
    "start_time": "2021-07-08T09:10:53.181Z"
   },
   {
    "duration": 11,
    "start_time": "2021-07-08T09:10:59.549Z"
   },
   {
    "duration": 42,
    "start_time": "2021-07-08T09:10:59.709Z"
   },
   {
    "duration": 12,
    "start_time": "2021-07-08T09:11:02.857Z"
   },
   {
    "duration": 28,
    "start_time": "2021-07-08T09:11:10.062Z"
   },
   {
    "duration": 249,
    "start_time": "2021-07-08T09:11:37.388Z"
   },
   {
    "duration": 232,
    "start_time": "2021-07-08T09:11:49.485Z"
   },
   {
    "duration": 453,
    "start_time": "2021-07-08T09:12:01.546Z"
   },
   {
    "duration": 440,
    "start_time": "2021-07-08T09:12:12.347Z"
   },
   {
    "duration": 213,
    "start_time": "2021-07-08T09:13:32.196Z"
   },
   {
    "duration": 172,
    "start_time": "2021-07-08T09:14:07.400Z"
   },
   {
    "duration": 185,
    "start_time": "2021-07-08T09:14:14.905Z"
   },
   {
    "duration": 209,
    "start_time": "2021-07-08T09:14:40.109Z"
   },
   {
    "duration": 201,
    "start_time": "2021-07-08T09:14:54.506Z"
   },
   {
    "duration": 622,
    "start_time": "2021-07-08T09:18:14.497Z"
   },
   {
    "duration": 220,
    "start_time": "2021-07-08T09:18:15.121Z"
   },
   {
    "duration": 79,
    "start_time": "2021-07-08T09:18:15.343Z"
   },
   {
    "duration": 4,
    "start_time": "2021-07-08T09:18:15.425Z"
   },
   {
    "duration": 24,
    "start_time": "2021-07-08T09:18:15.431Z"
   },
   {
    "duration": 8,
    "start_time": "2021-07-08T09:18:15.457Z"
   },
   {
    "duration": 16,
    "start_time": "2021-07-08T09:18:15.466Z"
   },
   {
    "duration": 5,
    "start_time": "2021-07-08T09:18:15.484Z"
   },
   {
    "duration": 10,
    "start_time": "2021-07-08T09:18:15.493Z"
   },
   {
    "duration": 8,
    "start_time": "2021-07-08T09:18:15.504Z"
   },
   {
    "duration": 7,
    "start_time": "2021-07-08T09:18:15.513Z"
   },
   {
    "duration": 26,
    "start_time": "2021-07-08T09:18:15.522Z"
   },
   {
    "duration": 49,
    "start_time": "2021-07-08T09:18:15.550Z"
   },
   {
    "duration": 21,
    "start_time": "2021-07-08T09:18:15.601Z"
   },
   {
    "duration": 8,
    "start_time": "2021-07-08T09:18:15.624Z"
   },
   {
    "duration": 3,
    "start_time": "2021-07-08T09:18:15.634Z"
   },
   {
    "duration": 8,
    "start_time": "2021-07-08T09:18:15.639Z"
   },
   {
    "duration": 45,
    "start_time": "2021-07-08T09:18:15.649Z"
   },
   {
    "duration": 13,
    "start_time": "2021-07-08T09:18:15.696Z"
   },
   {
    "duration": 10,
    "start_time": "2021-07-08T09:18:15.711Z"
   },
   {
    "duration": 64,
    "start_time": "2021-07-08T09:18:15.722Z"
   },
   {
    "duration": 19,
    "start_time": "2021-07-08T09:18:15.788Z"
   },
   {
    "duration": 9,
    "start_time": "2021-07-08T09:18:15.809Z"
   },
   {
    "duration": 9,
    "start_time": "2021-07-08T09:18:15.820Z"
   },
   {
    "duration": 18,
    "start_time": "2021-07-08T09:18:15.831Z"
   },
   {
    "duration": 43,
    "start_time": "2021-07-08T09:18:15.851Z"
   },
   {
    "duration": 12,
    "start_time": "2021-07-08T09:18:15.897Z"
   },
   {
    "duration": 219,
    "start_time": "2021-07-08T09:18:15.911Z"
   },
   {
    "duration": 8,
    "start_time": "2021-07-08T09:18:16.132Z"
   },
   {
    "duration": 199,
    "start_time": "2021-07-08T09:18:16.141Z"
   },
   {
    "duration": 18,
    "start_time": "2021-07-08T09:18:16.341Z"
   },
   {
    "duration": 24,
    "start_time": "2021-07-08T09:18:16.361Z"
   },
   {
    "duration": 24,
    "start_time": "2021-07-08T09:18:16.387Z"
   },
   {
    "duration": 211,
    "start_time": "2021-07-08T09:18:16.413Z"
   },
   {
    "duration": 18,
    "start_time": "2021-07-08T09:18:16.626Z"
   },
   {
    "duration": 596,
    "start_time": "2021-07-08T10:06:33.623Z"
   },
   {
    "duration": 181,
    "start_time": "2021-07-08T10:06:34.221Z"
   },
   {
    "duration": 176,
    "start_time": "2021-07-08T10:06:34.635Z"
   },
   {
    "duration": 239,
    "start_time": "2021-07-08T10:06:55.572Z"
   },
   {
    "duration": 6,
    "start_time": "2021-07-08T10:06:57.687Z"
   },
   {
    "duration": 4,
    "start_time": "2021-07-08T10:07:03.956Z"
   },
   {
    "duration": 4,
    "start_time": "2021-07-08T10:07:10.376Z"
   },
   {
    "duration": 4,
    "start_time": "2021-07-08T10:17:19.889Z"
   },
   {
    "duration": 3,
    "start_time": "2021-07-08T10:19:19.407Z"
   },
   {
    "duration": 197,
    "start_time": "2021-07-08T10:19:19.412Z"
   },
   {
    "duration": 127,
    "start_time": "2021-07-08T10:19:19.611Z"
   },
   {
    "duration": 4,
    "start_time": "2021-07-08T10:19:19.740Z"
   },
   {
    "duration": 27,
    "start_time": "2021-07-08T10:19:19.746Z"
   },
   {
    "duration": 7,
    "start_time": "2021-07-08T10:19:19.775Z"
   },
   {
    "duration": 30,
    "start_time": "2021-07-08T10:19:19.784Z"
   },
   {
    "duration": 7,
    "start_time": "2021-07-08T10:19:19.817Z"
   },
   {
    "duration": 26,
    "start_time": "2021-07-08T10:19:19.826Z"
   },
   {
    "duration": 18,
    "start_time": "2021-07-08T10:19:19.854Z"
   },
   {
    "duration": 14,
    "start_time": "2021-07-08T10:19:19.874Z"
   },
   {
    "duration": 48,
    "start_time": "2021-07-08T10:19:19.890Z"
   },
   {
    "duration": 17,
    "start_time": "2021-07-08T10:19:19.940Z"
   },
   {
    "duration": 38,
    "start_time": "2021-07-08T10:19:19.959Z"
   },
   {
    "duration": 8,
    "start_time": "2021-07-08T10:19:19.999Z"
   },
   {
    "duration": 15,
    "start_time": "2021-07-08T10:19:20.009Z"
   },
   {
    "duration": 22,
    "start_time": "2021-07-08T10:19:20.026Z"
   },
   {
    "duration": 10,
    "start_time": "2021-07-08T10:19:20.050Z"
   },
   {
    "duration": 10,
    "start_time": "2021-07-08T10:19:20.062Z"
   },
   {
    "duration": 20,
    "start_time": "2021-07-08T10:19:20.073Z"
   },
   {
    "duration": 29,
    "start_time": "2021-07-08T10:19:20.095Z"
   },
   {
    "duration": 17,
    "start_time": "2021-07-08T10:19:20.126Z"
   },
   {
    "duration": 40,
    "start_time": "2021-07-08T10:19:20.146Z"
   },
   {
    "duration": 15,
    "start_time": "2021-07-08T10:19:20.189Z"
   },
   {
    "duration": 19,
    "start_time": "2021-07-08T10:19:20.206Z"
   },
   {
    "duration": 10,
    "start_time": "2021-07-08T10:19:20.226Z"
   },
   {
    "duration": 11,
    "start_time": "2021-07-08T10:19:20.238Z"
   },
   {
    "duration": 297,
    "start_time": "2021-07-08T10:19:20.250Z"
   },
   {
    "duration": 6,
    "start_time": "2021-07-08T10:19:20.549Z"
   },
   {
    "duration": 191,
    "start_time": "2021-07-08T10:19:20.557Z"
   },
   {
    "duration": 19,
    "start_time": "2021-07-08T10:19:20.750Z"
   },
   {
    "duration": 20,
    "start_time": "2021-07-08T10:19:20.771Z"
   },
   {
    "duration": 15,
    "start_time": "2021-07-08T10:19:20.793Z"
   },
   {
    "duration": 222,
    "start_time": "2021-07-08T10:19:20.809Z"
   },
   {
    "duration": 20,
    "start_time": "2021-07-08T10:19:21.033Z"
   },
   {
    "duration": 27,
    "start_time": "2021-07-08T10:45:04.055Z"
   },
   {
    "duration": 8,
    "start_time": "2021-07-08T10:45:08.478Z"
   },
   {
    "duration": 8,
    "start_time": "2021-07-08T10:45:31.982Z"
   },
   {
    "duration": 10,
    "start_time": "2021-07-08T10:46:01.221Z"
   },
   {
    "duration": 17,
    "start_time": "2021-07-08T10:46:40.011Z"
   },
   {
    "duration": 193,
    "start_time": "2021-07-08T10:48:19.471Z"
   },
   {
    "duration": 225,
    "start_time": "2021-07-08T10:49:26.480Z"
   },
   {
    "duration": 204,
    "start_time": "2021-07-08T10:49:59.992Z"
   },
   {
    "duration": 435,
    "start_time": "2021-07-08T10:50:06.779Z"
   },
   {
    "duration": 199,
    "start_time": "2021-07-08T10:50:14.891Z"
   },
   {
    "duration": 204,
    "start_time": "2021-07-08T10:50:18.501Z"
   },
   {
    "duration": 244,
    "start_time": "2021-07-08T10:50:23.359Z"
   },
   {
    "duration": 192,
    "start_time": "2021-07-08T10:50:29.135Z"
   },
   {
    "duration": 218,
    "start_time": "2021-07-08T10:50:33.092Z"
   },
   {
    "duration": 207,
    "start_time": "2021-07-08T10:52:45.381Z"
   },
   {
    "duration": 5,
    "start_time": "2021-07-08T10:53:34.641Z"
   },
   {
    "duration": 196,
    "start_time": "2021-07-08T10:53:41.478Z"
   },
   {
    "duration": 43,
    "start_time": "2021-07-08T10:53:50.335Z"
   },
   {
    "duration": 32,
    "start_time": "2021-07-08T10:53:55.294Z"
   },
   {
    "duration": 55,
    "start_time": "2021-07-08T10:54:09.675Z"
   },
   {
    "duration": 16,
    "start_time": "2021-07-08T10:54:12.260Z"
   },
   {
    "duration": 15,
    "start_time": "2021-07-08T10:54:49.150Z"
   },
   {
    "duration": 20,
    "start_time": "2021-07-08T10:56:07.596Z"
   },
   {
    "duration": 16,
    "start_time": "2021-07-08T10:58:26.276Z"
   },
   {
    "duration": 22,
    "start_time": "2021-07-08T10:59:00.486Z"
   },
   {
    "duration": 18,
    "start_time": "2021-07-08T11:02:09.653Z"
   },
   {
    "duration": 10,
    "start_time": "2021-07-08T11:03:44.331Z"
   },
   {
    "duration": 10,
    "start_time": "2021-07-08T11:03:54.055Z"
   },
   {
    "duration": 12,
    "start_time": "2021-07-08T11:04:41.967Z"
   },
   {
    "duration": 24,
    "start_time": "2021-07-08T11:07:30.732Z"
   },
   {
    "duration": 6,
    "start_time": "2021-07-08T11:07:37.364Z"
   },
   {
    "duration": 16,
    "start_time": "2021-07-08T11:08:01.819Z"
   },
   {
    "duration": 17,
    "start_time": "2021-07-08T11:09:47.488Z"
   },
   {
    "duration": 246,
    "start_time": "2021-07-08T11:10:00.830Z"
   },
   {
    "duration": 18,
    "start_time": "2021-07-08T11:13:55.195Z"
   },
   {
    "duration": 204,
    "start_time": "2021-07-08T11:14:04.951Z"
   },
   {
    "duration": 19,
    "start_time": "2021-07-08T11:15:10.613Z"
   },
   {
    "duration": 680,
    "start_time": "2021-07-08T11:16:25.793Z"
   },
   {
    "duration": 451,
    "start_time": "2021-07-08T11:16:40.313Z"
   },
   {
    "duration": 469,
    "start_time": "2021-07-08T11:17:21.286Z"
   },
   {
    "duration": 20,
    "start_time": "2021-07-08T11:19:12.554Z"
   },
   {
    "duration": 35,
    "start_time": "2021-07-08T11:20:05.484Z"
   },
   {
    "duration": 53,
    "start_time": "2021-07-08T11:21:40.050Z"
   },
   {
    "duration": 13,
    "start_time": "2021-07-08T11:22:26.059Z"
   },
   {
    "duration": 19,
    "start_time": "2021-07-08T11:22:47.419Z"
   },
   {
    "duration": 25,
    "start_time": "2021-07-08T11:23:19.958Z"
   },
   {
    "duration": 29,
    "start_time": "2021-07-08T11:23:25.415Z"
   },
   {
    "duration": 10,
    "start_time": "2021-07-08T11:24:45.138Z"
   },
   {
    "duration": 19,
    "start_time": "2021-07-08T11:24:54.498Z"
   },
   {
    "duration": 12,
    "start_time": "2021-07-08T11:25:32.225Z"
   },
   {
    "duration": 19,
    "start_time": "2021-07-08T11:25:37.092Z"
   },
   {
    "duration": 17,
    "start_time": "2021-07-08T11:25:58.116Z"
   },
   {
    "duration": 15,
    "start_time": "2021-07-08T11:26:02.258Z"
   },
   {
    "duration": 8,
    "start_time": "2021-07-08T11:26:59.682Z"
   },
   {
    "duration": 184,
    "start_time": "2021-07-08T11:27:21.894Z"
   },
   {
    "duration": 8,
    "start_time": "2021-07-08T11:27:23.824Z"
   },
   {
    "duration": 202,
    "start_time": "2021-07-08T11:27:23.962Z"
   },
   {
    "duration": 360,
    "start_time": "2021-07-08T11:28:33.215Z"
   },
   {
    "duration": 231,
    "start_time": "2021-07-08T11:32:05.542Z"
   },
   {
    "duration": 607,
    "start_time": "2021-07-08T11:36:27.854Z"
   },
   {
    "duration": 241,
    "start_time": "2021-07-08T11:36:28.463Z"
   },
   {
    "duration": 67,
    "start_time": "2021-07-08T11:36:28.709Z"
   },
   {
    "duration": 5,
    "start_time": "2021-07-08T11:36:28.778Z"
   },
   {
    "duration": 32,
    "start_time": "2021-07-08T11:36:28.784Z"
   },
   {
    "duration": 11,
    "start_time": "2021-07-08T11:36:28.819Z"
   },
   {
    "duration": 20,
    "start_time": "2021-07-08T11:36:28.834Z"
   },
   {
    "duration": 36,
    "start_time": "2021-07-08T11:36:28.857Z"
   },
   {
    "duration": 16,
    "start_time": "2021-07-08T11:36:28.895Z"
   },
   {
    "duration": 14,
    "start_time": "2021-07-08T11:36:28.913Z"
   },
   {
    "duration": 9,
    "start_time": "2021-07-08T11:36:28.930Z"
   },
   {
    "duration": 55,
    "start_time": "2021-07-08T11:36:28.941Z"
   },
   {
    "duration": 27,
    "start_time": "2021-07-08T11:36:28.999Z"
   },
   {
    "duration": 30,
    "start_time": "2021-07-08T11:36:29.028Z"
   },
   {
    "duration": 31,
    "start_time": "2021-07-08T11:36:29.060Z"
   },
   {
    "duration": 3,
    "start_time": "2021-07-08T11:36:29.093Z"
   },
   {
    "duration": 12,
    "start_time": "2021-07-08T11:36:29.099Z"
   },
   {
    "duration": 11,
    "start_time": "2021-07-08T11:36:29.112Z"
   },
   {
    "duration": 12,
    "start_time": "2021-07-08T11:36:29.125Z"
   },
   {
    "duration": 9,
    "start_time": "2021-07-08T11:36:29.139Z"
   },
   {
    "duration": 31,
    "start_time": "2021-07-08T11:36:29.191Z"
   },
   {
    "duration": 17,
    "start_time": "2021-07-08T11:36:29.226Z"
   },
   {
    "duration": 7,
    "start_time": "2021-07-08T11:36:29.245Z"
   },
   {
    "duration": 10,
    "start_time": "2021-07-08T11:36:29.254Z"
   },
   {
    "duration": 30,
    "start_time": "2021-07-08T11:36:29.292Z"
   },
   {
    "duration": 11,
    "start_time": "2021-07-08T11:36:29.324Z"
   },
   {
    "duration": 11,
    "start_time": "2021-07-08T11:36:29.337Z"
   },
   {
    "duration": 230,
    "start_time": "2021-07-08T11:36:29.349Z"
   },
   {
    "duration": 13,
    "start_time": "2021-07-08T11:36:29.588Z"
   },
   {
    "duration": 205,
    "start_time": "2021-07-08T11:36:29.603Z"
   },
   {
    "duration": 20,
    "start_time": "2021-07-08T11:36:29.810Z"
   },
   {
    "duration": 9,
    "start_time": "2021-07-08T11:36:29.832Z"
   },
   {
    "duration": 16,
    "start_time": "2021-07-08T11:36:29.843Z"
   },
   {
    "duration": 283,
    "start_time": "2021-07-08T11:36:29.861Z"
   },
   {
    "duration": 50,
    "start_time": "2021-07-08T11:36:30.146Z"
   },
   {
    "duration": 14,
    "start_time": "2021-07-08T11:36:30.198Z"
   },
   {
    "duration": 11,
    "start_time": "2021-07-08T11:36:30.214Z"
   },
   {
    "duration": 245,
    "start_time": "2021-07-08T11:36:30.227Z"
   },
   {
    "duration": 439,
    "start_time": "2021-07-08T11:36:30.474Z"
   },
   {
    "duration": 210,
    "start_time": "2021-07-08T11:36:30.915Z"
   },
   {
    "duration": 15,
    "start_time": "2021-07-08T11:36:31.127Z"
   },
   {
    "duration": 17,
    "start_time": "2021-07-08T11:38:20.451Z"
   },
   {
    "duration": 642,
    "start_time": "2021-07-08T11:46:17.881Z"
   },
   {
    "duration": 210,
    "start_time": "2021-07-08T11:46:18.525Z"
   },
   {
    "duration": 104,
    "start_time": "2021-07-08T11:46:18.741Z"
   },
   {
    "duration": 8,
    "start_time": "2021-07-08T11:46:18.847Z"
   },
   {
    "duration": 25,
    "start_time": "2021-07-08T11:46:18.857Z"
   },
   {
    "duration": 14,
    "start_time": "2021-07-08T11:46:18.884Z"
   },
   {
    "duration": 22,
    "start_time": "2021-07-08T11:46:18.900Z"
   },
   {
    "duration": 5,
    "start_time": "2021-07-08T11:46:18.924Z"
   },
   {
    "duration": 13,
    "start_time": "2021-07-08T11:46:18.931Z"
   },
   {
    "duration": 45,
    "start_time": "2021-07-08T11:46:18.946Z"
   },
   {
    "duration": 12,
    "start_time": "2021-07-08T11:46:18.993Z"
   },
   {
    "duration": 38,
    "start_time": "2021-07-08T11:46:19.006Z"
   },
   {
    "duration": 50,
    "start_time": "2021-07-08T11:46:19.046Z"
   },
   {
    "duration": 29,
    "start_time": "2021-07-08T11:46:19.099Z"
   },
   {
    "duration": 7,
    "start_time": "2021-07-08T11:46:19.130Z"
   },
   {
    "duration": 3,
    "start_time": "2021-07-08T11:46:19.139Z"
   },
   {
    "duration": 11,
    "start_time": "2021-07-08T11:46:19.144Z"
   },
   {
    "duration": 40,
    "start_time": "2021-07-08T11:46:19.157Z"
   },
   {
    "duration": 15,
    "start_time": "2021-07-08T11:46:19.199Z"
   },
   {
    "duration": 10,
    "start_time": "2021-07-08T11:46:19.217Z"
   },
   {
    "duration": 68,
    "start_time": "2021-07-08T11:46:19.230Z"
   },
   {
    "duration": 17,
    "start_time": "2021-07-08T11:46:19.301Z"
   },
   {
    "duration": 7,
    "start_time": "2021-07-08T11:46:19.321Z"
   },
   {
    "duration": 11,
    "start_time": "2021-07-08T11:46:19.330Z"
   },
   {
    "duration": 59,
    "start_time": "2021-07-08T11:46:19.343Z"
   },
   {
    "duration": 17,
    "start_time": "2021-07-08T11:46:19.405Z"
   },
   {
    "duration": 16,
    "start_time": "2021-07-08T11:46:19.424Z"
   },
   {
    "duration": 252,
    "start_time": "2021-07-08T11:46:19.443Z"
   },
   {
    "duration": 9,
    "start_time": "2021-07-08T11:46:19.697Z"
   },
   {
    "duration": 224,
    "start_time": "2021-07-08T11:46:19.708Z"
   },
   {
    "duration": 21,
    "start_time": "2021-07-08T11:46:19.934Z"
   },
   {
    "duration": 9,
    "start_time": "2021-07-08T11:46:19.956Z"
   },
   {
    "duration": 32,
    "start_time": "2021-07-08T11:46:19.967Z"
   },
   {
    "duration": 288,
    "start_time": "2021-07-08T11:46:20.004Z"
   },
   {
    "duration": 23,
    "start_time": "2021-07-08T11:46:20.300Z"
   },
   {
    "duration": 11,
    "start_time": "2021-07-08T11:46:20.325Z"
   },
   {
    "duration": 11,
    "start_time": "2021-07-08T11:46:20.339Z"
   },
   {
    "duration": 259,
    "start_time": "2021-07-08T11:46:20.352Z"
   },
   {
    "duration": 438,
    "start_time": "2021-07-08T11:46:20.613Z"
   },
   {
    "duration": 207,
    "start_time": "2021-07-08T11:46:21.054Z"
   },
   {
    "duration": 27,
    "start_time": "2021-07-08T11:46:21.262Z"
   },
   {
    "duration": 19,
    "start_time": "2021-07-08T11:46:21.291Z"
   },
   {
    "duration": 820,
    "start_time": "2021-07-08T11:49:01.655Z"
   },
   {
    "duration": 372,
    "start_time": "2021-07-08T11:49:02.478Z"
   },
   {
    "duration": 98,
    "start_time": "2021-07-08T11:49:02.853Z"
   },
   {
    "duration": 6,
    "start_time": "2021-07-08T11:49:02.953Z"
   },
   {
    "duration": 39,
    "start_time": "2021-07-08T11:49:02.960Z"
   },
   {
    "duration": 9,
    "start_time": "2021-07-08T11:49:03.003Z"
   },
   {
    "duration": 23,
    "start_time": "2021-07-08T11:49:03.014Z"
   },
   {
    "duration": 6,
    "start_time": "2021-07-08T11:49:03.041Z"
   },
   {
    "duration": 20,
    "start_time": "2021-07-08T11:49:03.049Z"
   },
   {
    "duration": 18,
    "start_time": "2021-07-08T11:49:03.084Z"
   },
   {
    "duration": 14,
    "start_time": "2021-07-08T11:49:03.104Z"
   },
   {
    "duration": 39,
    "start_time": "2021-07-08T11:49:03.119Z"
   },
   {
    "duration": 38,
    "start_time": "2021-07-08T11:49:03.160Z"
   },
   {
    "duration": 26,
    "start_time": "2021-07-08T11:49:03.200Z"
   },
   {
    "duration": 7,
    "start_time": "2021-07-08T11:49:03.227Z"
   },
   {
    "duration": 4,
    "start_time": "2021-07-08T11:49:03.236Z"
   },
   {
    "duration": 15,
    "start_time": "2021-07-08T11:49:03.243Z"
   },
   {
    "duration": 21,
    "start_time": "2021-07-08T11:49:03.285Z"
   },
   {
    "duration": 17,
    "start_time": "2021-07-08T11:49:03.309Z"
   },
   {
    "duration": 10,
    "start_time": "2021-07-08T11:49:03.328Z"
   },
   {
    "duration": 65,
    "start_time": "2021-07-08T11:49:03.340Z"
   },
   {
    "duration": 18,
    "start_time": "2021-07-08T11:49:03.407Z"
   },
   {
    "duration": 8,
    "start_time": "2021-07-08T11:49:03.428Z"
   },
   {
    "duration": 15,
    "start_time": "2021-07-08T11:49:03.438Z"
   },
   {
    "duration": 40,
    "start_time": "2021-07-08T11:49:03.455Z"
   },
   {
    "duration": 12,
    "start_time": "2021-07-08T11:49:03.497Z"
   },
   {
    "duration": 29,
    "start_time": "2021-07-08T11:49:03.511Z"
   },
   {
    "duration": 285,
    "start_time": "2021-07-08T11:49:03.542Z"
   },
   {
    "duration": 8,
    "start_time": "2021-07-08T11:49:03.829Z"
   },
   {
    "duration": 227,
    "start_time": "2021-07-08T11:49:03.838Z"
   },
   {
    "duration": 40,
    "start_time": "2021-07-08T11:49:04.066Z"
   },
   {
    "duration": 10,
    "start_time": "2021-07-08T11:49:04.108Z"
   },
   {
    "duration": 26,
    "start_time": "2021-07-08T11:49:04.121Z"
   },
   {
    "duration": 290,
    "start_time": "2021-07-08T11:49:04.149Z"
   },
   {
    "duration": 26,
    "start_time": "2021-07-08T11:49:04.441Z"
   },
   {
    "duration": 31,
    "start_time": "2021-07-08T11:49:04.470Z"
   },
   {
    "duration": 14,
    "start_time": "2021-07-08T11:49:04.503Z"
   },
   {
    "duration": 259,
    "start_time": "2021-07-08T11:49:04.521Z"
   },
   {
    "duration": 480,
    "start_time": "2021-07-08T11:49:04.782Z"
   },
   {
    "duration": 225,
    "start_time": "2021-07-08T11:49:05.264Z"
   },
   {
    "duration": 22,
    "start_time": "2021-07-08T11:49:05.491Z"
   },
   {
    "duration": 24,
    "start_time": "2021-07-08T11:49:05.515Z"
   },
   {
    "duration": 634,
    "start_time": "2021-07-08T11:52:24.960Z"
   },
   {
    "duration": 199,
    "start_time": "2021-07-08T11:52:25.599Z"
   },
   {
    "duration": 106,
    "start_time": "2021-07-08T11:52:25.803Z"
   },
   {
    "duration": 7,
    "start_time": "2021-07-08T11:52:25.911Z"
   },
   {
    "duration": 29,
    "start_time": "2021-07-08T11:52:25.920Z"
   },
   {
    "duration": 7,
    "start_time": "2021-07-08T11:52:25.951Z"
   },
   {
    "duration": 26,
    "start_time": "2021-07-08T11:52:25.961Z"
   },
   {
    "duration": 11,
    "start_time": "2021-07-08T11:52:25.990Z"
   },
   {
    "duration": 29,
    "start_time": "2021-07-08T11:52:26.005Z"
   },
   {
    "duration": 9,
    "start_time": "2021-07-08T11:52:26.036Z"
   },
   {
    "duration": 8,
    "start_time": "2021-07-08T11:52:26.047Z"
   },
   {
    "duration": 63,
    "start_time": "2021-07-08T11:52:26.057Z"
   },
   {
    "duration": 17,
    "start_time": "2021-07-08T11:52:26.122Z"
   },
   {
    "duration": 43,
    "start_time": "2021-07-08T11:52:26.142Z"
   },
   {
    "duration": 17,
    "start_time": "2021-07-08T11:52:26.187Z"
   },
   {
    "duration": 5,
    "start_time": "2021-07-08T11:52:26.206Z"
   },
   {
    "duration": 12,
    "start_time": "2021-07-08T11:52:26.212Z"
   },
   {
    "duration": 11,
    "start_time": "2021-07-08T11:52:26.226Z"
   },
   {
    "duration": 12,
    "start_time": "2021-07-08T11:52:26.238Z"
   },
   {
    "duration": 38,
    "start_time": "2021-07-08T11:52:26.252Z"
   },
   {
    "duration": 40,
    "start_time": "2021-07-08T11:52:26.292Z"
   },
   {
    "duration": 17,
    "start_time": "2021-07-08T11:52:26.336Z"
   },
   {
    "duration": 39,
    "start_time": "2021-07-08T11:52:26.355Z"
   },
   {
    "duration": 11,
    "start_time": "2021-07-08T11:52:26.395Z"
   },
   {
    "duration": 23,
    "start_time": "2021-07-08T11:52:26.408Z"
   },
   {
    "duration": 12,
    "start_time": "2021-07-08T11:52:26.432Z"
   },
   {
    "duration": 41,
    "start_time": "2021-07-08T11:52:26.446Z"
   },
   {
    "duration": 215,
    "start_time": "2021-07-08T11:52:26.493Z"
   },
   {
    "duration": 8,
    "start_time": "2021-07-08T11:52:26.710Z"
   },
   {
    "duration": 228,
    "start_time": "2021-07-08T11:52:26.720Z"
   },
   {
    "duration": 18,
    "start_time": "2021-07-08T11:52:26.950Z"
   },
   {
    "duration": 35,
    "start_time": "2021-07-08T11:52:26.969Z"
   },
   {
    "duration": 23,
    "start_time": "2021-07-08T11:52:27.006Z"
   },
   {
    "duration": 258,
    "start_time": "2021-07-08T11:52:27.030Z"
   },
   {
    "duration": 24,
    "start_time": "2021-07-08T11:52:27.290Z"
   },
   {
    "duration": 12,
    "start_time": "2021-07-08T11:52:27.316Z"
   },
   {
    "duration": 10,
    "start_time": "2021-07-08T11:52:27.329Z"
   },
   {
    "duration": 298,
    "start_time": "2021-07-08T11:52:27.341Z"
   },
   {
    "duration": 436,
    "start_time": "2021-07-08T11:52:27.641Z"
   },
   {
    "duration": 216,
    "start_time": "2021-07-08T11:52:28.079Z"
   },
   {
    "duration": 20,
    "start_time": "2021-07-08T11:52:28.297Z"
   },
   {
    "duration": 17,
    "start_time": "2021-07-08T11:52:28.319Z"
   },
   {
    "duration": 424,
    "start_time": "2024-06-03T17:41:18.578Z"
   },
   {
    "duration": 397,
    "start_time": "2024-06-03T17:44:34.414Z"
   },
   {
    "duration": 22,
    "start_time": "2024-06-03T17:45:31.827Z"
   },
   {
    "duration": 6,
    "start_time": "2024-06-03T17:45:44.561Z"
   },
   {
    "duration": 15,
    "start_time": "2024-06-03T17:45:55.842Z"
   },
   {
    "duration": 67,
    "start_time": "2024-06-03T17:46:48.438Z"
   },
   {
    "duration": 7,
    "start_time": "2024-06-03T17:46:53.827Z"
   },
   {
    "duration": 10,
    "start_time": "2024-06-03T17:47:50.016Z"
   },
   {
    "duration": 15,
    "start_time": "2024-06-03T17:48:16.496Z"
   },
   {
    "duration": 302,
    "start_time": "2024-06-03T17:52:14.930Z"
   },
   {
    "duration": 21,
    "start_time": "2024-06-03T17:53:16.074Z"
   },
   {
    "duration": 15,
    "start_time": "2024-06-03T17:53:37.915Z"
   },
   {
    "duration": 16,
    "start_time": "2024-06-03T17:57:05.701Z"
   },
   {
    "duration": 10,
    "start_time": "2024-06-03T17:58:25.301Z"
   },
   {
    "duration": 4,
    "start_time": "2024-06-03T17:58:44.850Z"
   },
   {
    "duration": 7,
    "start_time": "2024-06-03T17:59:14.410Z"
   },
   {
    "duration": 8,
    "start_time": "2024-06-03T17:59:28.296Z"
   },
   {
    "duration": 8,
    "start_time": "2024-06-03T18:02:25.788Z"
   },
   {
    "duration": 8,
    "start_time": "2024-06-03T18:02:33.928Z"
   },
   {
    "duration": 5,
    "start_time": "2024-06-03T18:06:11.711Z"
   },
   {
    "duration": 9,
    "start_time": "2024-06-03T18:15:49.400Z"
   },
   {
    "duration": 5,
    "start_time": "2024-06-03T18:25:58.391Z"
   },
   {
    "duration": 6,
    "start_time": "2024-06-03T18:26:25.249Z"
   },
   {
    "duration": 6,
    "start_time": "2024-06-03T18:27:41.584Z"
   },
   {
    "duration": 24,
    "start_time": "2024-06-03T18:39:55.579Z"
   },
   {
    "duration": 389,
    "start_time": "2024-06-03T18:40:56.503Z"
   },
   {
    "duration": 122,
    "start_time": "2024-06-03T18:40:56.893Z"
   },
   {
    "duration": 13,
    "start_time": "2024-06-03T18:40:57.017Z"
   },
   {
    "duration": 15,
    "start_time": "2024-06-03T18:40:57.031Z"
   },
   {
    "duration": 10,
    "start_time": "2024-06-03T18:40:57.047Z"
   },
   {
    "duration": 15,
    "start_time": "2024-06-03T18:40:57.058Z"
   },
   {
    "duration": 28,
    "start_time": "2024-06-03T18:40:57.075Z"
   },
   {
    "duration": 7,
    "start_time": "2024-06-03T18:40:57.104Z"
   },
   {
    "duration": 24,
    "start_time": "2024-06-03T18:40:57.112Z"
   },
   {
    "duration": 30,
    "start_time": "2024-06-03T18:41:42.122Z"
   },
   {
    "duration": 60,
    "start_time": "2024-06-03T18:42:42.722Z"
   },
   {
    "duration": 17,
    "start_time": "2024-06-03T18:42:50.572Z"
   },
   {
    "duration": 25,
    "start_time": "2024-06-03T18:43:19.156Z"
   },
   {
    "duration": 360,
    "start_time": "2024-06-05T17:42:04.335Z"
   },
   {
    "duration": 335,
    "start_time": "2024-06-05T17:42:04.697Z"
   },
   {
    "duration": 13,
    "start_time": "2024-06-05T17:42:05.033Z"
   },
   {
    "duration": 36,
    "start_time": "2024-06-05T17:42:05.047Z"
   },
   {
    "duration": 25,
    "start_time": "2024-06-05T17:42:05.084Z"
   },
   {
    "duration": 22,
    "start_time": "2024-06-05T17:42:05.110Z"
   },
   {
    "duration": 8,
    "start_time": "2024-06-05T17:42:05.134Z"
   },
   {
    "duration": 25,
    "start_time": "2024-06-05T17:42:05.143Z"
   },
   {
    "duration": 38,
    "start_time": "2024-06-05T17:42:05.169Z"
   },
   {
    "duration": 12,
    "start_time": "2024-06-05T17:42:05.209Z"
   },
   {
    "duration": 12,
    "start_time": "2024-06-05T17:52:25.764Z"
   },
   {
    "duration": 397,
    "start_time": "2024-06-05T17:52:35.007Z"
   },
   {
    "duration": 120,
    "start_time": "2024-06-05T17:52:35.405Z"
   },
   {
    "duration": 14,
    "start_time": "2024-06-05T17:52:35.526Z"
   },
   {
    "duration": 14,
    "start_time": "2024-06-05T17:52:35.541Z"
   },
   {
    "duration": 29,
    "start_time": "2024-06-05T17:52:35.557Z"
   },
   {
    "duration": 44,
    "start_time": "2024-06-05T17:52:35.587Z"
   },
   {
    "duration": 13,
    "start_time": "2024-06-05T17:52:35.632Z"
   },
   {
    "duration": 7,
    "start_time": "2024-06-05T17:52:35.646Z"
   },
   {
    "duration": 24,
    "start_time": "2024-06-05T17:52:35.654Z"
   },
   {
    "duration": 12,
    "start_time": "2024-06-05T17:52:35.679Z"
   },
   {
    "duration": 7,
    "start_time": "2024-06-05T18:47:40.027Z"
   },
   {
    "duration": 11,
    "start_time": "2024-06-05T18:54:59.205Z"
   },
   {
    "duration": 17,
    "start_time": "2024-06-05T18:56:13.528Z"
   },
   {
    "duration": 12,
    "start_time": "2024-06-05T18:57:04.090Z"
   },
   {
    "duration": 11,
    "start_time": "2024-06-05T18:58:20.578Z"
   },
   {
    "duration": 11,
    "start_time": "2024-06-05T18:59:52.099Z"
   },
   {
    "duration": 8,
    "start_time": "2024-06-05T19:00:42.557Z"
   },
   {
    "duration": 17,
    "start_time": "2024-06-05T19:08:13.348Z"
   },
   {
    "duration": 9,
    "start_time": "2024-06-05T19:09:28.375Z"
   },
   {
    "duration": 9,
    "start_time": "2024-06-05T19:11:28.716Z"
   },
   {
    "duration": 371,
    "start_time": "2024-06-06T16:52:02.688Z"
   },
   {
    "duration": 236,
    "start_time": "2024-06-06T16:52:03.061Z"
   },
   {
    "duration": 13,
    "start_time": "2024-06-06T16:52:03.299Z"
   },
   {
    "duration": 46,
    "start_time": "2024-06-06T16:52:03.314Z"
   },
   {
    "duration": 60,
    "start_time": "2024-06-06T16:52:03.362Z"
   },
   {
    "duration": 69,
    "start_time": "2024-06-06T16:52:03.424Z"
   },
   {
    "duration": 47,
    "start_time": "2024-06-06T16:52:03.494Z"
   },
   {
    "duration": 31,
    "start_time": "2024-06-06T16:52:03.543Z"
   },
   {
    "duration": 48,
    "start_time": "2024-06-06T16:52:03.576Z"
   },
   {
    "duration": 41,
    "start_time": "2024-06-06T16:52:03.626Z"
   },
   {
    "duration": 34,
    "start_time": "2024-06-06T16:52:03.668Z"
   },
   {
    "duration": 40,
    "start_time": "2024-06-06T16:52:03.703Z"
   },
   {
    "duration": 26,
    "start_time": "2024-06-06T16:52:03.744Z"
   },
   {
    "duration": 35,
    "start_time": "2024-06-06T16:52:03.772Z"
   },
   {
    "duration": 10,
    "start_time": "2024-06-06T16:57:08.759Z"
   },
   {
    "duration": 28,
    "start_time": "2024-06-06T16:57:59.631Z"
   },
   {
    "duration": 24,
    "start_time": "2024-06-06T17:01:53.137Z"
   },
   {
    "duration": 8,
    "start_time": "2024-06-06T17:04:45.409Z"
   },
   {
    "duration": 85,
    "start_time": "2024-06-06T17:05:26.954Z"
   },
   {
    "duration": 388,
    "start_time": "2024-06-06T17:05:36.409Z"
   },
   {
    "duration": 123,
    "start_time": "2024-06-06T17:05:36.799Z"
   },
   {
    "duration": 15,
    "start_time": "2024-06-06T17:05:36.924Z"
   },
   {
    "duration": 96,
    "start_time": "2024-06-06T17:05:36.940Z"
   },
   {
    "duration": 48,
    "start_time": "2024-06-06T17:05:37.039Z"
   },
   {
    "duration": 50,
    "start_time": "2024-06-06T17:05:37.089Z"
   },
   {
    "duration": 29,
    "start_time": "2024-06-06T17:05:37.140Z"
   },
   {
    "duration": 29,
    "start_time": "2024-06-06T17:05:37.173Z"
   },
   {
    "duration": 51,
    "start_time": "2024-06-06T17:05:37.204Z"
   },
   {
    "duration": 19,
    "start_time": "2024-06-06T17:05:37.257Z"
   },
   {
    "duration": 7,
    "start_time": "2024-06-06T17:05:37.278Z"
   },
   {
    "duration": 125,
    "start_time": "2024-06-06T17:05:37.286Z"
   },
   {
    "duration": 88,
    "start_time": "2024-06-06T17:05:37.413Z"
   },
   {
    "duration": 0,
    "start_time": "2024-06-06T17:05:37.503Z"
   },
   {
    "duration": 0,
    "start_time": "2024-06-06T17:05:37.504Z"
   },
   {
    "duration": 17,
    "start_time": "2024-06-06T17:18:22.344Z"
   },
   {
    "duration": 10,
    "start_time": "2024-06-06T17:20:46.596Z"
   },
   {
    "duration": 14,
    "start_time": "2024-06-06T17:21:26.504Z"
   },
   {
    "duration": 16,
    "start_time": "2024-06-06T17:40:39.590Z"
   },
   {
    "duration": 0,
    "start_time": "2024-06-06T17:45:24.704Z"
   },
   {
    "duration": 12,
    "start_time": "2024-06-06T17:46:29.179Z"
   },
   {
    "duration": 400,
    "start_time": "2024-06-06T17:48:09.652Z"
   },
   {
    "duration": 125,
    "start_time": "2024-06-06T17:48:10.054Z"
   },
   {
    "duration": 14,
    "start_time": "2024-06-06T17:48:10.181Z"
   },
   {
    "duration": 41,
    "start_time": "2024-06-06T17:48:10.197Z"
   },
   {
    "duration": 24,
    "start_time": "2024-06-06T17:48:10.240Z"
   },
   {
    "duration": 16,
    "start_time": "2024-06-06T17:48:10.265Z"
   },
   {
    "duration": 5,
    "start_time": "2024-06-06T17:48:10.283Z"
   },
   {
    "duration": 10,
    "start_time": "2024-06-06T17:48:10.290Z"
   },
   {
    "duration": 24,
    "start_time": "2024-06-06T17:48:10.301Z"
   },
   {
    "duration": 26,
    "start_time": "2024-06-06T17:48:10.328Z"
   },
   {
    "duration": 6,
    "start_time": "2024-06-06T17:48:10.356Z"
   },
   {
    "duration": 17,
    "start_time": "2024-06-06T17:48:10.364Z"
   },
   {
    "duration": 9,
    "start_time": "2024-06-06T17:48:10.383Z"
   },
   {
    "duration": 23,
    "start_time": "2024-06-06T17:48:10.394Z"
   },
   {
    "duration": 11,
    "start_time": "2024-06-06T17:54:35.694Z"
   },
   {
    "duration": 9,
    "start_time": "2024-06-06T18:07:26.588Z"
   },
   {
    "duration": 5,
    "start_time": "2024-06-06T18:09:09.424Z"
   },
   {
    "duration": 39,
    "start_time": "2024-06-06T18:12:32.476Z"
   },
   {
    "duration": 35,
    "start_time": "2024-06-06T18:14:14.412Z"
   },
   {
    "duration": 18,
    "start_time": "2024-06-06T18:16:20.872Z"
   },
   {
    "duration": 397,
    "start_time": "2024-06-08T09:45:02.421Z"
   },
   {
    "duration": 338,
    "start_time": "2024-06-08T09:45:02.820Z"
   },
   {
    "duration": 15,
    "start_time": "2024-06-08T09:45:03.159Z"
   },
   {
    "duration": 17,
    "start_time": "2024-06-08T09:45:03.176Z"
   },
   {
    "duration": 16,
    "start_time": "2024-06-08T09:45:03.195Z"
   },
   {
    "duration": 26,
    "start_time": "2024-06-08T09:45:03.213Z"
   },
   {
    "duration": 6,
    "start_time": "2024-06-08T09:45:03.241Z"
   },
   {
    "duration": 11,
    "start_time": "2024-06-08T09:45:03.249Z"
   },
   {
    "duration": 48,
    "start_time": "2024-06-08T09:45:03.261Z"
   },
   {
    "duration": 17,
    "start_time": "2024-06-08T09:45:03.312Z"
   },
   {
    "duration": 58,
    "start_time": "2024-06-08T09:45:03.330Z"
   },
   {
    "duration": 34,
    "start_time": "2024-06-08T09:45:03.390Z"
   },
   {
    "duration": 17,
    "start_time": "2024-06-08T09:45:03.425Z"
   },
   {
    "duration": 39,
    "start_time": "2024-06-08T09:45:03.445Z"
   },
   {
    "duration": 9,
    "start_time": "2024-06-08T09:45:03.487Z"
   },
   {
    "duration": 33,
    "start_time": "2024-06-08T09:45:03.499Z"
   },
   {
    "duration": 46,
    "start_time": "2024-06-08T10:36:31.077Z"
   },
   {
    "duration": 23,
    "start_time": "2024-06-08T10:47:08.079Z"
   },
   {
    "duration": 12,
    "start_time": "2024-06-08T10:49:37.694Z"
   },
   {
    "duration": 16,
    "start_time": "2024-06-08T10:50:06.692Z"
   },
   {
    "duration": 18,
    "start_time": "2024-06-08T10:51:42.229Z"
   },
   {
    "duration": 73,
    "start_time": "2024-06-08T10:55:14.235Z"
   },
   {
    "duration": 6,
    "start_time": "2024-06-08T10:56:04.316Z"
   },
   {
    "duration": 5,
    "start_time": "2024-06-08T11:05:07.519Z"
   },
   {
    "duration": 6,
    "start_time": "2024-06-08T11:09:17.507Z"
   },
   {
    "duration": 7,
    "start_time": "2024-06-08T11:09:35.106Z"
   },
   {
    "duration": 5,
    "start_time": "2024-06-08T11:09:48.759Z"
   },
   {
    "duration": 9,
    "start_time": "2024-06-08T11:10:18.142Z"
   },
   {
    "duration": 6,
    "start_time": "2024-06-08T11:10:27.345Z"
   },
   {
    "duration": 5,
    "start_time": "2024-06-08T11:10:34.846Z"
   },
   {
    "duration": 29,
    "start_time": "2024-06-08T11:28:15.585Z"
   },
   {
    "duration": 12,
    "start_time": "2024-06-08T11:42:35.333Z"
   },
   {
    "duration": 5,
    "start_time": "2024-06-08T11:43:14.105Z"
   },
   {
    "duration": 18,
    "start_time": "2024-06-08T11:43:46.466Z"
   },
   {
    "duration": 13,
    "start_time": "2024-06-08T11:45:54.728Z"
   },
   {
    "duration": 5,
    "start_time": "2024-06-08T11:45:55.609Z"
   },
   {
    "duration": 17,
    "start_time": "2024-06-08T11:45:56.653Z"
   },
   {
    "duration": 92,
    "start_time": "2024-06-08T11:48:59.058Z"
   },
   {
    "duration": 70,
    "start_time": "2024-06-08T11:50:08.244Z"
   },
   {
    "duration": 13,
    "start_time": "2024-06-08T11:50:14.663Z"
   },
   {
    "duration": 5,
    "start_time": "2024-06-08T11:50:17.988Z"
   },
   {
    "duration": 22,
    "start_time": "2024-06-08T11:50:20.194Z"
   },
   {
    "duration": 15,
    "start_time": "2024-06-08T12:10:03.616Z"
   },
   {
    "duration": 60,
    "start_time": "2024-06-08T12:50:21.873Z"
   },
   {
    "duration": 72,
    "start_time": "2024-06-08T12:53:33.270Z"
   },
   {
    "duration": 14,
    "start_time": "2024-06-08T12:53:44.407Z"
   },
   {
    "duration": 447,
    "start_time": "2024-06-08T12:54:19.529Z"
   },
   {
    "duration": 138,
    "start_time": "2024-06-08T12:54:19.979Z"
   },
   {
    "duration": 18,
    "start_time": "2024-06-08T12:54:20.118Z"
   },
   {
    "duration": 24,
    "start_time": "2024-06-08T12:54:20.138Z"
   },
   {
    "duration": 14,
    "start_time": "2024-06-08T12:54:20.165Z"
   },
   {
    "duration": 18,
    "start_time": "2024-06-08T12:54:20.192Z"
   },
   {
    "duration": 7,
    "start_time": "2024-06-08T12:54:20.212Z"
   },
   {
    "duration": 9,
    "start_time": "2024-06-08T12:54:20.221Z"
   },
   {
    "duration": 37,
    "start_time": "2024-06-08T12:54:20.232Z"
   },
   {
    "duration": 20,
    "start_time": "2024-06-08T12:54:20.293Z"
   },
   {
    "duration": 9,
    "start_time": "2024-06-08T12:54:20.315Z"
   },
   {
    "duration": 21,
    "start_time": "2024-06-08T12:54:20.326Z"
   },
   {
    "duration": 63,
    "start_time": "2024-06-08T12:54:20.349Z"
   },
   {
    "duration": 23,
    "start_time": "2024-06-08T12:54:20.414Z"
   },
   {
    "duration": 17,
    "start_time": "2024-06-08T12:54:20.439Z"
   },
   {
    "duration": 69,
    "start_time": "2024-06-08T12:54:20.458Z"
   },
   {
    "duration": 8,
    "start_time": "2024-06-08T12:54:20.528Z"
   },
   {
    "duration": 62,
    "start_time": "2024-06-08T12:54:20.538Z"
   },
   {
    "duration": 15,
    "start_time": "2024-06-08T12:54:20.602Z"
   },
   {
    "duration": 5,
    "start_time": "2024-06-08T12:54:20.619Z"
   },
   {
    "duration": 17,
    "start_time": "2024-06-08T12:54:20.626Z"
   },
   {
    "duration": 86,
    "start_time": "2024-06-08T13:06:50.089Z"
   },
   {
    "duration": 5,
    "start_time": "2024-06-08T13:10:33.814Z"
   },
   {
    "duration": 6,
    "start_time": "2024-06-08T13:11:08.440Z"
   },
   {
    "duration": 5,
    "start_time": "2024-06-08T13:12:14.481Z"
   },
   {
    "duration": 8,
    "start_time": "2024-06-08T13:12:49.456Z"
   },
   {
    "duration": 7,
    "start_time": "2024-06-08T13:14:10.024Z"
   },
   {
    "duration": 5,
    "start_time": "2024-06-08T13:14:13.733Z"
   },
   {
    "duration": 29,
    "start_time": "2024-06-08T13:27:08.203Z"
   },
   {
    "duration": 973,
    "start_time": "2024-06-08T13:47:20.153Z"
   },
   {
    "duration": 56,
    "start_time": "2024-06-08T13:49:10.948Z"
   },
   {
    "duration": 5,
    "start_time": "2024-06-08T13:52:20.466Z"
   },
   {
    "duration": 5,
    "start_time": "2024-06-08T13:53:01.430Z"
   },
   {
    "duration": 3,
    "start_time": "2024-06-08T14:22:54.844Z"
   },
   {
    "duration": 3,
    "start_time": "2024-06-08T14:23:20.737Z"
   },
   {
    "duration": 18,
    "start_time": "2024-06-08T14:24:45.986Z"
   },
   {
    "duration": 21,
    "start_time": "2024-06-08T14:25:03.532Z"
   },
   {
    "duration": 396,
    "start_time": "2024-06-08T14:25:22.932Z"
   },
   {
    "duration": 134,
    "start_time": "2024-06-08T14:25:23.330Z"
   },
   {
    "duration": 16,
    "start_time": "2024-06-08T14:25:23.465Z"
   },
   {
    "duration": 36,
    "start_time": "2024-06-08T14:25:23.483Z"
   },
   {
    "duration": 41,
    "start_time": "2024-06-08T14:25:23.521Z"
   },
   {
    "duration": 24,
    "start_time": "2024-06-08T14:25:23.564Z"
   },
   {
    "duration": 26,
    "start_time": "2024-06-08T14:25:23.590Z"
   },
   {
    "duration": 21,
    "start_time": "2024-06-08T14:25:23.617Z"
   },
   {
    "duration": 61,
    "start_time": "2024-06-08T14:25:23.640Z"
   },
   {
    "duration": 19,
    "start_time": "2024-06-08T14:25:23.713Z"
   },
   {
    "duration": 8,
    "start_time": "2024-06-08T14:25:23.734Z"
   },
   {
    "duration": 19,
    "start_time": "2024-06-08T14:25:23.744Z"
   },
   {
    "duration": 70,
    "start_time": "2024-06-08T14:25:23.764Z"
   },
   {
    "duration": 17,
    "start_time": "2024-06-08T14:25:23.835Z"
   },
   {
    "duration": 49,
    "start_time": "2024-06-08T14:25:23.854Z"
   },
   {
    "duration": 43,
    "start_time": "2024-06-08T14:25:23.906Z"
   },
   {
    "duration": 6,
    "start_time": "2024-06-08T14:25:23.950Z"
   },
   {
    "duration": 60,
    "start_time": "2024-06-08T14:25:23.957Z"
   },
   {
    "duration": 14,
    "start_time": "2024-06-08T14:25:24.019Z"
   },
   {
    "duration": 8,
    "start_time": "2024-06-08T14:25:24.040Z"
   },
   {
    "duration": 48,
    "start_time": "2024-06-08T14:25:24.050Z"
   },
   {
    "duration": 114,
    "start_time": "2024-06-08T14:25:24.100Z"
   },
   {
    "duration": 5,
    "start_time": "2024-06-08T14:25:24.216Z"
   },
   {
    "duration": 6,
    "start_time": "2024-06-08T14:25:24.223Z"
   },
   {
    "duration": 14,
    "start_time": "2024-06-08T14:25:24.231Z"
   },
   {
    "duration": 16,
    "start_time": "2024-06-08T14:25:24.247Z"
   },
   {
    "duration": 36,
    "start_time": "2024-06-08T14:25:24.266Z"
   },
   {
    "duration": 26,
    "start_time": "2024-06-08T14:25:24.307Z"
   },
   {
    "duration": 701,
    "start_time": "2024-06-08T14:25:24.335Z"
   },
   {
    "duration": 29,
    "start_time": "2024-06-08T14:25:25.037Z"
   },
   {
    "duration": 4,
    "start_time": "2024-06-08T14:25:25.068Z"
   },
   {
    "duration": 28,
    "start_time": "2024-06-08T14:25:25.074Z"
   },
   {
    "duration": 35,
    "start_time": "2024-06-08T14:25:25.104Z"
   },
   {
    "duration": 39,
    "start_time": "2024-06-08T14:25:25.141Z"
   },
   {
    "duration": 26,
    "start_time": "2024-06-08T14:25:25.182Z"
   },
   {
    "duration": 64,
    "start_time": "2024-06-08T14:27:39.777Z"
   },
   {
    "duration": 489,
    "start_time": "2024-06-08T14:28:04.249Z"
   },
   {
    "duration": 420,
    "start_time": "2024-06-08T14:28:50.039Z"
   },
   {
    "duration": 138,
    "start_time": "2024-06-08T14:28:50.461Z"
   },
   {
    "duration": 17,
    "start_time": "2024-06-08T14:28:50.601Z"
   },
   {
    "duration": 24,
    "start_time": "2024-06-08T14:28:50.621Z"
   },
   {
    "duration": 14,
    "start_time": "2024-06-08T14:28:50.647Z"
   },
   {
    "duration": 32,
    "start_time": "2024-06-08T14:28:50.663Z"
   },
   {
    "duration": 16,
    "start_time": "2024-06-08T14:28:50.697Z"
   },
   {
    "duration": 21,
    "start_time": "2024-06-08T14:28:50.715Z"
   },
   {
    "duration": 34,
    "start_time": "2024-06-08T14:28:50.737Z"
   },
   {
    "duration": 16,
    "start_time": "2024-06-08T14:28:50.775Z"
   },
   {
    "duration": 22,
    "start_time": "2024-06-08T14:28:50.793Z"
   },
   {
    "duration": 14,
    "start_time": "2024-06-08T14:28:50.817Z"
   },
   {
    "duration": 47,
    "start_time": "2024-06-08T14:28:50.833Z"
   },
   {
    "duration": 16,
    "start_time": "2024-06-08T14:28:50.881Z"
   },
   {
    "duration": 12,
    "start_time": "2024-06-08T14:28:50.899Z"
   },
   {
    "duration": 32,
    "start_time": "2024-06-08T14:28:50.913Z"
   },
   {
    "duration": 19,
    "start_time": "2024-06-08T14:28:50.947Z"
   },
   {
    "duration": 43,
    "start_time": "2024-06-08T14:28:50.968Z"
   },
   {
    "duration": 13,
    "start_time": "2024-06-08T14:28:51.013Z"
   },
   {
    "duration": 34,
    "start_time": "2024-06-08T14:28:51.027Z"
   },
   {
    "duration": 39,
    "start_time": "2024-06-08T14:28:51.062Z"
   },
   {
    "duration": 79,
    "start_time": "2024-06-08T14:28:51.103Z"
   },
   {
    "duration": 5,
    "start_time": "2024-06-08T14:28:51.192Z"
   },
   {
    "duration": 10,
    "start_time": "2024-06-08T14:28:51.198Z"
   },
   {
    "duration": 8,
    "start_time": "2024-06-08T14:28:51.210Z"
   },
   {
    "duration": 20,
    "start_time": "2024-06-08T14:28:51.220Z"
   },
   {
    "duration": 38,
    "start_time": "2024-06-08T14:28:51.242Z"
   },
   {
    "duration": 43,
    "start_time": "2024-06-08T14:28:51.282Z"
   },
   {
    "duration": 696,
    "start_time": "2024-06-08T14:28:51.327Z"
   },
   {
    "duration": 43,
    "start_time": "2024-06-08T14:28:52.025Z"
   },
   {
    "duration": 22,
    "start_time": "2024-06-08T14:28:52.071Z"
   },
   {
    "duration": 6,
    "start_time": "2024-06-08T14:28:52.094Z"
   },
   {
    "duration": 13,
    "start_time": "2024-06-08T14:28:52.101Z"
   },
   {
    "duration": 35,
    "start_time": "2024-06-08T14:28:52.116Z"
   },
   {
    "duration": 14,
    "start_time": "2024-06-08T14:28:52.153Z"
   },
   {
    "duration": 94,
    "start_time": "2024-06-08T14:53:07.780Z"
   },
   {
    "duration": 11,
    "start_time": "2024-06-08T14:57:21.315Z"
   },
   {
    "duration": 12,
    "start_time": "2024-06-08T14:59:31.308Z"
   },
   {
    "duration": 11,
    "start_time": "2024-06-08T14:59:39.904Z"
   },
   {
    "duration": 23,
    "start_time": "2024-06-08T15:00:07.308Z"
   },
   {
    "duration": 30,
    "start_time": "2024-06-08T15:05:36.878Z"
   },
   {
    "duration": 7,
    "start_time": "2024-06-08T15:07:36.377Z"
   },
   {
    "duration": 90,
    "start_time": "2024-06-08T15:18:11.104Z"
   },
   {
    "duration": 7,
    "start_time": "2024-06-08T15:18:19.883Z"
   },
   {
    "duration": 143,
    "start_time": "2024-06-08T15:18:50.869Z"
   },
   {
    "duration": 212,
    "start_time": "2024-06-08T15:19:21.771Z"
   },
   {
    "duration": 136,
    "start_time": "2024-06-08T15:19:28.208Z"
   },
   {
    "duration": 135,
    "start_time": "2024-06-08T15:19:51.250Z"
   },
   {
    "duration": 167,
    "start_time": "2024-06-08T15:20:59.992Z"
   },
   {
    "duration": 13,
    "start_time": "2024-06-08T15:24:50.851Z"
   },
   {
    "duration": 155,
    "start_time": "2024-06-08T15:25:29.162Z"
   },
   {
    "duration": 27,
    "start_time": "2024-06-08T15:26:41.406Z"
   },
   {
    "duration": 176,
    "start_time": "2024-06-08T15:28:13.705Z"
   },
   {
    "duration": 181,
    "start_time": "2024-06-08T15:28:43.637Z"
   },
   {
    "duration": 173,
    "start_time": "2024-06-08T15:28:55.037Z"
   },
   {
    "duration": 175,
    "start_time": "2024-06-08T15:29:01.352Z"
   },
   {
    "duration": 8,
    "start_time": "2024-06-08T15:29:41.079Z"
   },
   {
    "duration": 176,
    "start_time": "2024-06-08T15:30:02.579Z"
   },
   {
    "duration": 69,
    "start_time": "2024-06-08T15:31:31.297Z"
   },
   {
    "duration": 8,
    "start_time": "2024-06-08T15:31:41.955Z"
   },
   {
    "duration": 182,
    "start_time": "2024-06-08T15:31:53.369Z"
   },
   {
    "duration": 243,
    "start_time": "2024-06-08T15:32:54.108Z"
   },
   {
    "duration": 170,
    "start_time": "2024-06-08T15:34:15.199Z"
   },
   {
    "duration": 134,
    "start_time": "2024-06-08T15:40:56.860Z"
   },
   {
    "duration": 181,
    "start_time": "2024-06-08T15:41:22.674Z"
   },
   {
    "duration": 7,
    "start_time": "2024-06-08T15:42:00.582Z"
   },
   {
    "duration": 166,
    "start_time": "2024-06-08T15:42:05.084Z"
   },
   {
    "duration": 183,
    "start_time": "2024-06-08T15:42:19.650Z"
   },
   {
    "duration": 6,
    "start_time": "2024-06-08T15:46:35.209Z"
   },
   {
    "duration": 168,
    "start_time": "2024-06-08T15:46:46.154Z"
   },
   {
    "duration": 168,
    "start_time": "2024-06-08T15:50:50.768Z"
   },
   {
    "duration": 993,
    "start_time": "2024-06-08T15:51:16.260Z"
   },
   {
    "duration": 16,
    "start_time": "2024-06-08T15:51:37.356Z"
   },
   {
    "duration": 176,
    "start_time": "2024-06-08T15:52:00.116Z"
   },
   {
    "duration": 13,
    "start_time": "2024-06-08T15:52:56.697Z"
   },
   {
    "duration": 172,
    "start_time": "2024-06-08T15:53:05.024Z"
   },
   {
    "duration": 174,
    "start_time": "2024-06-08T16:00:28.708Z"
   },
   {
    "duration": 405,
    "start_time": "2024-06-08T16:05:18.921Z"
   },
   {
    "duration": 140,
    "start_time": "2024-06-08T16:05:19.328Z"
   },
   {
    "duration": 16,
    "start_time": "2024-06-08T16:05:19.470Z"
   },
   {
    "duration": 43,
    "start_time": "2024-06-08T16:05:19.488Z"
   },
   {
    "duration": 19,
    "start_time": "2024-06-08T16:05:19.532Z"
   },
   {
    "duration": 17,
    "start_time": "2024-06-08T16:05:19.553Z"
   },
   {
    "duration": 6,
    "start_time": "2024-06-08T16:05:19.572Z"
   },
   {
    "duration": 26,
    "start_time": "2024-06-08T16:05:19.580Z"
   },
   {
    "duration": 47,
    "start_time": "2024-06-08T16:05:19.608Z"
   },
   {
    "duration": 18,
    "start_time": "2024-06-08T16:05:19.660Z"
   },
   {
    "duration": 7,
    "start_time": "2024-06-08T16:05:19.680Z"
   },
   {
    "duration": 31,
    "start_time": "2024-06-08T16:05:19.688Z"
   },
   {
    "duration": 40,
    "start_time": "2024-06-08T16:05:19.721Z"
   },
   {
    "duration": 30,
    "start_time": "2024-06-08T16:05:19.763Z"
   },
   {
    "duration": 17,
    "start_time": "2024-06-08T16:05:19.794Z"
   },
   {
    "duration": 50,
    "start_time": "2024-06-08T16:05:19.813Z"
   },
   {
    "duration": 8,
    "start_time": "2024-06-08T16:05:19.865Z"
   },
   {
    "duration": 48,
    "start_time": "2024-06-08T16:05:19.874Z"
   },
   {
    "duration": 13,
    "start_time": "2024-06-08T16:05:19.924Z"
   },
   {
    "duration": 5,
    "start_time": "2024-06-08T16:05:19.939Z"
   },
   {
    "duration": 23,
    "start_time": "2024-06-08T16:05:19.945Z"
   },
   {
    "duration": 101,
    "start_time": "2024-06-08T16:05:19.970Z"
   },
   {
    "duration": 20,
    "start_time": "2024-06-08T16:05:20.073Z"
   },
   {
    "duration": 6,
    "start_time": "2024-06-08T16:05:20.095Z"
   },
   {
    "duration": 11,
    "start_time": "2024-06-08T16:05:20.103Z"
   },
   {
    "duration": 19,
    "start_time": "2024-06-08T16:05:20.116Z"
   },
   {
    "duration": 14,
    "start_time": "2024-06-08T16:05:20.137Z"
   },
   {
    "duration": 58,
    "start_time": "2024-06-08T16:05:20.155Z"
   },
   {
    "duration": 737,
    "start_time": "2024-06-08T16:05:20.215Z"
   },
   {
    "duration": 43,
    "start_time": "2024-06-08T16:05:20.954Z"
   },
   {
    "duration": 4,
    "start_time": "2024-06-08T16:05:20.998Z"
   },
   {
    "duration": 11,
    "start_time": "2024-06-08T16:05:21.004Z"
   },
   {
    "duration": 40,
    "start_time": "2024-06-08T16:05:21.016Z"
   },
   {
    "duration": 42,
    "start_time": "2024-06-08T16:05:21.058Z"
   },
   {
    "duration": 8,
    "start_time": "2024-06-08T16:05:21.102Z"
   },
   {
    "duration": 204,
    "start_time": "2024-06-08T16:05:21.112Z"
   },
   {
    "duration": 394,
    "start_time": "2024-06-09T08:44:56.971Z"
   },
   {
    "duration": 371,
    "start_time": "2024-06-09T08:44:57.367Z"
   },
   {
    "duration": 12,
    "start_time": "2024-06-09T08:44:57.740Z"
   },
   {
    "duration": 13,
    "start_time": "2024-06-09T08:44:57.755Z"
   },
   {
    "duration": 21,
    "start_time": "2024-06-09T08:44:57.770Z"
   },
   {
    "duration": 25,
    "start_time": "2024-06-09T08:44:57.793Z"
   },
   {
    "duration": 5,
    "start_time": "2024-06-09T08:44:57.820Z"
   },
   {
    "duration": 22,
    "start_time": "2024-06-09T08:44:57.826Z"
   },
   {
    "duration": 22,
    "start_time": "2024-06-09T08:44:57.849Z"
   },
   {
    "duration": 11,
    "start_time": "2024-06-09T08:44:57.874Z"
   },
   {
    "duration": 7,
    "start_time": "2024-06-09T08:44:57.886Z"
   },
   {
    "duration": 30,
    "start_time": "2024-06-09T08:44:57.894Z"
   },
   {
    "duration": 29,
    "start_time": "2024-06-09T08:44:57.926Z"
   },
   {
    "duration": 12,
    "start_time": "2024-06-09T08:44:57.957Z"
   },
   {
    "duration": 7,
    "start_time": "2024-06-09T08:44:57.971Z"
   },
   {
    "duration": 54,
    "start_time": "2024-06-09T08:44:57.979Z"
   },
   {
    "duration": 5,
    "start_time": "2024-06-09T08:44:58.034Z"
   },
   {
    "duration": 26,
    "start_time": "2024-06-09T08:44:58.040Z"
   },
   {
    "duration": 10,
    "start_time": "2024-06-09T08:44:58.067Z"
   },
   {
    "duration": 5,
    "start_time": "2024-06-09T08:44:58.078Z"
   },
   {
    "duration": 45,
    "start_time": "2024-06-09T08:44:58.084Z"
   },
   {
    "duration": 58,
    "start_time": "2024-06-09T08:44:58.130Z"
   },
   {
    "duration": 3,
    "start_time": "2024-06-09T08:44:58.189Z"
   },
   {
    "duration": 28,
    "start_time": "2024-06-09T08:44:58.193Z"
   },
   {
    "duration": 3,
    "start_time": "2024-06-09T08:44:58.222Z"
   },
   {
    "duration": 13,
    "start_time": "2024-06-09T08:44:58.226Z"
   },
   {
    "duration": 4,
    "start_time": "2024-06-09T08:44:58.240Z"
   },
   {
    "duration": 21,
    "start_time": "2024-06-09T08:44:58.247Z"
   },
   {
    "duration": 787,
    "start_time": "2024-06-09T08:44:58.269Z"
   },
   {
    "duration": 23,
    "start_time": "2024-06-09T08:44:59.058Z"
   },
   {
    "duration": 6,
    "start_time": "2024-06-09T08:44:59.082Z"
   },
   {
    "duration": 9,
    "start_time": "2024-06-09T08:44:59.089Z"
   },
   {
    "duration": 26,
    "start_time": "2024-06-09T08:44:59.099Z"
   },
   {
    "duration": 31,
    "start_time": "2024-06-09T08:44:59.127Z"
   },
   {
    "duration": 3,
    "start_time": "2024-06-09T08:44:59.160Z"
   },
   {
    "duration": 148,
    "start_time": "2024-06-09T08:44:59.164Z"
   },
   {
    "duration": 2,
    "start_time": "2024-06-09T08:52:44.447Z"
   },
   {
    "duration": 594,
    "start_time": "2024-06-09T08:52:50.105Z"
   },
   {
    "duration": 117,
    "start_time": "2024-06-09T08:52:50.701Z"
   },
   {
    "duration": 10,
    "start_time": "2024-06-09T08:52:50.819Z"
   },
   {
    "duration": 17,
    "start_time": "2024-06-09T08:52:50.830Z"
   },
   {
    "duration": 16,
    "start_time": "2024-06-09T08:52:50.848Z"
   },
   {
    "duration": 11,
    "start_time": "2024-06-09T08:52:50.865Z"
   },
   {
    "duration": 5,
    "start_time": "2024-06-09T08:52:50.877Z"
   },
   {
    "duration": 5,
    "start_time": "2024-06-09T08:52:50.883Z"
   },
   {
    "duration": 27,
    "start_time": "2024-06-09T08:52:50.889Z"
   },
   {
    "duration": 12,
    "start_time": "2024-06-09T08:52:50.918Z"
   },
   {
    "duration": 20,
    "start_time": "2024-06-09T08:52:50.931Z"
   },
   {
    "duration": 25,
    "start_time": "2024-06-09T08:52:50.952Z"
   },
   {
    "duration": 35,
    "start_time": "2024-06-09T08:52:50.978Z"
   },
   {
    "duration": 16,
    "start_time": "2024-06-09T08:52:51.015Z"
   },
   {
    "duration": 21,
    "start_time": "2024-06-09T08:52:51.032Z"
   },
   {
    "duration": 22,
    "start_time": "2024-06-09T08:52:51.054Z"
   },
   {
    "duration": 5,
    "start_time": "2024-06-09T08:52:51.077Z"
   },
   {
    "duration": 50,
    "start_time": "2024-06-09T08:52:51.083Z"
   },
   {
    "duration": 9,
    "start_time": "2024-06-09T08:52:51.135Z"
   },
   {
    "duration": 20,
    "start_time": "2024-06-09T08:52:51.145Z"
   },
   {
    "duration": 38,
    "start_time": "2024-06-09T08:52:51.167Z"
   },
   {
    "duration": 122,
    "start_time": "2024-06-09T08:52:51.207Z"
   },
   {
    "duration": 3,
    "start_time": "2024-06-09T08:52:51.331Z"
   },
   {
    "duration": 16,
    "start_time": "2024-06-09T08:52:51.335Z"
   },
   {
    "duration": 5,
    "start_time": "2024-06-09T08:52:51.353Z"
   },
   {
    "duration": 31,
    "start_time": "2024-06-09T08:52:51.360Z"
   },
   {
    "duration": 11,
    "start_time": "2024-06-09T08:52:51.393Z"
   },
   {
    "duration": 34,
    "start_time": "2024-06-09T08:52:51.408Z"
   },
   {
    "duration": 419,
    "start_time": "2024-06-09T08:52:51.443Z"
   },
   {
    "duration": 24,
    "start_time": "2024-06-09T08:52:51.863Z"
   },
   {
    "duration": 8,
    "start_time": "2024-06-09T08:52:51.888Z"
   },
   {
    "duration": 9,
    "start_time": "2024-06-09T08:52:51.898Z"
   },
   {
    "duration": 21,
    "start_time": "2024-06-09T08:52:51.908Z"
   },
   {
    "duration": 15,
    "start_time": "2024-06-09T08:52:51.930Z"
   },
   {
    "duration": 4,
    "start_time": "2024-06-09T08:52:51.947Z"
   },
   {
    "duration": 162,
    "start_time": "2024-06-09T08:52:51.952Z"
   },
   {
    "duration": 308,
    "start_time": "2024-06-09T09:02:32.867Z"
   },
   {
    "duration": 235,
    "start_time": "2024-06-09T09:03:00.886Z"
   },
   {
    "duration": 212,
    "start_time": "2024-06-09T09:03:28.597Z"
   },
   {
    "duration": 211,
    "start_time": "2024-06-09T09:07:25.465Z"
   },
   {
    "duration": 239,
    "start_time": "2024-06-09T09:14:04.343Z"
   },
   {
    "duration": 241,
    "start_time": "2024-06-09T09:14:41.559Z"
   },
   {
    "duration": 219,
    "start_time": "2024-06-09T09:14:58.792Z"
   },
   {
    "duration": 232,
    "start_time": "2024-06-09T09:17:43.268Z"
   },
   {
    "duration": 306,
    "start_time": "2024-06-09T09:20:42.765Z"
   },
   {
    "duration": 359,
    "start_time": "2024-06-09T09:21:39.140Z"
   },
   {
    "duration": 318,
    "start_time": "2024-06-09T09:22:32.025Z"
   },
   {
    "duration": 299,
    "start_time": "2024-06-09T09:22:58.729Z"
   },
   {
    "duration": 335,
    "start_time": "2024-06-09T09:25:52.442Z"
   },
   {
    "duration": 308,
    "start_time": "2024-06-09T09:26:31.239Z"
   },
   {
    "duration": 329,
    "start_time": "2024-06-09T09:27:00.424Z"
   },
   {
    "duration": 359,
    "start_time": "2024-06-09T09:27:08.522Z"
   },
   {
    "duration": 309,
    "start_time": "2024-06-09T09:27:18.796Z"
   },
   {
    "duration": 321,
    "start_time": "2024-06-09T09:29:10.663Z"
   },
   {
    "duration": 315,
    "start_time": "2024-06-09T09:29:27.913Z"
   },
   {
    "duration": 320,
    "start_time": "2024-06-09T09:30:23.779Z"
   },
   {
    "duration": 400,
    "start_time": "2024-06-09T09:31:17.763Z"
   },
   {
    "duration": 234,
    "start_time": "2024-06-09T09:31:52.524Z"
   },
   {
    "duration": 8,
    "start_time": "2024-06-09T09:37:54.228Z"
   },
   {
    "duration": 8,
    "start_time": "2024-06-09T09:38:18.754Z"
   },
   {
    "duration": 224,
    "start_time": "2024-06-09T09:41:17.412Z"
   },
   {
    "duration": 128,
    "start_time": "2024-06-09T09:42:06.444Z"
   },
   {
    "duration": 116,
    "start_time": "2024-06-09T09:42:48.808Z"
   },
   {
    "duration": 879,
    "start_time": "2024-06-09T09:43:53.628Z"
   },
   {
    "duration": 126,
    "start_time": "2024-06-09T09:44:06.140Z"
   },
   {
    "duration": 874,
    "start_time": "2024-06-09T09:44:48.289Z"
   },
   {
    "duration": 111,
    "start_time": "2024-06-09T09:44:55.454Z"
   },
   {
    "duration": 119,
    "start_time": "2024-06-09T09:45:58.584Z"
   },
   {
    "duration": 120,
    "start_time": "2024-06-09T09:46:48.952Z"
   },
   {
    "duration": 119,
    "start_time": "2024-06-09T09:53:53.730Z"
   },
   {
    "duration": 6,
    "start_time": "2024-06-09T10:07:35.863Z"
   },
   {
    "duration": 10,
    "start_time": "2024-06-09T10:08:04.706Z"
   },
   {
    "duration": 17,
    "start_time": "2024-06-09T10:08:41.620Z"
   },
   {
    "duration": 67,
    "start_time": "2024-06-09T10:12:52.033Z"
   },
   {
    "duration": 19,
    "start_time": "2024-06-09T10:13:07.662Z"
   },
   {
    "duration": 18,
    "start_time": "2024-06-09T10:14:51.306Z"
   },
   {
    "duration": 111,
    "start_time": "2024-06-09T10:16:54.584Z"
   },
   {
    "duration": 205,
    "start_time": "2024-06-09T10:18:14.816Z"
   },
   {
    "duration": 143,
    "start_time": "2024-06-09T10:21:47.181Z"
   },
   {
    "duration": 143,
    "start_time": "2024-06-09T10:22:09.849Z"
   },
   {
    "duration": 148,
    "start_time": "2024-06-09T10:22:20.492Z"
   },
   {
    "duration": 28,
    "start_time": "2024-06-09T10:25:04.372Z"
   },
   {
    "duration": 20,
    "start_time": "2024-06-09T10:25:43.585Z"
   },
   {
    "duration": 21,
    "start_time": "2024-06-09T10:26:05.786Z"
   },
   {
    "duration": 23,
    "start_time": "2024-06-09T10:26:35.616Z"
   },
   {
    "duration": 20,
    "start_time": "2024-06-09T10:27:31.236Z"
   },
   {
    "duration": 145,
    "start_time": "2024-06-09T10:28:29.214Z"
   },
   {
    "duration": 147,
    "start_time": "2024-06-09T10:28:55.028Z"
   },
   {
    "duration": 165,
    "start_time": "2024-06-09T10:30:22.556Z"
   },
   {
    "duration": 680,
    "start_time": "2024-06-09T10:31:15.653Z"
   },
   {
    "duration": 644,
    "start_time": "2024-06-09T10:31:33.112Z"
   },
   {
    "duration": 157,
    "start_time": "2024-06-09T10:32:01.618Z"
   },
   {
    "duration": 150,
    "start_time": "2024-06-09T10:32:11.653Z"
   },
   {
    "duration": 27,
    "start_time": "2024-06-09T10:32:25.115Z"
   },
   {
    "duration": 156,
    "start_time": "2024-06-09T10:32:40.312Z"
   },
   {
    "duration": 165,
    "start_time": "2024-06-09T10:33:14.629Z"
   },
   {
    "duration": 142,
    "start_time": "2024-06-09T10:37:19.075Z"
   },
   {
    "duration": 212,
    "start_time": "2024-06-09T10:37:38.553Z"
   },
   {
    "duration": 542,
    "start_time": "2024-06-09T10:46:02.657Z"
   },
   {
    "duration": 115,
    "start_time": "2024-06-09T10:46:03.201Z"
   },
   {
    "duration": 10,
    "start_time": "2024-06-09T10:46:03.317Z"
   },
   {
    "duration": 21,
    "start_time": "2024-06-09T10:46:03.328Z"
   },
   {
    "duration": 30,
    "start_time": "2024-06-09T10:46:03.350Z"
   },
   {
    "duration": 16,
    "start_time": "2024-06-09T10:46:03.382Z"
   },
   {
    "duration": 4,
    "start_time": "2024-06-09T10:46:03.399Z"
   },
   {
    "duration": 6,
    "start_time": "2024-06-09T10:46:03.404Z"
   },
   {
    "duration": 21,
    "start_time": "2024-06-09T10:46:03.411Z"
   },
   {
    "duration": 11,
    "start_time": "2024-06-09T10:46:03.434Z"
   },
   {
    "duration": 6,
    "start_time": "2024-06-09T10:46:03.447Z"
   },
   {
    "duration": 11,
    "start_time": "2024-06-09T10:46:03.454Z"
   },
   {
    "duration": 28,
    "start_time": "2024-06-09T10:46:03.466Z"
   },
   {
    "duration": 33,
    "start_time": "2024-06-09T10:46:03.496Z"
   },
   {
    "duration": 7,
    "start_time": "2024-06-09T10:46:03.530Z"
   },
   {
    "duration": 21,
    "start_time": "2024-06-09T10:46:03.538Z"
   },
   {
    "duration": 5,
    "start_time": "2024-06-09T10:46:03.560Z"
   },
   {
    "duration": 25,
    "start_time": "2024-06-09T10:46:03.566Z"
   },
   {
    "duration": 31,
    "start_time": "2024-06-09T10:46:03.592Z"
   },
   {
    "duration": 4,
    "start_time": "2024-06-09T10:46:03.625Z"
   },
   {
    "duration": 11,
    "start_time": "2024-06-09T10:46:03.630Z"
   },
   {
    "duration": 55,
    "start_time": "2024-06-09T10:46:03.642Z"
   },
   {
    "duration": 22,
    "start_time": "2024-06-09T10:46:03.699Z"
   },
   {
    "duration": 3,
    "start_time": "2024-06-09T10:46:03.722Z"
   },
   {
    "duration": 15,
    "start_time": "2024-06-09T10:46:03.726Z"
   },
   {
    "duration": 8,
    "start_time": "2024-06-09T10:46:03.742Z"
   },
   {
    "duration": 5,
    "start_time": "2024-06-09T10:46:03.751Z"
   },
   {
    "duration": 19,
    "start_time": "2024-06-09T10:46:03.759Z"
   },
   {
    "duration": 361,
    "start_time": "2024-06-09T10:46:03.779Z"
   },
   {
    "duration": 22,
    "start_time": "2024-06-09T10:46:04.141Z"
   },
   {
    "duration": 10,
    "start_time": "2024-06-09T10:46:04.165Z"
   },
   {
    "duration": 2,
    "start_time": "2024-06-09T10:46:04.177Z"
   },
   {
    "duration": 10,
    "start_time": "2024-06-09T10:46:04.181Z"
   },
   {
    "duration": 16,
    "start_time": "2024-06-09T10:46:04.192Z"
   },
   {
    "duration": 12,
    "start_time": "2024-06-09T10:46:04.209Z"
   },
   {
    "duration": 249,
    "start_time": "2024-06-09T10:46:04.223Z"
   },
   {
    "duration": 161,
    "start_time": "2024-06-09T10:46:04.473Z"
   },
   {
    "duration": 144,
    "start_time": "2024-06-09T10:46:04.635Z"
   },
   {
    "duration": 134,
    "start_time": "2024-06-09T11:03:33.909Z"
   },
   {
    "duration": 146,
    "start_time": "2024-06-09T11:03:55.226Z"
   },
   {
    "duration": 70,
    "start_time": "2024-06-09T11:04:19.690Z"
   },
   {
    "duration": 151,
    "start_time": "2024-06-09T11:04:41.639Z"
   },
   {
    "duration": 14,
    "start_time": "2024-06-09T11:04:49.054Z"
   },
   {
    "duration": 143,
    "start_time": "2024-06-09T11:05:02.993Z"
   },
   {
    "duration": 154,
    "start_time": "2024-06-09T11:05:08.851Z"
   },
   {
    "duration": 102,
    "start_time": "2024-06-09T11:06:02.859Z"
   },
   {
    "duration": 783,
    "start_time": "2024-06-09T11:06:22.211Z"
   },
   {
    "duration": 809,
    "start_time": "2024-06-09T11:06:56.862Z"
   },
   {
    "duration": 61,
    "start_time": "2024-06-09T11:09:55.226Z"
   },
   {
    "duration": 231,
    "start_time": "2024-06-09T11:10:02.554Z"
   },
   {
    "duration": 158,
    "start_time": "2024-06-09T11:10:31.605Z"
   },
   {
    "duration": 202,
    "start_time": "2024-06-09T11:10:48.266Z"
   },
   {
    "duration": 397,
    "start_time": "2024-06-09T11:12:46.040Z"
   },
   {
    "duration": 212,
    "start_time": "2024-06-09T11:14:07.931Z"
   },
   {
    "duration": 256,
    "start_time": "2024-06-09T11:14:51.335Z"
   },
   {
    "duration": 261,
    "start_time": "2024-06-09T11:15:05.116Z"
   },
   {
    "duration": 250,
    "start_time": "2024-06-09T11:15:15.561Z"
   },
   {
    "duration": 282,
    "start_time": "2024-06-09T11:15:21.927Z"
   },
   {
    "duration": 236,
    "start_time": "2024-06-09T11:15:30.617Z"
   },
   {
    "duration": 228,
    "start_time": "2024-06-09T11:15:55.334Z"
   },
   {
    "duration": 224,
    "start_time": "2024-06-09T11:16:08.862Z"
   },
   {
    "duration": 220,
    "start_time": "2024-06-09T11:16:21.583Z"
   },
   {
    "duration": 112,
    "start_time": "2024-06-09T11:18:07.208Z"
   },
   {
    "duration": 181,
    "start_time": "2024-06-09T11:18:23.230Z"
   },
   {
    "duration": 239,
    "start_time": "2024-06-09T11:18:52.587Z"
   },
   {
    "duration": 164,
    "start_time": "2024-06-09T11:19:25.996Z"
   },
   {
    "duration": 141,
    "start_time": "2024-06-09T11:20:10.914Z"
   },
   {
    "duration": 224,
    "start_time": "2024-06-09T11:20:31.316Z"
   },
   {
    "duration": 157,
    "start_time": "2024-06-09T11:20:59.555Z"
   },
   {
    "duration": 355,
    "start_time": "2024-06-09T11:21:58.973Z"
   },
   {
    "duration": 215,
    "start_time": "2024-06-09T11:22:13.846Z"
   },
   {
    "duration": 288,
    "start_time": "2024-06-09T11:22:34.034Z"
   },
   {
    "duration": 286,
    "start_time": "2024-06-09T11:22:44.406Z"
   },
   {
    "duration": 353,
    "start_time": "2024-06-09T11:22:54.443Z"
   },
   {
    "duration": 311,
    "start_time": "2024-06-09T11:23:08.369Z"
   },
   {
    "duration": 366,
    "start_time": "2024-06-09T11:23:14.174Z"
   },
   {
    "duration": 284,
    "start_time": "2024-06-09T11:23:39.685Z"
   },
   {
    "duration": 215,
    "start_time": "2024-06-09T11:23:51.079Z"
   },
   {
    "duration": 308,
    "start_time": "2024-06-09T11:24:12.662Z"
   },
   {
    "duration": 220,
    "start_time": "2024-06-09T11:24:23.062Z"
   },
   {
    "duration": 279,
    "start_time": "2024-06-09T11:26:31.810Z"
   },
   {
    "duration": 220,
    "start_time": "2024-06-09T11:26:42.253Z"
   },
   {
    "duration": 363,
    "start_time": "2024-06-09T11:26:58.433Z"
   },
   {
    "duration": 279,
    "start_time": "2024-06-09T11:27:08.976Z"
   },
   {
    "duration": 286,
    "start_time": "2024-06-09T11:27:18.344Z"
   },
   {
    "duration": 275,
    "start_time": "2024-06-09T11:27:27.561Z"
   },
   {
    "duration": 216,
    "start_time": "2024-06-09T11:27:35.017Z"
   },
   {
    "duration": 324,
    "start_time": "2024-06-09T11:27:45.737Z"
   },
   {
    "duration": 294,
    "start_time": "2024-06-09T11:27:57.032Z"
   },
   {
    "duration": 374,
    "start_time": "2024-06-09T11:28:24.382Z"
   },
   {
    "duration": 284,
    "start_time": "2024-06-09T11:28:33.916Z"
   },
   {
    "duration": 224,
    "start_time": "2024-06-09T11:28:40.645Z"
   },
   {
    "duration": 607,
    "start_time": "2024-06-09T11:28:52.794Z"
   },
   {
    "duration": 116,
    "start_time": "2024-06-09T11:28:53.402Z"
   },
   {
    "duration": 9,
    "start_time": "2024-06-09T11:28:53.519Z"
   },
   {
    "duration": 13,
    "start_time": "2024-06-09T11:28:53.530Z"
   },
   {
    "duration": 10,
    "start_time": "2024-06-09T11:28:53.544Z"
   },
   {
    "duration": 12,
    "start_time": "2024-06-09T11:28:53.555Z"
   },
   {
    "duration": 4,
    "start_time": "2024-06-09T11:28:53.569Z"
   },
   {
    "duration": 7,
    "start_time": "2024-06-09T11:28:53.574Z"
   },
   {
    "duration": 41,
    "start_time": "2024-06-09T11:28:53.582Z"
   },
   {
    "duration": 12,
    "start_time": "2024-06-09T11:28:53.625Z"
   },
   {
    "duration": 5,
    "start_time": "2024-06-09T11:28:53.639Z"
   },
   {
    "duration": 11,
    "start_time": "2024-06-09T11:28:53.645Z"
   },
   {
    "duration": 30,
    "start_time": "2024-06-09T11:28:53.657Z"
   },
   {
    "duration": 33,
    "start_time": "2024-06-09T11:28:53.688Z"
   },
   {
    "duration": 7,
    "start_time": "2024-06-09T11:28:53.722Z"
   },
   {
    "duration": 22,
    "start_time": "2024-06-09T11:28:53.730Z"
   },
   {
    "duration": 5,
    "start_time": "2024-06-09T11:28:53.753Z"
   },
   {
    "duration": 30,
    "start_time": "2024-06-09T11:28:53.759Z"
   },
   {
    "duration": 30,
    "start_time": "2024-06-09T11:28:53.790Z"
   },
   {
    "duration": 5,
    "start_time": "2024-06-09T11:28:53.821Z"
   },
   {
    "duration": 11,
    "start_time": "2024-06-09T11:28:53.827Z"
   },
   {
    "duration": 59,
    "start_time": "2024-06-09T11:28:53.840Z"
   },
   {
    "duration": 21,
    "start_time": "2024-06-09T11:28:53.901Z"
   },
   {
    "duration": 4,
    "start_time": "2024-06-09T11:28:53.923Z"
   },
   {
    "duration": 5,
    "start_time": "2024-06-09T11:28:53.928Z"
   },
   {
    "duration": 6,
    "start_time": "2024-06-09T11:28:53.934Z"
   },
   {
    "duration": 4,
    "start_time": "2024-06-09T11:28:53.942Z"
   },
   {
    "duration": 21,
    "start_time": "2024-06-09T11:28:53.948Z"
   },
   {
    "duration": 414,
    "start_time": "2024-06-09T11:28:53.971Z"
   },
   {
    "duration": 23,
    "start_time": "2024-06-09T11:28:54.386Z"
   },
   {
    "duration": 13,
    "start_time": "2024-06-09T11:28:54.410Z"
   },
   {
    "duration": 3,
    "start_time": "2024-06-09T11:28:54.425Z"
   },
   {
    "duration": 11,
    "start_time": "2024-06-09T11:28:54.429Z"
   },
   {
    "duration": 16,
    "start_time": "2024-06-09T11:28:54.441Z"
   },
   {
    "duration": 3,
    "start_time": "2024-06-09T11:28:54.459Z"
   },
   {
    "duration": 243,
    "start_time": "2024-06-09T11:28:54.463Z"
   },
   {
    "duration": 173,
    "start_time": "2024-06-09T11:28:54.708Z"
   },
   {
    "duration": 173,
    "start_time": "2024-06-09T11:28:54.882Z"
   },
   {
    "duration": 249,
    "start_time": "2024-06-09T11:28:55.056Z"
   },
   {
    "duration": 229,
    "start_time": "2024-06-09T12:23:04.323Z"
   },
   {
    "duration": 134,
    "start_time": "2024-06-09T12:24:16.675Z"
   },
   {
    "duration": 208,
    "start_time": "2024-06-09T12:24:32.542Z"
   },
   {
    "duration": 212,
    "start_time": "2024-06-09T12:24:54.162Z"
   },
   {
    "duration": 528,
    "start_time": "2024-06-09T12:25:05.771Z"
   },
   {
    "duration": 120,
    "start_time": "2024-06-09T12:25:06.300Z"
   },
   {
    "duration": 13,
    "start_time": "2024-06-09T12:25:06.422Z"
   },
   {
    "duration": 14,
    "start_time": "2024-06-09T12:25:06.438Z"
   },
   {
    "duration": 59,
    "start_time": "2024-06-09T12:25:06.454Z"
   },
   {
    "duration": 12,
    "start_time": "2024-06-09T12:25:06.525Z"
   },
   {
    "duration": 9,
    "start_time": "2024-06-09T12:25:06.538Z"
   },
   {
    "duration": 26,
    "start_time": "2024-06-09T12:25:06.548Z"
   },
   {
    "duration": 34,
    "start_time": "2024-06-09T12:25:06.575Z"
   },
   {
    "duration": 11,
    "start_time": "2024-06-09T12:25:06.611Z"
   },
   {
    "duration": 25,
    "start_time": "2024-06-09T12:25:06.623Z"
   },
   {
    "duration": 25,
    "start_time": "2024-06-09T12:25:06.649Z"
   },
   {
    "duration": 28,
    "start_time": "2024-06-09T12:25:06.675Z"
   },
   {
    "duration": 12,
    "start_time": "2024-06-09T12:25:06.704Z"
   },
   {
    "duration": 9,
    "start_time": "2024-06-09T12:25:06.717Z"
   },
   {
    "duration": 22,
    "start_time": "2024-06-09T12:25:06.727Z"
   },
   {
    "duration": 5,
    "start_time": "2024-06-09T12:25:06.750Z"
   },
   {
    "duration": 109,
    "start_time": "2024-06-09T12:25:06.756Z"
   },
   {
    "duration": 10,
    "start_time": "2024-06-09T12:25:06.866Z"
   },
   {
    "duration": 13,
    "start_time": "2024-06-09T12:25:06.877Z"
   },
   {
    "duration": 22,
    "start_time": "2024-06-09T12:25:06.891Z"
   },
   {
    "duration": 57,
    "start_time": "2024-06-09T12:25:06.914Z"
   },
   {
    "duration": 4,
    "start_time": "2024-06-09T12:25:06.972Z"
   },
   {
    "duration": 23,
    "start_time": "2024-06-09T12:25:06.977Z"
   },
   {
    "duration": 16,
    "start_time": "2024-06-09T12:25:07.001Z"
   },
   {
    "duration": 19,
    "start_time": "2024-06-09T12:25:07.018Z"
   },
   {
    "duration": 11,
    "start_time": "2024-06-09T12:25:07.038Z"
   },
   {
    "duration": 30,
    "start_time": "2024-06-09T12:25:07.051Z"
   },
   {
    "duration": 347,
    "start_time": "2024-06-09T12:25:07.082Z"
   },
   {
    "duration": 22,
    "start_time": "2024-06-09T12:25:07.431Z"
   },
   {
    "duration": 3,
    "start_time": "2024-06-09T12:25:07.455Z"
   },
   {
    "duration": 9,
    "start_time": "2024-06-09T12:25:07.459Z"
   },
   {
    "duration": 15,
    "start_time": "2024-06-09T12:25:07.469Z"
   },
   {
    "duration": 28,
    "start_time": "2024-06-09T12:25:07.485Z"
   },
   {
    "duration": 7,
    "start_time": "2024-06-09T12:25:07.514Z"
   },
   {
    "duration": 228,
    "start_time": "2024-06-09T12:25:07.522Z"
   },
   {
    "duration": 176,
    "start_time": "2024-06-09T12:25:07.752Z"
   },
   {
    "duration": 166,
    "start_time": "2024-06-09T12:25:07.929Z"
   },
   {
    "duration": 241,
    "start_time": "2024-06-09T12:25:08.096Z"
   },
   {
    "duration": 280,
    "start_time": "2024-06-09T12:25:52.263Z"
   },
   {
    "duration": 635,
    "start_time": "2024-06-09T12:25:59.711Z"
   },
   {
    "duration": 118,
    "start_time": "2024-06-09T12:26:00.347Z"
   },
   {
    "duration": 11,
    "start_time": "2024-06-09T12:26:00.466Z"
   },
   {
    "duration": 70,
    "start_time": "2024-06-09T12:26:00.479Z"
   },
   {
    "duration": 156,
    "start_time": "2024-06-09T12:26:00.551Z"
   },
   {
    "duration": 40,
    "start_time": "2024-06-09T12:26:00.709Z"
   },
   {
    "duration": 42,
    "start_time": "2024-06-09T12:26:00.750Z"
   },
   {
    "duration": 66,
    "start_time": "2024-06-09T12:26:00.794Z"
   },
   {
    "duration": 57,
    "start_time": "2024-06-09T12:26:00.862Z"
   },
   {
    "duration": 108,
    "start_time": "2024-06-09T12:26:00.921Z"
   },
   {
    "duration": 34,
    "start_time": "2024-06-09T12:26:01.031Z"
   },
   {
    "duration": 47,
    "start_time": "2024-06-09T12:26:01.066Z"
   },
   {
    "duration": 55,
    "start_time": "2024-06-09T12:26:01.114Z"
   },
   {
    "duration": 31,
    "start_time": "2024-06-09T12:26:01.170Z"
   },
   {
    "duration": 66,
    "start_time": "2024-06-09T12:26:01.203Z"
   },
   {
    "duration": 63,
    "start_time": "2024-06-09T12:26:01.270Z"
   },
   {
    "duration": 5,
    "start_time": "2024-06-09T12:26:01.334Z"
   },
   {
    "duration": 46,
    "start_time": "2024-06-09T12:26:01.340Z"
   },
   {
    "duration": 17,
    "start_time": "2024-06-09T12:26:01.387Z"
   },
   {
    "duration": 29,
    "start_time": "2024-06-09T12:26:01.405Z"
   },
   {
    "duration": 63,
    "start_time": "2024-06-09T12:26:01.435Z"
   },
   {
    "duration": 82,
    "start_time": "2024-06-09T12:26:01.499Z"
   },
   {
    "duration": 5,
    "start_time": "2024-06-09T12:26:01.582Z"
   },
   {
    "duration": 73,
    "start_time": "2024-06-09T12:26:01.588Z"
   },
   {
    "duration": 82,
    "start_time": "2024-06-09T12:26:01.662Z"
   },
   {
    "duration": 78,
    "start_time": "2024-06-09T12:26:01.746Z"
   },
   {
    "duration": 41,
    "start_time": "2024-06-09T12:26:01.825Z"
   },
   {
    "duration": 37,
    "start_time": "2024-06-09T12:26:01.868Z"
   },
   {
    "duration": 354,
    "start_time": "2024-06-09T12:26:01.906Z"
   },
   {
    "duration": 22,
    "start_time": "2024-06-09T12:26:02.261Z"
   },
   {
    "duration": 14,
    "start_time": "2024-06-09T12:26:02.285Z"
   },
   {
    "duration": 6,
    "start_time": "2024-06-09T12:26:02.301Z"
   },
   {
    "duration": 15,
    "start_time": "2024-06-09T12:26:02.308Z"
   },
   {
    "duration": 36,
    "start_time": "2024-06-09T12:26:02.324Z"
   },
   {
    "duration": 9,
    "start_time": "2024-06-09T12:26:02.361Z"
   },
   {
    "duration": 225,
    "start_time": "2024-06-09T12:26:02.371Z"
   },
   {
    "duration": 180,
    "start_time": "2024-06-09T12:26:02.597Z"
   },
   {
    "duration": 173,
    "start_time": "2024-06-09T12:26:02.778Z"
   },
   {
    "duration": 243,
    "start_time": "2024-06-09T12:26:02.952Z"
   },
   {
    "duration": 6,
    "start_time": "2024-06-09T13:16:45.118Z"
   },
   {
    "duration": 10,
    "start_time": "2024-06-09T13:16:48.335Z"
   },
   {
    "duration": 160,
    "start_time": "2024-06-09T13:28:30.389Z"
   },
   {
    "duration": 260,
    "start_time": "2024-06-09T13:37:57.841Z"
   },
   {
    "duration": 277,
    "start_time": "2024-06-09T13:38:48.879Z"
   },
   {
    "duration": 174,
    "start_time": "2024-06-09T13:39:10.220Z"
   },
   {
    "duration": 271,
    "start_time": "2024-06-09T13:41:36.961Z"
   },
   {
    "duration": 217,
    "start_time": "2024-06-09T13:44:52.612Z"
   },
   {
    "duration": 13,
    "start_time": "2024-06-09T14:22:01.018Z"
   },
   {
    "duration": 160,
    "start_time": "2024-06-09T14:22:17.765Z"
   },
   {
    "duration": 4,
    "start_time": "2024-06-09T14:23:38.632Z"
   },
   {
    "duration": 4,
    "start_time": "2024-06-09T14:24:29.851Z"
   },
   {
    "duration": 4,
    "start_time": "2024-06-09T14:24:34.766Z"
   },
   {
    "duration": 530,
    "start_time": "2024-06-09T14:24:48.382Z"
   },
   {
    "duration": 118,
    "start_time": "2024-06-09T14:24:48.914Z"
   },
   {
    "duration": 10,
    "start_time": "2024-06-09T14:24:49.033Z"
   },
   {
    "duration": 13,
    "start_time": "2024-06-09T14:24:49.045Z"
   },
   {
    "duration": 15,
    "start_time": "2024-06-09T14:24:49.059Z"
   },
   {
    "duration": 11,
    "start_time": "2024-06-09T14:24:49.076Z"
   },
   {
    "duration": 5,
    "start_time": "2024-06-09T14:24:49.088Z"
   },
   {
    "duration": 29,
    "start_time": "2024-06-09T14:24:49.094Z"
   },
   {
    "duration": 30,
    "start_time": "2024-06-09T14:24:49.125Z"
   },
   {
    "duration": 12,
    "start_time": "2024-06-09T14:24:49.158Z"
   },
   {
    "duration": 9,
    "start_time": "2024-06-09T14:24:49.171Z"
   },
   {
    "duration": 17,
    "start_time": "2024-06-09T14:24:49.181Z"
   },
   {
    "duration": 46,
    "start_time": "2024-06-09T14:24:49.200Z"
   },
   {
    "duration": 12,
    "start_time": "2024-06-09T14:24:49.247Z"
   },
   {
    "duration": 8,
    "start_time": "2024-06-09T14:24:49.260Z"
   },
   {
    "duration": 24,
    "start_time": "2024-06-09T14:24:49.270Z"
   },
   {
    "duration": 5,
    "start_time": "2024-06-09T14:24:49.320Z"
   },
   {
    "duration": 24,
    "start_time": "2024-06-09T14:24:49.327Z"
   },
   {
    "duration": 10,
    "start_time": "2024-06-09T14:24:49.352Z"
   },
   {
    "duration": 5,
    "start_time": "2024-06-09T14:24:49.363Z"
   },
   {
    "duration": 11,
    "start_time": "2024-06-09T14:24:49.370Z"
   },
   {
    "duration": 89,
    "start_time": "2024-06-09T14:24:49.383Z"
   },
   {
    "duration": 5,
    "start_time": "2024-06-09T14:24:49.473Z"
   },
   {
    "duration": 10,
    "start_time": "2024-06-09T14:24:49.479Z"
   },
   {
    "duration": 5,
    "start_time": "2024-06-09T14:24:49.491Z"
   },
   {
    "duration": 24,
    "start_time": "2024-06-09T14:24:49.497Z"
   },
   {
    "duration": 4,
    "start_time": "2024-06-09T14:24:49.523Z"
   },
   {
    "duration": 29,
    "start_time": "2024-06-09T14:24:49.531Z"
   },
   {
    "duration": 304,
    "start_time": "2024-06-09T14:24:49.562Z"
   },
   {
    "duration": 24,
    "start_time": "2024-06-09T14:24:49.868Z"
   },
   {
    "duration": 3,
    "start_time": "2024-06-09T14:24:49.894Z"
   },
   {
    "duration": 3,
    "start_time": "2024-06-09T14:24:49.899Z"
   },
   {
    "duration": 11,
    "start_time": "2024-06-09T14:24:49.920Z"
   },
   {
    "duration": 17,
    "start_time": "2024-06-09T14:24:49.932Z"
   },
   {
    "duration": 20,
    "start_time": "2024-06-09T14:24:49.950Z"
   },
   {
    "duration": 228,
    "start_time": "2024-06-09T14:24:49.971Z"
   },
   {
    "duration": 175,
    "start_time": "2024-06-09T14:24:50.201Z"
   },
   {
    "duration": 181,
    "start_time": "2024-06-09T14:24:50.377Z"
   },
   {
    "duration": 257,
    "start_time": "2024-06-09T14:24:50.559Z"
   },
   {
    "duration": 173,
    "start_time": "2024-06-09T14:24:50.817Z"
   },
   {
    "duration": 35,
    "start_time": "2024-06-09T14:24:50.991Z"
   },
   {
    "duration": 34,
    "start_time": "2024-06-09T14:24:51.027Z"
   },
   {
    "duration": 195,
    "start_time": "2024-06-09T14:24:51.062Z"
   },
   {
    "duration": 395,
    "start_time": "2024-06-09T14:24:51.258Z"
   },
   {
    "duration": 6,
    "start_time": "2024-06-09T14:25:04.326Z"
   },
   {
    "duration": 19,
    "start_time": "2024-06-09T14:25:28.733Z"
   },
   {
    "duration": 145,
    "start_time": "2024-06-09T14:42:08.064Z"
   },
   {
    "duration": 217,
    "start_time": "2024-06-09T14:45:30.337Z"
   },
   {
    "duration": 178,
    "start_time": "2024-06-09T14:49:52.175Z"
   },
   {
    "duration": 600,
    "start_time": "2024-06-09T15:14:23.499Z"
   },
   {
    "duration": 116,
    "start_time": "2024-06-09T15:14:24.101Z"
   },
   {
    "duration": 10,
    "start_time": "2024-06-09T15:14:24.219Z"
   },
   {
    "duration": 13,
    "start_time": "2024-06-09T15:14:24.231Z"
   },
   {
    "duration": 41,
    "start_time": "2024-06-09T15:14:24.246Z"
   },
   {
    "duration": 25,
    "start_time": "2024-06-09T15:14:24.289Z"
   },
   {
    "duration": 6,
    "start_time": "2024-06-09T15:14:24.315Z"
   },
   {
    "duration": 16,
    "start_time": "2024-06-09T15:14:24.322Z"
   },
   {
    "duration": 25,
    "start_time": "2024-06-09T15:14:24.339Z"
   },
   {
    "duration": 13,
    "start_time": "2024-06-09T15:14:24.367Z"
   },
   {
    "duration": 6,
    "start_time": "2024-06-09T15:14:24.381Z"
   },
   {
    "duration": 11,
    "start_time": "2024-06-09T15:14:24.388Z"
   },
   {
    "duration": 43,
    "start_time": "2024-06-09T15:14:24.400Z"
   },
   {
    "duration": 12,
    "start_time": "2024-06-09T15:14:24.445Z"
   },
   {
    "duration": 7,
    "start_time": "2024-06-09T15:14:24.458Z"
   },
   {
    "duration": 22,
    "start_time": "2024-06-09T15:14:24.466Z"
   },
   {
    "duration": 4,
    "start_time": "2024-06-09T15:14:24.489Z"
   },
   {
    "duration": 47,
    "start_time": "2024-06-09T15:14:24.494Z"
   },
   {
    "duration": 9,
    "start_time": "2024-06-09T15:14:24.542Z"
   },
   {
    "duration": 4,
    "start_time": "2024-06-09T15:14:24.552Z"
   },
   {
    "duration": 17,
    "start_time": "2024-06-09T15:14:24.557Z"
   },
   {
    "duration": 72,
    "start_time": "2024-06-09T15:14:24.576Z"
   },
   {
    "duration": 4,
    "start_time": "2024-06-09T15:14:24.649Z"
   },
   {
    "duration": 4,
    "start_time": "2024-06-09T15:14:24.654Z"
   },
   {
    "duration": 6,
    "start_time": "2024-06-09T15:14:24.659Z"
   },
   {
    "duration": 9,
    "start_time": "2024-06-09T15:14:24.666Z"
   },
   {
    "duration": 11,
    "start_time": "2024-06-09T15:14:24.676Z"
   },
   {
    "duration": 33,
    "start_time": "2024-06-09T15:14:24.689Z"
   },
   {
    "duration": 312,
    "start_time": "2024-06-09T15:14:24.723Z"
   },
   {
    "duration": 23,
    "start_time": "2024-06-09T15:14:25.036Z"
   },
   {
    "duration": 17,
    "start_time": "2024-06-09T15:14:25.061Z"
   },
   {
    "duration": 11,
    "start_time": "2024-06-09T15:14:25.079Z"
   },
   {
    "duration": 18,
    "start_time": "2024-06-09T15:14:25.092Z"
   },
   {
    "duration": 16,
    "start_time": "2024-06-09T15:14:25.111Z"
   },
   {
    "duration": 12,
    "start_time": "2024-06-09T15:14:25.128Z"
   },
   {
    "duration": 234,
    "start_time": "2024-06-09T15:14:25.141Z"
   },
   {
    "duration": 176,
    "start_time": "2024-06-09T15:14:25.376Z"
   },
   {
    "duration": 161,
    "start_time": "2024-06-09T15:14:25.554Z"
   },
   {
    "duration": 231,
    "start_time": "2024-06-09T15:14:25.719Z"
   },
   {
    "duration": 176,
    "start_time": "2024-06-09T15:14:25.951Z"
   },
   {
    "duration": 14,
    "start_time": "2024-06-09T15:14:26.128Z"
   },
   {
    "duration": 187,
    "start_time": "2024-06-09T15:14:26.143Z"
   },
   {
    "duration": 281,
    "start_time": "2024-06-09T15:14:26.332Z"
   },
   {
    "duration": 131,
    "start_time": "2024-06-09T15:14:26.619Z"
   },
   {
    "duration": 224,
    "start_time": "2024-06-09T15:14:26.751Z"
   },
   {
    "duration": 597,
    "start_time": "2024-06-09T15:14:58.094Z"
   },
   {
    "duration": 116,
    "start_time": "2024-06-09T15:14:58.692Z"
   },
   {
    "duration": 10,
    "start_time": "2024-06-09T15:14:58.811Z"
   },
   {
    "duration": 13,
    "start_time": "2024-06-09T15:14:58.822Z"
   },
   {
    "duration": 32,
    "start_time": "2024-06-09T15:14:58.836Z"
   },
   {
    "duration": 12,
    "start_time": "2024-06-09T15:14:58.870Z"
   },
   {
    "duration": 5,
    "start_time": "2024-06-09T15:14:58.883Z"
   },
   {
    "duration": 12,
    "start_time": "2024-06-09T15:14:58.889Z"
   },
   {
    "duration": 22,
    "start_time": "2024-06-09T15:14:58.904Z"
   },
   {
    "duration": 12,
    "start_time": "2024-06-09T15:14:58.927Z"
   },
   {
    "duration": 6,
    "start_time": "2024-06-09T15:14:58.940Z"
   },
   {
    "duration": 14,
    "start_time": "2024-06-09T15:14:58.947Z"
   },
   {
    "duration": 30,
    "start_time": "2024-06-09T15:14:58.962Z"
   },
   {
    "duration": 34,
    "start_time": "2024-06-09T15:14:58.993Z"
   },
   {
    "duration": 8,
    "start_time": "2024-06-09T15:14:59.028Z"
   },
   {
    "duration": 29,
    "start_time": "2024-06-09T15:14:59.037Z"
   },
   {
    "duration": 5,
    "start_time": "2024-06-09T15:14:59.067Z"
   },
   {
    "duration": 55,
    "start_time": "2024-06-09T15:14:59.073Z"
   },
   {
    "duration": 9,
    "start_time": "2024-06-09T15:14:59.130Z"
   },
   {
    "duration": 36,
    "start_time": "2024-06-09T15:14:59.141Z"
   },
   {
    "duration": 31,
    "start_time": "2024-06-09T15:14:59.178Z"
   },
   {
    "duration": 57,
    "start_time": "2024-06-09T15:14:59.210Z"
   },
   {
    "duration": 3,
    "start_time": "2024-06-09T15:14:59.269Z"
   },
   {
    "duration": 3,
    "start_time": "2024-06-09T15:14:59.274Z"
   },
   {
    "duration": 24,
    "start_time": "2024-06-09T15:14:59.278Z"
   },
   {
    "duration": 15,
    "start_time": "2024-06-09T15:14:59.303Z"
   },
   {
    "duration": 14,
    "start_time": "2024-06-09T15:14:59.320Z"
   },
   {
    "duration": 36,
    "start_time": "2024-06-09T15:14:59.335Z"
   },
   {
    "duration": 292,
    "start_time": "2024-06-09T15:14:59.373Z"
   },
   {
    "duration": 24,
    "start_time": "2024-06-09T15:14:59.666Z"
   },
   {
    "duration": 3,
    "start_time": "2024-06-09T15:14:59.691Z"
   },
   {
    "duration": 14,
    "start_time": "2024-06-09T15:14:59.695Z"
   },
   {
    "duration": 16,
    "start_time": "2024-06-09T15:14:59.710Z"
   },
   {
    "duration": 33,
    "start_time": "2024-06-09T15:14:59.727Z"
   },
   {
    "duration": 21,
    "start_time": "2024-06-09T15:14:59.762Z"
   },
   {
    "duration": 228,
    "start_time": "2024-06-09T15:14:59.785Z"
   },
   {
    "duration": 189,
    "start_time": "2024-06-09T15:15:00.014Z"
   },
   {
    "duration": 177,
    "start_time": "2024-06-09T15:15:00.205Z"
   },
   {
    "duration": 240,
    "start_time": "2024-06-09T15:15:00.384Z"
   },
   {
    "duration": 179,
    "start_time": "2024-06-09T15:15:00.626Z"
   },
   {
    "duration": 20,
    "start_time": "2024-06-09T15:15:00.806Z"
   },
   {
    "duration": 195,
    "start_time": "2024-06-09T15:15:00.827Z"
   },
   {
    "duration": 279,
    "start_time": "2024-06-09T15:15:01.024Z"
   },
   {
    "duration": 143,
    "start_time": "2024-06-09T15:15:01.305Z"
   },
   {
    "duration": 226,
    "start_time": "2024-06-09T15:15:01.449Z"
   },
   {
    "duration": 790,
    "start_time": "2024-06-10T10:58:12.563Z"
   },
   {
    "duration": 231,
    "start_time": "2024-06-10T10:58:13.355Z"
   },
   {
    "duration": 14,
    "start_time": "2024-06-10T10:58:13.590Z"
   },
   {
    "duration": 27,
    "start_time": "2024-06-10T10:58:13.605Z"
   },
   {
    "duration": 14,
    "start_time": "2024-06-10T10:58:13.634Z"
   },
   {
    "duration": 25,
    "start_time": "2024-06-10T10:58:13.650Z"
   },
   {
    "duration": 18,
    "start_time": "2024-06-10T10:58:13.677Z"
   },
   {
    "duration": 5,
    "start_time": "2024-06-10T10:58:13.697Z"
   },
   {
    "duration": 27,
    "start_time": "2024-06-10T10:58:13.705Z"
   },
   {
    "duration": 14,
    "start_time": "2024-06-10T10:58:13.733Z"
   },
   {
    "duration": 7,
    "start_time": "2024-06-10T10:58:13.764Z"
   },
   {
    "duration": 19,
    "start_time": "2024-06-10T10:58:13.773Z"
   },
   {
    "duration": 34,
    "start_time": "2024-06-10T10:58:13.794Z"
   },
   {
    "duration": 37,
    "start_time": "2024-06-10T10:58:13.830Z"
   },
   {
    "duration": 10,
    "start_time": "2024-06-10T10:58:13.868Z"
   },
   {
    "duration": 25,
    "start_time": "2024-06-10T10:58:13.879Z"
   },
   {
    "duration": 5,
    "start_time": "2024-06-10T10:58:13.906Z"
   },
   {
    "duration": 28,
    "start_time": "2024-06-10T10:58:13.912Z"
   },
   {
    "duration": 11,
    "start_time": "2024-06-10T10:58:13.965Z"
   },
   {
    "duration": 52,
    "start_time": "2024-06-10T10:58:13.977Z"
   },
   {
    "duration": 17,
    "start_time": "2024-06-10T10:58:14.030Z"
   },
   {
    "duration": 58,
    "start_time": "2024-06-10T10:58:14.049Z"
   },
   {
    "duration": 4,
    "start_time": "2024-06-10T10:58:14.109Z"
   },
   {
    "duration": 8,
    "start_time": "2024-06-10T10:58:14.114Z"
   },
   {
    "duration": 4,
    "start_time": "2024-06-10T10:58:14.123Z"
   },
   {
    "duration": 16,
    "start_time": "2024-06-10T10:58:14.129Z"
   },
   {
    "duration": 27,
    "start_time": "2024-06-10T10:58:14.148Z"
   },
   {
    "duration": 29,
    "start_time": "2024-06-10T10:58:14.176Z"
   },
   {
    "duration": 339,
    "start_time": "2024-06-10T10:58:14.207Z"
   },
   {
    "duration": 39,
    "start_time": "2024-06-10T10:58:14.548Z"
   },
   {
    "duration": 64,
    "start_time": "2024-06-10T10:58:14.588Z"
   },
   {
    "duration": 4,
    "start_time": "2024-06-10T10:58:14.654Z"
   },
   {
    "duration": 15,
    "start_time": "2024-06-10T10:58:14.659Z"
   },
   {
    "duration": 20,
    "start_time": "2024-06-10T10:58:14.676Z"
   },
   {
    "duration": 11,
    "start_time": "2024-06-10T10:58:14.698Z"
   },
   {
    "duration": 288,
    "start_time": "2024-06-10T10:58:14.711Z"
   },
   {
    "duration": 213,
    "start_time": "2024-06-10T10:58:15.001Z"
   },
   {
    "duration": 193,
    "start_time": "2024-06-10T10:58:15.216Z"
   },
   {
    "duration": 259,
    "start_time": "2024-06-10T10:58:15.410Z"
   },
   {
    "duration": 213,
    "start_time": "2024-06-10T10:58:15.671Z"
   },
   {
    "duration": 19,
    "start_time": "2024-06-10T10:58:15.885Z"
   },
   {
    "duration": 192,
    "start_time": "2024-06-10T10:58:15.906Z"
   },
   {
    "duration": 318,
    "start_time": "2024-06-10T10:58:16.100Z"
   },
   {
    "duration": 154,
    "start_time": "2024-06-10T10:58:16.419Z"
   },
   {
    "duration": 237,
    "start_time": "2024-06-10T10:58:16.574Z"
   },
   {
    "duration": 624,
    "start_time": "2024-06-10T11:10:49.401Z"
   },
   {
    "duration": 127,
    "start_time": "2024-06-10T11:10:50.027Z"
   },
   {
    "duration": 13,
    "start_time": "2024-06-10T11:10:50.156Z"
   },
   {
    "duration": 16,
    "start_time": "2024-06-10T11:10:50.171Z"
   },
   {
    "duration": 19,
    "start_time": "2024-06-10T11:10:50.189Z"
   },
   {
    "duration": 18,
    "start_time": "2024-06-10T11:10:50.209Z"
   },
   {
    "duration": 13,
    "start_time": "2024-06-10T11:10:50.229Z"
   },
   {
    "duration": 101,
    "start_time": "2024-06-10T11:10:50.244Z"
   },
   {
    "duration": 0,
    "start_time": "2024-06-10T11:10:50.349Z"
   },
   {
    "duration": 0,
    "start_time": "2024-06-10T11:10:50.350Z"
   },
   {
    "duration": 0,
    "start_time": "2024-06-10T11:10:50.352Z"
   },
   {
    "duration": 0,
    "start_time": "2024-06-10T11:10:50.353Z"
   },
   {
    "duration": 0,
    "start_time": "2024-06-10T11:10:50.355Z"
   },
   {
    "duration": 0,
    "start_time": "2024-06-10T11:10:50.365Z"
   },
   {
    "duration": 0,
    "start_time": "2024-06-10T11:10:50.366Z"
   },
   {
    "duration": 0,
    "start_time": "2024-06-10T11:10:50.367Z"
   },
   {
    "duration": 0,
    "start_time": "2024-06-10T11:10:50.368Z"
   },
   {
    "duration": 0,
    "start_time": "2024-06-10T11:10:50.369Z"
   },
   {
    "duration": 0,
    "start_time": "2024-06-10T11:10:50.371Z"
   },
   {
    "duration": 0,
    "start_time": "2024-06-10T11:10:50.372Z"
   },
   {
    "duration": 0,
    "start_time": "2024-06-10T11:10:50.373Z"
   },
   {
    "duration": 0,
    "start_time": "2024-06-10T11:10:50.374Z"
   },
   {
    "duration": 0,
    "start_time": "2024-06-10T11:10:50.375Z"
   },
   {
    "duration": 0,
    "start_time": "2024-06-10T11:10:50.377Z"
   },
   {
    "duration": 0,
    "start_time": "2024-06-10T11:10:50.378Z"
   },
   {
    "duration": 0,
    "start_time": "2024-06-10T11:10:50.379Z"
   },
   {
    "duration": 0,
    "start_time": "2024-06-10T11:10:50.380Z"
   },
   {
    "duration": 0,
    "start_time": "2024-06-10T11:10:50.381Z"
   },
   {
    "duration": 0,
    "start_time": "2024-06-10T11:10:50.382Z"
   },
   {
    "duration": 0,
    "start_time": "2024-06-10T11:10:50.383Z"
   },
   {
    "duration": 0,
    "start_time": "2024-06-10T11:10:50.384Z"
   },
   {
    "duration": 0,
    "start_time": "2024-06-10T11:10:50.385Z"
   },
   {
    "duration": 0,
    "start_time": "2024-06-10T11:10:50.386Z"
   },
   {
    "duration": 0,
    "start_time": "2024-06-10T11:10:50.388Z"
   },
   {
    "duration": 0,
    "start_time": "2024-06-10T11:10:50.389Z"
   },
   {
    "duration": 0,
    "start_time": "2024-06-10T11:10:50.390Z"
   },
   {
    "duration": 0,
    "start_time": "2024-06-10T11:10:50.391Z"
   },
   {
    "duration": 0,
    "start_time": "2024-06-10T11:10:50.393Z"
   },
   {
    "duration": 0,
    "start_time": "2024-06-10T11:10:50.394Z"
   },
   {
    "duration": 0,
    "start_time": "2024-06-10T11:10:50.395Z"
   },
   {
    "duration": 0,
    "start_time": "2024-06-10T11:10:50.397Z"
   },
   {
    "duration": 0,
    "start_time": "2024-06-10T11:10:50.398Z"
   },
   {
    "duration": 0,
    "start_time": "2024-06-10T11:10:50.399Z"
   },
   {
    "duration": 0,
    "start_time": "2024-06-10T11:10:50.400Z"
   },
   {
    "duration": 0,
    "start_time": "2024-06-10T11:10:50.402Z"
   },
   {
    "duration": 0,
    "start_time": "2024-06-10T11:10:50.403Z"
   },
   {
    "duration": 607,
    "start_time": "2024-06-10T11:11:20.634Z"
   },
   {
    "duration": 120,
    "start_time": "2024-06-10T11:11:21.243Z"
   },
   {
    "duration": 12,
    "start_time": "2024-06-10T11:11:21.364Z"
   },
   {
    "duration": 15,
    "start_time": "2024-06-10T11:11:21.378Z"
   },
   {
    "duration": 22,
    "start_time": "2024-06-10T11:11:21.394Z"
   },
   {
    "duration": 33,
    "start_time": "2024-06-10T11:11:21.418Z"
   },
   {
    "duration": 8,
    "start_time": "2024-06-10T11:11:21.453Z"
   },
   {
    "duration": 9,
    "start_time": "2024-06-10T11:11:21.462Z"
   },
   {
    "duration": 14,
    "start_time": "2024-06-10T11:11:21.473Z"
   },
   {
    "duration": 23,
    "start_time": "2024-06-10T11:11:21.490Z"
   },
   {
    "duration": 13,
    "start_time": "2024-06-10T11:11:21.515Z"
   },
   {
    "duration": 6,
    "start_time": "2024-06-10T11:11:21.530Z"
   },
   {
    "duration": 29,
    "start_time": "2024-06-10T11:11:21.537Z"
   },
   {
    "duration": 33,
    "start_time": "2024-06-10T11:11:21.568Z"
   },
   {
    "duration": 16,
    "start_time": "2024-06-10T11:11:21.602Z"
   },
   {
    "duration": 9,
    "start_time": "2024-06-10T11:11:21.620Z"
   },
   {
    "duration": 59,
    "start_time": "2024-06-10T11:11:21.631Z"
   },
   {
    "duration": 5,
    "start_time": "2024-06-10T11:11:21.691Z"
   },
   {
    "duration": 45,
    "start_time": "2024-06-10T11:11:21.697Z"
   },
   {
    "duration": 16,
    "start_time": "2024-06-10T11:11:21.744Z"
   },
   {
    "duration": 7,
    "start_time": "2024-06-10T11:11:21.762Z"
   },
   {
    "duration": 17,
    "start_time": "2024-06-10T11:11:21.770Z"
   },
   {
    "duration": 86,
    "start_time": "2024-06-10T11:11:21.789Z"
   },
   {
    "duration": 4,
    "start_time": "2024-06-10T11:11:21.877Z"
   },
   {
    "duration": 4,
    "start_time": "2024-06-10T11:11:21.883Z"
   },
   {
    "duration": 8,
    "start_time": "2024-06-10T11:11:21.888Z"
   },
   {
    "duration": 19,
    "start_time": "2024-06-10T11:11:21.898Z"
   },
   {
    "duration": 6,
    "start_time": "2024-06-10T11:11:21.922Z"
   },
   {
    "duration": 47,
    "start_time": "2024-06-10T11:11:21.929Z"
   },
   {
    "duration": 345,
    "start_time": "2024-06-10T11:11:21.978Z"
   },
   {
    "duration": 40,
    "start_time": "2024-06-10T11:11:22.326Z"
   },
   {
    "duration": 5,
    "start_time": "2024-06-10T11:11:22.368Z"
   },
   {
    "duration": 7,
    "start_time": "2024-06-10T11:11:22.374Z"
   },
   {
    "duration": 16,
    "start_time": "2024-06-10T11:11:22.383Z"
   },
   {
    "duration": 19,
    "start_time": "2024-06-10T11:11:22.400Z"
   },
   {
    "duration": 9,
    "start_time": "2024-06-10T11:11:22.420Z"
   },
   {
    "duration": 275,
    "start_time": "2024-06-10T11:11:22.430Z"
   },
   {
    "duration": 190,
    "start_time": "2024-06-10T11:11:22.707Z"
   },
   {
    "duration": 191,
    "start_time": "2024-06-10T11:11:22.899Z"
   },
   {
    "duration": 275,
    "start_time": "2024-06-10T11:11:23.092Z"
   },
   {
    "duration": 174,
    "start_time": "2024-06-10T11:11:23.369Z"
   },
   {
    "duration": 27,
    "start_time": "2024-06-10T11:11:23.544Z"
   },
   {
    "duration": 174,
    "start_time": "2024-06-10T11:11:23.573Z"
   },
   {
    "duration": 305,
    "start_time": "2024-06-10T11:11:23.749Z"
   },
   {
    "duration": 155,
    "start_time": "2024-06-10T11:11:24.055Z"
   },
   {
    "duration": 233,
    "start_time": "2024-06-10T11:11:24.211Z"
   },
   {
    "duration": 78,
    "start_time": "2024-06-10T11:11:54.265Z"
   },
   {
    "duration": 601,
    "start_time": "2024-06-10T11:12:10.227Z"
   },
   {
    "duration": 117,
    "start_time": "2024-06-10T11:12:10.830Z"
   },
   {
    "duration": 12,
    "start_time": "2024-06-10T11:12:10.949Z"
   },
   {
    "duration": 61,
    "start_time": "2024-06-10T11:12:10.963Z"
   },
   {
    "duration": 17,
    "start_time": "2024-06-10T11:12:11.026Z"
   },
   {
    "duration": 12,
    "start_time": "2024-06-10T11:12:11.044Z"
   },
   {
    "duration": 6,
    "start_time": "2024-06-10T11:12:11.057Z"
   },
   {
    "duration": 9,
    "start_time": "2024-06-10T11:12:11.064Z"
   },
   {
    "duration": 22,
    "start_time": "2024-06-10T11:12:11.075Z"
   },
   {
    "duration": 22,
    "start_time": "2024-06-10T11:12:11.099Z"
   },
   {
    "duration": 6,
    "start_time": "2024-06-10T11:12:11.123Z"
   },
   {
    "duration": 28,
    "start_time": "2024-06-10T11:12:11.130Z"
   },
   {
    "duration": 32,
    "start_time": "2024-06-10T11:12:11.160Z"
   },
   {
    "duration": 13,
    "start_time": "2024-06-10T11:12:11.195Z"
   },
   {
    "duration": 9,
    "start_time": "2024-06-10T11:12:11.209Z"
   },
   {
    "duration": 48,
    "start_time": "2024-06-10T11:12:11.220Z"
   },
   {
    "duration": 5,
    "start_time": "2024-06-10T11:12:11.270Z"
   },
   {
    "duration": 30,
    "start_time": "2024-06-10T11:12:11.276Z"
   },
   {
    "duration": 10,
    "start_time": "2024-06-10T11:12:11.308Z"
   },
   {
    "duration": 11,
    "start_time": "2024-06-10T11:12:11.320Z"
   },
   {
    "duration": 16,
    "start_time": "2024-06-10T11:12:11.333Z"
   },
   {
    "duration": 73,
    "start_time": "2024-06-10T11:12:11.350Z"
   },
   {
    "duration": 4,
    "start_time": "2024-06-10T11:12:11.424Z"
   },
   {
    "duration": 8,
    "start_time": "2024-06-10T11:12:11.430Z"
   },
   {
    "duration": 6,
    "start_time": "2024-06-10T11:12:11.440Z"
   },
   {
    "duration": 7,
    "start_time": "2024-06-10T11:12:11.465Z"
   },
   {
    "duration": 6,
    "start_time": "2024-06-10T11:12:11.473Z"
   },
   {
    "duration": 26,
    "start_time": "2024-06-10T11:12:11.480Z"
   },
   {
    "duration": 329,
    "start_time": "2024-06-10T11:12:11.507Z"
   },
   {
    "duration": 30,
    "start_time": "2024-06-10T11:12:11.838Z"
   },
   {
    "duration": 4,
    "start_time": "2024-06-10T11:12:11.870Z"
   },
   {
    "duration": 14,
    "start_time": "2024-06-10T11:12:11.875Z"
   },
   {
    "duration": 22,
    "start_time": "2024-06-10T11:12:11.890Z"
   },
   {
    "duration": 20,
    "start_time": "2024-06-10T11:12:11.913Z"
   },
   {
    "duration": 8,
    "start_time": "2024-06-10T11:12:11.935Z"
   },
   {
    "duration": 268,
    "start_time": "2024-06-10T11:12:11.945Z"
   },
   {
    "duration": 193,
    "start_time": "2024-06-10T11:12:12.214Z"
   },
   {
    "duration": 187,
    "start_time": "2024-06-10T11:12:12.409Z"
   },
   {
    "duration": 251,
    "start_time": "2024-06-10T11:12:12.598Z"
   },
   {
    "duration": 181,
    "start_time": "2024-06-10T11:12:12.851Z"
   },
   {
    "duration": 16,
    "start_time": "2024-06-10T11:12:13.036Z"
   },
   {
    "duration": 183,
    "start_time": "2024-06-10T11:12:13.054Z"
   },
   {
    "duration": 303,
    "start_time": "2024-06-10T11:12:13.238Z"
   },
   {
    "duration": 157,
    "start_time": "2024-06-10T11:12:13.542Z"
   },
   {
    "duration": 258,
    "start_time": "2024-06-10T11:12:13.701Z"
   },
   {
    "duration": 74,
    "start_time": "2024-06-10T11:13:59.569Z"
   },
   {
    "duration": 10,
    "start_time": "2024-06-10T11:14:11.609Z"
   },
   {
    "duration": 10,
    "start_time": "2024-06-10T11:14:26.766Z"
   },
   {
    "duration": 924,
    "start_time": "2024-06-10T11:15:36.326Z"
   },
   {
    "duration": 899,
    "start_time": "2024-06-10T11:15:41.382Z"
   },
   {
    "duration": 12,
    "start_time": "2024-06-10T11:15:58.373Z"
   },
   {
    "duration": 10,
    "start_time": "2024-06-10T11:16:05.731Z"
   },
   {
    "duration": 13,
    "start_time": "2024-06-10T11:16:14.425Z"
   },
   {
    "duration": 12,
    "start_time": "2024-06-10T11:49:37.257Z"
   },
   {
    "duration": 575,
    "start_time": "2024-06-10T11:49:42.004Z"
   },
   {
    "duration": 121,
    "start_time": "2024-06-10T11:49:42.581Z"
   },
   {
    "duration": 13,
    "start_time": "2024-06-10T11:49:42.703Z"
   },
   {
    "duration": 18,
    "start_time": "2024-06-10T11:49:42.717Z"
   },
   {
    "duration": 59,
    "start_time": "2024-06-10T11:49:42.737Z"
   },
   {
    "duration": 23,
    "start_time": "2024-06-10T11:49:42.798Z"
   },
   {
    "duration": 6,
    "start_time": "2024-06-10T11:49:42.822Z"
   },
   {
    "duration": 5,
    "start_time": "2024-06-10T11:49:42.829Z"
   },
   {
    "duration": 35,
    "start_time": "2024-06-10T11:49:42.835Z"
   },
   {
    "duration": 13,
    "start_time": "2024-06-10T11:49:42.873Z"
   },
   {
    "duration": 13,
    "start_time": "2024-06-10T11:49:42.888Z"
   },
   {
    "duration": 26,
    "start_time": "2024-06-10T11:49:42.902Z"
   },
   {
    "duration": 36,
    "start_time": "2024-06-10T11:49:42.930Z"
   },
   {
    "duration": 13,
    "start_time": "2024-06-10T11:49:42.968Z"
   },
   {
    "duration": 9,
    "start_time": "2024-06-10T11:49:42.982Z"
   },
   {
    "duration": 9,
    "start_time": "2024-06-10T11:49:42.992Z"
   },
   {
    "duration": 25,
    "start_time": "2024-06-10T11:49:43.002Z"
   },
   {
    "duration": 36,
    "start_time": "2024-06-10T11:49:43.029Z"
   },
   {
    "duration": 26,
    "start_time": "2024-06-10T11:49:43.067Z"
   },
   {
    "duration": 11,
    "start_time": "2024-06-10T11:49:43.094Z"
   },
   {
    "duration": 80,
    "start_time": "2024-06-10T11:49:43.106Z"
   },
   {
    "duration": 17,
    "start_time": "2024-06-10T11:49:43.188Z"
   },
   {
    "duration": 59,
    "start_time": "2024-06-10T11:49:43.206Z"
   },
   {
    "duration": 5,
    "start_time": "2024-06-10T11:49:43.267Z"
   },
   {
    "duration": 8,
    "start_time": "2024-06-10T11:49:43.273Z"
   },
   {
    "duration": 8,
    "start_time": "2024-06-10T11:49:43.282Z"
   },
   {
    "duration": 10,
    "start_time": "2024-06-10T11:49:43.291Z"
   },
   {
    "duration": 4,
    "start_time": "2024-06-10T11:49:43.304Z"
   },
   {
    "duration": 23,
    "start_time": "2024-06-10T11:49:43.309Z"
   },
   {
    "duration": 335,
    "start_time": "2024-06-10T11:49:43.334Z"
   },
   {
    "duration": 25,
    "start_time": "2024-06-10T11:49:43.671Z"
   },
   {
    "duration": 4,
    "start_time": "2024-06-10T11:49:43.697Z"
   },
   {
    "duration": 3,
    "start_time": "2024-06-10T11:49:43.703Z"
   },
   {
    "duration": 14,
    "start_time": "2024-06-10T11:49:43.707Z"
   },
   {
    "duration": 17,
    "start_time": "2024-06-10T11:49:43.723Z"
   },
   {
    "duration": 26,
    "start_time": "2024-06-10T11:49:43.742Z"
   },
   {
    "duration": 272,
    "start_time": "2024-06-10T11:49:43.769Z"
   },
   {
    "duration": 204,
    "start_time": "2024-06-10T11:49:44.042Z"
   },
   {
    "duration": 180,
    "start_time": "2024-06-10T11:49:44.247Z"
   },
   {
    "duration": 279,
    "start_time": "2024-06-10T11:49:44.429Z"
   },
   {
    "duration": 177,
    "start_time": "2024-06-10T11:49:44.709Z"
   },
   {
    "duration": 16,
    "start_time": "2024-06-10T11:49:44.888Z"
   },
   {
    "duration": 184,
    "start_time": "2024-06-10T11:49:44.906Z"
   },
   {
    "duration": 308,
    "start_time": "2024-06-10T11:49:45.091Z"
   },
   {
    "duration": 144,
    "start_time": "2024-06-10T11:49:45.401Z"
   },
   {
    "duration": 250,
    "start_time": "2024-06-10T11:49:45.547Z"
   },
   {
    "duration": 10,
    "start_time": "2024-06-10T11:53:20.076Z"
   },
   {
    "duration": 981,
    "start_time": "2024-06-10T11:53:40.923Z"
   },
   {
    "duration": 8,
    "start_time": "2024-06-10T11:53:58.148Z"
   },
   {
    "duration": 7,
    "start_time": "2024-06-10T11:54:47.813Z"
   },
   {
    "duration": 8,
    "start_time": "2024-06-10T11:55:37.243Z"
   },
   {
    "duration": 8,
    "start_time": "2024-06-10T11:55:37.954Z"
   },
   {
    "duration": 10,
    "start_time": "2024-06-10T11:55:44.395Z"
   },
   {
    "duration": 622,
    "start_time": "2024-06-10T11:55:57.378Z"
   },
   {
    "duration": 117,
    "start_time": "2024-06-10T11:55:58.002Z"
   },
   {
    "duration": 10,
    "start_time": "2024-06-10T11:55:58.121Z"
   },
   {
    "duration": 15,
    "start_time": "2024-06-10T11:55:58.133Z"
   },
   {
    "duration": 20,
    "start_time": "2024-06-10T11:55:58.149Z"
   },
   {
    "duration": 15,
    "start_time": "2024-06-10T11:55:58.171Z"
   },
   {
    "duration": 6,
    "start_time": "2024-06-10T11:55:58.187Z"
   },
   {
    "duration": 7,
    "start_time": "2024-06-10T11:55:58.194Z"
   },
   {
    "duration": 21,
    "start_time": "2024-06-10T11:55:58.203Z"
   },
   {
    "duration": 13,
    "start_time": "2024-06-10T11:55:58.227Z"
   },
   {
    "duration": 28,
    "start_time": "2024-06-10T11:55:58.241Z"
   },
   {
    "duration": 32,
    "start_time": "2024-06-10T11:55:58.270Z"
   },
   {
    "duration": 34,
    "start_time": "2024-06-10T11:55:58.303Z"
   },
   {
    "duration": 14,
    "start_time": "2024-06-10T11:55:58.338Z"
   },
   {
    "duration": 16,
    "start_time": "2024-06-10T11:55:58.353Z"
   },
   {
    "duration": 27,
    "start_time": "2024-06-10T11:55:58.370Z"
   },
   {
    "duration": 5,
    "start_time": "2024-06-10T11:55:58.398Z"
   },
   {
    "duration": 27,
    "start_time": "2024-06-10T11:55:58.404Z"
   },
   {
    "duration": 37,
    "start_time": "2024-06-10T11:55:58.433Z"
   },
   {
    "duration": 5,
    "start_time": "2024-06-10T11:55:58.472Z"
   },
   {
    "duration": 16,
    "start_time": "2024-06-10T11:55:58.478Z"
   },
   {
    "duration": 81,
    "start_time": "2024-06-10T11:55:58.495Z"
   },
   {
    "duration": 5,
    "start_time": "2024-06-10T11:55:58.577Z"
   },
   {
    "duration": 24,
    "start_time": "2024-06-10T11:55:58.583Z"
   },
   {
    "duration": 7,
    "start_time": "2024-06-10T11:55:58.609Z"
   },
   {
    "duration": 7,
    "start_time": "2024-06-10T11:55:58.618Z"
   },
   {
    "duration": 6,
    "start_time": "2024-06-10T11:55:58.626Z"
   },
   {
    "duration": 31,
    "start_time": "2024-06-10T11:55:58.635Z"
   },
   {
    "duration": 374,
    "start_time": "2024-06-10T11:55:58.667Z"
   },
   {
    "duration": 38,
    "start_time": "2024-06-10T11:55:59.043Z"
   },
   {
    "duration": 5,
    "start_time": "2024-06-10T11:55:59.083Z"
   },
   {
    "duration": 5,
    "start_time": "2024-06-10T11:55:59.089Z"
   },
   {
    "duration": 12,
    "start_time": "2024-06-10T11:55:59.096Z"
   },
   {
    "duration": 19,
    "start_time": "2024-06-10T11:55:59.109Z"
   },
   {
    "duration": 76,
    "start_time": "2024-06-10T11:55:59.129Z"
   },
   {
    "duration": 246,
    "start_time": "2024-06-10T11:55:59.206Z"
   },
   {
    "duration": 202,
    "start_time": "2024-06-10T11:55:59.453Z"
   },
   {
    "duration": 182,
    "start_time": "2024-06-10T11:55:59.656Z"
   },
   {
    "duration": 259,
    "start_time": "2024-06-10T11:55:59.839Z"
   },
   {
    "duration": 192,
    "start_time": "2024-06-10T11:56:00.100Z"
   },
   {
    "duration": 17,
    "start_time": "2024-06-10T11:56:00.294Z"
   },
   {
    "duration": 279,
    "start_time": "2024-06-10T11:56:00.313Z"
   },
   {
    "duration": 323,
    "start_time": "2024-06-10T11:56:00.594Z"
   },
   {
    "duration": 172,
    "start_time": "2024-06-10T11:56:00.918Z"
   },
   {
    "duration": 254,
    "start_time": "2024-06-10T11:56:01.092Z"
   },
   {
    "duration": 755,
    "start_time": "2024-06-10T17:52:24.925Z"
   },
   {
    "duration": 358,
    "start_time": "2024-06-10T17:52:25.683Z"
   },
   {
    "duration": 11,
    "start_time": "2024-06-10T17:52:26.042Z"
   },
   {
    "duration": 14,
    "start_time": "2024-06-10T17:52:26.055Z"
   },
   {
    "duration": 15,
    "start_time": "2024-06-10T17:52:26.070Z"
   },
   {
    "duration": 34,
    "start_time": "2024-06-10T17:52:26.086Z"
   },
   {
    "duration": 20,
    "start_time": "2024-06-10T17:52:26.121Z"
   },
   {
    "duration": 5,
    "start_time": "2024-06-10T17:52:26.142Z"
   },
   {
    "duration": 11,
    "start_time": "2024-06-10T17:52:26.148Z"
   },
   {
    "duration": 22,
    "start_time": "2024-06-10T17:52:26.161Z"
   },
   {
    "duration": 25,
    "start_time": "2024-06-10T17:52:26.184Z"
   },
   {
    "duration": 6,
    "start_time": "2024-06-10T17:52:26.211Z"
   },
   {
    "duration": 37,
    "start_time": "2024-06-10T17:52:26.218Z"
   },
   {
    "duration": 34,
    "start_time": "2024-06-10T17:52:26.257Z"
   },
   {
    "duration": 17,
    "start_time": "2024-06-10T17:52:26.293Z"
   },
   {
    "duration": 9,
    "start_time": "2024-06-10T17:52:26.311Z"
   },
   {
    "duration": 44,
    "start_time": "2024-06-10T17:52:26.321Z"
   },
   {
    "duration": 5,
    "start_time": "2024-06-10T17:52:26.366Z"
   },
   {
    "duration": 25,
    "start_time": "2024-06-10T17:52:26.373Z"
   },
   {
    "duration": 18,
    "start_time": "2024-06-10T17:52:26.399Z"
   },
   {
    "duration": 17,
    "start_time": "2024-06-10T17:52:26.418Z"
   },
   {
    "duration": 14,
    "start_time": "2024-06-10T17:52:26.437Z"
   },
   {
    "duration": 64,
    "start_time": "2024-06-10T17:52:26.452Z"
   },
   {
    "duration": 4,
    "start_time": "2024-06-10T17:52:26.517Z"
   },
   {
    "duration": 5,
    "start_time": "2024-06-10T17:52:26.523Z"
   },
   {
    "duration": 5,
    "start_time": "2024-06-10T17:52:26.529Z"
   },
   {
    "duration": 7,
    "start_time": "2024-06-10T17:52:26.535Z"
   },
   {
    "duration": 4,
    "start_time": "2024-06-10T17:52:26.545Z"
   },
   {
    "duration": 24,
    "start_time": "2024-06-10T17:52:26.551Z"
   },
   {
    "duration": 339,
    "start_time": "2024-06-10T17:52:26.576Z"
   },
   {
    "duration": 24,
    "start_time": "2024-06-10T17:52:26.916Z"
   },
   {
    "duration": 3,
    "start_time": "2024-06-10T17:52:26.942Z"
   },
   {
    "duration": 13,
    "start_time": "2024-06-10T17:52:26.946Z"
   },
   {
    "duration": 11,
    "start_time": "2024-06-10T17:52:26.960Z"
   },
   {
    "duration": 17,
    "start_time": "2024-06-10T17:52:26.972Z"
   },
   {
    "duration": 24,
    "start_time": "2024-06-10T17:52:27.009Z"
   },
   {
    "duration": 223,
    "start_time": "2024-06-10T17:52:27.034Z"
   },
   {
    "duration": 197,
    "start_time": "2024-06-10T17:52:27.259Z"
   },
   {
    "duration": 185,
    "start_time": "2024-06-10T17:52:27.457Z"
   },
   {
    "duration": 271,
    "start_time": "2024-06-10T17:52:27.643Z"
   },
   {
    "duration": 204,
    "start_time": "2024-06-10T17:52:27.915Z"
   },
   {
    "duration": 15,
    "start_time": "2024-06-10T17:52:28.121Z"
   },
   {
    "duration": 185,
    "start_time": "2024-06-10T17:52:28.137Z"
   },
   {
    "duration": 286,
    "start_time": "2024-06-10T17:52:28.324Z"
   },
   {
    "duration": 148,
    "start_time": "2024-06-10T17:52:28.612Z"
   },
   {
    "duration": 234,
    "start_time": "2024-06-10T17:52:28.761Z"
   },
   {
    "duration": 532,
    "start_time": "2024-06-10T17:53:40.064Z"
   },
   {
    "duration": 116,
    "start_time": "2024-06-10T17:53:40.598Z"
   },
   {
    "duration": 10,
    "start_time": "2024-06-10T17:53:40.716Z"
   },
   {
    "duration": 31,
    "start_time": "2024-06-10T17:53:40.727Z"
   },
   {
    "duration": 17,
    "start_time": "2024-06-10T17:53:40.760Z"
   },
   {
    "duration": 22,
    "start_time": "2024-06-10T17:53:40.778Z"
   },
   {
    "duration": 13,
    "start_time": "2024-06-10T17:53:40.801Z"
   },
   {
    "duration": 25,
    "start_time": "2024-06-10T17:53:40.815Z"
   },
   {
    "duration": 16,
    "start_time": "2024-06-10T17:53:40.841Z"
   },
   {
    "duration": 23,
    "start_time": "2024-06-10T17:53:40.859Z"
   },
   {
    "duration": 12,
    "start_time": "2024-06-10T17:53:40.883Z"
   },
   {
    "duration": 6,
    "start_time": "2024-06-10T17:53:40.896Z"
   },
   {
    "duration": 11,
    "start_time": "2024-06-10T17:53:40.903Z"
   },
   {
    "duration": 30,
    "start_time": "2024-06-10T17:53:40.915Z"
   },
   {
    "duration": 16,
    "start_time": "2024-06-10T17:53:40.946Z"
   },
   {
    "duration": 8,
    "start_time": "2024-06-10T17:53:40.963Z"
   },
   {
    "duration": 6,
    "start_time": "2024-06-10T17:53:40.972Z"
   },
   {
    "duration": 8,
    "start_time": "2024-06-10T17:53:40.980Z"
   },
   {
    "duration": 42,
    "start_time": "2024-06-10T17:53:40.989Z"
   },
   {
    "duration": 9,
    "start_time": "2024-06-10T17:53:41.033Z"
   },
   {
    "duration": 4,
    "start_time": "2024-06-10T17:53:41.044Z"
   },
   {
    "duration": 55,
    "start_time": "2024-06-10T17:53:41.050Z"
   },
   {
    "duration": 56,
    "start_time": "2024-06-10T17:53:41.107Z"
   },
   {
    "duration": 4,
    "start_time": "2024-06-10T17:53:41.164Z"
   },
   {
    "duration": 12,
    "start_time": "2024-06-10T17:53:41.169Z"
   },
   {
    "duration": 8,
    "start_time": "2024-06-10T17:53:41.182Z"
   },
   {
    "duration": 18,
    "start_time": "2024-06-10T17:53:41.192Z"
   },
   {
    "duration": 5,
    "start_time": "2024-06-10T17:53:41.213Z"
   },
   {
    "duration": 31,
    "start_time": "2024-06-10T17:53:41.219Z"
   },
   {
    "duration": 318,
    "start_time": "2024-06-10T17:53:41.251Z"
   },
   {
    "duration": 25,
    "start_time": "2024-06-10T17:53:41.571Z"
   },
   {
    "duration": 13,
    "start_time": "2024-06-10T17:53:41.597Z"
   },
   {
    "duration": 8,
    "start_time": "2024-06-10T17:53:41.612Z"
   },
   {
    "duration": 17,
    "start_time": "2024-06-10T17:53:41.622Z"
   },
   {
    "duration": 19,
    "start_time": "2024-06-10T17:53:41.640Z"
   },
   {
    "duration": 17,
    "start_time": "2024-06-10T17:53:41.660Z"
   },
   {
    "duration": 245,
    "start_time": "2024-06-10T17:53:41.679Z"
   },
   {
    "duration": 171,
    "start_time": "2024-06-10T17:53:41.925Z"
   },
   {
    "duration": 181,
    "start_time": "2024-06-10T17:53:42.098Z"
   },
   {
    "duration": 258,
    "start_time": "2024-06-10T17:53:42.281Z"
   },
   {
    "duration": 181,
    "start_time": "2024-06-10T17:53:42.541Z"
   },
   {
    "duration": 15,
    "start_time": "2024-06-10T17:53:42.724Z"
   },
   {
    "duration": 191,
    "start_time": "2024-06-10T17:53:42.741Z"
   },
   {
    "duration": 314,
    "start_time": "2024-06-10T17:53:42.933Z"
   },
   {
    "duration": 164,
    "start_time": "2024-06-10T17:53:43.249Z"
   },
   {
    "duration": 273,
    "start_time": "2024-06-10T17:53:43.415Z"
   },
   {
    "duration": 790,
    "start_time": "2024-06-12T10:36:30.218Z"
   },
   {
    "duration": 220,
    "start_time": "2024-06-12T10:36:31.011Z"
   },
   {
    "duration": 13,
    "start_time": "2024-06-12T10:36:31.232Z"
   },
   {
    "duration": 32,
    "start_time": "2024-06-12T10:36:31.247Z"
   },
   {
    "duration": 41,
    "start_time": "2024-06-12T10:36:31.281Z"
   },
   {
    "duration": 67,
    "start_time": "2024-06-12T10:36:31.324Z"
   },
   {
    "duration": 80,
    "start_time": "2024-06-12T10:36:31.392Z"
   },
   {
    "duration": 31,
    "start_time": "2024-06-12T10:36:31.473Z"
   },
   {
    "duration": 35,
    "start_time": "2024-06-12T10:36:31.505Z"
   },
   {
    "duration": 41,
    "start_time": "2024-06-12T10:36:31.542Z"
   },
   {
    "duration": 19,
    "start_time": "2024-06-12T10:36:31.584Z"
   },
   {
    "duration": 13,
    "start_time": "2024-06-12T10:36:31.604Z"
   },
   {
    "duration": 16,
    "start_time": "2024-06-12T10:36:31.619Z"
   },
   {
    "duration": 35,
    "start_time": "2024-06-12T10:36:31.637Z"
   },
   {
    "duration": 14,
    "start_time": "2024-06-12T10:36:31.674Z"
   },
   {
    "duration": 23,
    "start_time": "2024-06-12T10:36:31.690Z"
   },
   {
    "duration": 7,
    "start_time": "2024-06-12T10:36:31.715Z"
   },
   {
    "duration": 8,
    "start_time": "2024-06-12T10:36:31.723Z"
   },
   {
    "duration": 55,
    "start_time": "2024-06-12T10:36:31.732Z"
   },
   {
    "duration": 10,
    "start_time": "2024-06-12T10:36:31.789Z"
   },
   {
    "duration": 4,
    "start_time": "2024-06-12T10:36:31.801Z"
   },
   {
    "duration": 13,
    "start_time": "2024-06-12T10:36:31.806Z"
   },
   {
    "duration": 66,
    "start_time": "2024-06-12T10:36:31.821Z"
   },
   {
    "duration": 4,
    "start_time": "2024-06-12T10:36:31.889Z"
   },
   {
    "duration": 18,
    "start_time": "2024-06-12T10:36:31.894Z"
   },
   {
    "duration": 3,
    "start_time": "2024-06-12T10:36:31.914Z"
   },
   {
    "duration": 6,
    "start_time": "2024-06-12T10:36:31.919Z"
   },
   {
    "duration": 9,
    "start_time": "2024-06-12T10:36:31.928Z"
   },
   {
    "duration": 30,
    "start_time": "2024-06-12T10:36:31.938Z"
   },
   {
    "duration": 354,
    "start_time": "2024-06-12T10:36:31.970Z"
   },
   {
    "duration": 26,
    "start_time": "2024-06-12T10:36:32.326Z"
   },
   {
    "duration": 4,
    "start_time": "2024-06-12T10:36:32.354Z"
   },
   {
    "duration": 64,
    "start_time": "2024-06-12T10:36:32.360Z"
   },
   {
    "duration": 21,
    "start_time": "2024-06-12T10:36:32.425Z"
   },
   {
    "duration": 26,
    "start_time": "2024-06-12T10:36:32.448Z"
   },
   {
    "duration": 32,
    "start_time": "2024-06-12T10:36:32.475Z"
   },
   {
    "duration": 254,
    "start_time": "2024-06-12T10:36:32.509Z"
   },
   {
    "duration": 198,
    "start_time": "2024-06-12T10:36:32.765Z"
   },
   {
    "duration": 184,
    "start_time": "2024-06-12T10:36:32.965Z"
   },
   {
    "duration": 273,
    "start_time": "2024-06-12T10:36:33.151Z"
   },
   {
    "duration": 215,
    "start_time": "2024-06-12T10:36:33.425Z"
   },
   {
    "duration": 16,
    "start_time": "2024-06-12T10:36:33.641Z"
   },
   {
    "duration": 196,
    "start_time": "2024-06-12T10:36:33.658Z"
   },
   {
    "duration": 307,
    "start_time": "2024-06-12T10:36:33.855Z"
   },
   {
    "duration": 161,
    "start_time": "2024-06-12T10:36:34.163Z"
   },
   {
    "duration": 259,
    "start_time": "2024-06-12T10:36:34.325Z"
   },
   {
    "duration": 4,
    "start_time": "2024-06-12T10:38:16.071Z"
   },
   {
    "duration": 15,
    "start_time": "2024-06-12T10:38:38.995Z"
   },
   {
    "duration": 567,
    "start_time": "2024-06-12T10:38:59.760Z"
   },
   {
    "duration": 120,
    "start_time": "2024-06-12T10:39:00.328Z"
   },
   {
    "duration": 10,
    "start_time": "2024-06-12T10:39:00.450Z"
   },
   {
    "duration": 83,
    "start_time": "2024-06-12T10:39:00.462Z"
   },
   {
    "duration": 57,
    "start_time": "2024-06-12T10:39:00.546Z"
   },
   {
    "duration": 69,
    "start_time": "2024-06-12T10:39:00.604Z"
   },
   {
    "duration": 48,
    "start_time": "2024-06-12T10:39:00.675Z"
   },
   {
    "duration": 118,
    "start_time": "2024-06-12T10:39:00.724Z"
   },
   {
    "duration": 64,
    "start_time": "2024-06-12T10:39:00.843Z"
   },
   {
    "duration": 61,
    "start_time": "2024-06-12T10:39:00.909Z"
   },
   {
    "duration": 23,
    "start_time": "2024-06-12T10:39:00.971Z"
   },
   {
    "duration": 39,
    "start_time": "2024-06-12T10:39:00.996Z"
   },
   {
    "duration": 50,
    "start_time": "2024-06-12T10:39:01.036Z"
   },
   {
    "duration": 71,
    "start_time": "2024-06-12T10:39:01.088Z"
   },
   {
    "duration": 14,
    "start_time": "2024-06-12T10:39:01.160Z"
   },
   {
    "duration": 79,
    "start_time": "2024-06-12T10:39:01.175Z"
   },
   {
    "duration": 52,
    "start_time": "2024-06-12T10:39:01.255Z"
   },
   {
    "duration": 60,
    "start_time": "2024-06-12T10:39:01.308Z"
   },
   {
    "duration": 62,
    "start_time": "2024-06-12T10:39:01.370Z"
   },
   {
    "duration": 18,
    "start_time": "2024-06-12T10:39:01.434Z"
   },
   {
    "duration": 35,
    "start_time": "2024-06-12T10:39:01.454Z"
   },
   {
    "duration": 44,
    "start_time": "2024-06-12T10:39:01.491Z"
   },
   {
    "duration": 26,
    "start_time": "2024-06-12T10:39:01.537Z"
   },
   {
    "duration": 25,
    "start_time": "2024-06-12T10:39:01.565Z"
   },
   {
    "duration": 81,
    "start_time": "2024-06-12T10:39:01.591Z"
   },
   {
    "duration": 4,
    "start_time": "2024-06-12T10:39:01.673Z"
   },
   {
    "duration": 15,
    "start_time": "2024-06-12T10:39:01.678Z"
   },
   {
    "duration": 18,
    "start_time": "2024-06-12T10:39:01.696Z"
   },
   {
    "duration": 38,
    "start_time": "2024-06-12T10:39:01.716Z"
   },
   {
    "duration": 10,
    "start_time": "2024-06-12T10:39:01.755Z"
   },
   {
    "duration": 57,
    "start_time": "2024-06-12T10:39:01.766Z"
   },
   {
    "duration": 330,
    "start_time": "2024-06-12T10:39:01.825Z"
   },
   {
    "duration": 25,
    "start_time": "2024-06-12T10:39:02.157Z"
   },
   {
    "duration": 3,
    "start_time": "2024-06-12T10:39:02.184Z"
   },
   {
    "duration": 4,
    "start_time": "2024-06-12T10:39:02.189Z"
   },
   {
    "duration": 11,
    "start_time": "2024-06-12T10:39:02.211Z"
   },
   {
    "duration": 25,
    "start_time": "2024-06-12T10:39:02.223Z"
   },
   {
    "duration": 12,
    "start_time": "2024-06-12T10:39:02.250Z"
   },
   {
    "duration": 259,
    "start_time": "2024-06-12T10:39:02.263Z"
   },
   {
    "duration": 194,
    "start_time": "2024-06-12T10:39:02.524Z"
   },
   {
    "duration": 184,
    "start_time": "2024-06-12T10:39:02.719Z"
   },
   {
    "duration": 273,
    "start_time": "2024-06-12T10:39:02.911Z"
   },
   {
    "duration": 184,
    "start_time": "2024-06-12T10:39:03.186Z"
   },
   {
    "duration": 16,
    "start_time": "2024-06-12T10:39:03.371Z"
   },
   {
    "duration": 212,
    "start_time": "2024-06-12T10:39:03.388Z"
   },
   {
    "duration": 311,
    "start_time": "2024-06-12T10:39:03.602Z"
   },
   {
    "duration": 153,
    "start_time": "2024-06-12T10:39:03.914Z"
   },
   {
    "duration": 252,
    "start_time": "2024-06-12T10:39:04.069Z"
   },
   {
    "duration": 16,
    "start_time": "2024-06-12T10:40:59.866Z"
   },
   {
    "duration": 7,
    "start_time": "2024-06-12T10:41:58.896Z"
   },
   {
    "duration": 5,
    "start_time": "2024-06-12T10:42:15.778Z"
   },
   {
    "duration": 74,
    "start_time": "2024-06-12T10:44:01.809Z"
   },
   {
    "duration": 13,
    "start_time": "2024-06-12T10:44:13.460Z"
   },
   {
    "duration": 14,
    "start_time": "2024-06-12T10:45:32.074Z"
   },
   {
    "duration": 601,
    "start_time": "2024-06-12T10:45:43.344Z"
   },
   {
    "duration": 118,
    "start_time": "2024-06-12T10:45:43.946Z"
   },
   {
    "duration": 11,
    "start_time": "2024-06-12T10:45:44.065Z"
   },
   {
    "duration": 15,
    "start_time": "2024-06-12T10:45:44.078Z"
   },
   {
    "duration": 23,
    "start_time": "2024-06-12T10:45:44.094Z"
   },
   {
    "duration": 12,
    "start_time": "2024-06-12T10:45:44.119Z"
   },
   {
    "duration": 21,
    "start_time": "2024-06-12T10:45:44.133Z"
   },
   {
    "duration": 7,
    "start_time": "2024-06-12T10:45:44.156Z"
   },
   {
    "duration": 7,
    "start_time": "2024-06-12T10:45:44.164Z"
   },
   {
    "duration": 23,
    "start_time": "2024-06-12T10:45:44.173Z"
   },
   {
    "duration": 25,
    "start_time": "2024-06-12T10:45:44.197Z"
   },
   {
    "duration": 19,
    "start_time": "2024-06-12T10:45:44.224Z"
   },
   {
    "duration": 13,
    "start_time": "2024-06-12T10:45:44.244Z"
   },
   {
    "duration": 33,
    "start_time": "2024-06-12T10:45:44.259Z"
   },
   {
    "duration": 24,
    "start_time": "2024-06-12T10:45:44.293Z"
   },
   {
    "duration": 11,
    "start_time": "2024-06-12T10:45:44.319Z"
   },
   {
    "duration": 8,
    "start_time": "2024-06-12T10:45:44.331Z"
   },
   {
    "duration": 13,
    "start_time": "2024-06-12T10:45:44.341Z"
   },
   {
    "duration": 27,
    "start_time": "2024-06-12T10:45:44.355Z"
   },
   {
    "duration": 29,
    "start_time": "2024-06-12T10:45:44.383Z"
   },
   {
    "duration": 6,
    "start_time": "2024-06-12T10:45:44.413Z"
   },
   {
    "duration": 13,
    "start_time": "2024-06-12T10:45:44.420Z"
   },
   {
    "duration": 5,
    "start_time": "2024-06-12T10:45:44.434Z"
   },
   {
    "duration": 14,
    "start_time": "2024-06-12T10:45:44.440Z"
   },
   {
    "duration": 11,
    "start_time": "2024-06-12T10:45:44.455Z"
   },
   {
    "duration": 6,
    "start_time": "2024-06-12T10:45:44.467Z"
   },
   {
    "duration": 96,
    "start_time": "2024-06-12T10:45:44.474Z"
   },
   {
    "duration": 4,
    "start_time": "2024-06-12T10:45:44.573Z"
   },
   {
    "duration": 7,
    "start_time": "2024-06-12T10:45:44.578Z"
   },
   {
    "duration": 5,
    "start_time": "2024-06-12T10:45:44.586Z"
   },
   {
    "duration": 7,
    "start_time": "2024-06-12T10:45:44.612Z"
   },
   {
    "duration": 6,
    "start_time": "2024-06-12T10:45:44.620Z"
   },
   {
    "duration": 23,
    "start_time": "2024-06-12T10:45:44.627Z"
   },
   {
    "duration": 360,
    "start_time": "2024-06-12T10:45:44.652Z"
   },
   {
    "duration": 26,
    "start_time": "2024-06-12T10:45:45.013Z"
   },
   {
    "duration": 72,
    "start_time": "2024-06-12T10:45:45.041Z"
   },
   {
    "duration": 39,
    "start_time": "2024-06-12T10:45:45.114Z"
   },
   {
    "duration": 32,
    "start_time": "2024-06-12T10:45:45.154Z"
   },
   {
    "duration": 19,
    "start_time": "2024-06-12T10:45:45.187Z"
   },
   {
    "duration": 27,
    "start_time": "2024-06-12T10:45:45.207Z"
   },
   {
    "duration": 249,
    "start_time": "2024-06-12T10:45:45.235Z"
   },
   {
    "duration": 187,
    "start_time": "2024-06-12T10:45:45.486Z"
   },
   {
    "duration": 198,
    "start_time": "2024-06-12T10:45:45.674Z"
   },
   {
    "duration": 268,
    "start_time": "2024-06-12T10:45:45.873Z"
   },
   {
    "duration": 194,
    "start_time": "2024-06-12T10:45:46.143Z"
   },
   {
    "duration": 15,
    "start_time": "2024-06-12T10:45:46.338Z"
   },
   {
    "duration": 196,
    "start_time": "2024-06-12T10:45:46.355Z"
   },
   {
    "duration": 309,
    "start_time": "2024-06-12T10:45:46.552Z"
   },
   {
    "duration": 186,
    "start_time": "2024-06-12T10:45:46.862Z"
   },
   {
    "duration": 266,
    "start_time": "2024-06-12T10:45:47.050Z"
   },
   {
    "duration": 11,
    "start_time": "2024-06-12T10:46:51.189Z"
   },
   {
    "duration": 615,
    "start_time": "2024-06-12T10:47:01.371Z"
   },
   {
    "duration": 119,
    "start_time": "2024-06-12T10:47:01.988Z"
   },
   {
    "duration": 11,
    "start_time": "2024-06-12T10:47:02.108Z"
   },
   {
    "duration": 24,
    "start_time": "2024-06-12T10:47:02.120Z"
   },
   {
    "duration": 39,
    "start_time": "2024-06-12T10:47:02.146Z"
   },
   {
    "duration": 22,
    "start_time": "2024-06-12T10:47:02.187Z"
   },
   {
    "duration": 16,
    "start_time": "2024-06-12T10:47:02.210Z"
   },
   {
    "duration": 10,
    "start_time": "2024-06-12T10:47:02.228Z"
   },
   {
    "duration": 6,
    "start_time": "2024-06-12T10:47:02.239Z"
   },
   {
    "duration": 25,
    "start_time": "2024-06-12T10:47:02.247Z"
   },
   {
    "duration": 13,
    "start_time": "2024-06-12T10:47:02.273Z"
   },
   {
    "duration": 25,
    "start_time": "2024-06-12T10:47:02.288Z"
   },
   {
    "duration": 20,
    "start_time": "2024-06-12T10:47:02.315Z"
   },
   {
    "duration": 34,
    "start_time": "2024-06-12T10:47:02.337Z"
   },
   {
    "duration": 13,
    "start_time": "2024-06-12T10:47:02.372Z"
   },
   {
    "duration": 52,
    "start_time": "2024-06-12T10:47:02.387Z"
   },
   {
    "duration": 7,
    "start_time": "2024-06-12T10:47:02.441Z"
   },
   {
    "duration": 5,
    "start_time": "2024-06-12T10:47:02.449Z"
   },
   {
    "duration": 40,
    "start_time": "2024-06-12T10:47:02.455Z"
   },
   {
    "duration": 10,
    "start_time": "2024-06-12T10:47:02.496Z"
   },
   {
    "duration": 8,
    "start_time": "2024-06-12T10:47:02.507Z"
   },
   {
    "duration": 19,
    "start_time": "2024-06-12T10:47:02.517Z"
   },
   {
    "duration": 4,
    "start_time": "2024-06-12T10:47:02.537Z"
   },
   {
    "duration": 20,
    "start_time": "2024-06-12T10:47:02.542Z"
   },
   {
    "duration": 34,
    "start_time": "2024-06-12T10:47:02.564Z"
   },
   {
    "duration": 30,
    "start_time": "2024-06-12T10:47:02.599Z"
   },
   {
    "duration": 6,
    "start_time": "2024-06-12T10:47:02.630Z"
   },
   {
    "duration": 63,
    "start_time": "2024-06-12T10:47:02.640Z"
   },
   {
    "duration": 4,
    "start_time": "2024-06-12T10:47:02.704Z"
   },
   {
    "duration": 5,
    "start_time": "2024-06-12T10:47:02.709Z"
   },
   {
    "duration": 5,
    "start_time": "2024-06-12T10:47:02.716Z"
   },
   {
    "duration": 10,
    "start_time": "2024-06-12T10:47:02.722Z"
   },
   {
    "duration": 7,
    "start_time": "2024-06-12T10:47:02.733Z"
   },
   {
    "duration": 30,
    "start_time": "2024-06-12T10:47:02.741Z"
   },
   {
    "duration": 356,
    "start_time": "2024-06-12T10:47:02.773Z"
   },
   {
    "duration": 25,
    "start_time": "2024-06-12T10:47:03.131Z"
   },
   {
    "duration": 14,
    "start_time": "2024-06-12T10:47:03.157Z"
   },
   {
    "duration": 4,
    "start_time": "2024-06-12T10:47:03.172Z"
   },
   {
    "duration": 15,
    "start_time": "2024-06-12T10:47:03.177Z"
   },
   {
    "duration": 26,
    "start_time": "2024-06-12T10:47:03.193Z"
   },
   {
    "duration": 18,
    "start_time": "2024-06-12T10:47:03.221Z"
   },
   {
    "duration": 251,
    "start_time": "2024-06-12T10:47:03.240Z"
   },
   {
    "duration": 210,
    "start_time": "2024-06-12T10:47:03.492Z"
   },
   {
    "duration": 183,
    "start_time": "2024-06-12T10:47:03.703Z"
   },
   {
    "duration": 260,
    "start_time": "2024-06-12T10:47:03.887Z"
   },
   {
    "duration": 189,
    "start_time": "2024-06-12T10:47:04.148Z"
   },
   {
    "duration": 15,
    "start_time": "2024-06-12T10:47:04.338Z"
   },
   {
    "duration": 189,
    "start_time": "2024-06-12T10:47:04.355Z"
   },
   {
    "duration": 304,
    "start_time": "2024-06-12T10:47:04.546Z"
   },
   {
    "duration": 148,
    "start_time": "2024-06-12T10:47:04.851Z"
   },
   {
    "duration": 259,
    "start_time": "2024-06-12T10:47:05.000Z"
   },
   {
    "duration": 23,
    "start_time": "2024-06-12T10:47:46.299Z"
   },
   {
    "duration": 4,
    "start_time": "2024-06-12T10:53:22.087Z"
   },
   {
    "duration": 5,
    "start_time": "2024-06-12T10:54:05.064Z"
   },
   {
    "duration": 7,
    "start_time": "2024-06-12T10:54:27.306Z"
   },
   {
    "duration": 8,
    "start_time": "2024-06-12T10:55:17.753Z"
   },
   {
    "duration": 635,
    "start_time": "2024-06-12T11:19:41.207Z"
   },
   {
    "duration": 120,
    "start_time": "2024-06-12T11:19:41.844Z"
   },
   {
    "duration": 10,
    "start_time": "2024-06-12T11:19:41.965Z"
   },
   {
    "duration": 18,
    "start_time": "2024-06-12T11:19:41.977Z"
   },
   {
    "duration": 20,
    "start_time": "2024-06-12T11:19:41.997Z"
   },
   {
    "duration": 12,
    "start_time": "2024-06-12T11:19:42.019Z"
   },
   {
    "duration": 14,
    "start_time": "2024-06-12T11:19:42.033Z"
   },
   {
    "duration": 6,
    "start_time": "2024-06-12T11:19:42.048Z"
   },
   {
    "duration": 15,
    "start_time": "2024-06-12T11:19:42.055Z"
   },
   {
    "duration": 25,
    "start_time": "2024-06-12T11:19:42.073Z"
   },
   {
    "duration": 14,
    "start_time": "2024-06-12T11:19:42.112Z"
   },
   {
    "duration": 6,
    "start_time": "2024-06-12T11:19:42.128Z"
   },
   {
    "duration": 12,
    "start_time": "2024-06-12T11:19:42.135Z"
   },
   {
    "duration": 32,
    "start_time": "2024-06-12T11:19:42.148Z"
   },
   {
    "duration": 36,
    "start_time": "2024-06-12T11:19:42.182Z"
   },
   {
    "duration": 8,
    "start_time": "2024-06-12T11:19:42.220Z"
   },
   {
    "duration": 7,
    "start_time": "2024-06-12T11:19:42.229Z"
   },
   {
    "duration": 6,
    "start_time": "2024-06-12T11:19:42.237Z"
   },
   {
    "duration": 28,
    "start_time": "2024-06-12T11:19:42.244Z"
   },
   {
    "duration": 10,
    "start_time": "2024-06-12T11:19:42.273Z"
   },
   {
    "duration": 31,
    "start_time": "2024-06-12T11:19:42.284Z"
   },
   {
    "duration": 12,
    "start_time": "2024-06-12T11:19:42.316Z"
   },
   {
    "duration": 4,
    "start_time": "2024-06-12T11:19:42.330Z"
   },
   {
    "duration": 14,
    "start_time": "2024-06-12T11:19:42.335Z"
   },
   {
    "duration": 12,
    "start_time": "2024-06-12T11:19:42.351Z"
   },
   {
    "duration": 12,
    "start_time": "2024-06-12T11:19:42.364Z"
   },
   {
    "duration": 4,
    "start_time": "2024-06-12T11:19:42.377Z"
   },
   {
    "duration": 20,
    "start_time": "2024-06-12T11:19:42.412Z"
   },
   {
    "duration": 60,
    "start_time": "2024-06-12T11:19:42.433Z"
   },
   {
    "duration": 19,
    "start_time": "2024-06-12T11:19:42.495Z"
   },
   {
    "duration": 5,
    "start_time": "2024-06-12T11:19:42.515Z"
   },
   {
    "duration": 10,
    "start_time": "2024-06-12T11:19:42.522Z"
   },
   {
    "duration": 5,
    "start_time": "2024-06-12T11:19:42.533Z"
   },
   {
    "duration": 6,
    "start_time": "2024-06-12T11:19:42.540Z"
   },
   {
    "duration": 8,
    "start_time": "2024-06-12T11:19:42.547Z"
   },
   {
    "duration": 7,
    "start_time": "2024-06-12T11:19:42.557Z"
   },
   {
    "duration": 13,
    "start_time": "2024-06-12T11:19:42.565Z"
   },
   {
    "duration": 38,
    "start_time": "2024-06-12T11:19:42.579Z"
   },
   {
    "duration": 7,
    "start_time": "2024-06-12T11:19:42.619Z"
   },
   {
    "duration": 29,
    "start_time": "2024-06-12T11:19:42.628Z"
   },
   {
    "duration": 330,
    "start_time": "2024-06-12T11:19:42.658Z"
   },
   {
    "duration": 32,
    "start_time": "2024-06-12T11:19:42.989Z"
   },
   {
    "duration": 28,
    "start_time": "2024-06-12T11:19:43.023Z"
   },
   {
    "duration": 11,
    "start_time": "2024-06-12T11:19:43.053Z"
   },
   {
    "duration": 15,
    "start_time": "2024-06-12T11:19:43.066Z"
   },
   {
    "duration": 18,
    "start_time": "2024-06-12T11:19:43.083Z"
   },
   {
    "duration": 14,
    "start_time": "2024-06-12T11:19:43.103Z"
   },
   {
    "duration": 255,
    "start_time": "2024-06-12T11:19:43.119Z"
   },
   {
    "duration": 195,
    "start_time": "2024-06-12T11:19:43.376Z"
   },
   {
    "duration": 192,
    "start_time": "2024-06-12T11:19:43.573Z"
   },
   {
    "duration": 265,
    "start_time": "2024-06-12T11:19:43.767Z"
   },
   {
    "duration": 189,
    "start_time": "2024-06-12T11:19:44.034Z"
   },
   {
    "duration": 16,
    "start_time": "2024-06-12T11:19:44.224Z"
   },
   {
    "duration": 206,
    "start_time": "2024-06-12T11:19:44.241Z"
   },
   {
    "duration": 295,
    "start_time": "2024-06-12T11:19:44.448Z"
   },
   {
    "duration": 152,
    "start_time": "2024-06-12T11:19:44.744Z"
   },
   {
    "duration": 253,
    "start_time": "2024-06-12T11:19:44.898Z"
   },
   {
    "duration": 101,
    "start_time": "2024-06-12T11:23:08.601Z"
   },
   {
    "duration": 98,
    "start_time": "2024-06-12T11:23:15.252Z"
   },
   {
    "duration": 7,
    "start_time": "2024-06-12T11:24:16.209Z"
   },
   {
    "duration": 155,
    "start_time": "2024-06-12T11:25:20.379Z"
   },
   {
    "duration": 127,
    "start_time": "2024-06-12T11:45:17.494Z"
   },
   {
    "duration": 85,
    "start_time": "2024-06-12T11:46:09.141Z"
   },
   {
    "duration": 204,
    "start_time": "2024-06-12T11:46:42.671Z"
   },
   {
    "duration": 267,
    "start_time": "2024-06-12T11:47:01.722Z"
   },
   {
    "duration": 275,
    "start_time": "2024-06-12T11:48:12.707Z"
   },
   {
    "duration": 6,
    "start_time": "2024-06-12T11:49:57.333Z"
   },
   {
    "duration": 114,
    "start_time": "2024-06-12T11:59:07.356Z"
   },
   {
    "duration": 102,
    "start_time": "2024-06-12T11:59:18.654Z"
   },
   {
    "duration": 98,
    "start_time": "2024-06-12T11:59:30.432Z"
   },
   {
    "duration": 512,
    "start_time": "2024-06-12T12:10:56.100Z"
   },
   {
    "duration": 45,
    "start_time": "2024-06-12T12:14:01.322Z"
   },
   {
    "duration": 23,
    "start_time": "2024-06-12T12:14:36.225Z"
   },
   {
    "duration": 148,
    "start_time": "2024-06-12T12:15:07.267Z"
   },
   {
    "duration": 3,
    "start_time": "2024-06-12T12:15:38.891Z"
   },
   {
    "duration": 185,
    "start_time": "2024-06-12T12:18:03.718Z"
   },
   {
    "duration": 149,
    "start_time": "2024-06-12T12:18:09.792Z"
   },
   {
    "duration": 636,
    "start_time": "2024-06-12T12:32:50.786Z"
   },
   {
    "duration": 120,
    "start_time": "2024-06-12T12:32:51.423Z"
   },
   {
    "duration": 11,
    "start_time": "2024-06-12T12:32:51.544Z"
   },
   {
    "duration": 14,
    "start_time": "2024-06-12T12:32:51.557Z"
   },
   {
    "duration": 32,
    "start_time": "2024-06-12T12:32:51.572Z"
   },
   {
    "duration": 17,
    "start_time": "2024-06-12T12:32:51.605Z"
   },
   {
    "duration": 14,
    "start_time": "2024-06-12T12:32:51.623Z"
   },
   {
    "duration": 17,
    "start_time": "2024-06-12T12:32:51.638Z"
   },
   {
    "duration": 6,
    "start_time": "2024-06-12T12:32:51.656Z"
   },
   {
    "duration": 26,
    "start_time": "2024-06-12T12:32:51.664Z"
   },
   {
    "duration": 25,
    "start_time": "2024-06-12T12:32:51.692Z"
   },
   {
    "duration": 8,
    "start_time": "2024-06-12T12:32:51.718Z"
   },
   {
    "duration": 16,
    "start_time": "2024-06-12T12:32:51.728Z"
   },
   {
    "duration": 41,
    "start_time": "2024-06-12T12:32:51.746Z"
   },
   {
    "duration": 30,
    "start_time": "2024-06-12T12:32:51.789Z"
   },
   {
    "duration": 10,
    "start_time": "2024-06-12T12:32:51.820Z"
   },
   {
    "duration": 7,
    "start_time": "2024-06-12T12:32:51.831Z"
   },
   {
    "duration": 5,
    "start_time": "2024-06-12T12:32:51.839Z"
   },
   {
    "duration": 27,
    "start_time": "2024-06-12T12:32:51.845Z"
   },
   {
    "duration": 38,
    "start_time": "2024-06-12T12:32:51.874Z"
   },
   {
    "duration": 4,
    "start_time": "2024-06-12T12:32:51.914Z"
   },
   {
    "duration": 15,
    "start_time": "2024-06-12T12:32:51.920Z"
   },
   {
    "duration": 4,
    "start_time": "2024-06-12T12:32:51.936Z"
   },
   {
    "duration": 12,
    "start_time": "2024-06-12T12:32:51.942Z"
   },
   {
    "duration": 13,
    "start_time": "2024-06-12T12:32:51.955Z"
   },
   {
    "duration": 17,
    "start_time": "2024-06-12T12:32:51.969Z"
   },
   {
    "duration": 4,
    "start_time": "2024-06-12T12:32:51.988Z"
   },
   {
    "duration": 21,
    "start_time": "2024-06-12T12:32:52.014Z"
   },
   {
    "duration": 91,
    "start_time": "2024-06-12T12:32:52.036Z"
   },
   {
    "duration": 5,
    "start_time": "2024-06-12T12:32:52.128Z"
   },
   {
    "duration": 7,
    "start_time": "2024-06-12T12:32:52.134Z"
   },
   {
    "duration": 9,
    "start_time": "2024-06-12T12:32:52.142Z"
   },
   {
    "duration": 7,
    "start_time": "2024-06-12T12:32:52.152Z"
   },
   {
    "duration": 14,
    "start_time": "2024-06-12T12:32:52.160Z"
   },
   {
    "duration": 29,
    "start_time": "2024-06-12T12:32:52.175Z"
   },
   {
    "duration": 8,
    "start_time": "2024-06-12T12:32:52.205Z"
   },
   {
    "duration": 4,
    "start_time": "2024-06-12T12:32:52.215Z"
   },
   {
    "duration": 10,
    "start_time": "2024-06-12T12:32:52.221Z"
   },
   {
    "duration": 5,
    "start_time": "2024-06-12T12:32:52.232Z"
   },
   {
    "duration": 23,
    "start_time": "2024-06-12T12:32:52.238Z"
   },
   {
    "duration": 371,
    "start_time": "2024-06-12T12:32:52.262Z"
   },
   {
    "duration": 25,
    "start_time": "2024-06-12T12:32:52.635Z"
   },
   {
    "duration": 113,
    "start_time": "2024-06-12T12:32:52.662Z"
   },
   {
    "duration": 7,
    "start_time": "2024-06-12T12:32:52.776Z"
   },
   {
    "duration": 4,
    "start_time": "2024-06-12T12:32:52.784Z"
   },
   {
    "duration": 3,
    "start_time": "2024-06-12T12:32:52.790Z"
   },
   {
    "duration": 26,
    "start_time": "2024-06-12T12:32:52.794Z"
   },
   {
    "duration": 23,
    "start_time": "2024-06-12T12:32:52.822Z"
   },
   {
    "duration": 9,
    "start_time": "2024-06-12T12:32:52.846Z"
   },
   {
    "duration": 331,
    "start_time": "2024-06-12T12:32:52.856Z"
   },
   {
    "duration": 163,
    "start_time": "2024-06-12T12:32:53.189Z"
   },
   {
    "duration": 7,
    "start_time": "2024-06-12T12:32:53.354Z"
   },
   {
    "duration": 202,
    "start_time": "2024-06-12T12:32:53.362Z"
   },
   {
    "duration": 268,
    "start_time": "2024-06-12T12:32:53.566Z"
   },
   {
    "duration": 187,
    "start_time": "2024-06-12T12:32:53.836Z"
   },
   {
    "duration": 17,
    "start_time": "2024-06-12T12:32:54.025Z"
   },
   {
    "duration": 191,
    "start_time": "2024-06-12T12:32:54.044Z"
   },
   {
    "duration": 176,
    "start_time": "2024-06-12T12:32:54.237Z"
   },
   {
    "duration": 301,
    "start_time": "2024-06-12T12:32:54.415Z"
   },
   {
    "duration": 153,
    "start_time": "2024-06-12T12:32:54.718Z"
   },
   {
    "duration": 296,
    "start_time": "2024-06-12T12:32:54.872Z"
   },
   {
    "duration": 789,
    "start_time": "2024-06-13T11:42:20.752Z"
   },
   {
    "duration": 389,
    "start_time": "2024-06-13T11:42:21.543Z"
   },
   {
    "duration": 12,
    "start_time": "2024-06-13T11:42:21.936Z"
   },
   {
    "duration": 16,
    "start_time": "2024-06-13T11:42:21.949Z"
   },
   {
    "duration": 24,
    "start_time": "2024-06-13T11:42:21.966Z"
   },
   {
    "duration": 17,
    "start_time": "2024-06-13T11:42:21.991Z"
   },
   {
    "duration": 16,
    "start_time": "2024-06-13T11:42:22.010Z"
   },
   {
    "duration": 7,
    "start_time": "2024-06-13T11:42:22.028Z"
   },
   {
    "duration": 7,
    "start_time": "2024-06-13T11:42:22.038Z"
   },
   {
    "duration": 38,
    "start_time": "2024-06-13T11:42:22.046Z"
   },
   {
    "duration": 29,
    "start_time": "2024-06-13T11:42:22.086Z"
   },
   {
    "duration": 8,
    "start_time": "2024-06-13T11:42:22.117Z"
   },
   {
    "duration": 16,
    "start_time": "2024-06-13T11:42:22.127Z"
   },
   {
    "duration": 70,
    "start_time": "2024-06-13T11:42:22.145Z"
   },
   {
    "duration": 19,
    "start_time": "2024-06-13T11:42:22.216Z"
   },
   {
    "duration": 11,
    "start_time": "2024-06-13T11:42:22.237Z"
   },
   {
    "duration": 8,
    "start_time": "2024-06-13T11:42:22.250Z"
   },
   {
    "duration": 6,
    "start_time": "2024-06-13T11:42:22.260Z"
   },
   {
    "duration": 60,
    "start_time": "2024-06-13T11:42:22.268Z"
   },
   {
    "duration": 11,
    "start_time": "2024-06-13T11:42:22.329Z"
   },
   {
    "duration": 7,
    "start_time": "2024-06-13T11:42:22.342Z"
   },
   {
    "duration": 16,
    "start_time": "2024-06-13T11:42:22.351Z"
   },
   {
    "duration": 32,
    "start_time": "2024-06-13T11:42:22.369Z"
   },
   {
    "duration": 17,
    "start_time": "2024-06-13T11:42:22.403Z"
   },
   {
    "duration": 16,
    "start_time": "2024-06-13T11:42:22.422Z"
   },
   {
    "duration": 12,
    "start_time": "2024-06-13T11:42:22.439Z"
   },
   {
    "duration": 6,
    "start_time": "2024-06-13T11:42:22.456Z"
   },
   {
    "duration": 53,
    "start_time": "2024-06-13T11:42:22.464Z"
   },
   {
    "duration": 63,
    "start_time": "2024-06-13T11:42:22.519Z"
   },
   {
    "duration": 5,
    "start_time": "2024-06-13T11:42:22.599Z"
   },
   {
    "duration": 18,
    "start_time": "2024-06-13T11:42:22.606Z"
   },
   {
    "duration": 10,
    "start_time": "2024-06-13T11:42:22.626Z"
   },
   {
    "duration": 12,
    "start_time": "2024-06-13T11:42:22.638Z"
   },
   {
    "duration": 16,
    "start_time": "2024-06-13T11:42:22.652Z"
   },
   {
    "duration": 15,
    "start_time": "2024-06-13T11:42:22.670Z"
   },
   {
    "duration": 12,
    "start_time": "2024-06-13T11:42:22.687Z"
   },
   {
    "duration": 6,
    "start_time": "2024-06-13T11:42:22.700Z"
   },
   {
    "duration": 12,
    "start_time": "2024-06-13T11:42:22.708Z"
   },
   {
    "duration": 8,
    "start_time": "2024-06-13T11:42:22.721Z"
   },
   {
    "duration": 26,
    "start_time": "2024-06-13T11:42:22.731Z"
   },
   {
    "duration": 387,
    "start_time": "2024-06-13T11:42:22.759Z"
   },
   {
    "duration": 31,
    "start_time": "2024-06-13T11:42:23.147Z"
   },
   {
    "duration": 131,
    "start_time": "2024-06-13T11:42:23.179Z"
   },
   {
    "duration": 10,
    "start_time": "2024-06-13T11:42:23.312Z"
   },
   {
    "duration": 5,
    "start_time": "2024-06-13T11:42:23.324Z"
   },
   {
    "duration": 9,
    "start_time": "2024-06-13T11:42:23.330Z"
   },
   {
    "duration": 16,
    "start_time": "2024-06-13T11:42:23.341Z"
   },
   {
    "duration": 45,
    "start_time": "2024-06-13T11:42:23.359Z"
   },
   {
    "duration": 3,
    "start_time": "2024-06-13T11:42:23.406Z"
   },
   {
    "duration": 373,
    "start_time": "2024-06-13T11:42:23.411Z"
   },
   {
    "duration": 170,
    "start_time": "2024-06-13T11:42:23.786Z"
   },
   {
    "duration": 7,
    "start_time": "2024-06-13T11:42:23.958Z"
   },
   {
    "duration": 219,
    "start_time": "2024-06-13T11:42:23.966Z"
   },
   {
    "duration": 305,
    "start_time": "2024-06-13T11:42:24.187Z"
   },
   {
    "duration": 206,
    "start_time": "2024-06-13T11:42:24.493Z"
   },
   {
    "duration": 18,
    "start_time": "2024-06-13T11:42:24.701Z"
   },
   {
    "duration": 205,
    "start_time": "2024-06-13T11:42:24.721Z"
   },
   {
    "duration": 166,
    "start_time": "2024-06-13T11:42:24.927Z"
   },
   {
    "duration": 338,
    "start_time": "2024-06-13T11:42:25.099Z"
   },
   {
    "duration": 171,
    "start_time": "2024-06-13T11:42:25.438Z"
   },
   {
    "duration": 341,
    "start_time": "2024-06-13T11:42:25.611Z"
   },
   {
    "duration": 15,
    "start_time": "2024-06-13T11:42:57.448Z"
   },
   {
    "duration": 12,
    "start_time": "2024-06-13T11:58:36.630Z"
   },
   {
    "duration": 61,
    "start_time": "2024-06-13T12:21:20.453Z"
   },
   {
    "duration": 749,
    "start_time": "2024-06-13T15:54:47.434Z"
   },
   {
    "duration": 350,
    "start_time": "2024-06-13T15:54:48.185Z"
   },
   {
    "duration": 11,
    "start_time": "2024-06-13T15:54:48.536Z"
   },
   {
    "duration": 14,
    "start_time": "2024-06-13T15:54:48.548Z"
   },
   {
    "duration": 13,
    "start_time": "2024-06-13T15:54:48.563Z"
   },
   {
    "duration": 11,
    "start_time": "2024-06-13T15:54:48.577Z"
   },
   {
    "duration": 22,
    "start_time": "2024-06-13T15:54:48.590Z"
   },
   {
    "duration": 17,
    "start_time": "2024-06-13T15:54:48.613Z"
   },
   {
    "duration": 5,
    "start_time": "2024-06-13T15:54:48.631Z"
   },
   {
    "duration": 21,
    "start_time": "2024-06-13T15:54:48.638Z"
   },
   {
    "duration": 13,
    "start_time": "2024-06-13T15:54:48.661Z"
   },
   {
    "duration": 6,
    "start_time": "2024-06-13T15:54:48.675Z"
   },
   {
    "duration": 31,
    "start_time": "2024-06-13T15:54:48.682Z"
   },
   {
    "duration": 32,
    "start_time": "2024-06-13T15:54:48.714Z"
   },
   {
    "duration": 14,
    "start_time": "2024-06-13T15:54:48.747Z"
   },
   {
    "duration": 8,
    "start_time": "2024-06-13T15:54:48.762Z"
   },
   {
    "duration": 20,
    "start_time": "2024-06-13T15:54:48.772Z"
   },
   {
    "duration": 5,
    "start_time": "2024-06-13T15:54:48.809Z"
   },
   {
    "duration": 34,
    "start_time": "2024-06-13T15:54:48.815Z"
   },
   {
    "duration": 11,
    "start_time": "2024-06-13T15:54:48.850Z"
   },
   {
    "duration": 4,
    "start_time": "2024-06-13T15:54:48.863Z"
   },
   {
    "duration": 43,
    "start_time": "2024-06-13T15:54:48.869Z"
   },
   {
    "duration": 4,
    "start_time": "2024-06-13T15:54:48.914Z"
   },
   {
    "duration": 31,
    "start_time": "2024-06-13T15:54:48.920Z"
   },
   {
    "duration": 13,
    "start_time": "2024-06-13T15:54:48.953Z"
   },
   {
    "duration": 14,
    "start_time": "2024-06-13T15:54:48.968Z"
   },
   {
    "duration": 5,
    "start_time": "2024-06-13T15:54:48.984Z"
   },
   {
    "duration": 33,
    "start_time": "2024-06-13T15:54:48.993Z"
   },
   {
    "duration": 59,
    "start_time": "2024-06-13T15:54:49.028Z"
   },
   {
    "duration": 4,
    "start_time": "2024-06-13T15:54:49.089Z"
   },
   {
    "duration": 4,
    "start_time": "2024-06-13T15:54:49.110Z"
   },
   {
    "duration": 7,
    "start_time": "2024-06-13T15:54:49.116Z"
   },
   {
    "duration": 5,
    "start_time": "2024-06-13T15:54:49.124Z"
   },
   {
    "duration": 20,
    "start_time": "2024-06-13T15:54:49.131Z"
   },
   {
    "duration": 8,
    "start_time": "2024-06-13T15:54:49.153Z"
   },
   {
    "duration": 7,
    "start_time": "2024-06-13T15:54:49.162Z"
   },
   {
    "duration": 10,
    "start_time": "2024-06-13T15:54:49.170Z"
   },
   {
    "duration": 31,
    "start_time": "2024-06-13T15:54:49.182Z"
   },
   {
    "duration": 6,
    "start_time": "2024-06-13T15:54:49.214Z"
   },
   {
    "duration": 29,
    "start_time": "2024-06-13T15:54:49.221Z"
   },
   {
    "duration": 326,
    "start_time": "2024-06-13T15:54:49.252Z"
   },
   {
    "duration": 34,
    "start_time": "2024-06-13T15:54:49.579Z"
   },
   {
    "duration": 118,
    "start_time": "2024-06-13T15:54:49.615Z"
   },
   {
    "duration": 7,
    "start_time": "2024-06-13T15:54:49.735Z"
   },
   {
    "duration": 3,
    "start_time": "2024-06-13T15:54:49.743Z"
   },
   {
    "duration": 5,
    "start_time": "2024-06-13T15:54:49.747Z"
   },
   {
    "duration": 11,
    "start_time": "2024-06-13T15:54:49.754Z"
   },
   {
    "duration": 17,
    "start_time": "2024-06-13T15:54:49.766Z"
   },
   {
    "duration": 27,
    "start_time": "2024-06-13T15:54:49.785Z"
   },
   {
    "duration": 315,
    "start_time": "2024-06-13T15:54:49.814Z"
   },
   {
    "duration": 151,
    "start_time": "2024-06-13T15:54:50.131Z"
   },
   {
    "duration": 6,
    "start_time": "2024-06-13T15:54:50.283Z"
   },
   {
    "duration": 194,
    "start_time": "2024-06-13T15:54:50.291Z"
   },
   {
    "duration": 260,
    "start_time": "2024-06-13T15:54:50.487Z"
   },
   {
    "duration": 185,
    "start_time": "2024-06-13T15:54:50.749Z"
   },
   {
    "duration": 15,
    "start_time": "2024-06-13T15:54:50.936Z"
   },
   {
    "duration": 190,
    "start_time": "2024-06-13T15:54:50.953Z"
   },
   {
    "duration": 150,
    "start_time": "2024-06-13T15:54:51.144Z"
   },
   {
    "duration": 295,
    "start_time": "2024-06-13T15:54:51.295Z"
   },
   {
    "duration": 166,
    "start_time": "2024-06-13T15:54:51.591Z"
   },
   {
    "duration": 289,
    "start_time": "2024-06-13T15:54:51.759Z"
   },
   {
    "duration": 117,
    "start_time": "2024-06-13T16:25:00.343Z"
   },
   {
    "duration": 9,
    "start_time": "2024-06-13T16:25:06.175Z"
   },
   {
    "duration": 8,
    "start_time": "2024-06-13T16:26:21.879Z"
   },
   {
    "duration": 114,
    "start_time": "2024-06-13T16:27:06.996Z"
   },
   {
    "duration": 7,
    "start_time": "2024-06-13T16:27:12.305Z"
   },
   {
    "duration": 91,
    "start_time": "2024-06-13T16:28:16.430Z"
   },
   {
    "duration": 7,
    "start_time": "2024-06-13T16:28:24.872Z"
   },
   {
    "duration": 103,
    "start_time": "2024-06-13T16:29:34.220Z"
   },
   {
    "duration": 6,
    "start_time": "2024-06-13T16:29:40.157Z"
   },
   {
    "duration": 579,
    "start_time": "2024-06-13T16:45:12.461Z"
   },
   {
    "duration": 114,
    "start_time": "2024-06-13T16:45:13.042Z"
   },
   {
    "duration": 10,
    "start_time": "2024-06-13T16:45:13.157Z"
   },
   {
    "duration": 19,
    "start_time": "2024-06-13T16:45:13.169Z"
   },
   {
    "duration": 10,
    "start_time": "2024-06-13T16:45:13.189Z"
   },
   {
    "duration": 18,
    "start_time": "2024-06-13T16:45:13.200Z"
   },
   {
    "duration": 12,
    "start_time": "2024-06-13T16:45:13.220Z"
   },
   {
    "duration": 6,
    "start_time": "2024-06-13T16:45:13.233Z"
   },
   {
    "duration": 5,
    "start_time": "2024-06-13T16:45:13.240Z"
   },
   {
    "duration": 21,
    "start_time": "2024-06-13T16:45:13.248Z"
   },
   {
    "duration": 12,
    "start_time": "2024-06-13T16:45:13.271Z"
   },
   {
    "duration": 9,
    "start_time": "2024-06-13T16:45:13.309Z"
   },
   {
    "duration": 19,
    "start_time": "2024-06-13T16:45:13.320Z"
   },
   {
    "duration": 32,
    "start_time": "2024-06-13T16:45:13.341Z"
   },
   {
    "duration": 35,
    "start_time": "2024-06-13T16:45:13.374Z"
   },
   {
    "duration": 8,
    "start_time": "2024-06-13T16:45:13.411Z"
   },
   {
    "duration": 24,
    "start_time": "2024-06-13T16:45:13.420Z"
   },
   {
    "duration": 5,
    "start_time": "2024-06-13T16:45:13.446Z"
   },
   {
    "duration": 25,
    "start_time": "2024-06-13T16:45:13.453Z"
   },
   {
    "duration": 13,
    "start_time": "2024-06-13T16:45:13.480Z"
   },
   {
    "duration": 7,
    "start_time": "2024-06-13T16:45:13.509Z"
   },
   {
    "duration": 28,
    "start_time": "2024-06-13T16:45:13.517Z"
   },
   {
    "duration": 6,
    "start_time": "2024-06-13T16:45:13.546Z"
   },
   {
    "duration": 15,
    "start_time": "2024-06-13T16:45:13.553Z"
   },
   {
    "duration": 13,
    "start_time": "2024-06-13T16:45:13.569Z"
   },
   {
    "duration": 7,
    "start_time": "2024-06-13T16:45:13.583Z"
   },
   {
    "duration": 19,
    "start_time": "2024-06-13T16:45:13.591Z"
   },
   {
    "duration": 20,
    "start_time": "2024-06-13T16:45:13.613Z"
   },
   {
    "duration": 76,
    "start_time": "2024-06-13T16:45:13.635Z"
   },
   {
    "duration": 5,
    "start_time": "2024-06-13T16:45:13.712Z"
   },
   {
    "duration": 6,
    "start_time": "2024-06-13T16:45:13.719Z"
   },
   {
    "duration": 8,
    "start_time": "2024-06-13T16:45:13.726Z"
   },
   {
    "duration": 6,
    "start_time": "2024-06-13T16:45:13.735Z"
   },
   {
    "duration": 6,
    "start_time": "2024-06-13T16:45:13.743Z"
   },
   {
    "duration": 8,
    "start_time": "2024-06-13T16:45:13.750Z"
   },
   {
    "duration": 15,
    "start_time": "2024-06-13T16:45:13.760Z"
   },
   {
    "duration": 36,
    "start_time": "2024-06-13T16:45:13.776Z"
   },
   {
    "duration": 8,
    "start_time": "2024-06-13T16:45:13.813Z"
   },
   {
    "duration": 14,
    "start_time": "2024-06-13T16:45:13.822Z"
   },
   {
    "duration": 41,
    "start_time": "2024-06-13T16:45:13.838Z"
   },
   {
    "duration": 334,
    "start_time": "2024-06-13T16:45:13.881Z"
   },
   {
    "duration": 26,
    "start_time": "2024-06-13T16:45:14.216Z"
   },
   {
    "duration": 108,
    "start_time": "2024-06-13T16:45:14.243Z"
   },
   {
    "duration": 7,
    "start_time": "2024-06-13T16:45:14.353Z"
   },
   {
    "duration": 155,
    "start_time": "2024-06-13T16:45:14.361Z"
   },
   {
    "duration": 6,
    "start_time": "2024-06-13T16:45:14.518Z"
   },
   {
    "duration": 134,
    "start_time": "2024-06-13T16:45:14.526Z"
   },
   {
    "duration": 7,
    "start_time": "2024-06-13T16:45:14.661Z"
   },
   {
    "duration": 102,
    "start_time": "2024-06-13T16:45:14.670Z"
   },
   {
    "duration": 7,
    "start_time": "2024-06-13T16:45:14.773Z"
   },
   {
    "duration": 113,
    "start_time": "2024-06-13T16:45:14.781Z"
   },
   {
    "duration": 15,
    "start_time": "2024-06-13T16:45:14.895Z"
   },
   {
    "duration": 3,
    "start_time": "2024-06-13T16:45:14.911Z"
   },
   {
    "duration": 11,
    "start_time": "2024-06-13T16:45:14.915Z"
   },
   {
    "duration": 10,
    "start_time": "2024-06-13T16:45:14.927Z"
   },
   {
    "duration": 16,
    "start_time": "2024-06-13T16:45:14.938Z"
   },
   {
    "duration": 10,
    "start_time": "2024-06-13T16:45:14.956Z"
   },
   {
    "duration": 286,
    "start_time": "2024-06-13T16:45:14.967Z"
   },
   {
    "duration": 148,
    "start_time": "2024-06-13T16:45:15.254Z"
   },
   {
    "duration": 6,
    "start_time": "2024-06-13T16:45:15.409Z"
   },
   {
    "duration": 177,
    "start_time": "2024-06-13T16:45:15.416Z"
   },
   {
    "duration": 258,
    "start_time": "2024-06-13T16:45:15.595Z"
   },
   {
    "duration": 175,
    "start_time": "2024-06-13T16:45:15.854Z"
   },
   {
    "duration": 15,
    "start_time": "2024-06-13T16:45:16.031Z"
   },
   {
    "duration": 196,
    "start_time": "2024-06-13T16:45:16.047Z"
   },
   {
    "duration": 200,
    "start_time": "2024-06-13T16:45:16.245Z"
   },
   {
    "duration": 288,
    "start_time": "2024-06-13T16:45:16.446Z"
   },
   {
    "duration": 146,
    "start_time": "2024-06-13T16:45:16.735Z"
   },
   {
    "duration": 232,
    "start_time": "2024-06-13T16:45:16.882Z"
   },
   {
    "duration": 195,
    "start_time": "2024-06-13T17:04:45.237Z"
   },
   {
    "duration": 200,
    "start_time": "2024-06-13T17:05:31.817Z"
   },
   {
    "duration": 127,
    "start_time": "2024-06-13T17:06:32.473Z"
   },
   {
    "duration": 96,
    "start_time": "2024-06-13T17:07:27.499Z"
   },
   {
    "duration": 12,
    "start_time": "2024-06-13T17:08:25.606Z"
   },
   {
    "duration": 118,
    "start_time": "2024-06-13T17:09:24.548Z"
   },
   {
    "duration": 12,
    "start_time": "2024-06-13T17:09:35.353Z"
   },
   {
    "duration": 190,
    "start_time": "2024-06-13T17:09:49.463Z"
   },
   {
    "duration": 27,
    "start_time": "2024-06-13T17:11:39.078Z"
   },
   {
    "duration": 122,
    "start_time": "2024-06-13T17:16:05.835Z"
   },
   {
    "duration": 215,
    "start_time": "2024-06-13T17:16:28.434Z"
   },
   {
    "duration": 199,
    "start_time": "2024-06-13T17:22:51.737Z"
   },
   {
    "duration": 953,
    "start_time": "2024-06-13T17:23:29.985Z"
   },
   {
    "duration": 908,
    "start_time": "2024-06-13T17:24:25.039Z"
   },
   {
    "duration": 156,
    "start_time": "2024-06-13T17:36:05.548Z"
   },
   {
    "duration": 155,
    "start_time": "2024-06-13T17:36:31.314Z"
   },
   {
    "duration": 125,
    "start_time": "2024-06-13T17:37:13.224Z"
   },
   {
    "duration": 142,
    "start_time": "2024-06-13T17:38:19.384Z"
   },
   {
    "duration": 287,
    "start_time": "2024-06-13T17:38:38.023Z"
   },
   {
    "duration": 233,
    "start_time": "2024-06-13T17:39:49.938Z"
   },
   {
    "duration": 250,
    "start_time": "2024-06-13T17:40:11.535Z"
   },
   {
    "duration": 236,
    "start_time": "2024-06-13T17:40:48.742Z"
   },
   {
    "duration": 243,
    "start_time": "2024-06-13T17:41:02.624Z"
   },
   {
    "duration": 333,
    "start_time": "2024-06-13T17:42:00.740Z"
   },
   {
    "duration": 231,
    "start_time": "2024-06-13T17:42:17.963Z"
   },
   {
    "duration": 242,
    "start_time": "2024-06-13T17:46:24.810Z"
   },
   {
    "duration": 578,
    "start_time": "2024-06-13T17:46:38.044Z"
   },
   {
    "duration": 116,
    "start_time": "2024-06-13T17:46:38.624Z"
   },
   {
    "duration": 9,
    "start_time": "2024-06-13T17:46:38.742Z"
   },
   {
    "duration": 14,
    "start_time": "2024-06-13T17:46:38.753Z"
   },
   {
    "duration": 10,
    "start_time": "2024-06-13T17:46:38.769Z"
   },
   {
    "duration": 30,
    "start_time": "2024-06-13T17:46:38.780Z"
   },
   {
    "duration": 13,
    "start_time": "2024-06-13T17:46:38.811Z"
   },
   {
    "duration": 4,
    "start_time": "2024-06-13T17:46:38.826Z"
   },
   {
    "duration": 5,
    "start_time": "2024-06-13T17:46:38.831Z"
   },
   {
    "duration": 23,
    "start_time": "2024-06-13T17:46:38.839Z"
   },
   {
    "duration": 12,
    "start_time": "2024-06-13T17:46:38.864Z"
   },
   {
    "duration": 32,
    "start_time": "2024-06-13T17:46:38.877Z"
   },
   {
    "duration": 13,
    "start_time": "2024-06-13T17:46:38.910Z"
   },
   {
    "duration": 31,
    "start_time": "2024-06-13T17:46:38.925Z"
   },
   {
    "duration": 13,
    "start_time": "2024-06-13T17:46:38.957Z"
   },
   {
    "duration": 9,
    "start_time": "2024-06-13T17:46:38.971Z"
   },
   {
    "duration": 31,
    "start_time": "2024-06-13T17:46:38.982Z"
   },
   {
    "duration": 5,
    "start_time": "2024-06-13T17:46:39.015Z"
   },
   {
    "duration": 33,
    "start_time": "2024-06-13T17:46:39.022Z"
   },
   {
    "duration": 10,
    "start_time": "2024-06-13T17:46:39.057Z"
   },
   {
    "duration": 5,
    "start_time": "2024-06-13T17:46:39.069Z"
   },
   {
    "duration": 35,
    "start_time": "2024-06-13T17:46:39.075Z"
   },
   {
    "duration": 4,
    "start_time": "2024-06-13T17:46:39.111Z"
   },
   {
    "duration": 25,
    "start_time": "2024-06-13T17:46:39.116Z"
   },
   {
    "duration": 20,
    "start_time": "2024-06-13T17:46:39.142Z"
   },
   {
    "duration": 17,
    "start_time": "2024-06-13T17:46:39.163Z"
   },
   {
    "duration": 4,
    "start_time": "2024-06-13T17:46:39.182Z"
   },
   {
    "duration": 22,
    "start_time": "2024-06-13T17:46:39.189Z"
   },
   {
    "duration": 54,
    "start_time": "2024-06-13T17:46:39.213Z"
   },
   {
    "duration": 4,
    "start_time": "2024-06-13T17:46:39.268Z"
   },
   {
    "duration": 14,
    "start_time": "2024-06-13T17:46:39.274Z"
   },
   {
    "duration": 11,
    "start_time": "2024-06-13T17:46:39.289Z"
   },
   {
    "duration": 6,
    "start_time": "2024-06-13T17:46:39.309Z"
   },
   {
    "duration": 30,
    "start_time": "2024-06-13T17:46:39.317Z"
   },
   {
    "duration": 27,
    "start_time": "2024-06-13T17:46:39.349Z"
   },
   {
    "duration": 7,
    "start_time": "2024-06-13T17:46:39.378Z"
   },
   {
    "duration": 9,
    "start_time": "2024-06-13T17:46:39.386Z"
   },
   {
    "duration": 14,
    "start_time": "2024-06-13T17:46:39.396Z"
   },
   {
    "duration": 8,
    "start_time": "2024-06-13T17:46:39.411Z"
   },
   {
    "duration": 52,
    "start_time": "2024-06-13T17:46:39.421Z"
   },
   {
    "duration": 345,
    "start_time": "2024-06-13T17:46:39.474Z"
   },
   {
    "duration": 24,
    "start_time": "2024-06-13T17:46:39.821Z"
   },
   {
    "duration": 115,
    "start_time": "2024-06-13T17:46:39.846Z"
   },
   {
    "duration": 7,
    "start_time": "2024-06-13T17:46:39.962Z"
   },
   {
    "duration": 160,
    "start_time": "2024-06-13T17:46:39.970Z"
   },
   {
    "duration": 6,
    "start_time": "2024-06-13T17:46:40.132Z"
   },
   {
    "duration": 128,
    "start_time": "2024-06-13T17:46:40.140Z"
   },
   {
    "duration": 6,
    "start_time": "2024-06-13T17:46:40.270Z"
   },
   {
    "duration": 105,
    "start_time": "2024-06-13T17:46:40.278Z"
   },
   {
    "duration": 7,
    "start_time": "2024-06-13T17:46:40.384Z"
   },
   {
    "duration": 110,
    "start_time": "2024-06-13T17:46:40.392Z"
   },
   {
    "duration": 7,
    "start_time": "2024-06-13T17:46:40.508Z"
   },
   {
    "duration": 11,
    "start_time": "2024-06-13T17:46:40.516Z"
   },
   {
    "duration": 11,
    "start_time": "2024-06-13T17:46:40.528Z"
   },
   {
    "duration": 28,
    "start_time": "2024-06-13T17:46:40.540Z"
   },
   {
    "duration": 17,
    "start_time": "2024-06-13T17:46:40.570Z"
   },
   {
    "duration": 6,
    "start_time": "2024-06-13T17:46:40.589Z"
   },
   {
    "duration": 277,
    "start_time": "2024-06-13T17:46:40.596Z"
   },
   {
    "duration": 143,
    "start_time": "2024-06-13T17:46:40.874Z"
   },
   {
    "duration": 7,
    "start_time": "2024-06-13T17:46:41.019Z"
   },
   {
    "duration": 184,
    "start_time": "2024-06-13T17:46:41.028Z"
   },
   {
    "duration": 247,
    "start_time": "2024-06-13T17:46:41.213Z"
   },
   {
    "duration": 207,
    "start_time": "2024-06-13T17:46:41.461Z"
   },
   {
    "duration": 16,
    "start_time": "2024-06-13T17:46:41.670Z"
   },
   {
    "duration": 199,
    "start_time": "2024-06-13T17:46:41.687Z"
   },
   {
    "duration": 194,
    "start_time": "2024-06-13T17:46:41.887Z"
   },
   {
    "duration": 232,
    "start_time": "2024-06-13T17:46:42.083Z"
   },
   {
    "duration": 281,
    "start_time": "2024-06-13T17:46:42.316Z"
   },
   {
    "duration": 156,
    "start_time": "2024-06-13T17:46:42.599Z"
   },
   {
    "duration": 227,
    "start_time": "2024-06-13T17:46:42.757Z"
   },
   {
    "duration": 234,
    "start_time": "2024-06-13T17:47:26.765Z"
   },
   {
    "duration": 568,
    "start_time": "2024-06-13T17:48:47.458Z"
   },
   {
    "duration": 112,
    "start_time": "2024-06-13T17:48:48.028Z"
   },
   {
    "duration": 12,
    "start_time": "2024-06-13T17:48:48.143Z"
   },
   {
    "duration": 38,
    "start_time": "2024-06-13T17:48:48.158Z"
   },
   {
    "duration": 15,
    "start_time": "2024-06-13T17:48:48.198Z"
   },
   {
    "duration": 15,
    "start_time": "2024-06-13T17:48:48.215Z"
   },
   {
    "duration": 19,
    "start_time": "2024-06-13T17:48:48.231Z"
   },
   {
    "duration": 7,
    "start_time": "2024-06-13T17:48:48.251Z"
   },
   {
    "duration": 5,
    "start_time": "2024-06-13T17:48:48.259Z"
   },
   {
    "duration": 21,
    "start_time": "2024-06-13T17:48:48.267Z"
   },
   {
    "duration": 13,
    "start_time": "2024-06-13T17:48:48.308Z"
   },
   {
    "duration": 6,
    "start_time": "2024-06-13T17:48:48.322Z"
   },
   {
    "duration": 16,
    "start_time": "2024-06-13T17:48:48.330Z"
   },
   {
    "duration": 31,
    "start_time": "2024-06-13T17:48:48.348Z"
   },
   {
    "duration": 33,
    "start_time": "2024-06-13T17:48:48.381Z"
   },
   {
    "duration": 9,
    "start_time": "2024-06-13T17:48:48.416Z"
   },
   {
    "duration": 8,
    "start_time": "2024-06-13T17:48:48.426Z"
   },
   {
    "duration": 5,
    "start_time": "2024-06-13T17:48:48.435Z"
   },
   {
    "duration": 31,
    "start_time": "2024-06-13T17:48:48.441Z"
   },
   {
    "duration": 35,
    "start_time": "2024-06-13T17:48:48.474Z"
   },
   {
    "duration": 5,
    "start_time": "2024-06-13T17:48:48.511Z"
   },
   {
    "duration": 14,
    "start_time": "2024-06-13T17:48:48.517Z"
   },
   {
    "duration": 4,
    "start_time": "2024-06-13T17:48:48.533Z"
   },
   {
    "duration": 14,
    "start_time": "2024-06-13T17:48:48.539Z"
   },
   {
    "duration": 13,
    "start_time": "2024-06-13T17:48:48.554Z"
   },
   {
    "duration": 7,
    "start_time": "2024-06-13T17:48:48.569Z"
   },
   {
    "duration": 5,
    "start_time": "2024-06-13T17:48:48.609Z"
   },
   {
    "duration": 21,
    "start_time": "2024-06-13T17:48:48.618Z"
   },
   {
    "duration": 70,
    "start_time": "2024-06-13T17:48:48.640Z"
   },
   {
    "duration": 3,
    "start_time": "2024-06-13T17:48:48.712Z"
   },
   {
    "duration": 9,
    "start_time": "2024-06-13T17:48:48.717Z"
   },
   {
    "duration": 18,
    "start_time": "2024-06-13T17:48:48.727Z"
   },
   {
    "duration": 6,
    "start_time": "2024-06-13T17:48:48.746Z"
   },
   {
    "duration": 7,
    "start_time": "2024-06-13T17:48:48.753Z"
   },
   {
    "duration": 10,
    "start_time": "2024-06-13T17:48:48.762Z"
   },
   {
    "duration": 9,
    "start_time": "2024-06-13T17:48:48.773Z"
   },
   {
    "duration": 27,
    "start_time": "2024-06-13T17:48:48.783Z"
   },
   {
    "duration": 23,
    "start_time": "2024-06-13T17:48:48.812Z"
   },
   {
    "duration": 17,
    "start_time": "2024-06-13T17:48:48.836Z"
   },
   {
    "duration": 22,
    "start_time": "2024-06-13T17:48:48.855Z"
   },
   {
    "duration": 304,
    "start_time": "2024-06-13T17:48:48.879Z"
   },
   {
    "duration": 34,
    "start_time": "2024-06-13T17:48:49.185Z"
   },
   {
    "duration": 107,
    "start_time": "2024-06-13T17:48:49.221Z"
   },
   {
    "duration": 7,
    "start_time": "2024-06-13T17:48:49.329Z"
   },
   {
    "duration": 156,
    "start_time": "2024-06-13T17:48:49.337Z"
   },
   {
    "duration": 16,
    "start_time": "2024-06-13T17:48:49.494Z"
   },
   {
    "duration": 121,
    "start_time": "2024-06-13T17:48:49.512Z"
   },
   {
    "duration": 8,
    "start_time": "2024-06-13T17:48:49.635Z"
   },
   {
    "duration": 117,
    "start_time": "2024-06-13T17:48:49.645Z"
   },
   {
    "duration": 8,
    "start_time": "2024-06-13T17:48:49.763Z"
   },
   {
    "duration": 139,
    "start_time": "2024-06-13T17:48:49.772Z"
   },
   {
    "duration": 7,
    "start_time": "2024-06-13T17:48:49.913Z"
   },
   {
    "duration": 17,
    "start_time": "2024-06-13T17:48:49.921Z"
   },
   {
    "duration": 16,
    "start_time": "2024-06-13T17:48:49.939Z"
   },
   {
    "duration": 12,
    "start_time": "2024-06-13T17:48:49.956Z"
   },
   {
    "duration": 24,
    "start_time": "2024-06-13T17:48:49.969Z"
   },
   {
    "duration": 15,
    "start_time": "2024-06-13T17:48:49.994Z"
   },
   {
    "duration": 289,
    "start_time": "2024-06-13T17:48:50.010Z"
   },
   {
    "duration": 148,
    "start_time": "2024-06-13T17:48:50.301Z"
   },
   {
    "duration": 7,
    "start_time": "2024-06-13T17:48:50.450Z"
   },
   {
    "duration": 192,
    "start_time": "2024-06-13T17:48:50.458Z"
   },
   {
    "duration": 249,
    "start_time": "2024-06-13T17:48:50.651Z"
   },
   {
    "duration": 186,
    "start_time": "2024-06-13T17:48:50.901Z"
   },
   {
    "duration": 23,
    "start_time": "2024-06-13T17:48:51.089Z"
   },
   {
    "duration": 181,
    "start_time": "2024-06-13T17:48:51.113Z"
   },
   {
    "duration": 223,
    "start_time": "2024-06-13T17:48:51.296Z"
   },
   {
    "duration": 295,
    "start_time": "2024-06-13T17:48:51.520Z"
   },
   {
    "duration": 303,
    "start_time": "2024-06-13T17:48:51.817Z"
   },
   {
    "duration": 155,
    "start_time": "2024-06-13T17:48:52.122Z"
   },
   {
    "duration": 247,
    "start_time": "2024-06-13T17:48:52.278Z"
   },
   {
    "duration": 851,
    "start_time": "2024-06-14T16:45:09.576Z"
   },
   {
    "duration": 241,
    "start_time": "2024-06-14T16:45:10.429Z"
   },
   {
    "duration": 13,
    "start_time": "2024-06-14T16:45:10.672Z"
   },
   {
    "duration": 19,
    "start_time": "2024-06-14T16:45:10.688Z"
   },
   {
    "duration": 15,
    "start_time": "2024-06-14T16:45:10.709Z"
   },
   {
    "duration": 35,
    "start_time": "2024-06-14T16:45:10.726Z"
   },
   {
    "duration": 51,
    "start_time": "2024-06-14T16:45:10.763Z"
   },
   {
    "duration": 24,
    "start_time": "2024-06-14T16:45:10.816Z"
   },
   {
    "duration": 24,
    "start_time": "2024-06-14T16:45:10.842Z"
   },
   {
    "duration": 27,
    "start_time": "2024-06-14T16:45:10.869Z"
   },
   {
    "duration": 16,
    "start_time": "2024-06-14T16:45:10.898Z"
   },
   {
    "duration": 10,
    "start_time": "2024-06-14T16:45:10.916Z"
   },
   {
    "duration": 34,
    "start_time": "2024-06-14T16:45:10.927Z"
   },
   {
    "duration": 38,
    "start_time": "2024-06-14T16:45:10.963Z"
   },
   {
    "duration": 17,
    "start_time": "2024-06-14T16:45:11.003Z"
   },
   {
    "duration": 18,
    "start_time": "2024-06-14T16:45:11.022Z"
   },
   {
    "duration": 9,
    "start_time": "2024-06-14T16:45:11.061Z"
   },
   {
    "duration": 6,
    "start_time": "2024-06-14T16:45:11.072Z"
   },
   {
    "duration": 36,
    "start_time": "2024-06-14T16:45:11.079Z"
   },
   {
    "duration": 12,
    "start_time": "2024-06-14T16:45:11.116Z"
   },
   {
    "duration": 9,
    "start_time": "2024-06-14T16:45:11.130Z"
   },
   {
    "duration": 29,
    "start_time": "2024-06-14T16:45:11.141Z"
   },
   {
    "duration": 5,
    "start_time": "2024-06-14T16:45:11.172Z"
   },
   {
    "duration": 15,
    "start_time": "2024-06-14T16:45:11.178Z"
   },
   {
    "duration": 15,
    "start_time": "2024-06-14T16:45:11.195Z"
   },
   {
    "duration": 10,
    "start_time": "2024-06-14T16:45:11.212Z"
   },
   {
    "duration": 37,
    "start_time": "2024-06-14T16:45:11.224Z"
   },
   {
    "duration": 23,
    "start_time": "2024-06-14T16:45:11.265Z"
   },
   {
    "duration": 84,
    "start_time": "2024-06-14T16:45:11.289Z"
   },
   {
    "duration": 5,
    "start_time": "2024-06-14T16:45:11.374Z"
   },
   {
    "duration": 6,
    "start_time": "2024-06-14T16:45:11.380Z"
   },
   {
    "duration": 13,
    "start_time": "2024-06-14T16:45:11.388Z"
   },
   {
    "duration": 25,
    "start_time": "2024-06-14T16:45:11.403Z"
   },
   {
    "duration": 10,
    "start_time": "2024-06-14T16:45:11.430Z"
   },
   {
    "duration": 21,
    "start_time": "2024-06-14T16:45:11.441Z"
   },
   {
    "duration": 9,
    "start_time": "2024-06-14T16:45:11.464Z"
   },
   {
    "duration": 5,
    "start_time": "2024-06-14T16:45:11.475Z"
   },
   {
    "duration": 13,
    "start_time": "2024-06-14T16:45:11.482Z"
   },
   {
    "duration": 6,
    "start_time": "2024-06-14T16:45:11.497Z"
   },
   {
    "duration": 60,
    "start_time": "2024-06-14T16:45:11.505Z"
   },
   {
    "duration": 409,
    "start_time": "2024-06-14T16:45:11.567Z"
   },
   {
    "duration": 31,
    "start_time": "2024-06-14T16:45:11.978Z"
   },
   {
    "duration": 154,
    "start_time": "2024-06-14T16:45:12.011Z"
   },
   {
    "duration": 10,
    "start_time": "2024-06-14T16:45:12.166Z"
   },
   {
    "duration": 200,
    "start_time": "2024-06-14T16:45:12.178Z"
   },
   {
    "duration": 9,
    "start_time": "2024-06-14T16:45:12.380Z"
   },
   {
    "duration": 163,
    "start_time": "2024-06-14T16:45:12.391Z"
   },
   {
    "duration": 11,
    "start_time": "2024-06-14T16:45:12.560Z"
   },
   {
    "duration": 125,
    "start_time": "2024-06-14T16:45:12.573Z"
   },
   {
    "duration": 9,
    "start_time": "2024-06-14T16:45:12.699Z"
   },
   {
    "duration": 138,
    "start_time": "2024-06-14T16:45:12.709Z"
   },
   {
    "duration": 18,
    "start_time": "2024-06-14T16:45:12.849Z"
   },
   {
    "duration": 4,
    "start_time": "2024-06-14T16:45:12.868Z"
   },
   {
    "duration": 3,
    "start_time": "2024-06-14T16:45:12.874Z"
   },
   {
    "duration": 14,
    "start_time": "2024-06-14T16:45:12.879Z"
   },
   {
    "duration": 21,
    "start_time": "2024-06-14T16:45:12.895Z"
   },
   {
    "duration": 3,
    "start_time": "2024-06-14T16:45:12.918Z"
   },
   {
    "duration": 367,
    "start_time": "2024-06-14T16:45:12.923Z"
   },
   {
    "duration": 170,
    "start_time": "2024-06-14T16:45:13.291Z"
   },
   {
    "duration": 8,
    "start_time": "2024-06-14T16:45:13.462Z"
   },
   {
    "duration": 213,
    "start_time": "2024-06-14T16:45:13.472Z"
   },
   {
    "duration": 295,
    "start_time": "2024-06-14T16:45:13.687Z"
   },
   {
    "duration": 205,
    "start_time": "2024-06-14T16:45:13.985Z"
   },
   {
    "duration": 23,
    "start_time": "2024-06-14T16:45:14.191Z"
   },
   {
    "duration": 227,
    "start_time": "2024-06-14T16:45:14.216Z"
   },
   {
    "duration": 248,
    "start_time": "2024-06-14T16:45:14.445Z"
   },
   {
    "duration": 289,
    "start_time": "2024-06-14T16:45:14.694Z"
   },
   {
    "duration": 332,
    "start_time": "2024-06-14T16:45:14.985Z"
   },
   {
    "duration": 176,
    "start_time": "2024-06-14T16:45:15.318Z"
   },
   {
    "duration": 301,
    "start_time": "2024-06-14T16:45:15.496Z"
   },
   {
    "duration": 303,
    "start_time": "2024-06-14T16:46:03.506Z"
   },
   {
    "duration": 275,
    "start_time": "2024-06-14T16:46:52.021Z"
   },
   {
    "duration": 416,
    "start_time": "2024-06-14T16:47:37.240Z"
   },
   {
    "duration": 317,
    "start_time": "2024-06-14T16:49:40.775Z"
   },
   {
    "duration": 305,
    "start_time": "2024-06-14T17:06:21.171Z"
   },
   {
    "duration": 307,
    "start_time": "2024-06-14T17:07:26.499Z"
   },
   {
    "duration": 291,
    "start_time": "2024-06-14T17:19:09.847Z"
   },
   {
    "duration": 303,
    "start_time": "2024-06-14T17:19:14.264Z"
   }
  ],
  "colab": {
   "name": "DA+. Сборный проект 1. Шаблон (1).ipynb",
   "provenance": []
  },
  "kernelspec": {
   "display_name": "Python 3 (ipykernel)",
   "language": "python",
   "name": "python3"
  },
  "language_info": {
   "codemirror_mode": {
    "name": "ipython",
    "version": 3
   },
   "file_extension": ".py",
   "mimetype": "text/x-python",
   "name": "python",
   "nbconvert_exporter": "python",
   "pygments_lexer": "ipython3",
   "version": "3.11.5"
  },
  "toc": {
   "base_numbering": 1,
   "nav_menu": {},
   "number_sections": true,
   "sideBar": true,
   "skip_h1_title": true,
   "title_cell": "Table of Contents",
   "title_sidebar": "Contents",
   "toc_cell": false,
   "toc_position": {
    "height": "calc(100% - 180px)",
    "left": "10px",
    "top": "150px",
    "width": "375.391px"
   },
   "toc_section_display": true,
   "toc_window_display": false
  }
 },
 "nbformat": 4,
 "nbformat_minor": 1
}
